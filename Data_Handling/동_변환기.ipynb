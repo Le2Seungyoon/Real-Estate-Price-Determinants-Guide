{
  "cells": [
    {
      "cell_type": "code",
      "execution_count": 1,
      "metadata": {
        "id": "HGLYHfLKrUbl"
      },
      "outputs": [],
      "source": [
        "import pandas as pd"
      ]
    },
    {
      "cell_type": "code",
      "source": [
        "from google.colab import drive\n",
        "drive.mount('/content/drive')"
      ],
      "metadata": {
        "colab": {
          "base_uri": "https://localhost:8080/"
        },
        "id": "0KqKfNAFtJz-",
        "outputId": "90e41030-66b8-4bd7-c692-3c47af44e048"
      },
      "execution_count": 2,
      "outputs": [
        {
          "output_type": "stream",
          "name": "stdout",
          "text": [
            "Mounted at /content/drive\n"
          ]
        }
      ]
    },
    {
      "cell_type": "code",
      "execution_count": 4,
      "metadata": {
        "id": "GbNOdBwwrUbn"
      },
      "outputs": [],
      "source": [
        "df1 = pd.read_csv(\"/content/drive/MyDrive/Colab Notebooks/KWVIP/법정동.csv\", encoding='cp949')"
      ]
    },
    {
      "cell_type": "code",
      "execution_count": 5,
      "metadata": {
        "id": "Ep-HfMo-rUbn"
      },
      "outputs": [],
      "source": [
        "df2 = pd.read_csv(\"/content/drive/MyDrive/Colab Notebooks/KWVIP/행정동.csv\", encoding='cp949')"
      ]
    },
    {
      "cell_type": "code",
      "source": [
        "df1[\"시군구명\"].unique()\n",
        "#완료: '강남구'\n",
        "#보성: '종로구', '송파구', '광진구', '관악구', '금천구', '서대문구', '용산구', '성북구'\n",
        "#수진: '도봉구', '마포구', '동대문구', '양천구', '중구', '구로구', '강서구', '영등포구'\n",
        "#승윤: '동작구', '강동구', '성동구', '은평구', '노원구', '서초구', '중랑구', '강북구'"
      ],
      "metadata": {
        "colab": {
          "base_uri": "https://localhost:8080/"
        },
        "id": "mQaAhX5pX49e",
        "outputId": "73eec86a-304b-45b4-abf0-ed281004fc7c"
      },
      "execution_count": 10,
      "outputs": [
        {
          "output_type": "execute_result",
          "data": {
            "text/plain": [
              "array(['종로구', '중구', '용산구', '성동구', '광진구', '동대문구', '중랑구', '성북구', '강북구',\n",
              "       '도봉구', '노원구', '은평구', '서대문구', '마포구', '양천구', '강서구', '구로구', '금천구',\n",
              "       '영등포구', '동작구', '관악구', '서초구', '강남구', '송파구', '강동구'], dtype=object)"
            ]
          },
          "metadata": {},
          "execution_count": 10
        }
      ]
    },
    {
      "cell_type": "code",
      "execution_count": 6,
      "metadata": {
        "id": "iqd634L2rUbn",
        "outputId": "61208d2e-6702-47a7-b7b8-657d5858fd60",
        "colab": {
          "base_uri": "https://localhost:8080/"
        }
      },
      "outputs": [
        {
          "output_type": "execute_result",
          "data": {
            "text/plain": [
              "array(['역삼동', '개포동', '청담동', '삼성동', '대치동', '신사동', '논현동', '압구정동', '세곡동',\n",
              "       '자곡동', '율현동', '일원동', '수서동', '도곡동'], dtype=object)"
            ]
          },
          "metadata": {},
          "execution_count": 6
        }
      ],
      "source": [
        "#법정동\n",
        "df1[df1[\"시군구명\"] == '강남구'][\"읍면동명\"].unique()"
      ]
    },
    {
      "cell_type": "code",
      "execution_count": 7,
      "metadata": {
        "id": "wxlNi5uTrUbo",
        "outputId": "39463339-58a5-4594-f936-7be8d70de66b",
        "colab": {
          "base_uri": "https://localhost:8080/"
        }
      },
      "outputs": [
        {
          "output_type": "execute_result",
          "data": {
            "text/plain": [
              "array(['신사동', '논현1동', '논현2동', '압구정동', '청담동', '삼성1동', '삼성2동', '대치1동',\n",
              "       '대치2동', '대치4동', '역삼1동', '역삼2동', '도곡1동', '도곡2동', '개포1동', '개포2동',\n",
              "       '개포4동', '세곡동', '일원본동', '일원1동', '일원2동', '수서동'], dtype=object)"
            ]
          },
          "metadata": {},
          "execution_count": 7
        }
      ],
      "source": [
        "#행정동\n",
        "df2[df2[\"시군구명\"] == '강남구'][\"읍면동명\"].unique()"
      ]
    },
    {
      "cell_type": "code",
      "execution_count": null,
      "metadata": {
        "id": "FbGeKX77rUbo"
      },
      "outputs": [],
      "source": [
        "df = pd.read_csv(\"/content/drive/MyDrive/Colab Notebooks/KWVIP/동별 건폐율 용적율.csv\", encoding='cp949')\n",
        "df = df[[\"법정동_코드\", \"건폐율\", \"용적율\"]]\n",
        "\n",
        "##용적률 기준으로 통합\n",
        "df = df.groupby([\"법정동_코드\"], as_index=False)[\"용적율\"].mean()\n",
        "df = pd.DataFrame(df, columns=['법정동_코드', '용적율'], index=None)\n",
        "\n",
        "## 강남구\n",
        "## 1대1 매칭이 가능한 경우\n",
        "## replace(법정동 -> 행정동)\n",
        "\n",
        "df = df.replace('청담동', '청담동')\n",
        "df = df.replace('신사동', '신사동')\n",
        "df = df.replace('압구정동', '압구정동')\n",
        "df = df.replace('세곡동', '세곡동') \n",
        "df = df.replace('자곡동', '세곡동')\n",
        "df = df.replace('율현동', '세곡동')\n",
        "df = df.replace('수서동', '수서동')\n",
        "\n",
        "## 1대1 매칭이 불가능한 경우\n",
        "## append로 행정동 추가 후, !=로 법정동 제거\n",
        "\n",
        "## 역삼동을 역삼1동, 역삼2동으로\n",
        "transformed_dong = {'법정동_코드' : '역삼1동', '용적율' : sample[sample['법정동_코드'] == '역삼동'][\"용적율\"].values[0]}\n",
        "df = df.append(transformed_dong, ignore_index=True)\n",
        "transformed_dong = {'법정동_코드' : '역삼2동', '용적율' : sample[sample['법정동_코드'] == '역삼동'][\"용적율\"].values[0]}\n",
        "df = df.append(transformed_dong, ignore_index=True)\n",
        "df = df[df[\"법정동_코드\"] != '역삼동']\n",
        "\n",
        "## 개포동을 개포1동, 개포2동, 개포4동으로\n",
        "transformed_dong = {'법정동_코드' : '개포1동', '용적율' : sample[sample['법정동_코드'] == '개포동'][\"용적율\"].values[0]}\n",
        "df = df.append(transformed_dong, ignore_index=True)\n",
        "transformed_dong = {'법정동_코드' : '개포2동', '용적율' : sample[sample['법정동_코드'] == '개포동'][\"용적율\"].values[0]}\n",
        "df = df.append(transformed_dong, ignore_index=True)\n",
        "transformed_dong = {'법정동_코드' : '개포4동', '용적율' : sample[sample['법정동_코드'] == '개포동'][\"용적율\"].values[0]}\n",
        "df = df.append(transformed_dong, ignore_index=True)\n",
        "df = df[df[\"법정동_코드\"] != '개포동']\n",
        "\n",
        "## 삼성동을 삼성1동, 삼성2동으로\n",
        "transformed_dong = {'법정동_코드' : '삼성1동', '용적율' : sample[sample['법정동_코드'] == '삼성동'][\"용적율\"].values[0]}\n",
        "df = df.append(transformed_dong, ignore_index=True)\n",
        "transformed_dong = {'법정동_코드' : '삼성2동', '용적율' : sample[sample['법정동_코드'] == '삼성동'][\"용적율\"].values[0]}\n",
        "df = df.append(transformed_dong, ignore_index=True)\n",
        "df = df[df[\"법정동_코드\"] != '삼성동']\n",
        "\n",
        "## 대치동을 대치1동, 대치2동, 대칭4동으로\n",
        "transformed_dong = {'법정동_코드' : '대치1동', '용적율' : sample[sample['법정동_코드'] == '대치동'][\"용적율\"].values[0]}\n",
        "df = df.append(transformed_dong, ignore_index=True)\n",
        "transformed_dong = {'법정동_코드' : '대치2동', '용적율' : sample[sample['법정동_코드'] == '대치동'][\"용적율\"].values[0]}\n",
        "df = df.append(transformed_dong, ignore_index=True)\n",
        "transformed_dong = {'법정동_코드' : '대치4동', '용적율' : sample[sample['법정동_코드'] == '대치동'][\"용적율\"].values[0]}\n",
        "df = df.append(transformed_dong, ignore_index=True)\n",
        "df = df[df[\"법정동_코드\"] != '대치동']\n",
        "\n",
        "## 논현동을 논현1동, 논현2동으로\n",
        "transformed_dong = {'법정동_코드' : '논현1동', '용적율' : sample[sample['법정동_코드'] == '논현동'][\"용적율\"].values[0]}\n",
        "df = df.append(transformed_dong, ignore_index=True)\n",
        "transformed_dong = {'법정동_코드' : '논현2동', '용적율' : sample[sample['법정동_코드'] == '논현동'][\"용적율\"].values[0]}\n",
        "df = df.append(transformed_dong, ignore_index=True)\n",
        "df = df[df[\"법정동_코드\"] != '논현동']\n",
        "\n",
        "## 일원동을 일원본동, 일원1동, 일원2동으로\n",
        "transformed_dong = {'법정동_코드' : '일원본동', '용적율' : sample[sample['법정동_코드'] == '일원동'][\"용적율\"].values[0]}\n",
        "df = df.append(transformed_dong, ignore_index=True)\n",
        "transformed_dong = {'법정동_코드' : '일원1동', '용적율' : sample[sample['법정동_코드'] == '일원동'][\"용적율\"].values[0]}\n",
        "df = df.append(transformed_dong, ignore_index=True)\n",
        "transformed_dong = {'법정동_코드' : '일원2동', '용적율' : sample[sample['법정동_코드'] == '일원동'][\"용적율\"].values[0]}\n",
        "df = df.append(transformed_dong, ignore_index=True)\n",
        "df = df[df[\"법정동_코드\"] != '일원동']\n",
        "\n",
        "## 도곡동을 도곡1동, 도곡2동으로\n",
        "transformed_dong = {'법정동_코드' : '도곡1동', '용적율' : sample[sample['법정동_코드'] == '도곡동'][\"용적율\"].values[0]}\n",
        "df = df.append(transformed_dong, ignore_index=True)\n",
        "transformed_dong = {'법정동_코드' : '도곡2동', '용적율' : sample[sample['법정동_코드'] == '도곡동'][\"용적율\"].values[0]}\n",
        "df = df.append(transformed_dong, ignore_index=True)\n",
        "df = df[df[\"법정동_코드\"] != '도곡동']"
      ]
    },
    {
      "cell_type": "code",
      "source": [
        "df_yong = df"
      ],
      "metadata": {
        "id": "mjtbadw4WR_Q"
      },
      "execution_count": null,
      "outputs": []
    }
  ],
  "metadata": {
    "kernelspec": {
      "display_name": "Python 3 (ipykernel)",
      "language": "python",
      "name": "python3"
    },
    "language_info": {
      "codemirror_mode": {
        "name": "ipython",
        "version": 3
      },
      "file_extension": ".py",
      "mimetype": "text/x-python",
      "name": "python",
      "nbconvert_exporter": "python",
      "pygments_lexer": "ipython3",
      "version": "3.9.13"
    },
    "colab": {
      "provenance": []
    }
  },
  "nbformat": 4,
  "nbformat_minor": 0
}