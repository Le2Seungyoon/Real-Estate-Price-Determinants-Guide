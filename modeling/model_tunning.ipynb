{
 "cells": [
  {
   "cell_type": "code",
   "execution_count": 3,
   "id": "6ae960a6-6b56-4363-abb9-835ce7af748c",
   "metadata": {
    "executionInfo": {
     "elapsed": 2029,
     "status": "ok",
     "timestamp": 1670332734998,
     "user": {
      "displayName": "이승윤",
      "userId": "17995305622900705411"
     },
     "user_tz": -540
    },
    "id": "6ae960a6-6b56-4363-abb9-835ce7af748c"
   },
   "outputs": [
    {
     "ename": "ModuleNotFoundError",
     "evalue": "No module named 'optuna'",
     "output_type": "error",
     "traceback": [
      "\u001b[1;31m---------------------------------------------------------------------------\u001b[0m",
      "\u001b[1;31mModuleNotFoundError\u001b[0m                       Traceback (most recent call last)",
      "\u001b[1;32m~\\AppData\\Local\\Temp\\ipykernel_5860\\4022176267.py\u001b[0m in \u001b[0;36m<module>\u001b[1;34m\u001b[0m\n\u001b[1;32m----> 1\u001b[1;33m \u001b[1;32mimport\u001b[0m \u001b[0moptuna\u001b[0m\u001b[1;33m\u001b[0m\u001b[1;33m\u001b[0m\u001b[0m\n\u001b[0m\u001b[0;32m      2\u001b[0m \u001b[1;33m\u001b[0m\u001b[0m\n\u001b[0;32m      3\u001b[0m \u001b[1;32mfrom\u001b[0m \u001b[0mlightgbm\u001b[0m \u001b[1;32mimport\u001b[0m \u001b[0mLGBMRegressor\u001b[0m\u001b[1;33m\u001b[0m\u001b[1;33m\u001b[0m\u001b[0m\n\u001b[0;32m      4\u001b[0m \u001b[1;32mfrom\u001b[0m \u001b[0moptuna\u001b[0m\u001b[1;33m.\u001b[0m\u001b[0msamplers\u001b[0m \u001b[1;32mimport\u001b[0m \u001b[0mTPESampler\u001b[0m\u001b[1;33m\u001b[0m\u001b[1;33m\u001b[0m\u001b[0m\n\u001b[0;32m      5\u001b[0m \u001b[1;32mfrom\u001b[0m \u001b[0msklearn\u001b[0m\u001b[1;33m.\u001b[0m\u001b[0mmodel_selection\u001b[0m \u001b[1;32mimport\u001b[0m \u001b[0mtrain_test_split\u001b[0m\u001b[1;33m,\u001b[0m \u001b[0mGridSearchCV\u001b[0m\u001b[1;33m,\u001b[0m \u001b[0mKFold\u001b[0m\u001b[1;33m\u001b[0m\u001b[1;33m\u001b[0m\u001b[0m\n",
      "\u001b[1;31mModuleNotFoundError\u001b[0m: No module named 'optuna'"
     ]
    }
   ],
   "source": [
    "import optuna\n",
    "\n",
    "from lightgbm import LGBMRegressor\n",
    "from optuna.samplers import TPESampler\n",
    "from sklearn.model_selection import train_test_split, GridSearchCV, KFold\n",
    "\n",
    "from sklearn.preprocessing import LabelEncoder\n",
    "import pandas as pd\n",
    "import numpy as np\n",
    "import random\n",
    "import os\n",
    "from tqdm import tqdm\n",
    "pd.set_option('display.max_rows', 100)\n",
    "pd.set_option('display.max_columns', 100)\n",
    "\n",
    "import warnings\n",
    "warnings.filterwarnings('ignore')\n",
    "\n",
    "def MAE(true, pred):\n",
    "    mae = np.mean(np.abs(true-pred))\n",
    "    return mae"
   ]
  },
  {
   "cell_type": "code",
   "execution_count": 5,
   "id": "28dd6f96-a82a-425b-9762-a67000e256c0",
   "metadata": {
    "id": "28dd6f96-a82a-425b-9762-a67000e256c0"
   },
   "outputs": [],
   "source": [
    "def seed_everything(seed):\n",
    "    random.seed(seed)\n",
    "    os.environ['PYTHONHASHSEED'] = str(seed)\n",
    "    np.random.seed(seed)\n",
    "seed_everything(42)"
   ]
  },
  {
   "cell_type": "code",
   "execution_count": null,
   "id": "o7v1hQMUiyuv",
   "metadata": {
    "colab": {
     "base_uri": "https://localhost:8080/"
    },
    "executionInfo": {
     "elapsed": 136252,
     "status": "ok",
     "timestamp": 1670290885277,
     "user": {
      "displayName": "이승윤",
      "userId": "17995305622900705411"
     },
     "user_tz": -540
    },
    "id": "o7v1hQMUiyuv",
    "outputId": "0b214704-7a65-45c8-c9ca-937959c100b0"
   },
   "outputs": [
    {
     "name": "stdout",
     "output_type": "stream",
     "text": [
      "Mounted at /content/drive\n"
     ]
    }
   ],
   "source": [
    "from google.colab import drive\n",
    "drive.mount('/content/drive')"
   ]
  },
  {
   "cell_type": "code",
   "execution_count": 8,
   "id": "ee053cf5-4292-476c-9e45-38c81e25a7c9",
   "metadata": {
    "id": "ee053cf5-4292-476c-9e45-38c81e25a7c9"
   },
   "outputs": [],
   "source": [
    "df = pd.read_csv(\"./final_dataset.csv\",encoding='utf-8')"
   ]
  },
  {
   "cell_type": "code",
   "execution_count": 9,
   "id": "ap8m4VsPjblr",
   "metadata": {
    "id": "ap8m4VsPjblr"
   },
   "outputs": [],
   "source": [
    "#동만 수치화\n",
    "qual_col = [\"동\"]\n",
    "\n",
    "for i in qual_col:\n",
    "  le = LabelEncoder()\n",
    "  le = le.fit(df[i])\n",
    "  df[i] = le.transform(df[i])"
   ]
  },
  {
   "cell_type": "code",
   "execution_count": 14,
   "id": "aCfGegyvjcP6",
   "metadata": {
    "id": "aCfGegyvjcP6"
   },
   "outputs": [],
   "source": [
    "Jongno_df = df[df[\"구\"] == \"종로구\"] #구 선택\n",
    "Jongno_x = Jongno_df.drop(columns = [\"구\" , \"면적당가격(만원)\"]) #구 단위로 선택했기 때문에 구 drop\n",
    "Jongno_y = Jongno_df[\"면적당가격(만원)\"]\n",
    "\n",
    "Jung_df = df[df[\"구\"] == \"중구\"]\n",
    "Jung_x = Jung_df.drop(columns = [\"구\" , \"면적당가격(만원)\"])\n",
    "Jung_y = Jung_df[\"면적당가격(만원)\"]\n",
    "\n",
    "Yongsan_df = df[df[\"구\"] == \"용산구\"]\n",
    "Yongsan_x = Yongsan_df.drop(columns = [\"구\" , \"면적당가격(만원)\"])\n",
    "Yongsan_y = Yongsan_df[\"면적당가격(만원)\"]\n",
    "\n",
    "Seongdong_df = df[df[\"구\"] == \"성동구\"]\n",
    "Seongdong_x = Seongdong_df.drop(columns = [\"구\" , \"면적당가격(만원)\"])\n",
    "Seongdong_y = Seongdong_df[\"면적당가격(만원)\"]\n",
    "\n",
    "Gwangjin_df = df[df[\"구\"] == \"광진구\"]\n",
    "Gwangjin_x = Gwangjin_df.drop(columns = [\"구\" , \"면적당가격(만원)\"])\n",
    "Gwangjin_y = Gwangjin_df[\"면적당가격(만원)\"]\n",
    "\n",
    "Dongdaemun_df = df[df[\"구\"] == \"동대문구\"]\n",
    "Dongdaemun_x = Dongdaemun_df.drop(columns = [\"구\" , \"면적당가격(만원)\"])\n",
    "Dongdaemun_y = Dongdaemun_df[\"면적당가격(만원)\"]\n",
    "\n",
    "Jungnang_df = df[df[\"구\"] == \"중랑구\"]\n",
    "Jungnang_x = Jungnang_df.drop(columns = [\"구\" , \"면적당가격(만원)\"])\n",
    "Jungnang_y = Jungnang_df[\"면적당가격(만원)\"]\n",
    "\n",
    "Seongbuk_df = df[df[\"구\"] == \"성북구\"]\n",
    "Seongbuk_x = Seongbuk_df.drop(columns = [\"구\" , \"면적당가격(만원)\"])\n",
    "Seongbuk_y = Seongbuk_df[\"면적당가격(만원)\"]\n",
    "\n",
    "Gangbuk_df = df[df[\"구\"] == \"강북구\"]\n",
    "Gangbuk_x = Gangbuk_df.drop(columns = [\"구\" , \"면적당가격(만원)\"])\n",
    "Gangbuk_y = Gangbuk_df[\"면적당가격(만원)\"]\n",
    "\n",
    "Dobong_df = df[df[\"구\"] == \"도봉구\"]\n",
    "Dobong_x = Dobong_df.drop(columns = [\"구\" , \"면적당가격(만원)\"])\n",
    "Dobong_y = Dobong_df[\"면적당가격(만원)\"]\n",
    "\n",
    "Nowon_df = df[df[\"구\"] == \"노원구\"]\n",
    "Nowon_x = Nowon_df.drop(columns = [\"구\" , \"면적당가격(만원)\"])\n",
    "Nowon_y = Nowon_df[\"면적당가격(만원)\"]\n",
    "\n",
    "Eunpyeong_df = df[df[\"구\"] == \"은평구\"]\n",
    "Eunpyeong_x = Eunpyeong_df.drop(columns = [\"구\" , \"면적당가격(만원)\"])\n",
    "Eunpyeong_y = Eunpyeong_df[\"면적당가격(만원)\"]\n",
    "\n",
    "Seodaemun_df = df[df[\"구\"] == \"서대문구\"]\n",
    "Seodaemun_x = Seodaemun_df.drop(columns = [\"구\" , \"면적당가격(만원)\"])\n",
    "Seodaemun_y = Seodaemun_df[\"면적당가격(만원)\"]\n",
    "\n",
    "Mapo_df = df[df[\"구\"] == \"마포구\"]\n",
    "Mapo_x = Mapo_df.drop(columns = [\"구\" , \"면적당가격(만원)\"])\n",
    "Mapo_y = Mapo_df[\"면적당가격(만원)\"]\n",
    "\n",
    "Yangcheon_df = df[df[\"구\"] == \"양천구\"]\n",
    "Yangcheon_x = Yangcheon_df.drop(columns = [\"구\" , \"면적당가격(만원)\"])\n",
    "Yangcheon_y = Yangcheon_df[\"면적당가격(만원)\"]\n",
    "\n",
    "Gangseo_df = df[df[\"구\"] == \"강서구\"]\n",
    "Gangseo_x = Gangseo_df.drop(columns = [\"구\" , \"면적당가격(만원)\"])\n",
    "Gangseo_y = Gangseo_df[\"면적당가격(만원)\"]\n",
    "\n",
    "Guro_df = df[df[\"구\"] == \"구로구\"]\n",
    "Guro_x = Guro_df.drop(columns = [\"구\" , \"면적당가격(만원)\"])\n",
    "Guro_y = Guro_df[\"면적당가격(만원)\"]\n",
    "\n",
    "Geumcheon_df = df[df[\"구\"] == \"금천구\"]\n",
    "Geumcheon_x = Geumcheon_df.drop(columns = [\"구\" , \"면적당가격(만원)\"])\n",
    "Geumcheon_y = Geumcheon_df[\"면적당가격(만원)\"]\n",
    "\n",
    "Yeongdeungpo_df = df[df[\"구\"] == \"영등포구\"]\n",
    "Yeongdeungpo_x = Yeongdeungpo_df.drop(columns = [\"구\" , \"면적당가격(만원)\"])\n",
    "Yeongdeungpo_y = Yeongdeungpo_df[\"면적당가격(만원)\"]\n",
    "\n",
    "Dongjak_df = df[df[\"구\"] == \"동작구\"]\n",
    "Dongjak_x = Dongjak_df.drop(columns = [\"구\" , \"면적당가격(만원)\"])\n",
    "Dongjak_y = Dongjak_df[\"면적당가격(만원)\"]\n",
    "\n",
    "Gwanak_df = df[df[\"구\"] == \"관악구\"]\n",
    "Gwanak_x = Gwanak_df.drop(columns = [\"구\" , \"면적당가격(만원)\"])\n",
    "Gwanak_y = Gwanak_df[\"면적당가격(만원)\"]\n",
    "\n",
    "Seocho_df = df[df[\"구\"] == \"서초구\"]\n",
    "Seocho_x = Seocho_df.drop(columns = [\"구\" , \"면적당가격(만원)\"])\n",
    "Seocho_y = Seocho_df[\"면적당가격(만원)\"]\n",
    "\n",
    "Gangnam_df = df[df[\"구\"] == \"강남구\"]\n",
    "Gangnam_x = Gangnam_df.drop(columns = [\"구\" , \"면적당가격(만원)\"])\n",
    "Gangnam_y = Gangnam_df[\"면적당가격(만원)\"]\n",
    "\n",
    "Songpa_df = df[df[\"구\"] == \"송파구\"]\n",
    "Songpa_x = Songpa_df.drop(columns = [\"구\" , \"면적당가격(만원)\"])\n",
    "Songpa_y = Songpa_df[\"면적당가격(만원)\"]\n",
    "\n",
    "Gangdong_df = df[df[\"구\"] == \"강동구\"]\n",
    "Gangdong_x = Gangdong_df.drop(columns = [\"구\" , \"면적당가격(만원)\"])\n",
    "Gangdong_y = Gangdong_df[\"면적당가격(만원)\"]"
   ]
  },
  {
   "cell_type": "markdown",
   "id": "bOSQSAJhjvMW",
   "metadata": {
    "id": "bOSQSAJhjvMW"
   },
   "source": [
    "### GridSearchCV로 넓은 구간의 하이퍼파라미터 탐색"
   ]
  },
  {
   "cell_type": "code",
   "execution_count": 11,
   "id": "xu1qanSXj2g-",
   "metadata": {
    "colab": {
     "base_uri": "https://localhost:8080/"
    },
    "executionInfo": {
     "elapsed": 5824,
     "status": "ok",
     "timestamp": 1670290891614,
     "user": {
      "displayName": "이승윤",
      "userId": "17995305622900705411"
     },
     "user_tz": -540
    },
    "id": "xu1qanSXj2g-",
    "outputId": "b20a6e3a-221b-4113-afa7-6fd255474c90"
   },
   "outputs": [
    {
     "name": "stdout",
     "output_type": "stream",
     "text": [
      "{'max_depth': -1, 'n_estimators': 200}\n",
      "LGBMRegressor(n_estimators=200)\n"
     ]
    }
   ],
   "source": [
    "lgbm = LGBMRegressor()\n",
    "\n",
    "param_grid = [\n",
    "    {'n_estimators': [100, 200, 300, 400, 500, 600, 700, 800, 900, 1000], \n",
    "     'max_depth': [-1, 15, 30, 45, 60]}\n",
    "]\n",
    "\n",
    "grid_search = GridSearchCV(lgbm, param_grid, cv=3, scoring='neg_mean_squared_error', \n",
    "                           return_train_score=True, n_jobs=-1)\n",
    "grid_search.fit(Jongno_x, Jongno_y)\n",
    "\n",
    "print(grid_search.best_params_)\n",
    "print(grid_search.best_estimator_)"
   ]
  },
  {
   "cell_type": "markdown",
   "id": "Am7GROz3ryyz",
   "metadata": {
    "id": "Am7GROz3ryyz"
   },
   "source": [
    "### Kfold + Optuna로 최적 하이퍼파라미터 도출"
   ]
  },
  {
   "cell_type": "code",
   "execution_count": 12,
   "id": "2f4d387d-21f9-4d59-a995-c529c7b880f9",
   "metadata": {
    "id": "2f4d387d-21f9-4d59-a995-c529c7b880f9"
   },
   "outputs": [
    {
     "name": "stderr",
     "output_type": "stream",
     "text": [
      "0it [00:00, ?it/s]\u001b[32m[I 2022-12-07 03:58:41,907]\u001b[0m A new study created in memory with name: no-name-477bc8ac-d3a1-45dd-931a-e0c75382cac3\u001b[0m\n",
      "\u001b[32m[I 2022-12-07 03:58:41,983]\u001b[0m Trial 0 finished with value: 374.5788454772912 and parameters: {'learning_rate': 0.03807947176588889, 'n_estimators': 291, 'colsample_bytree': 0.8659969709057025, 'subsample': 0.7993292420985183, 'reg_alpha': 0.7800932022121826, 'reg_lambda': 0.7799726016810132}. Best is trial 0 with value: 374.5788454772912.\u001b[0m\n",
      "\u001b[32m[I 2022-12-07 03:58:42,019]\u001b[0m Trial 1 finished with value: 434.35903543808695 and parameters: {'learning_rate': 0.006750277604651747, 'n_estimators': 274, 'colsample_bytree': 0.8005575058716043, 'subsample': 0.8540362888980227, 'reg_alpha': 0.10292247147901223, 'reg_lambda': 4.8495492608099715}. Best is trial 1 with value: 434.35903543808695.\u001b[0m\n",
      "\u001b[32m[I 2022-12-07 03:58:42,040]\u001b[0m Trial 2 finished with value: 372.93304835088594 and parameters: {'learning_rate': 0.08341182143924175, 'n_estimators': 142, 'colsample_bytree': 0.5909124836035503, 'subsample': 0.5917022549267169, 'reg_alpha': 1.5212112147976886, 'reg_lambda': 2.6237821581611893}. Best is trial 1 with value: 434.35903543808695.\u001b[0m\n",
      "\u001b[32m[I 2022-12-07 03:58:42,061]\u001b[0m Trial 3 finished with value: 378.66242591752024 and parameters: {'learning_rate': 0.04376255684556946, 'n_estimators': 158, 'colsample_bytree': 0.8059264473611898, 'subsample': 0.569746930326021, 'reg_alpha': 1.4607232426760908, 'reg_lambda': 1.8318092164684585}. Best is trial 1 with value: 434.35903543808695.\u001b[0m\n",
      "\u001b[32m[I 2022-12-07 03:58:42,087]\u001b[0m Trial 4 finished with value: 371.9604282126765 and parameters: {'learning_rate': 0.04615092843748656, 'n_estimators': 257, 'colsample_bytree': 0.5998368910791798, 'subsample': 0.7571172192068059, 'reg_alpha': 2.9620728443102124, 'reg_lambda': 0.23225206359998862}. Best is trial 1 with value: 434.35903543808695.\u001b[0m\n",
      "\u001b[32m[I 2022-12-07 03:58:42,102]\u001b[0m Trial 5 finished with value: 384.35211134294747 and parameters: {'learning_rate': 0.0611469403382424, 'n_estimators': 134, 'colsample_bytree': 0.5325257964926398, 'subsample': 0.9744427686266666, 'reg_alpha': 4.828160165372797, 'reg_lambda': 4.041986740582305}. Best is trial 1 with value: 434.35903543808695.\u001b[0m\n"
     ]
    },
    {
     "name": "stdout",
     "output_type": "stream",
     "text": [
      "1\n"
     ]
    },
    {
     "name": "stderr",
     "output_type": "stream",
     "text": [
      "\u001b[32m[I 2022-12-07 03:58:42,118]\u001b[0m Trial 6 finished with value: 396.5236674636612 and parameters: {'learning_rate': 0.0311567631481637, 'n_estimators': 119, 'colsample_bytree': 0.8421165132560784, 'subsample': 0.7200762468698007, 'reg_alpha': 0.6101911742238941, 'reg_lambda': 2.475884550556351}. Best is trial 1 with value: 434.35903543808695.\u001b[0m\n",
      "\u001b[32m[I 2022-12-07 03:58:42,150]\u001b[0m Trial 7 finished with value: 457.2659477141903 and parameters: {'learning_rate': 0.004404463590406622, 'n_estimators': 282, 'colsample_bytree': 0.6293899908000085, 'subsample': 0.831261142176991, 'reg_alpha': 1.5585553804470549, 'reg_lambda': 2.600340105889054}. Best is trial 7 with value: 457.2659477141903.\u001b[0m\n",
      "\u001b[32m[I 2022-12-07 03:58:42,166]\u001b[0m Trial 8 finished with value: 377.39008834457604 and parameters: {'learning_rate': 0.05512431765498469, 'n_estimators': 137, 'colsample_bytree': 0.9847923138822793, 'subsample': 0.8875664116805573, 'reg_alpha': 4.697494707820946, 'reg_lambda': 4.474136752138244}. Best is trial 7 with value: 457.2659477141903.\u001b[0m\n",
      "\u001b[32m[I 2022-12-07 03:58:42,196]\u001b[0m Trial 9 finished with value: 369.5395898996718 and parameters: {'learning_rate': 0.06019209790229743, 'n_estimators': 285, 'colsample_bytree': 0.5442462510259598, 'subsample': 0.5979914312095727, 'reg_alpha': 0.22613644455269033, 'reg_lambda': 1.6266516538163218}. Best is trial 7 with value: 457.2659477141903.\u001b[0m\n",
      "1it [00:00,  3.44it/s]\u001b[32m[I 2022-12-07 03:58:42,197]\u001b[0m A new study created in memory with name: no-name-0aa9b6e2-f7a9-45c6-8e76-8d78e8312a1f\u001b[0m\n",
      "\u001b[32m[I 2022-12-07 03:58:42,217]\u001b[0m Trial 0 finished with value: 260.877171487274 and parameters: {'learning_rate': 0.03947905167925872, 'n_estimators': 154, 'colsample_bytree': 0.9143687545759647, 'subsample': 0.6783766633467947, 'reg_alpha': 1.4046725484369038, 'reg_lambda': 2.7134804157912424}. Best is trial 0 with value: 260.877171487274.\u001b[0m\n",
      "\u001b[32m[I 2022-12-07 03:58:42,244]\u001b[0m Trial 1 finished with value: 291.20945978045427 and parameters: {'learning_rate': 0.014951498272501501, 'n_estimators': 261, 'colsample_bytree': 0.5372753218398854, 'subsample': 0.9934434683002586, 'reg_alpha': 3.861223846483287, 'reg_lambda': 0.993578407670862}. Best is trial 1 with value: 291.20945978045427.\u001b[0m\n",
      "\u001b[32m[I 2022-12-07 03:58:42,271]\u001b[0m Trial 2 finished with value: 386.5721490914961 and parameters: {'learning_rate': 0.0015466895952366377, 'n_estimators': 263, 'colsample_bytree': 0.8534286719238086, 'subsample': 0.8645035840204937, 'reg_alpha': 3.8563517334297286, 'reg_lambda': 0.3702232586704518}. Best is trial 2 with value: 386.5721490914961.\u001b[0m\n",
      "\u001b[32m[I 2022-12-07 03:58:42,284]\u001b[0m Trial 3 finished with value: 265.7778543429117 and parameters: {'learning_rate': 0.03648810712588299, 'n_estimators': 123, 'colsample_bytree': 0.9315517129377968, 'subsample': 0.811649063413779, 'reg_alpha': 1.654490124263246, 'reg_lambda': 0.3177917514301182}. Best is trial 2 with value: 386.5721490914961.\u001b[0m\n",
      "\u001b[32m[I 2022-12-07 03:58:42,304]\u001b[0m Trial 4 finished with value: 267.12992963488705 and parameters: {'learning_rate': 0.03178724984985056, 'n_estimators': 165, 'colsample_bytree': 0.864803089169032, 'subsample': 0.8187787356776066, 'reg_alpha': 4.436063712881633, 'reg_lambda': 2.3610746258097466}. Best is trial 2 with value: 386.5721490914961.\u001b[0m\n",
      "\u001b[32m[I 2022-12-07 03:58:42,328]\u001b[0m Trial 5 finished with value: 275.0093890233873 and parameters: {'learning_rate': 0.012839830347891868, 'n_estimators': 243, 'colsample_bytree': 0.8803925243084487, 'subsample': 0.7806385987847482, 'reg_alpha': 3.854835899772805, 'reg_lambda': 2.4689779818219537}. Best is trial 2 with value: 386.5721490914961.\u001b[0m\n",
      "\u001b[32m[I 2022-12-07 03:58:42,353]\u001b[0m Trial 6 finished with value: 257.68211614626773 and parameters: {'learning_rate': 0.052750550108817414, 'n_estimators': 185, 'colsample_bytree': 0.5127095633720475, 'subsample': 0.5539457134966522, 'reg_alpha': 0.15714592843367126, 'reg_lambda': 3.182052056318902}. Best is trial 2 with value: 386.5721490914961.\u001b[0m\n",
      "\u001b[32m[I 2022-12-07 03:58:42,376]\u001b[0m Trial 7 finished with value: 263.896664139056 and parameters: {'learning_rate': 0.03212124212655634, 'n_estimators': 202, 'colsample_bytree': 0.9537832369630466, 'subsample': 0.6246461145744375, 'reg_alpha': 2.0519146151781484, 'reg_lambda': 3.7777556927152434}. Best is trial 2 with value: 386.5721490914961.\u001b[0m\n"
     ]
    },
    {
     "name": "stdout",
     "output_type": "stream",
     "text": [
      "Best trial : score 457.2659477141903, \n",
      "params {'learning_rate': 0.004404463590406622, 'n_estimators': 282, 'colsample_bytree': 0.6293899908000085, 'subsample': 0.831261142176991, 'reg_alpha': 1.5585553804470549, 'reg_lambda': 2.600340105889054}\n",
      "2\n"
     ]
    },
    {
     "name": "stderr",
     "output_type": "stream",
     "text": [
      "\u001b[32m[I 2022-12-07 03:58:42,393]\u001b[0m Trial 8 finished with value: 289.75115238926475 and parameters: {'learning_rate': 0.023651018383670626, 'n_estimators': 115, 'colsample_bytree': 0.6448757264568841, 'subsample': 0.5806106436270022, 'reg_alpha': 4.648488261712865, 'reg_lambda': 4.040601897822085}. Best is trial 2 with value: 386.5721490914961.\u001b[0m\n",
      "\u001b[32m[I 2022-12-07 03:58:42,421]\u001b[0m Trial 9 finished with value: 238.60948350866596 and parameters: {'learning_rate': 0.06370697189453192, 'n_estimators': 275, 'colsample_bytree': 0.9018360384495572, 'subsample': 0.5932850294430179, 'reg_alpha': 4.462794992449889, 'reg_lambda': 2.6967112095782535}. Best is trial 2 with value: 386.5721490914961.\u001b[0m\n",
      "2it [00:00,  3.97it/s]\u001b[32m[I 2022-12-07 03:58:42,422]\u001b[0m A new study created in memory with name: no-name-b1e63700-817e-4b97-8f73-7053879dddd8\u001b[0m\n",
      "\u001b[32m[I 2022-12-07 03:58:42,448]\u001b[0m Trial 0 finished with value: 204.61463717429044 and parameters: {'learning_rate': 0.0809365753612422, 'n_estimators': 280, 'colsample_bytree': 0.6590017374859319, 'subsample': 0.5550259622638384, 'reg_alpha': 1.1396758127097084, 'reg_lambda': 2.1355389431312815}. Best is trial 0 with value: 204.61463717429044.\u001b[0m\n",
      "\u001b[32m[I 2022-12-07 03:58:42,476]\u001b[0m Trial 1 finished with value: 205.87508386414532 and parameters: {'learning_rate': 0.08198346182632682, 'n_estimators': 273, 'colsample_bytree': 0.5034760652655954, 'subsample': 0.7553736512887829, 'reg_alpha': 2.087055015743895, 'reg_lambda': 1.1105390523536514}. Best is trial 1 with value: 205.87508386414532.\u001b[0m\n",
      "\u001b[32m[I 2022-12-07 03:58:42,496]\u001b[0m Trial 2 finished with value: 256.93440203215835 and parameters: {'learning_rate': 0.012866671366034598, 'n_estimators': 167, 'colsample_bytree': 0.9714548519562596, 'subsample': 0.6616014660103776, 'reg_alpha': 2.5939531087168306, 'reg_lambda': 3.515094794475889}. Best is trial 2 with value: 256.93440203215835.\u001b[0m\n",
      "\u001b[32m[I 2022-12-07 03:58:42,526]\u001b[0m Trial 3 finished with value: 211.86869296831762 and parameters: {'learning_rate': 0.03699933063555011, 'n_estimators': 295, 'colsample_bytree': 0.9812236474710556, 'subsample': 0.6258911479126821, 'reg_alpha': 2.4862425294619275, 'reg_lambda': 1.5043915490838482}. Best is trial 2 with value: 256.93440203215835.\u001b[0m\n",
      "\u001b[32m[I 2022-12-07 03:58:42,540]\u001b[0m Trial 4 finished with value: 224.71194742603748 and parameters: {'learning_rate': 0.029199208943369297, 'n_estimators': 107, 'colsample_bytree': 0.8047821669899484, 'subsample': 0.7513395116144308, 'reg_alpha': 0.25739375624994676, 'reg_lambda': 1.3932323211830573}. Best is trial 2 with value: 256.93440203215835.\u001b[0m\n",
      "\u001b[32m[I 2022-12-07 03:58:42,556]\u001b[0m Trial 5 finished with value: 201.68902489540312 and parameters: {'learning_rate': 0.09091832271069872, 'n_estimators': 148, 'colsample_bytree': 0.5724474360456115, 'subsample': 0.7447263801387816, 'reg_alpha': 4.928252270553004, 'reg_lambda': 1.2102763575575022}. Best is trial 2 with value: 256.93440203215835.\u001b[0m\n",
      "\u001b[32m[I 2022-12-07 03:58:42,581]\u001b[0m Trial 6 finished with value: 209.87775803424466 and parameters: {'learning_rate': 0.06754141919318198, 'n_estimators': 253, 'colsample_bytree': 0.6188187719961998, 'subsample': 0.8641081743059298, 'reg_alpha': 1.838915663596266, 'reg_lambda': 3.1615291529678973}. Best is trial 2 with value: 256.93440203215835.\u001b[0m\n",
      "\u001b[32m[I 2022-12-07 03:58:42,605]\u001b[0m Trial 7 finished with value: 206.53595592418975 and parameters: {'learning_rate': 0.06371944136532857, 'n_estimators': 207, 'colsample_bytree': 0.5451448850272042, 'subsample': 0.917651247794619, 'reg_alpha': 1.6039003248586792, 'reg_lambda': 0.9325925519992712}. Best is trial 2 with value: 256.93440203215835.\u001b[0m\n"
     ]
    },
    {
     "name": "stdout",
     "output_type": "stream",
     "text": [
      "Best trial : score 386.5721490914961, \n",
      "params {'learning_rate': 0.0015466895952366377, 'n_estimators': 263, 'colsample_bytree': 0.8534286719238086, 'subsample': 0.8645035840204937, 'reg_alpha': 3.8563517334297286, 'reg_lambda': 0.3702232586704518}\n",
      "3\n"
     ]
    },
    {
     "name": "stderr",
     "output_type": "stream",
     "text": [
      "\u001b[32m[I 2022-12-07 03:58:42,629]\u001b[0m Trial 8 finished with value: 306.41413328257835 and parameters: {'learning_rate': 0.005036739013921628, 'n_estimators': 218, 'colsample_bytree': 0.8387821809211412, 'subsample': 0.508293914463928, 'reg_alpha': 2.560465291496405, 'reg_lambda': 1.1324788759896898}. Best is trial 8 with value: 306.41413328257835.\u001b[0m\n",
      "\u001b[32m[I 2022-12-07 03:58:42,648]\u001b[0m Trial 9 finished with value: 213.12395375020128 and parameters: {'learning_rate': 0.06487210625053554, 'n_estimators': 135, 'colsample_bytree': 0.845468869051233, 'subsample': 0.6933676731502687, 'reg_alpha': 4.6836499436836725, 'reg_lambda': 0.6876047207299663}. Best is trial 8 with value: 306.41413328257835.\u001b[0m\n",
      "3it [00:00,  4.14it/s]\u001b[32m[I 2022-12-07 03:58:42,651]\u001b[0m A new study created in memory with name: no-name-648bb90f-55c0-4f71-be7e-f6c1207f215d\u001b[0m\n",
      "\u001b[32m[I 2022-12-07 03:58:42,666]\u001b[0m Trial 0 finished with value: 201.3491932776098 and parameters: {'learning_rate': 0.034765568753975594, 'n_estimators': 122, 'colsample_bytree': 0.9623468091392814, 'subsample': 0.9386696766904905, 'reg_alpha': 1.289708138575778, 'reg_lambda': 3.299920230170895}. Best is trial 0 with value: 201.3491932776098.\u001b[0m\n",
      "\u001b[32m[I 2022-12-07 03:58:42,688]\u001b[0m Trial 1 finished with value: 203.79389951688026 and parameters: {'learning_rate': 0.08190499781992037, 'n_estimators': 211, 'colsample_bytree': 0.7648252891780032, 'subsample': 0.6209261454502258, 'reg_alpha': 0.46551383902949606, 'reg_lambda': 4.486078789766633}. Best is trial 1 with value: 203.79389951688026.\u001b[0m\n",
      "\u001b[32m[I 2022-12-07 03:58:42,711]\u001b[0m Trial 2 finished with value: 204.27530263996985 and parameters: {'learning_rate': 0.09014138765916972, 'n_estimators': 227, 'colsample_bytree': 0.6695148955243504, 'subsample': 0.6746047873063304, 'reg_alpha': 3.629778394351197, 'reg_lambda': 4.485551299762886}. Best is trial 2 with value: 204.27530263996985.\u001b[0m\n",
      "\u001b[32m[I 2022-12-07 03:58:42,738]\u001b[0m Trial 3 finished with value: 207.57889000637263 and parameters: {'learning_rate': 0.08882155600224662, 'n_estimators': 256, 'colsample_bytree': 0.8210158230771438, 'subsample': 0.5420699824975244, 'reg_alpha': 0.8081435704730688, 'reg_lambda': 4.492770942635397}. Best is trial 3 with value: 207.57889000637263.\u001b[0m\n",
      "\u001b[32m[I 2022-12-07 03:58:42,750]\u001b[0m Trial 4 finished with value: 207.07617561109475 and parameters: {'learning_rate': 0.06103647690629941, 'n_estimators': 101, 'colsample_bytree': 0.5507357714330161, 'subsample': 0.8317508845540279, 'reg_alpha': 0.025307919231093434, 'reg_lambda': 0.8040402570874933}. Best is trial 3 with value: 207.57889000637263.\u001b[0m\n",
      "\u001b[32m[I 2022-12-07 03:58:42,771]\u001b[0m Trial 5 finished with value: 199.25880452547614 and parameters: {'learning_rate': 0.05532464514729203, 'n_estimators': 239, 'colsample_bytree': 0.8259806297513003, 'subsample': 0.61213465473028, 'reg_alpha': 3.560896106737679, 'reg_lambda': 1.1862454374840004}. Best is trial 3 with value: 207.57889000637263.\u001b[0m\n",
      "\u001b[32m[I 2022-12-07 03:58:42,794]\u001b[0m Trial 6 finished with value: 204.04010306703506 and parameters: {'learning_rate': 0.03321457011776751, 'n_estimators': 250, 'colsample_bytree': 0.8248164495236073, 'subsample': 0.924611705247089, 'reg_alpha': 3.2880644615017167, 'reg_lambda': 2.841543016677358}. Best is trial 3 with value: 207.57889000637263.\u001b[0m\n",
      "\u001b[32m[I 2022-12-07 03:58:42,812]\u001b[0m Trial 7 finished with value: 202.09089493296682 and parameters: {'learning_rate': 0.010273802014981157, 'n_estimators': 173, 'colsample_bytree': 0.6326011838408627, 'subsample': 0.6219948216895418, 'reg_alpha': 4.865052773762228, 'reg_lambda': 1.965488623333802}. Best is trial 3 with value: 207.57889000637263.\u001b[0m\n",
      "\u001b[32m[I 2022-12-07 03:58:42,835]\u001b[0m Trial 8 finished with value: 204.9871400758658 and parameters: {'learning_rate': 0.08931260896253422, 'n_estimators': 226, 'colsample_bytree': 0.8974056517708242, 'subsample': 0.751318546552596, 'reg_alpha': 2.8845194231317954, 'reg_lambda': 2.4625884690943196}. Best is trial 3 with value: 207.57889000637263.\u001b[0m\n"
     ]
    },
    {
     "name": "stdout",
     "output_type": "stream",
     "text": [
      "Best trial : score 306.41413328257835, \n",
      "params {'learning_rate': 0.005036739013921628, 'n_estimators': 218, 'colsample_bytree': 0.8387821809211412, 'subsample': 0.508293914463928, 'reg_alpha': 2.560465291496405, 'reg_lambda': 1.1324788759896898}\n",
      "4\n"
     ]
    },
    {
     "name": "stderr",
     "output_type": "stream",
     "text": [
      "\u001b[32m[I 2022-12-07 03:58:42,856]\u001b[0m Trial 9 finished with value: 207.74541668889213 and parameters: {'learning_rate': 0.020329055792006407, 'n_estimators': 245, 'colsample_bytree': 0.6403861812204279, 'subsample': 0.5121579832157269, 'reg_alpha': 3.227361479535839, 'reg_lambda': 0.8855533970352447}. Best is trial 9 with value: 207.74541668889213.\u001b[0m\n",
      "4it [00:00,  4.39it/s]\u001b[32m[I 2022-12-07 03:58:42,858]\u001b[0m A new study created in memory with name: no-name-c1b63c20-5be5-4993-8081-805381ef0aa4\u001b[0m\n",
      "\u001b[32m[I 2022-12-07 03:58:42,885]\u001b[0m Trial 0 finished with value: 300.41175235383014 and parameters: {'learning_rate': 0.09410539985093852, 'n_estimators': 291, 'colsample_bytree': 0.9574321951102243, 'subsample': 0.6850793501277221, 'reg_alpha': 0.07728308264433714, 'reg_lambda': 4.641592812938627}. Best is trial 0 with value: 300.41175235383014.\u001b[0m\n",
      "\u001b[32m[I 2022-12-07 03:58:42,909]\u001b[0m Trial 1 finished with value: 311.6468099675606 and parameters: {'learning_rate': 0.04339023068341412, 'n_estimators': 294, 'colsample_bytree': 0.9818099885446264, 'subsample': 0.92650472773368, 'reg_alpha': 1.4722444603479286, 'reg_lambda': 1.9254886430096263}. Best is trial 1 with value: 311.6468099675606.\u001b[0m\n",
      "\u001b[32m[I 2022-12-07 03:58:42,929]\u001b[0m Trial 2 finished with value: 308.6071744808924 and parameters: {'learning_rate': 0.08526253048016884, 'n_estimators': 163, 'colsample_bytree': 0.5847463733430462, 'subsample': 0.7784006312291751, 'reg_alpha': 4.680773870803905, 'reg_lambda': 3.480148983374865}. Best is trial 1 with value: 311.6468099675606.\u001b[0m\n",
      "\u001b[32m[I 2022-12-07 03:58:42,948]\u001b[0m Trial 3 finished with value: 306.9991978794117 and parameters: {'learning_rate': 0.05743605583884714, 'n_estimators': 119, 'colsample_bytree': 0.8075036133495849, 'subsample': 0.9950269250521316, 'reg_alpha': 0.7004200761826201, 'reg_lambda': 2.591648261818684}. Best is trial 1 with value: 311.6468099675606.\u001b[0m\n",
      "\u001b[32m[I 2022-12-07 03:58:42,986]\u001b[0m Trial 4 finished with value: 303.327230222395 and parameters: {'learning_rate': 0.0878599341208676, 'n_estimators': 248, 'colsample_bytree': 0.848507870497634, 'subsample': 0.8512420419935547, 'reg_alpha': 1.7974557560987758, 'reg_lambda': 1.4679592213224668}. Best is trial 1 with value: 311.6468099675606.\u001b[0m\n",
      "\u001b[32m[I 2022-12-07 03:58:43,015]\u001b[0m Trial 5 finished with value: 306.40587251689095 and parameters: {'learning_rate': 0.08112675439237285, 'n_estimators': 262, 'colsample_bytree': 0.9335361592900518, 'subsample': 0.9566202762782356, 'reg_alpha': 2.556711994304689, 'reg_lambda': 2.507581473435998}. Best is trial 1 with value: 311.6468099675606.\u001b[0m\n",
      "\u001b[32m[I 2022-12-07 03:58:43,036]\u001b[0m Trial 6 finished with value: 307.2499127155077 and parameters: {'learning_rate': 0.08003122271771075, 'n_estimators': 230, 'colsample_bytree': 0.8509834386288517, 'subsample': 0.8978963347180505, 'reg_alpha': 4.450026709087831, 'reg_lambda': 1.689975784257679}. Best is trial 1 with value: 311.6468099675606.\u001b[0m\n",
      "\u001b[32m[I 2022-12-07 03:58:43,048]\u001b[0m Trial 7 finished with value: 285.37333272617747 and parameters: {'learning_rate': 0.03818271231135446, 'n_estimators': 118, 'colsample_bytree': 0.789140070498087, 'subsample': 0.517971136898371, 'reg_alpha': 2.3279900906623006, 'reg_lambda': 2.713223173537883}. Best is trial 1 with value: 311.6468099675606.\u001b[0m\n"
     ]
    },
    {
     "name": "stdout",
     "output_type": "stream",
     "text": [
      "Best trial : score 207.74541668889213, \n",
      "params {'learning_rate': 0.020329055792006407, 'n_estimators': 245, 'colsample_bytree': 0.6403861812204279, 'subsample': 0.5121579832157269, 'reg_alpha': 3.227361479535839, 'reg_lambda': 0.8855533970352447}\n",
      "5\n"
     ]
    },
    {
     "name": "stderr",
     "output_type": "stream",
     "text": [
      "\u001b[32m[I 2022-12-07 03:58:43,069]\u001b[0m Trial 8 finished with value: 296.14066410150235 and parameters: {'learning_rate': 0.029367583960700158, 'n_estimators': 218, 'colsample_bytree': 0.5152501249695247, 'subsample': 0.5186740943746072, 'reg_alpha': 4.113002803298292, 'reg_lambda': 1.8009532070563146}. Best is trial 1 with value: 311.6468099675606.\u001b[0m\n",
      "\u001b[32m[I 2022-12-07 03:58:43,088]\u001b[0m Trial 9 finished with value: 262.1802082161269 and parameters: {'learning_rate': 0.013578990752536595, 'n_estimators': 204, 'colsample_bytree': 0.8849967765493054, 'subsample': 0.6079105137484215, 'reg_alpha': 3.114452379095001, 'reg_lambda': 0.42673732496884}. Best is trial 1 with value: 311.6468099675606.\u001b[0m\n",
      "5it [00:01,  4.23it/s]"
     ]
    },
    {
     "name": "stdout",
     "output_type": "stream",
     "text": [
      "Best trial : score 311.6468099675606, \n",
      "params {'learning_rate': 0.04339023068341412, 'n_estimators': 294, 'colsample_bytree': 0.9818099885446264, 'subsample': 0.92650472773368, 'reg_alpha': 1.4722444603479286, 'reg_lambda': 1.9254886430096263}\n"
     ]
    },
    {
     "name": "stderr",
     "output_type": "stream",
     "text": [
      "\n"
     ]
    }
   ],
   "source": [
    "def objective(trial):\n",
    "    param = {\n",
    "        'learning_rate': trial.suggest_float('learning_rate', 1e-3, 0.1),\n",
    "        'n_estimators': trial.suggest_int('n_estimators', 100, 300),\n",
    "        'colsample_bytree' : trial.suggest_float('colsample_bytree', 0.5, 1.0),\n",
    "        'subsample' :trial.suggest_float('subsample', 0.5, 1.0),\n",
    "        'reg_alpha' : trial.suggest_float('reg_alpha', 0.0, 5.0),\n",
    "        'reg_lambda' : trial.suggest_float('reg_lambda', 0.0, 5.0),\n",
    "        'n_jobs' : -1,\n",
    "    }\n",
    "    model = LGBMRegressor(**param)\n",
    "    model.fit(train_x, train_y, eval_set=[(valid_x, valid_y)], verbose=0)\n",
    "\n",
    "    y_valid_pred = model.predict(valid_x)\n",
    "    return MAE(valid_y, y_valid_pred)\n",
    "\n",
    "sampler = TPESampler(seed=42)\n",
    "\n",
    "kfold = KFold(n_splits=5, shuffle=True, random_state=42)\n",
    "n_iter=0\n",
    "for train_index, test_index in tqdm(kfold.split(Jongno_x, Jongno_y)):\n",
    "    n_iter += 1\n",
    "    print(n_iter)\n",
    "    train_x= Jongno_x.iloc[train_index]\n",
    "    valid_x= Jongno_x.iloc[test_index]\n",
    "    train_y= Jongno_y.iloc[train_index]\n",
    "    valid_y= Jongno_y.iloc[test_index]\n",
    "\n",
    "    study = optuna.create_study(direction='maximize', sampler=sampler)\n",
    "    study.optimize(objective, n_trials=10)\n",
    "\n",
    "    print('Best trial : score {}, \\nparams {}'.format(study.best_trial.value, study.best_trial.params))\n",
    "\n",
    "#for model Jongno\n",
    "#Best trial : score 209.3640002033729, \n",
    "#params {'learning_rate': 0.020329055792006407, 'n_estimators': 245, 'colsample_bytree': 0.6403861812204279, 'subsample': 0.5121579832157269, 'reg_alpha': 3.227361479535839, 'reg_lambda': 0.8855533970352447}"
   ]
  },
  {
   "cell_type": "markdown",
   "id": "_AkwgTYNsBjr",
   "metadata": {
    "id": "_AkwgTYNsBjr"
   },
   "source": [
    "### 다른 구에 대해서 반복"
   ]
  },
  {
   "cell_type": "code",
   "execution_count": null,
   "id": "6Dsp_s7lq7KJ",
   "metadata": {
    "colab": {
     "base_uri": "https://localhost:8080/"
    },
    "executionInfo": {
     "elapsed": 6846,
     "status": "ok",
     "timestamp": 1670290971681,
     "user": {
      "displayName": "이승윤",
      "userId": "17995305622900705411"
     },
     "user_tz": -540
    },
    "id": "6Dsp_s7lq7KJ",
    "outputId": "0f7c2618-d4ca-48ca-eb88-19c6a101b1e8"
   },
   "outputs": [
    {
     "name": "stdout",
     "output_type": "stream",
     "text": [
      "{'max_depth': -1, 'n_estimators': 100}\n",
      "LGBMRegressor()\n"
     ]
    }
   ],
   "source": [
    "lgbm = LGBMRegressor()\n",
    "\n",
    "param_grid = [\n",
    "    {'n_estimators': [100, 200, 300, 400, 500, 600, 700, 800, 900, 1000], \n",
    "     'max_depth': [-1, 15, 30, 45, 60]}\n",
    "]\n",
    "\n",
    "grid_search = GridSearchCV(lgbm, param_grid, cv=3, scoring='neg_mean_squared_error', \n",
    "                           return_train_score=True, n_jobs=-1)\n",
    "grid_search.fit(Jung_x, Jung_y)\n",
    "\n",
    "print(grid_search.best_params_)\n",
    "print(grid_search.best_estimator_)"
   ]
  },
  {
   "cell_type": "code",
   "execution_count": null,
   "id": "atqnJEBaFRTL",
   "metadata": {
    "id": "atqnJEBaFRTL"
   },
   "outputs": [],
   "source": [
    "def objective(trial):\n",
    "    param = {\n",
    "        'learning_rate': trial.suggest_float('learning_rate', 1e-3, 0.1),\n",
    "        'n_estimators': trial.suggest_int('n_estimators', 0, 200),\n",
    "        'colsample_bytree' : trial.suggest_float('colsample_bytree', 0.5, 1.0),\n",
    "        'subsample' :trial.suggest_float('subsample', 0.5, 1.0),\n",
    "        'reg_alpha' : trial.suggest_float('reg_alpha', 0.0, 5.0),\n",
    "        'reg_lambda' : trial.suggest_float('reg_lambda', 0.0, 5.0),\n",
    "        'n_jobs' : -1,\n",
    "    }\n",
    "    model = LGBMRegressor(**param)\n",
    "    model.fit(train_x, train_y, eval_set=[(valid_x, valid_y)], verbose=0)\n",
    "\n",
    "    y_valid_pred = model.predict(valid_x)\n",
    "    return MAE(valid_y, y_valid_pred)\n",
    "\n",
    "sampler = TPESampler(seed=42)\n",
    "\n",
    "kfold = KFold(n_splits=5, shuffle=True, random_state=42)\n",
    "n_iter=0\n",
    "for train_index, test_index in tqdm(kfold.split(Jung_x, Jung_y)):\n",
    "    n_iter += 1\n",
    "    print(n_iter)\n",
    "    train_x= Jung_x.iloc[train_index]\n",
    "    valid_x= Jung_x.iloc[test_index]\n",
    "    train_y= Jung_y.iloc[train_index]\n",
    "    valid_y= Jung_y.iloc[test_index]\n",
    "\n",
    "    study = optuna.create_study(direction='maximize', sampler=sampler)\n",
    "    study.optimize(objective, n_trials=10)\n",
    "\n",
    "    print('Best trial : score {}, \\nparams {}'.format(study.best_trial.value, study.best_trial.params))\n",
    "\n",
    "#for model Jung\n",
    "#Best trial : score 307.49241754207577, \n",
    "#params {'learning_rate': 0.0015466895952366377, 'n_estimators': 163, 'colsample_bytree': 0.8534286719238086, 'subsample': 0.8645035840204937, 'reg_alpha': 3.8563517334297286, 'reg_lambda': 0.3702232586704518}"
   ]
  },
  {
   "cell_type": "code",
   "execution_count": null,
   "id": "nuLPmVFkUj1H",
   "metadata": {
    "colab": {
     "base_uri": "https://localhost:8080/"
    },
    "executionInfo": {
     "elapsed": 7027,
     "status": "ok",
     "timestamp": 1670294748749,
     "user": {
      "displayName": "이승윤",
      "userId": "17995305622900705411"
     },
     "user_tz": -540
    },
    "id": "nuLPmVFkUj1H",
    "outputId": "ecc8bf29-6b13-41a6-85a9-249b3c736f56"
   },
   "outputs": [
    {
     "name": "stdout",
     "output_type": "stream",
     "text": [
      "{'max_depth': -1, 'n_estimators': 100}\n",
      "LGBMRegressor()\n"
     ]
    }
   ],
   "source": [
    "lgbm = LGBMRegressor()\n",
    "\n",
    "param_grid = [\n",
    "    {'n_estimators': [100, 200, 300, 400, 500, 600, 700, 800, 900, 1000], \n",
    "     'max_depth': [-1, 15, 30, 45, 60]}\n",
    "]\n",
    "\n",
    "grid_search = GridSearchCV(lgbm, param_grid, cv=3, scoring='neg_mean_squared_error', \n",
    "                           return_train_score=True, n_jobs=-1)\n",
    "grid_search.fit(Yongsan_x, Yongsan_y)\n",
    "\n",
    "print(grid_search.best_params_)\n",
    "print(grid_search.best_estimator_)"
   ]
  },
  {
   "cell_type": "code",
   "execution_count": null,
   "id": "kRXvt19gUkFr",
   "metadata": {
    "id": "kRXvt19gUkFr"
   },
   "outputs": [],
   "source": [
    "def objective(trial):\n",
    "    param = {\n",
    "        'learning_rate': trial.suggest_float('learning_rate', 1e-3, 0.1),\n",
    "        'n_estimators': trial.suggest_int('n_estimators', 0, 200),\n",
    "        'colsample_bytree' : trial.suggest_float('colsample_bytree', 0.5, 1.0),\n",
    "        'subsample' :trial.suggest_float('subsample', 0.5, 1.0),\n",
    "        'reg_alpha' : trial.suggest_float('reg_alpha', 0.0, 5.0),\n",
    "        'reg_lambda' : trial.suggest_float('reg_lambda', 0.0, 5.0),\n",
    "        'n_jobs' : -1,\n",
    "    }\n",
    "    model = LGBMRegressor(**param)\n",
    "    model.fit(train_x, train_y, eval_set=[(valid_x, valid_y)], verbose=0)\n",
    "\n",
    "    y_valid_pred = model.predict(valid_x)\n",
    "    return MAE(valid_y, y_valid_pred)\n",
    "\n",
    "sampler = TPESampler(seed=42)\n",
    "\n",
    "kfold = KFold(n_splits=5, shuffle=True, random_state=42)\n",
    "n_iter=0\n",
    "for train_index, test_index in tqdm(kfold.split(Yongsan_x, Yongsan_y)):\n",
    "    n_iter += 1\n",
    "    print(n_iter)\n",
    "    train_x= Yongsan_x.iloc[train_index]\n",
    "    valid_x= Yongsan_x.iloc[test_index]\n",
    "    train_y= Yongsan_y.iloc[train_index]\n",
    "    valid_y= Yongsan_y.iloc[test_index]\n",
    "\n",
    "    study = optuna.create_study(direction='maximize', sampler=sampler)\n",
    "    study.optimize(objective, n_trials=10)\n",
    "\n",
    "    print('Best trial : score {}, \\nparams {}'.format(study.best_trial.value, study.best_trial.params))\n",
    "\n",
    "#for model Yongsan\n",
    "#Best trial : score 483.63563360175965, \n",
    "#params {'learning_rate': 0.03321457011776751, 'n_estimators': 150, 'colsample_bytree': 0.8248164495236073, 'subsample': 0.924611705247089, 'reg_alpha': 3.2880644615017167, 'reg_lambda': 2.841543016677358}"
   ]
  },
  {
   "cell_type": "code",
   "execution_count": null,
   "id": "cx_YymZDWTnO",
   "metadata": {
    "colab": {
     "base_uri": "https://localhost:8080/"
    },
    "executionInfo": {
     "elapsed": 12785,
     "status": "ok",
     "timestamp": 1670295191840,
     "user": {
      "displayName": "이승윤",
      "userId": "17995305622900705411"
     },
     "user_tz": -540
    },
    "id": "cx_YymZDWTnO",
    "outputId": "275ccb14-cfb1-4347-a875-4fd85cffc8ca"
   },
   "outputs": [
    {
     "name": "stdout",
     "output_type": "stream",
     "text": [
      "{'max_depth': -1, 'n_estimators': 100}\n",
      "LGBMRegressor()\n"
     ]
    }
   ],
   "source": [
    "lgbm = LGBMRegressor()\n",
    "\n",
    "param_grid = [\n",
    "    {'n_estimators': [100, 200, 300, 400, 500, 600, 700, 800, 900, 1000], \n",
    "     'max_depth': [-1, 15, 30, 45, 60]}\n",
    "]\n",
    "\n",
    "grid_search = GridSearchCV(lgbm, param_grid, cv=3, scoring='neg_mean_squared_error', \n",
    "                           return_train_score=True, n_jobs=-1)\n",
    "grid_search.fit(Seongdong_x, Seongdong_y)\n",
    "\n",
    "print(grid_search.best_params_)\n",
    "print(grid_search.best_estimator_)"
   ]
  },
  {
   "cell_type": "code",
   "execution_count": null,
   "id": "RoGzcIfmWaMm",
   "metadata": {
    "id": "RoGzcIfmWaMm"
   },
   "outputs": [],
   "source": [
    "def objective(trial):\n",
    "    param = {\n",
    "        'learning_rate': trial.suggest_float('learning_rate', 1e-3, 0.1),\n",
    "        'n_estimators': trial.suggest_int('n_estimators', 0, 200),\n",
    "        'colsample_bytree' : trial.suggest_float('colsample_bytree', 0.5, 1.0),\n",
    "        'subsample' :trial.suggest_float('subsample', 0.5, 1.0),\n",
    "        'reg_alpha' : trial.suggest_float('reg_alpha', 0.0, 5.0),\n",
    "        'reg_lambda' : trial.suggest_float('reg_lambda', 0.0, 5.0),\n",
    "        'n_jobs' : -1,\n",
    "    }\n",
    "    model = LGBMRegressor(**param)\n",
    "    model.fit(train_x, train_y, eval_set=[(valid_x, valid_y)], verbose=0)\n",
    "\n",
    "    y_valid_pred = model.predict(valid_x)\n",
    "    return MAE(valid_y, y_valid_pred)\n",
    "\n",
    "sampler = TPESampler(seed=42)\n",
    "\n",
    "kfold = KFold(n_splits=5, shuffle=True, random_state=42)\n",
    "n_iter=0\n",
    "for train_index, test_index in tqdm(kfold.split(Seongdong_x, Seongdong_y)):\n",
    "    n_iter += 1\n",
    "    print(n_iter)\n",
    "    train_x= Seongdong_x.iloc[train_index]\n",
    "    valid_x= Seongdong_x.iloc[test_index]\n",
    "    train_y= Seongdong_y.iloc[train_index]\n",
    "    valid_y= Seongdong_y.iloc[test_index]\n",
    "\n",
    "    study = optuna.create_study(direction='maximize', sampler=sampler)\n",
    "    study.optimize(objective, n_trials=10)\n",
    "\n",
    "    print('Best trial : score {}, \\nparams {}'.format(study.best_trial.value, study.best_trial.params))\n",
    "\n",
    "#for model Seongdong\n",
    "#Best trial : score 382.6362715092011, \n",
    "#params {'learning_rate': 0.0015466895952366377, 'n_estimators': 163, 'colsample_bytree': 0.8534286719238086, 'subsample': 0.8645035840204937, 'reg_alpha': 3.8563517334297286, 'reg_lambda': 0.3702232586704518}"
   ]
  },
  {
   "cell_type": "code",
   "execution_count": null,
   "id": "mmWav65ddEyj",
   "metadata": {
    "colab": {
     "base_uri": "https://localhost:8080/"
    },
    "executionInfo": {
     "elapsed": 9647,
     "status": "ok",
     "timestamp": 1670296993877,
     "user": {
      "displayName": "이승윤",
      "userId": "17995305622900705411"
     },
     "user_tz": -540
    },
    "id": "mmWav65ddEyj",
    "outputId": "fc58de1e-0f2e-4898-a3f9-c3fe41721f22"
   },
   "outputs": [
    {
     "name": "stdout",
     "output_type": "stream",
     "text": [
      "{'max_depth': -1, 'n_estimators': 200}\n",
      "LGBMRegressor(n_estimators=200)\n"
     ]
    }
   ],
   "source": [
    "lgbm = LGBMRegressor()\n",
    "\n",
    "param_grid = [\n",
    "    {'n_estimators': [100, 200, 300, 400, 500, 600, 700, 800, 900, 1000], \n",
    "     'max_depth': [-1, 15, 30, 45, 60]}\n",
    "]\n",
    "\n",
    "grid_search = GridSearchCV(lgbm, param_grid, cv=3, scoring='neg_mean_squared_error', \n",
    "                           return_train_score=True, n_jobs=-1)\n",
    "grid_search.fit(Gwangjin_x, Gwangjin_y)\n",
    "\n",
    "print(grid_search.best_params_)\n",
    "print(grid_search.best_estimator_)"
   ]
  },
  {
   "cell_type": "code",
   "execution_count": null,
   "id": "uFnU_ixddOnO",
   "metadata": {
    "id": "uFnU_ixddOnO"
   },
   "outputs": [],
   "source": [
    "def objective(trial):\n",
    "    param = {\n",
    "        'learning_rate': trial.suggest_float('learning_rate', 1e-3, 0.1),\n",
    "        'n_estimators': trial.suggest_int('n_estimators', 100, 300),\n",
    "        'colsample_bytree' : trial.suggest_float('colsample_bytree', 0.5, 1.0),\n",
    "        'subsample' :trial.suggest_float('subsample', 0.5, 1.0),\n",
    "        'reg_alpha' : trial.suggest_float('reg_alpha', 0.0, 5.0),\n",
    "        'reg_lambda' : trial.suggest_float('reg_lambda', 0.0, 5.0),\n",
    "        'n_jobs' : -1,\n",
    "    }\n",
    "    model = LGBMRegressor(**param)\n",
    "    model.fit(train_x, train_y, eval_set=[(valid_x, valid_y)], verbose=0)\n",
    "\n",
    "    y_valid_pred = model.predict(valid_x)\n",
    "    return MAE(valid_y, y_valid_pred)\n",
    "\n",
    "sampler = TPESampler(seed=42)\n",
    "\n",
    "kfold = KFold(n_splits=5, shuffle=True, random_state=42)\n",
    "n_iter=0\n",
    "for train_index, test_index in tqdm(kfold.split(Gwangjin_x, Gwangjin_y)):\n",
    "    n_iter += 1\n",
    "    print(n_iter)\n",
    "    train_x= Gwangjin_x.iloc[train_index]\n",
    "    valid_x= Gwangjin_x.iloc[test_index]\n",
    "    train_y= Gwangjin_y.iloc[train_index]\n",
    "    valid_y= Gwangjin_y.iloc[test_index]\n",
    "\n",
    "    study = optuna.create_study(direction='maximize', sampler=sampler)\n",
    "    study.optimize(objective, n_trials=10)\n",
    "\n",
    "    print('Best trial : score {}, \\nparams {}'.format(study.best_trial.value, study.best_trial.params))\n",
    "\n",
    "#for model Gwangjin\n",
    "#Best trial : score 232.5540590343182, \n",
    "#params {'learning_rate': 0.03818271231135446, 'n_estimators': 118, 'colsample_bytree': 0.789140070498087, 'subsample': 0.517971136898371, 'reg_alpha': 2.3279900906623006, 'reg_lambda': 2.713223173537883}"
   ]
  },
  {
   "cell_type": "code",
   "execution_count": null,
   "id": "kc258hvCdE1H",
   "metadata": {
    "colab": {
     "base_uri": "https://localhost:8080/"
    },
    "executionInfo": {
     "elapsed": 18453,
     "status": "ok",
     "timestamp": 1670297261937,
     "user": {
      "displayName": "이승윤",
      "userId": "17995305622900705411"
     },
     "user_tz": -540
    },
    "id": "kc258hvCdE1H",
    "outputId": "c5af42c4-c509-468e-d25a-52457979e70b"
   },
   "outputs": [
    {
     "name": "stdout",
     "output_type": "stream",
     "text": [
      "{'max_depth': -1, 'n_estimators': 100}\n",
      "LGBMRegressor()\n"
     ]
    }
   ],
   "source": [
    "lgbm = LGBMRegressor()\n",
    "\n",
    "param_grid = [\n",
    "    {'n_estimators': [100, 200, 300, 400, 500, 600, 700, 800, 900, 1000], \n",
    "     'max_depth': [-1, 15, 30, 45, 60]}\n",
    "]\n",
    "\n",
    "grid_search = GridSearchCV(lgbm, param_grid, cv=3, scoring='neg_mean_squared_error', \n",
    "                           return_train_score=True, n_jobs=-1)\n",
    "grid_search.fit(Dongdaemun_x, Dongdaemun_y)\n",
    "\n",
    "print(grid_search.best_params_)\n",
    "print(grid_search.best_estimator_)"
   ]
  },
  {
   "cell_type": "code",
   "execution_count": null,
   "id": "URH8VuTDeYe-",
   "metadata": {
    "id": "URH8VuTDeYe-"
   },
   "outputs": [],
   "source": [
    "def objective(trial):\n",
    "    param = {\n",
    "        'learning_rate': trial.suggest_float('learning_rate', 1e-3, 0.1),\n",
    "        'n_estimators': trial.suggest_int('n_estimators', 0, 200),\n",
    "        'colsample_bytree' : trial.suggest_float('colsample_bytree', 0.5, 1.0),\n",
    "        'subsample' :trial.suggest_float('subsample', 0.5, 1.0),\n",
    "        'reg_alpha' : trial.suggest_float('reg_alpha', 0.0, 5.0),\n",
    "        'reg_lambda' : trial.suggest_float('reg_lambda', 0.0, 5.0),\n",
    "        'n_jobs' : -1,\n",
    "    }\n",
    "    model = LGBMRegressor(**param)\n",
    "    model.fit(train_x, train_y, eval_set=[(valid_x, valid_y)], verbose=0)\n",
    "\n",
    "    y_valid_pred = model.predict(valid_x)\n",
    "    return MAE(valid_y, y_valid_pred)\n",
    "\n",
    "sampler = TPESampler(seed=42)\n",
    "\n",
    "kfold = KFold(n_splits=5, shuffle=True, random_state=42)\n",
    "n_iter=0\n",
    "for train_index, test_index in tqdm(kfold.split(Dongdaemun_x, Dongdaemun_y)):\n",
    "    n_iter += 1\n",
    "    print(n_iter)\n",
    "    train_x= Dongdaemun_x.iloc[train_index]\n",
    "    valid_x= Dongdaemun_x.iloc[test_index]\n",
    "    train_y= Dongdaemun_y.iloc[train_index]\n",
    "    valid_y= Dongdaemun_y.iloc[test_index]\n",
    "\n",
    "    study = optuna.create_study(direction='maximize', sampler=sampler)\n",
    "    study.optimize(objective, n_trials=10)\n",
    "\n",
    "    print('Best trial : score {}, \\nparams {}'.format(study.best_trial.value, study.best_trial.params))\n",
    "\n",
    "#for model Dongdaemun\n",
    "#Best trial : score 240.13905925712606, \n",
    "#params {'learning_rate': 0.03818271231135446, 'n_estimators': 18, 'colsample_bytree': 0.789140070498087, 'subsample': 0.517971136898371, 'reg_alpha': 2.3279900906623006, 'reg_lambda': 2.713223173537883}"
   ]
  },
  {
   "cell_type": "code",
   "execution_count": null,
   "id": "mnkaLX0aesB3",
   "metadata": {
    "colab": {
     "base_uri": "https://localhost:8080/"
    },
    "executionInfo": {
     "elapsed": 16783,
     "status": "ok",
     "timestamp": 1670297379057,
     "user": {
      "displayName": "이승윤",
      "userId": "17995305622900705411"
     },
     "user_tz": -540
    },
    "id": "mnkaLX0aesB3",
    "outputId": "2c0402ae-c22b-428e-a4a1-0cec7b77c604"
   },
   "outputs": [
    {
     "name": "stdout",
     "output_type": "stream",
     "text": [
      "{'max_depth': -1, 'n_estimators': 300}\n",
      "LGBMRegressor(n_estimators=300)\n"
     ]
    }
   ],
   "source": [
    "lgbm = LGBMRegressor()\n",
    "\n",
    "param_grid = [\n",
    "    {'n_estimators': [100, 200, 300, 400, 500, 600, 700, 800, 900, 1000], \n",
    "     'max_depth': [-1, 15, 30, 45, 60]}\n",
    "]\n",
    "\n",
    "grid_search = GridSearchCV(lgbm, param_grid, cv=3, scoring='neg_mean_squared_error', \n",
    "                           return_train_score=True, n_jobs=-1)\n",
    "grid_search.fit(Jungnang_x, Jungnang_y)\n",
    "\n",
    "print(grid_search.best_params_)\n",
    "print(grid_search.best_estimator_)"
   ]
  },
  {
   "cell_type": "code",
   "execution_count": null,
   "id": "mTcGkPtAfw4n",
   "metadata": {
    "id": "mTcGkPtAfw4n"
   },
   "outputs": [],
   "source": [
    "def objective(trial):\n",
    "    param = {\n",
    "        'learning_rate': trial.suggest_float('learning_rate', 1e-3, 0.1),\n",
    "        'n_estimators': trial.suggest_int('n_estimators', 200, 400),\n",
    "        'colsample_bytree' : trial.suggest_float('colsample_bytree', 0.5, 1.0),\n",
    "        'subsample' :trial.suggest_float('subsample', 0.5, 1.0),\n",
    "        'reg_alpha' : trial.suggest_float('reg_alpha', 0.0, 5.0),\n",
    "        'reg_lambda' : trial.suggest_float('reg_lambda', 0.0, 5.0),\n",
    "        'n_jobs' : -1,\n",
    "    }\n",
    "    model = LGBMRegressor(**param)\n",
    "    model.fit(train_x, train_y, eval_set=[(valid_x, valid_y)], verbose=0)\n",
    "\n",
    "    y_valid_pred = model.predict(valid_x)\n",
    "    return MAE(valid_y, y_valid_pred)\n",
    "\n",
    "sampler = TPESampler(seed=42)\n",
    "\n",
    "kfold = KFold(n_splits=5, shuffle=True, random_state=42)\n",
    "n_iter=0\n",
    "for train_index, test_index in tqdm(kfold.split(Jungnang_x, Jungnang_y)):\n",
    "    n_iter += 1\n",
    "    print(n_iter)\n",
    "    train_x= Jungnang_x.iloc[train_index]\n",
    "    valid_x= Jungnang_x.iloc[test_index]\n",
    "    train_y= Jungnang_y.iloc[train_index]\n",
    "    valid_y= Jungnang_y.iloc[test_index]\n",
    "\n",
    "    study = optuna.create_study(direction='maximize', sampler=sampler)\n",
    "    study.optimize(objective, n_trials=10)\n",
    "\n",
    "    print('Best trial : score {}, \\nparams {}'.format(study.best_trial.value, study.best_trial.params))\n",
    "\n",
    "#for model Jungnang\n",
    "#Best trial : score 122.1451221451664, \n",
    "#params {'learning_rate': 0.013578990752536595, 'n_estimators': 304, 'colsample_bytree': 0.8849967765493054, 'subsample': 0.6079105137484215, 'reg_alpha': 3.114452379095001, 'reg_lambda': 0.42673732496884}"
   ]
  },
  {
   "cell_type": "code",
   "execution_count": null,
   "id": "YgKv4mc4_Sjf",
   "metadata": {
    "colab": {
     "base_uri": "https://localhost:8080/"
    },
    "executionInfo": {
     "elapsed": 13012,
     "status": "ok",
     "timestamp": 1670305988736,
     "user": {
      "displayName": "이승윤",
      "userId": "17995305622900705411"
     },
     "user_tz": -540
    },
    "id": "YgKv4mc4_Sjf",
    "outputId": "7ca8c2d8-a073-4853-a87f-fcff2134059c"
   },
   "outputs": [
    {
     "name": "stdout",
     "output_type": "stream",
     "text": [
      "{'max_depth': -1, 'n_estimators': 100}\n",
      "LGBMRegressor()\n"
     ]
    }
   ],
   "source": [
    "lgbm = LGBMRegressor()\n",
    "\n",
    "param_grid = [\n",
    "    {'n_estimators': [100, 200, 300, 400, 500, 600, 700, 800, 900, 1000], \n",
    "     'max_depth': [-1, 15, 30, 45, 60]}\n",
    "]\n",
    "\n",
    "grid_search = GridSearchCV(lgbm, param_grid, cv=3, scoring='neg_mean_squared_error', \n",
    "                           return_train_score=True, n_jobs=-1)\n",
    "grid_search.fit(Seongbuk_x, Seongbuk_y)\n",
    "\n",
    "print(grid_search.best_params_)\n",
    "print(grid_search.best_estimator_)"
   ]
  },
  {
   "cell_type": "code",
   "execution_count": null,
   "id": "oUYcaBwG_TQz",
   "metadata": {
    "id": "oUYcaBwG_TQz"
   },
   "outputs": [],
   "source": [
    "def objective(trial):\n",
    "    param = {\n",
    "        'learning_rate': trial.suggest_float('learning_rate', 1e-3, 0.1),\n",
    "        'n_estimators': trial.suggest_int('n_estimators', 0, 200),\n",
    "        'colsample_bytree' : trial.suggest_float('colsample_bytree', 0.5, 1.0),\n",
    "        'subsample' :trial.suggest_float('subsample', 0.5, 1.0),\n",
    "        'reg_alpha' : trial.suggest_float('reg_alpha', 0.0, 5.0),\n",
    "        'reg_lambda' : trial.suggest_float('reg_lambda', 0.0, 5.0),\n",
    "        'n_jobs' : -1,\n",
    "    }\n",
    "    model = LGBMRegressor(**param)\n",
    "    model.fit(train_x, train_y, eval_set=[(valid_x, valid_y)], verbose=0)\n",
    "\n",
    "    y_valid_pred = model.predict(valid_x)\n",
    "    return MAE(valid_y, y_valid_pred)\n",
    "\n",
    "sampler = TPESampler(seed=42)\n",
    "\n",
    "kfold = KFold(n_splits=5, shuffle=True, random_state=42)\n",
    "n_iter=0\n",
    "for train_index, test_index in tqdm(kfold.split(Seongbuk_x, Seongbuk_y)):\n",
    "    n_iter += 1\n",
    "    print(n_iter)\n",
    "    train_x= Seongbuk_x.iloc[train_index]\n",
    "    valid_x= Seongbuk_x.iloc[test_index]\n",
    "    train_y= Seongbuk_y.iloc[train_index]\n",
    "    valid_y= Seongbuk_y.iloc[test_index]\n",
    "\n",
    "    study = optuna.create_study(direction='maximize', sampler=sampler)\n",
    "    study.optimize(objective, n_trials=10)\n",
    "\n",
    "    print('Best trial : score {}, \\nparams {}'.format(study.best_trial.value, study.best_trial.params))\n",
    "\n",
    "#for model Seongbuk\n",
    "#Best trial : score 195.90765638075416, \n",
    "#params {'learning_rate': 0.0311567631481637, 'n_estimators': 19, 'colsample_bytree': 0.8421165132560784, 'subsample': 0.7200762468698007, 'reg_alpha': 0.6101911742238941, 'reg_lambda': 2.475884550556351}"
   ]
  },
  {
   "cell_type": "code",
   "execution_count": null,
   "id": "yxOAu-q-AEGS",
   "metadata": {
    "colab": {
     "base_uri": "https://localhost:8080/"
    },
    "executionInfo": {
     "elapsed": 7091,
     "status": "ok",
     "timestamp": 1670306220645,
     "user": {
      "displayName": "이승윤",
      "userId": "17995305622900705411"
     },
     "user_tz": -540
    },
    "id": "yxOAu-q-AEGS",
    "outputId": "58534024-7ffc-4b76-f5ec-ee9919f35b06"
   },
   "outputs": [
    {
     "name": "stdout",
     "output_type": "stream",
     "text": [
      "{'max_depth': -1, 'n_estimators': 100}\n",
      "LGBMRegressor()\n"
     ]
    }
   ],
   "source": [
    "lgbm = LGBMRegressor()\n",
    "\n",
    "param_grid = [\n",
    "    {'n_estimators': [100, 200, 300, 400, 500, 600, 700, 800, 900, 1000], \n",
    "     'max_depth': [-1, 15, 30, 45, 60]}\n",
    "]\n",
    "\n",
    "grid_search = GridSearchCV(lgbm, param_grid, cv=3, scoring='neg_mean_squared_error', \n",
    "                           return_train_score=True, n_jobs=-1)\n",
    "grid_search.fit(Gangbuk_x, Gangbuk_y)\n",
    "\n",
    "print(grid_search.best_params_)\n",
    "print(grid_search.best_estimator_)"
   ]
  },
  {
   "cell_type": "code",
   "execution_count": null,
   "id": "bapPS_yPAnPI",
   "metadata": {
    "id": "bapPS_yPAnPI"
   },
   "outputs": [],
   "source": [
    "def objective(trial):\n",
    "    param = {\n",
    "        'learning_rate': trial.suggest_float('learning_rate', 1e-3, 0.1),\n",
    "        'n_estimators': trial.suggest_int('n_estimators', 0, 200),\n",
    "        'colsample_bytree' : trial.suggest_float('colsample_bytree', 0.5, 1.0),\n",
    "        'subsample' :trial.suggest_float('subsample', 0.5, 1.0),\n",
    "        'reg_alpha' : trial.suggest_float('reg_alpha', 0.0, 5.0),\n",
    "        'reg_lambda' : trial.suggest_float('reg_lambda', 0.0, 5.0),\n",
    "        'n_jobs' : -1,\n",
    "    }\n",
    "    model = LGBMRegressor(**param)\n",
    "    model.fit(train_x, train_y, eval_set=[(valid_x, valid_y)], verbose=0)\n",
    "\n",
    "    y_valid_pred = model.predict(valid_x)\n",
    "    return MAE(valid_y, y_valid_pred)\n",
    "\n",
    "sampler = TPESampler(seed=42)\n",
    "\n",
    "kfold = KFold(n_splits=5, shuffle=True, random_state=42)\n",
    "n_iter=0\n",
    "for train_index, test_index in tqdm(kfold.split(Gangbuk_x, Gangbuk_y)):\n",
    "    n_iter += 1\n",
    "    print(n_iter)\n",
    "    train_x= Gangbuk_x.iloc[train_index]\n",
    "    valid_x= Gangbuk_x.iloc[test_index]\n",
    "    train_y= Gangbuk_y.iloc[train_index]\n",
    "    valid_y= Gangbuk_y.iloc[test_index]\n",
    "\n",
    "    study = optuna.create_study(direction='maximize', sampler=sampler)\n",
    "    study.optimize(objective, n_trials=10)\n",
    "\n",
    "    print('Best trial : score {}, \\nparams {}'.format(study.best_trial.value, study.best_trial.params))\n",
    "\n",
    "#for model Gangbuk\n",
    "#Best trial : score 186.07814990133724, \n",
    "#params {'learning_rate': 0.029199208943369297, 'n_estimators': 7, 'colsample_bytree': 0.8047821669899484, 'subsample': 0.7513395116144308, 'reg_alpha': 0.25739375624994676, 'reg_lambda': 1.3932323211830573}"
   ]
  },
  {
   "cell_type": "code",
   "execution_count": null,
   "id": "E_F3g8cIA8vx",
   "metadata": {
    "colab": {
     "base_uri": "https://localhost:8080/"
    },
    "executionInfo": {
     "elapsed": 11625,
     "status": "ok",
     "timestamp": 1670306363548,
     "user": {
      "displayName": "이승윤",
      "userId": "17995305622900705411"
     },
     "user_tz": -540
    },
    "id": "E_F3g8cIA8vx",
    "outputId": "39fbe63c-8afa-4b76-ab8c-72dbd6660451"
   },
   "outputs": [
    {
     "name": "stdout",
     "output_type": "stream",
     "text": [
      "{'max_depth': -1, 'n_estimators': 100}\n",
      "LGBMRegressor()\n"
     ]
    }
   ],
   "source": [
    "lgbm = LGBMRegressor()\n",
    "\n",
    "param_grid = [\n",
    "    {'n_estimators': [100, 200, 300, 400, 500, 600, 700, 800, 900, 1000], \n",
    "     'max_depth': [-1, 15, 30, 45, 60]}\n",
    "]\n",
    "\n",
    "grid_search = GridSearchCV(lgbm, param_grid, cv=3, scoring='neg_mean_squared_error', \n",
    "                           return_train_score=True, n_jobs=-1)\n",
    "grid_search.fit(Dobong_x, Dobong_y)\n",
    "\n",
    "print(grid_search.best_params_)\n",
    "print(grid_search.best_estimator_)"
   ]
  },
  {
   "cell_type": "code",
   "execution_count": null,
   "id": "PkA4Xl7pFFrZ",
   "metadata": {
    "id": "PkA4Xl7pFFrZ"
   },
   "outputs": [],
   "source": [
    "def objective(trial):\n",
    "    param = {\n",
    "        'learning_rate': trial.suggest_float('learning_rate', 1e-3, 0.1),\n",
    "        'n_estimators': trial.suggest_int('n_estimators', 0, 200),\n",
    "        'colsample_bytree' : trial.suggest_float('colsample_bytree', 0.5, 1.0),\n",
    "        'subsample' :trial.suggest_float('subsample', 0.5, 1.0),\n",
    "        'reg_alpha' : trial.suggest_float('reg_alpha', 0.0, 5.0),\n",
    "        'reg_lambda' : trial.suggest_float('reg_lambda', 0.0, 5.0),\n",
    "        'n_jobs' : -1,\n",
    "    }\n",
    "    model = LGBMRegressor(**param)\n",
    "    model.fit(train_x, train_y, eval_set=[(valid_x, valid_y)], verbose=0)\n",
    "\n",
    "    y_valid_pred = model.predict(valid_x)\n",
    "    return MAE(valid_y, y_valid_pred)\n",
    "\n",
    "sampler = TPESampler(seed=42)\n",
    "\n",
    "kfold = KFold(n_splits=5, shuffle=True, random_state=42)\n",
    "n_iter=0\n",
    "for train_index, test_index in tqdm(kfold.split(Dobong_x, Dobong_y)):\n",
    "    n_iter += 1\n",
    "    print(n_iter)\n",
    "    train_x= Dobong_x.iloc[train_index]\n",
    "    valid_x= Dobong_x.iloc[test_index]\n",
    "    train_y= Dobong_y.iloc[train_index]\n",
    "    valid_y= Dobong_y.iloc[test_index]\n",
    "\n",
    "    study = optuna.create_study(direction='maximize', sampler=sampler)\n",
    "    study.optimize(objective, n_trials=10)\n",
    "\n",
    "    print('Best trial : score {}, \\nparams {}'.format(study.best_trial.value, study.best_trial.params))\n",
    "\n",
    "#for model Dobong\n",
    "#Best trial : score 175.02849182476825, \n",
    "#params {'learning_rate': 0.0311567631481637, 'n_estimators': 19, 'colsample_bytree': 0.8421165132560784, 'subsample': 0.7200762468698007, 'reg_alpha': 0.6101911742238941, 'reg_lambda': 2.475884550556351}"
   ]
  },
  {
   "cell_type": "code",
   "execution_count": null,
   "id": "te8-NWlXFaiP",
   "metadata": {
    "colab": {
     "base_uri": "https://localhost:8080/"
    },
    "executionInfo": {
     "elapsed": 31630,
     "status": "ok",
     "timestamp": 1670307545269,
     "user": {
      "displayName": "이승윤",
      "userId": "17995305622900705411"
     },
     "user_tz": -540
    },
    "id": "te8-NWlXFaiP",
    "outputId": "9f45582f-0834-4fe0-9914-4b490aee2eaf"
   },
   "outputs": [
    {
     "name": "stdout",
     "output_type": "stream",
     "text": [
      "{'max_depth': -1, 'n_estimators': 100}\n",
      "LGBMRegressor()\n"
     ]
    }
   ],
   "source": [
    "lgbm = LGBMRegressor()\n",
    "\n",
    "param_grid = [\n",
    "    {'n_estimators': [100, 200, 300, 400, 500, 600, 700, 800, 900, 1000], \n",
    "     'max_depth': [-1, 15, 30, 45, 60]}\n",
    "]\n",
    "\n",
    "grid_search = GridSearchCV(lgbm, param_grid, cv=3, scoring='neg_mean_squared_error', \n",
    "                           return_train_score=True, n_jobs=-1)\n",
    "grid_search.fit(Nowon_x, Nowon_y)\n",
    "\n",
    "print(grid_search.best_params_)\n",
    "print(grid_search.best_estimator_)"
   ]
  },
  {
   "cell_type": "code",
   "execution_count": null,
   "id": "RikQ2boIFgij",
   "metadata": {
    "id": "RikQ2boIFgij"
   },
   "outputs": [],
   "source": [
    "def objective(trial):\n",
    "    param = {\n",
    "        'learning_rate': trial.suggest_float('learning_rate', 1e-3, 0.1),\n",
    "        'n_estimators': trial.suggest_int('n_estimators', 0, 200),\n",
    "        'colsample_bytree' : trial.suggest_float('colsample_bytree', 0.5, 1.0),\n",
    "        'subsample' :trial.suggest_float('subsample', 0.5, 1.0),\n",
    "        'reg_alpha' : trial.suggest_float('reg_alpha', 0.0, 5.0),\n",
    "        'reg_lambda' : trial.suggest_float('reg_lambda', 0.0, 5.0),\n",
    "        'n_jobs' : -1,\n",
    "    }\n",
    "    model = LGBMRegressor(**param)\n",
    "    model.fit(train_x, train_y, eval_set=[(valid_x, valid_y)], verbose=0)\n",
    "\n",
    "    y_valid_pred = model.predict(valid_x)\n",
    "    return MAE(valid_y, y_valid_pred)\n",
    "\n",
    "sampler = TPESampler(seed=42)\n",
    "\n",
    "kfold = KFold(n_splits=5, shuffle=True, random_state=42)\n",
    "n_iter=0\n",
    "for train_index, test_index in tqdm(kfold.split(Nowon_x, Nowon_y)):\n",
    "    n_iter += 1\n",
    "    print(n_iter)\n",
    "    train_x= Nowon_x.iloc[train_index]\n",
    "    valid_x= Nowon_x.iloc[test_index]\n",
    "    train_y= Nowon_y.iloc[train_index]\n",
    "    valid_y= Nowon_y.iloc[test_index]\n",
    "\n",
    "    study = optuna.create_study(direction='maximize', sampler=sampler)\n",
    "    study.optimize(objective, n_trials=10)\n",
    "\n",
    "    print('Best trial : score {}, \\nparams {}'.format(study.best_trial.value, study.best_trial.params))\n",
    "\n",
    "#for model Nowon\n",
    "#Best trial : score 158.37180515096702, \n",
    "#params {'learning_rate': 0.03818271231135446, 'n_estimators': 18, 'colsample_bytree': 0.789140070498087, 'subsample': 0.517971136898371, 'reg_alpha': 2.3279900906623006, 'reg_lambda': 2.713223173537883}"
   ]
  },
  {
   "cell_type": "code",
   "execution_count": null,
   "id": "GKeB_5v-Orru",
   "metadata": {
    "colab": {
     "base_uri": "https://localhost:8080/"
    },
    "executionInfo": {
     "elapsed": 24764,
     "status": "ok",
     "timestamp": 1670309992888,
     "user": {
      "displayName": "이승윤",
      "userId": "17995305622900705411"
     },
     "user_tz": -540
    },
    "id": "GKeB_5v-Orru",
    "outputId": "2e10c83a-1964-4fb6-b5f8-7c26b1560d43"
   },
   "outputs": [
    {
     "name": "stdout",
     "output_type": "stream",
     "text": [
      "{'max_depth': -1, 'n_estimators': 100}\n",
      "LGBMRegressor()\n"
     ]
    }
   ],
   "source": [
    "lgbm = LGBMRegressor()\n",
    "\n",
    "param_grid = [\n",
    "    {'n_estimators': [100, 200, 300, 400, 500, 600, 700, 800, 900, 1000], \n",
    "     'max_depth': [-1, 15, 30, 45, 60]}\n",
    "]\n",
    "\n",
    "grid_search = GridSearchCV(lgbm, param_grid, cv=3, scoring='neg_mean_squared_error', \n",
    "                           return_train_score=True, n_jobs=-1)\n",
    "grid_search.fit(Eunpyeong_x, Eunpyeong_y)\n",
    "\n",
    "print(grid_search.best_params_)\n",
    "print(grid_search.best_estimator_)"
   ]
  },
  {
   "cell_type": "code",
   "execution_count": null,
   "id": "5A9ayGg8O6xA",
   "metadata": {
    "id": "5A9ayGg8O6xA"
   },
   "outputs": [],
   "source": [
    "def objective(trial):\n",
    "    param = {\n",
    "        'learning_rate': trial.suggest_float('learning_rate', 1e-3, 0.1),\n",
    "        'n_estimators': trial.suggest_int('n_estimators', 0, 200),\n",
    "        'colsample_bytree' : trial.suggest_float('colsample_bytree', 0.5, 1.0),\n",
    "        'subsample' :trial.suggest_float('subsample', 0.5, 1.0),\n",
    "        'reg_alpha' : trial.suggest_float('reg_alpha', 0.0, 5.0),\n",
    "        'reg_lambda' : trial.suggest_float('reg_lambda', 0.0, 5.0),\n",
    "        'n_jobs' : -1,\n",
    "    }\n",
    "    model = LGBMRegressor(**param)\n",
    "    model.fit(train_x, train_y, eval_set=[(valid_x, valid_y)], verbose=0)\n",
    "\n",
    "    y_valid_pred = model.predict(valid_x)\n",
    "    return MAE(valid_y, y_valid_pred)\n",
    "\n",
    "sampler = TPESampler(seed=42)\n",
    "\n",
    "kfold = KFold(n_splits=5, shuffle=True, random_state=42)\n",
    "n_iter=0\n",
    "for train_index, test_index in tqdm(kfold.split(Eunpyeong_x, Eunpyeong_y)):\n",
    "    n_iter += 1\n",
    "    print(n_iter)\n",
    "    train_x= Eunpyeong_x.iloc[train_index]\n",
    "    valid_x= Eunpyeong_x.iloc[test_index]\n",
    "    train_y= Eunpyeong_y.iloc[train_index]\n",
    "    valid_y= Eunpyeong_y.iloc[test_index]\n",
    "\n",
    "    study = optuna.create_study(direction='maximize', sampler=sampler)\n",
    "    study.optimize(objective, n_trials=10)\n",
    "\n",
    "    print('Best trial : score {}, \\nparams {}'.format(study.best_trial.value, study.best_trial.params))\n",
    "\n",
    "#for model Eunpyeong\n",
    "#Best trial : score 189.6534130865682, \n",
    "#params {'learning_rate': 0.03818271231135446, 'n_estimators': 18, 'colsample_bytree': 0.789140070498087, 'subsample': 0.517971136898371, 'reg_alpha': 2.3279900906623006, 'reg_lambda': 2.713223173537883}"
   ]
  },
  {
   "cell_type": "code",
   "execution_count": null,
   "id": "pmPxM0gbPwSp",
   "metadata": {
    "colab": {
     "base_uri": "https://localhost:8080/"
    },
    "executionInfo": {
     "elapsed": 10624,
     "status": "ok",
     "timestamp": 1670310242672,
     "user": {
      "displayName": "이승윤",
      "userId": "17995305622900705411"
     },
     "user_tz": -540
    },
    "id": "pmPxM0gbPwSp",
    "outputId": "a9643f6a-bba6-441b-9611-1329968ee8d1"
   },
   "outputs": [
    {
     "name": "stdout",
     "output_type": "stream",
     "text": [
      "{'max_depth': -1, 'n_estimators': 100}\n",
      "LGBMRegressor()\n"
     ]
    }
   ],
   "source": [
    "lgbm = LGBMRegressor()\n",
    "\n",
    "param_grid = [\n",
    "    {'n_estimators': [100, 200, 300, 400, 500, 600, 700, 800, 900, 1000], \n",
    "     'max_depth': [-1, 15, 30, 45, 60]}\n",
    "]\n",
    "\n",
    "grid_search = GridSearchCV(lgbm, param_grid, cv=3, scoring='neg_mean_squared_error', \n",
    "                           return_train_score=True, n_jobs=-1)\n",
    "grid_search.fit(Seodaemun_x, Seodaemun_y)\n",
    "\n",
    "print(grid_search.best_params_)\n",
    "print(grid_search.best_estimator_)"
   ]
  },
  {
   "cell_type": "code",
   "execution_count": null,
   "id": "s7C847aOP4HA",
   "metadata": {
    "id": "s7C847aOP4HA"
   },
   "outputs": [],
   "source": [
    "def objective(trial):\n",
    "    param = {\n",
    "        'learning_rate': trial.suggest_float('learning_rate', 1e-3, 0.1),\n",
    "        'n_estimators': trial.suggest_int('n_estimators', 0, 200),\n",
    "        'colsample_bytree' : trial.suggest_float('colsample_bytree', 0.5, 1.0),\n",
    "        'subsample' :trial.suggest_float('subsample', 0.5, 1.0),\n",
    "        'reg_alpha' : trial.suggest_float('reg_alpha', 0.0, 5.0),\n",
    "        'reg_lambda' : trial.suggest_float('reg_lambda', 0.0, 5.0),\n",
    "        'n_jobs' : -1,\n",
    "    }\n",
    "    model = LGBMRegressor(**param)\n",
    "    model.fit(train_x, train_y, eval_set=[(valid_x, valid_y)], verbose=0)\n",
    "\n",
    "    y_valid_pred = model.predict(valid_x)\n",
    "    return MAE(valid_y, y_valid_pred)\n",
    "\n",
    "sampler = TPESampler(seed=42)\n",
    "\n",
    "kfold = KFold(n_splits=5, shuffle=True, random_state=42)\n",
    "n_iter=0\n",
    "for train_index, test_index in tqdm(kfold.split(Seodaemun_x, Seodaemun_y)):\n",
    "    n_iter += 1\n",
    "    print(n_iter)\n",
    "    train_x= Seodaemun_x.iloc[train_index]\n",
    "    valid_x= Seodaemun_x.iloc[test_index]\n",
    "    train_y= Seodaemun_y.iloc[train_index]\n",
    "    valid_y= Seodaemun_y.iloc[test_index]\n",
    "\n",
    "    study = optuna.create_study(direction='maximize', sampler=sampler)\n",
    "    study.optimize(objective, n_trials=10)\n",
    "\n",
    "    print('Best trial : score {}, \\nparams {}'.format(study.best_trial.value, study.best_trial.params))\n",
    "\n",
    "#for model Seodaemun\n",
    "#Best trial : score 239.70356623905482 \n",
    "#params {'learning_rate': 0.06103647690629941, 'n_estimators': 1, 'colsample_bytree': 0.5507357714330161, 'subsample': 0.8317508845540279, 'reg_alpha': 0.025307919231093434, 'reg_lambda': 0.8040402570874933}"
   ]
  },
  {
   "cell_type": "code",
   "execution_count": null,
   "id": "W-eFYMIJROPY",
   "metadata": {
    "colab": {
     "base_uri": "https://localhost:8080/"
    },
    "executionInfo": {
     "elapsed": 17622,
     "status": "ok",
     "timestamp": 1670310629324,
     "user": {
      "displayName": "이승윤",
      "userId": "17995305622900705411"
     },
     "user_tz": -540
    },
    "id": "W-eFYMIJROPY",
    "outputId": "e39faf4e-defd-4884-9048-f4f78d4d32f2"
   },
   "outputs": [
    {
     "name": "stdout",
     "output_type": "stream",
     "text": [
      "{'max_depth': -1, 'n_estimators': 100}\n",
      "LGBMRegressor()\n"
     ]
    }
   ],
   "source": [
    "lgbm = LGBMRegressor()\n",
    "\n",
    "param_grid = [\n",
    "    {'n_estimators': [100, 200, 300, 400, 500, 600, 700, 800, 900, 1000], \n",
    "     'max_depth': [-1, 15, 30, 45, 60]}\n",
    "]\n",
    "\n",
    "grid_search = GridSearchCV(lgbm, param_grid, cv=3, scoring='neg_mean_squared_error', \n",
    "                           return_train_score=True, n_jobs=-1)\n",
    "grid_search.fit(Mapo_x, Mapo_y)\n",
    "\n",
    "print(grid_search.best_params_)\n",
    "print(grid_search.best_estimator_)"
   ]
  },
  {
   "cell_type": "code",
   "execution_count": null,
   "id": "u1VTDkrERTbB",
   "metadata": {
    "id": "u1VTDkrERTbB"
   },
   "outputs": [],
   "source": [
    "def objective(trial):\n",
    "    param = {\n",
    "        'learning_rate': trial.suggest_float('learning_rate', 1e-3, 0.1),\n",
    "        'n_estimators': trial.suggest_int('n_estimators', 0, 200),\n",
    "        'colsample_bytree' : trial.suggest_float('colsample_bytree', 0.5, 1.0),\n",
    "        'subsample' :trial.suggest_float('subsample', 0.5, 1.0),\n",
    "        'reg_alpha' : trial.suggest_float('reg_alpha', 0.0, 5.0),\n",
    "        'reg_lambda' : trial.suggest_float('reg_lambda', 0.0, 5.0),\n",
    "        'n_jobs' : -1,\n",
    "    }\n",
    "    model = LGBMRegressor(**param)\n",
    "    model.fit(train_x, train_y, eval_set=[(valid_x, valid_y)], verbose=0)\n",
    "\n",
    "    y_valid_pred = model.predict(valid_x)\n",
    "    return MAE(valid_y, y_valid_pred)\n",
    "\n",
    "sampler = TPESampler(seed=42)\n",
    "\n",
    "kfold = KFold(n_splits=5, shuffle=True, random_state=42)\n",
    "n_iter=0\n",
    "for train_index, test_index in tqdm(kfold.split(Mapo_x, Mapo_y)):\n",
    "    n_iter += 1\n",
    "    print(n_iter)\n",
    "    train_x= Mapo_x.iloc[train_index]\n",
    "    valid_x= Mapo_x.iloc[test_index]\n",
    "    train_y= Mapo_y.iloc[train_index]\n",
    "    valid_y= Mapo_y.iloc[test_index]\n",
    "\n",
    "    study = optuna.create_study(direction='maximize', sampler=sampler)\n",
    "    study.optimize(objective, n_trials=10)\n",
    "\n",
    "    print('Best trial : score {}, \\nparams {}'.format(study.best_trial.value, study.best_trial.params))\n",
    "\n",
    "#for model Mapo\n",
    "#score 340.79072377178807, \n",
    "#params {'learning_rate': 0.0311567631481637, 'n_estimators': 19, 'colsample_bytree': 0.8421165132560784, 'subsample': 0.7200762468698007, 'reg_alpha': 0.6101911742238941, 'reg_lambda': 2.475884550556351}"
   ]
  },
  {
   "cell_type": "code",
   "execution_count": null,
   "id": "Z9pkVHEwRkTS",
   "metadata": {
    "colab": {
     "base_uri": "https://localhost:8080/"
    },
    "executionInfo": {
     "elapsed": 17479,
     "status": "ok",
     "timestamp": 1670312842342,
     "user": {
      "displayName": "이승윤",
      "userId": "17995305622900705411"
     },
     "user_tz": -540
    },
    "id": "Z9pkVHEwRkTS",
    "outputId": "fe5fa1ed-dc6d-44d6-8f26-81cc15fd0d9b"
   },
   "outputs": [
    {
     "name": "stdout",
     "output_type": "stream",
     "text": [
      "{'max_depth': -1, 'n_estimators': 100}\n",
      "LGBMRegressor()\n"
     ]
    }
   ],
   "source": [
    "lgbm = LGBMRegressor()\n",
    "\n",
    "param_grid = [\n",
    "    {'n_estimators': [100, 200, 300, 400, 500, 600, 700, 800, 900, 1000], \n",
    "     'max_depth': [-1, 15, 30, 45, 60]}\n",
    "]\n",
    "\n",
    "grid_search = GridSearchCV(lgbm, param_grid, cv=3, scoring='neg_mean_squared_error', \n",
    "                           return_train_score=True, n_jobs=-1)\n",
    "grid_search.fit(Yangcheon_x, Yangcheon_y)\n",
    "\n",
    "print(grid_search.best_params_)\n",
    "print(grid_search.best_estimator_)"
   ]
  },
  {
   "cell_type": "code",
   "execution_count": null,
   "id": "UImidYdEZzJ3",
   "metadata": {
    "id": "UImidYdEZzJ3"
   },
   "outputs": [],
   "source": [
    "def objective(trial):\n",
    "    param = {\n",
    "        'learning_rate': trial.suggest_float('learning_rate', 1e-3, 0.1),\n",
    "        'n_estimators': trial.suggest_int('n_estimators', 0, 200),\n",
    "        'colsample_bytree' : trial.suggest_float('colsample_bytree', 0.5, 1.0),\n",
    "        'subsample' :trial.suggest_float('subsample', 0.5, 1.0),\n",
    "        'reg_alpha' : trial.suggest_float('reg_alpha', 0.0, 5.0),\n",
    "        'reg_lambda' : trial.suggest_float('reg_lambda', 0.0, 5.0),\n",
    "        'n_jobs' : -1,\n",
    "    }\n",
    "    model = LGBMRegressor(**param)\n",
    "    model.fit(train_x, train_y, eval_set=[(valid_x, valid_y)], verbose=0)\n",
    "\n",
    "    y_valid_pred = model.predict(valid_x)\n",
    "    return MAE(valid_y, y_valid_pred)\n",
    "\n",
    "sampler = TPESampler(seed=42)\n",
    "\n",
    "kfold = KFold(n_splits=5, shuffle=True, random_state=42)\n",
    "n_iter=0\n",
    "for train_index, test_index in tqdm(kfold.split(Yangcheon_x, Yangcheon_y)):\n",
    "    n_iter += 1\n",
    "    print(n_iter)\n",
    "    train_x= Yangcheon_x.iloc[train_index]\n",
    "    valid_x= Yangcheon_x.iloc[test_index]\n",
    "    train_y= Yangcheon_y.iloc[train_index]\n",
    "    valid_y= Yangcheon_y.iloc[test_index]\n",
    "\n",
    "    study = optuna.create_study(direction='maximize', sampler=sampler)\n",
    "    study.optimize(objective, n_trials=10)\n",
    "\n",
    "    print('Best trial : score {}, \\nparams {}'.format(study.best_trial.value, study.best_trial.params))\n",
    "\n",
    "#for Yangcheon\n",
    "#Best trial : score 311.17150847079114, \n",
    "#params {'learning_rate': 0.0311567631481637, 'n_estimators': 19, 'colsample_bytree': 0.8421165132560784, 'subsample': 0.7200762468698007, 'reg_alpha': 0.6101911742238941, 'reg_lambda': 2.475884550556351}"
   ]
  },
  {
   "cell_type": "code",
   "execution_count": null,
   "id": "7fdyyF5dZ9ZT",
   "metadata": {
    "id": "7fdyyF5dZ9ZT"
   },
   "outputs": [],
   "source": [
    "#Gangseo\n",
    "#Guro\n",
    "#Geumcheon\n",
    "#Yeongdeungpo\n",
    "#Dongjak\n",
    "#Gwanak\n",
    "#Seocho\n",
    "#Gangnam\n",
    "#Songpa\n",
    "#Gangdong"
   ]
  },
  {
   "cell_type": "code",
   "execution_count": 15,
   "id": "07f686f4",
   "metadata": {},
   "outputs": [
    {
     "name": "stdout",
     "output_type": "stream",
     "text": [
      "{'max_depth': -1, 'n_estimators': 100}\n",
      "LGBMRegressor()\n"
     ]
    }
   ],
   "source": [
    "lgbm = LGBMRegressor()\n",
    "\n",
    "param_grid = [\n",
    "    {'n_estimators': [100, 200, 300, 400, 500, 600, 700, 800, 900, 1000], \n",
    "     'max_depth': [-1, 15, 30, 45, 60]}\n",
    "]\n",
    "\n",
    "grid_search = GridSearchCV(lgbm, param_grid, cv=3, scoring='neg_mean_squared_error', \n",
    "                           return_train_score=True, n_jobs=-1)\n",
    "grid_search.fit(Gangseo_x, Gangseo_y)\n",
    "\n",
    "print(grid_search.best_params_)\n",
    "print(grid_search.best_estimator_)"
   ]
  },
  {
   "cell_type": "code",
   "execution_count": 17,
   "id": "1281833f",
   "metadata": {},
   "outputs": [
    {
     "name": "stderr",
     "output_type": "stream",
     "text": [
      "0it [00:00, ?it/s]\u001b[32m[I 2022-12-07 05:42:57,541]\u001b[0m A new study created in memory with name: no-name-1a0fd179-88bf-4c7d-b0e9-7b47ec5e6919\u001b[0m\n",
      "\u001b[32m[I 2022-12-07 05:42:57,709]\u001b[0m Trial 0 finished with value: 175.61721261746854 and parameters: {'learning_rate': 0.03807947176588889, 'n_estimators': 191, 'colsample_bytree': 0.8659969709057025, 'subsample': 0.7993292420985183, 'reg_alpha': 0.7800932022121826, 'reg_lambda': 0.7799726016810132}. Best is trial 0 with value: 175.61721261746854.\u001b[0m\n"
     ]
    },
    {
     "name": "stdout",
     "output_type": "stream",
     "text": [
      "1\n"
     ]
    },
    {
     "name": "stderr",
     "output_type": "stream",
     "text": [
      "\u001b[32m[I 2022-12-07 05:42:57,834]\u001b[0m Trial 1 finished with value: 200.24435995766646 and parameters: {'learning_rate': 0.006750277604651747, 'n_estimators': 174, 'colsample_bytree': 0.8005575058716043, 'subsample': 0.8540362888980227, 'reg_alpha': 0.10292247147901223, 'reg_lambda': 4.8495492608099715}. Best is trial 1 with value: 200.24435995766646.\u001b[0m\n",
      "\u001b[32m[I 2022-12-07 05:42:57,872]\u001b[0m Trial 2 finished with value: 180.71752234168179 and parameters: {'learning_rate': 0.08341182143924175, 'n_estimators': 42, 'colsample_bytree': 0.5909124836035503, 'subsample': 0.5917022549267169, 'reg_alpha': 1.5212112147976886, 'reg_lambda': 2.6237821581611893}. Best is trial 1 with value: 200.24435995766646.\u001b[0m\n",
      "\u001b[32m[I 2022-12-07 05:42:57,924]\u001b[0m Trial 3 finished with value: 179.4375190614184 and parameters: {'learning_rate': 0.04376255684556946, 'n_estimators': 58, 'colsample_bytree': 0.8059264473611898, 'subsample': 0.569746930326021, 'reg_alpha': 1.4607232426760908, 'reg_lambda': 1.8318092164684585}. Best is trial 1 with value: 200.24435995766646.\u001b[0m\n",
      "\u001b[32m[I 2022-12-07 05:42:58,050]\u001b[0m Trial 4 finished with value: 174.24544302912548 and parameters: {'learning_rate': 0.04615092843748656, 'n_estimators': 157, 'colsample_bytree': 0.5998368910791798, 'subsample': 0.7571172192068059, 'reg_alpha': 2.9620728443102124, 'reg_lambda': 0.23225206359998862}. Best is trial 1 with value: 200.24435995766646.\u001b[0m\n",
      "\u001b[32m[I 2022-12-07 05:42:58,080]\u001b[0m Trial 5 finished with value: 186.09200599519323 and parameters: {'learning_rate': 0.0611469403382424, 'n_estimators': 34, 'colsample_bytree': 0.5325257964926398, 'subsample': 0.9744427686266666, 'reg_alpha': 4.828160165372797, 'reg_lambda': 4.041986740582305}. Best is trial 1 with value: 200.24435995766646.\u001b[0m\n",
      "\u001b[32m[I 2022-12-07 05:42:58,100]\u001b[0m Trial 6 finished with value: 223.26410978169906 and parameters: {'learning_rate': 0.0311567631481637, 'n_estimators': 19, 'colsample_bytree': 0.8421165132560784, 'subsample': 0.7200762468698007, 'reg_alpha': 0.6101911742238941, 'reg_lambda': 2.475884550556351}. Best is trial 6 with value: 223.26410978169906.\u001b[0m\n",
      "\u001b[32m[I 2022-12-07 05:42:58,231]\u001b[0m Trial 7 finished with value: 212.430339362079 and parameters: {'learning_rate': 0.004404463590406622, 'n_estimators': 182, 'colsample_bytree': 0.6293899908000085, 'subsample': 0.831261142176991, 'reg_alpha': 1.5585553804470549, 'reg_lambda': 2.600340105889054}. Best is trial 6 with value: 223.26410978169906.\u001b[0m\n",
      "\u001b[32m[I 2022-12-07 05:42:58,265]\u001b[0m Trial 8 finished with value: 189.17455871018885 and parameters: {'learning_rate': 0.05512431765498469, 'n_estimators': 37, 'colsample_bytree': 0.9847923138822793, 'subsample': 0.8875664116805573, 'reg_alpha': 4.697494707820946, 'reg_lambda': 4.474136752138244}. Best is trial 6 with value: 223.26410978169906.\u001b[0m\n",
      "\u001b[32m[I 2022-12-07 05:42:58,407]\u001b[0m Trial 9 finished with value: 173.0487065607238 and parameters: {'learning_rate': 0.06019209790229743, 'n_estimators': 185, 'colsample_bytree': 0.5442462510259598, 'subsample': 0.5979914312095727, 'reg_alpha': 0.22613644455269033, 'reg_lambda': 1.6266516538163218}. Best is trial 6 with value: 223.26410978169906.\u001b[0m\n",
      "1it [00:00,  1.15it/s]\u001b[32m[I 2022-12-07 05:42:58,409]\u001b[0m A new study created in memory with name: no-name-ee157d9c-7bf9-4650-aaa2-25ad794aba35\u001b[0m\n",
      "\u001b[32m[I 2022-12-07 05:42:58,458]\u001b[0m Trial 0 finished with value: 205.8620544662391 and parameters: {'learning_rate': 0.03947905167925872, 'n_estimators': 54, 'colsample_bytree': 0.9143687545759647, 'subsample': 0.6783766633467947, 'reg_alpha': 1.4046725484369038, 'reg_lambda': 2.7134804157912424}. Best is trial 0 with value: 205.8620544662391.\u001b[0m\n",
      "\u001b[32m[I 2022-12-07 05:42:58,590]\u001b[0m Trial 1 finished with value: 203.2423202134529 and parameters: {'learning_rate': 0.014951498272501501, 'n_estimators': 161, 'colsample_bytree': 0.5372753218398854, 'subsample': 0.9934434683002586, 'reg_alpha': 3.861223846483287, 'reg_lambda': 0.993578407670862}. Best is trial 0 with value: 205.8620544662391.\u001b[0m\n"
     ]
    },
    {
     "name": "stdout",
     "output_type": "stream",
     "text": [
      "Best trial : score 223.26410978169906, \n",
      "params {'learning_rate': 0.0311567631481637, 'n_estimators': 19, 'colsample_bytree': 0.8421165132560784, 'subsample': 0.7200762468698007, 'reg_alpha': 0.6101911742238941, 'reg_lambda': 2.475884550556351}\n",
      "2\n"
     ]
    },
    {
     "name": "stderr",
     "output_type": "stream",
     "text": [
      "\u001b[32m[I 2022-12-07 05:42:58,729]\u001b[0m Trial 2 finished with value: 308.6143564034392 and parameters: {'learning_rate': 0.0015466895952366377, 'n_estimators': 163, 'colsample_bytree': 0.8534286719238086, 'subsample': 0.8645035840204937, 'reg_alpha': 3.8563517334297286, 'reg_lambda': 0.3702232586704518}. Best is trial 2 with value: 308.6143564034392.\u001b[0m\n",
      "\u001b[32m[I 2022-12-07 05:42:58,754]\u001b[0m Trial 3 finished with value: 251.91471247598764 and parameters: {'learning_rate': 0.03648810712588299, 'n_estimators': 23, 'colsample_bytree': 0.9315517129377968, 'subsample': 0.811649063413779, 'reg_alpha': 1.654490124263246, 'reg_lambda': 0.3177917514301182}. Best is trial 2 with value: 308.6143564034392.\u001b[0m\n",
      "\u001b[32m[I 2022-12-07 05:42:58,812]\u001b[0m Trial 4 finished with value: 206.13809960777 and parameters: {'learning_rate': 0.03178724984985056, 'n_estimators': 65, 'colsample_bytree': 0.864803089169032, 'subsample': 0.8187787356776066, 'reg_alpha': 4.436063712881633, 'reg_lambda': 2.3610746258097466}. Best is trial 2 with value: 308.6143564034392.\u001b[0m\n",
      "\u001b[32m[I 2022-12-07 05:42:58,931]\u001b[0m Trial 5 finished with value: 212.10976025382533 and parameters: {'learning_rate': 0.012839830347891868, 'n_estimators': 143, 'colsample_bytree': 0.8803925243084487, 'subsample': 0.7806385987847482, 'reg_alpha': 3.854835899772805, 'reg_lambda': 2.4689779818219537}. Best is trial 2 with value: 308.6143564034392.\u001b[0m\n",
      "\u001b[32m[I 2022-12-07 05:42:58,999]\u001b[0m Trial 6 finished with value: 187.9092816552339 and parameters: {'learning_rate': 0.052750550108817414, 'n_estimators': 85, 'colsample_bytree': 0.5127095633720475, 'subsample': 0.5539457134966522, 'reg_alpha': 0.15714592843367126, 'reg_lambda': 3.182052056318902}. Best is trial 2 with value: 308.6143564034392.\u001b[0m\n",
      "\u001b[32m[I 2022-12-07 05:42:59,087]\u001b[0m Trial 7 finished with value: 191.06211593748125 and parameters: {'learning_rate': 0.03212124212655634, 'n_estimators': 102, 'colsample_bytree': 0.9537832369630466, 'subsample': 0.6246461145744375, 'reg_alpha': 2.0519146151781484, 'reg_lambda': 3.7777556927152434}. Best is trial 2 with value: 308.6143564034392.\u001b[0m\n",
      "\u001b[32m[I 2022-12-07 05:42:59,104]\u001b[0m Trial 8 finished with value: 298.73395681893 and parameters: {'learning_rate': 0.023651018383670626, 'n_estimators': 15, 'colsample_bytree': 0.6448757264568841, 'subsample': 0.5806106436270022, 'reg_alpha': 4.648488261712865, 'reg_lambda': 4.040601897822085}. Best is trial 2 with value: 308.6143564034392.\u001b[0m\n",
      "\u001b[32m[I 2022-12-07 05:42:59,250]\u001b[0m Trial 9 finished with value: 189.95580240069245 and parameters: {'learning_rate': 0.06370697189453192, 'n_estimators': 175, 'colsample_bytree': 0.9018360384495572, 'subsample': 0.5932850294430179, 'reg_alpha': 4.462794992449889, 'reg_lambda': 2.6967112095782535}. Best is trial 2 with value: 308.6143564034392.\u001b[0m\n",
      "2it [00:01,  1.17it/s]\u001b[32m[I 2022-12-07 05:42:59,252]\u001b[0m A new study created in memory with name: no-name-aedb3042-2d84-4d6e-9ad7-a31b61171b8a\u001b[0m\n",
      "\u001b[32m[I 2022-12-07 05:42:59,417]\u001b[0m Trial 0 finished with value: 191.99690361256643 and parameters: {'learning_rate': 0.0809365753612422, 'n_estimators': 180, 'colsample_bytree': 0.6590017374859319, 'subsample': 0.5550259622638384, 'reg_alpha': 1.1396758127097084, 'reg_lambda': 2.1355389431312815}. Best is trial 0 with value: 191.99690361256643.\u001b[0m\n"
     ]
    },
    {
     "name": "stdout",
     "output_type": "stream",
     "text": [
      "Best trial : score 308.6143564034392, \n",
      "params {'learning_rate': 0.0015466895952366377, 'n_estimators': 163, 'colsample_bytree': 0.8534286719238086, 'subsample': 0.8645035840204937, 'reg_alpha': 3.8563517334297286, 'reg_lambda': 0.3702232586704518}\n",
      "3\n"
     ]
    },
    {
     "name": "stderr",
     "output_type": "stream",
     "text": [
      "\u001b[32m[I 2022-12-07 05:42:59,558]\u001b[0m Trial 1 finished with value: 190.43334816373513 and parameters: {'learning_rate': 0.08198346182632682, 'n_estimators': 173, 'colsample_bytree': 0.5034760652655954, 'subsample': 0.7553736512887829, 'reg_alpha': 2.087055015743895, 'reg_lambda': 1.1105390523536514}. Best is trial 0 with value: 191.99690361256643.\u001b[0m\n",
      "\u001b[32m[I 2022-12-07 05:42:59,614]\u001b[0m Trial 2 finished with value: 242.75852086591274 and parameters: {'learning_rate': 0.012866671366034598, 'n_estimators': 67, 'colsample_bytree': 0.9714548519562596, 'subsample': 0.6616014660103776, 'reg_alpha': 2.5939531087168306, 'reg_lambda': 3.515094794475889}. Best is trial 2 with value: 242.75852086591274.\u001b[0m\n",
      "\u001b[32m[I 2022-12-07 05:42:59,772]\u001b[0m Trial 3 finished with value: 182.49937622703956 and parameters: {'learning_rate': 0.03699933063555011, 'n_estimators': 195, 'colsample_bytree': 0.9812236474710556, 'subsample': 0.6258911479126821, 'reg_alpha': 2.4862425294619275, 'reg_lambda': 1.5043915490838482}. Best is trial 2 with value: 242.75852086591274.\u001b[0m\n",
      "\u001b[32m[I 2022-12-07 05:42:59,784]\u001b[0m Trial 4 finished with value: 291.29881092746905 and parameters: {'learning_rate': 0.029199208943369297, 'n_estimators': 7, 'colsample_bytree': 0.8047821669899484, 'subsample': 0.7513395116144308, 'reg_alpha': 0.25739375624994676, 'reg_lambda': 1.3932323211830573}. Best is trial 4 with value: 291.29881092746905.\u001b[0m\n",
      "\u001b[32m[I 2022-12-07 05:42:59,828]\u001b[0m Trial 5 finished with value: 184.43093131150326 and parameters: {'learning_rate': 0.09091832271069872, 'n_estimators': 48, 'colsample_bytree': 0.5724474360456115, 'subsample': 0.7447263801387816, 'reg_alpha': 4.928252270553004, 'reg_lambda': 1.2102763575575022}. Best is trial 4 with value: 291.29881092746905.\u001b[0m\n",
      "\u001b[32m[I 2022-12-07 05:42:59,951]\u001b[0m Trial 6 finished with value: 187.05687968696077 and parameters: {'learning_rate': 0.06754141919318198, 'n_estimators': 153, 'colsample_bytree': 0.6188187719961998, 'subsample': 0.8641081743059298, 'reg_alpha': 1.838915663596266, 'reg_lambda': 3.1615291529678973}. Best is trial 4 with value: 291.29881092746905.\u001b[0m\n",
      "\u001b[32m[I 2022-12-07 05:43:00,040]\u001b[0m Trial 7 finished with value: 185.00968435861637 and parameters: {'learning_rate': 0.06371944136532857, 'n_estimators': 107, 'colsample_bytree': 0.5451448850272042, 'subsample': 0.917651247794619, 'reg_alpha': 1.6039003248586792, 'reg_lambda': 0.9325925519992712}. Best is trial 4 with value: 291.29881092746905.\u001b[0m\n",
      "\u001b[32m[I 2022-12-07 05:43:00,135]\u001b[0m Trial 8 finished with value: 255.34727728090851 and parameters: {'learning_rate': 0.005036739013921628, 'n_estimators': 118, 'colsample_bytree': 0.8387821809211412, 'subsample': 0.508293914463928, 'reg_alpha': 2.560465291496405, 'reg_lambda': 1.1324788759896898}. Best is trial 4 with value: 291.29881092746905.\u001b[0m\n",
      "\u001b[32m[I 2022-12-07 05:43:00,171]\u001b[0m Trial 9 finished with value: 190.7364445928033 and parameters: {'learning_rate': 0.06487210625053554, 'n_estimators': 35, 'colsample_bytree': 0.845468869051233, 'subsample': 0.6933676731502687, 'reg_alpha': 4.6836499436836725, 'reg_lambda': 0.6876047207299663}. Best is trial 4 with value: 291.29881092746905.\u001b[0m\n",
      "3it [00:02,  1.13it/s]\u001b[32m[I 2022-12-07 05:43:00,173]\u001b[0m A new study created in memory with name: no-name-fde56cdc-e10b-4a40-a9ba-4fa3ce0ad611\u001b[0m\n",
      "\u001b[32m[I 2022-12-07 05:43:00,196]\u001b[0m Trial 0 finished with value: 254.1804989695415 and parameters: {'learning_rate': 0.034765568753975594, 'n_estimators': 22, 'colsample_bytree': 0.9623468091392814, 'subsample': 0.9386696766904905, 'reg_alpha': 1.289708138575778, 'reg_lambda': 3.299920230170895}. Best is trial 0 with value: 254.1804989695415.\u001b[0m\n",
      "\u001b[32m[I 2022-12-07 05:43:00,286]\u001b[0m Trial 1 finished with value: 211.7112523707464 and parameters: {'learning_rate': 0.08190499781992037, 'n_estimators': 111, 'colsample_bytree': 0.7648252891780032, 'subsample': 0.6209261454502258, 'reg_alpha': 0.46551383902949606, 'reg_lambda': 4.486078789766633}. Best is trial 0 with value: 254.1804989695415.\u001b[0m\n"
     ]
    },
    {
     "name": "stdout",
     "output_type": "stream",
     "text": [
      "Best trial : score 291.29881092746905, \n",
      "params {'learning_rate': 0.029199208943369297, 'n_estimators': 7, 'colsample_bytree': 0.8047821669899484, 'subsample': 0.7513395116144308, 'reg_alpha': 0.25739375624994676, 'reg_lambda': 1.3932323211830573}\n",
      "4\n"
     ]
    },
    {
     "name": "stderr",
     "output_type": "stream",
     "text": [
      "\u001b[32m[I 2022-12-07 05:43:00,388]\u001b[0m Trial 2 finished with value: 210.86776197635305 and parameters: {'learning_rate': 0.09014138765916972, 'n_estimators': 127, 'colsample_bytree': 0.6695148955243504, 'subsample': 0.6746047873063304, 'reg_alpha': 3.629778394351197, 'reg_lambda': 4.485551299762886}. Best is trial 0 with value: 254.1804989695415.\u001b[0m\n",
      "\u001b[32m[I 2022-12-07 05:43:00,512]\u001b[0m Trial 3 finished with value: 212.2851881698021 and parameters: {'learning_rate': 0.08882155600224662, 'n_estimators': 156, 'colsample_bytree': 0.8210158230771438, 'subsample': 0.5420699824975244, 'reg_alpha': 0.8081435704730688, 'reg_lambda': 4.492770942635397}. Best is trial 0 with value: 254.1804989695415.\u001b[0m\n",
      "\u001b[32m[I 2022-12-07 05:43:00,519]\u001b[0m Trial 4 finished with value: 310.1047085629236 and parameters: {'learning_rate': 0.06103647690629941, 'n_estimators': 1, 'colsample_bytree': 0.5507357714330161, 'subsample': 0.8317508845540279, 'reg_alpha': 0.025307919231093434, 'reg_lambda': 0.8040402570874933}. Best is trial 4 with value: 310.1047085629236.\u001b[0m\n",
      "\u001b[32m[I 2022-12-07 05:43:00,632]\u001b[0m Trial 5 finished with value: 210.51535337239937 and parameters: {'learning_rate': 0.05532464514729203, 'n_estimators': 139, 'colsample_bytree': 0.8259806297513003, 'subsample': 0.61213465473028, 'reg_alpha': 3.560896106737679, 'reg_lambda': 1.1862454374840004}. Best is trial 4 with value: 310.1047085629236.\u001b[0m\n",
      "\u001b[32m[I 2022-12-07 05:43:00,752]\u001b[0m Trial 6 finished with value: 211.7742351212287 and parameters: {'learning_rate': 0.03321457011776751, 'n_estimators': 150, 'colsample_bytree': 0.8248164495236073, 'subsample': 0.924611705247089, 'reg_alpha': 3.2880644615017167, 'reg_lambda': 2.841543016677358}. Best is trial 4 with value: 310.1047085629236.\u001b[0m\n",
      "\u001b[32m[I 2022-12-07 05:43:00,814]\u001b[0m Trial 7 finished with value: 255.92980104584905 and parameters: {'learning_rate': 0.010273802014981157, 'n_estimators': 73, 'colsample_bytree': 0.6326011838408627, 'subsample': 0.6219948216895418, 'reg_alpha': 4.865052773762228, 'reg_lambda': 1.965488623333802}. Best is trial 4 with value: 310.1047085629236.\u001b[0m\n",
      "\u001b[32m[I 2022-12-07 05:43:00,918]\u001b[0m Trial 8 finished with value: 212.7731154324845 and parameters: {'learning_rate': 0.08931260896253422, 'n_estimators': 126, 'colsample_bytree': 0.8974056517708242, 'subsample': 0.751318546552596, 'reg_alpha': 2.8845194231317954, 'reg_lambda': 2.4625884690943196}. Best is trial 4 with value: 310.1047085629236.\u001b[0m\n",
      "\u001b[32m[I 2022-12-07 05:43:01,030]\u001b[0m Trial 9 finished with value: 215.9651967990083 and parameters: {'learning_rate': 0.020329055792006407, 'n_estimators': 145, 'colsample_bytree': 0.6403861812204279, 'subsample': 0.5121579832157269, 'reg_alpha': 3.227361479535839, 'reg_lambda': 0.8855533970352447}. Best is trial 4 with value: 310.1047085629236.\u001b[0m\n",
      "4it [00:03,  1.14it/s]\u001b[32m[I 2022-12-07 05:43:01,032]\u001b[0m A new study created in memory with name: no-name-37eb04a1-ec7f-4b35-a739-9670cded8829\u001b[0m\n",
      "\u001b[32m[I 2022-12-07 05:43:01,187]\u001b[0m Trial 0 finished with value: 223.481353387388 and parameters: {'learning_rate': 0.09410539985093852, 'n_estimators': 191, 'colsample_bytree': 0.9574321951102243, 'subsample': 0.6850793501277221, 'reg_alpha': 0.07728308264433714, 'reg_lambda': 4.641592812938627}. Best is trial 0 with value: 223.481353387388.\u001b[0m\n"
     ]
    },
    {
     "name": "stdout",
     "output_type": "stream",
     "text": [
      "Best trial : score 310.1047085629236, \n",
      "params {'learning_rate': 0.06103647690629941, 'n_estimators': 1, 'colsample_bytree': 0.5507357714330161, 'subsample': 0.8317508845540279, 'reg_alpha': 0.025307919231093434, 'reg_lambda': 0.8040402570874933}\n",
      "5\n"
     ]
    },
    {
     "name": "stderr",
     "output_type": "stream",
     "text": [
      "\u001b[32m[I 2022-12-07 05:43:01,347]\u001b[0m Trial 1 finished with value: 216.8170739053163 and parameters: {'learning_rate': 0.04339023068341412, 'n_estimators': 194, 'colsample_bytree': 0.9818099885446264, 'subsample': 0.92650472773368, 'reg_alpha': 1.4722444603479286, 'reg_lambda': 1.9254886430096263}. Best is trial 0 with value: 223.481353387388.\u001b[0m\n",
      "\u001b[32m[I 2022-12-07 05:43:01,399]\u001b[0m Trial 2 finished with value: 211.69000314090255 and parameters: {'learning_rate': 0.08526253048016884, 'n_estimators': 63, 'colsample_bytree': 0.5847463733430462, 'subsample': 0.7784006312291751, 'reg_alpha': 4.680773870803905, 'reg_lambda': 3.480148983374865}. Best is trial 0 with value: 223.481353387388.\u001b[0m\n",
      "\u001b[32m[I 2022-12-07 05:43:01,419]\u001b[0m Trial 3 finished with value: 243.08603867432993 and parameters: {'learning_rate': 0.05743605583884714, 'n_estimators': 19, 'colsample_bytree': 0.8075036133495849, 'subsample': 0.9950269250521316, 'reg_alpha': 0.7004200761826201, 'reg_lambda': 2.591648261818684}. Best is trial 3 with value: 243.08603867432993.\u001b[0m\n",
      "\u001b[32m[I 2022-12-07 05:43:01,544]\u001b[0m Trial 4 finished with value: 216.65989613043635 and parameters: {'learning_rate': 0.0878599341208676, 'n_estimators': 148, 'colsample_bytree': 0.848507870497634, 'subsample': 0.8512420419935547, 'reg_alpha': 1.7974557560987758, 'reg_lambda': 1.4679592213224668}. Best is trial 3 with value: 243.08603867432993.\u001b[0m\n",
      "\u001b[32m[I 2022-12-07 05:43:01,678]\u001b[0m Trial 5 finished with value: 215.1634013000214 and parameters: {'learning_rate': 0.08112675439237285, 'n_estimators': 162, 'colsample_bytree': 0.9335361592900518, 'subsample': 0.9566202762782356, 'reg_alpha': 2.556711994304689, 'reg_lambda': 2.507581473435998}. Best is trial 3 with value: 243.08603867432993.\u001b[0m\n",
      "\u001b[32m[I 2022-12-07 05:43:01,786]\u001b[0m Trial 6 finished with value: 217.1157816406673 and parameters: {'learning_rate': 0.08003122271771075, 'n_estimators': 130, 'colsample_bytree': 0.8509834386288517, 'subsample': 0.8978963347180505, 'reg_alpha': 4.450026709087831, 'reg_lambda': 1.689975784257679}. Best is trial 3 with value: 243.08603867432993.\u001b[0m\n",
      "\u001b[32m[I 2022-12-07 05:43:01,807]\u001b[0m Trial 7 finished with value: 260.3424032004251 and parameters: {'learning_rate': 0.03818271231135446, 'n_estimators': 18, 'colsample_bytree': 0.789140070498087, 'subsample': 0.517971136898371, 'reg_alpha': 2.3279900906623006, 'reg_lambda': 2.713223173537883}. Best is trial 7 with value: 260.3424032004251.\u001b[0m\n",
      "\u001b[32m[I 2022-12-07 05:43:01,900]\u001b[0m Trial 8 finished with value: 215.3995614244956 and parameters: {'learning_rate': 0.029367583960700158, 'n_estimators': 118, 'colsample_bytree': 0.5152501249695247, 'subsample': 0.5186740943746072, 'reg_alpha': 4.113002803298292, 'reg_lambda': 1.8009532070563146}. Best is trial 7 with value: 260.3424032004251.\u001b[0m\n",
      "\u001b[32m[I 2022-12-07 05:43:01,988]\u001b[0m Trial 9 finished with value: 233.21851418734613 and parameters: {'learning_rate': 0.013578990752536595, 'n_estimators': 104, 'colsample_bytree': 0.8849967765493054, 'subsample': 0.6079105137484215, 'reg_alpha': 3.114452379095001, 'reg_lambda': 0.42673732496884}. Best is trial 7 with value: 260.3424032004251.\u001b[0m\n",
      "5it [00:04,  1.12it/s]"
     ]
    },
    {
     "name": "stdout",
     "output_type": "stream",
     "text": [
      "Best trial : score 260.3424032004251, \n",
      "params {'learning_rate': 0.03818271231135446, 'n_estimators': 18, 'colsample_bytree': 0.789140070498087, 'subsample': 0.517971136898371, 'reg_alpha': 2.3279900906623006, 'reg_lambda': 2.713223173537883}\n"
     ]
    },
    {
     "name": "stderr",
     "output_type": "stream",
     "text": [
      "\n"
     ]
    }
   ],
   "source": [
    "def objective(trial):\n",
    "    param = {\n",
    "        'learning_rate': trial.suggest_float('learning_rate', 1e-3, 0.1),\n",
    "        'n_estimators': trial.suggest_int('n_estimators', 0, 200),\n",
    "        'colsample_bytree' : trial.suggest_float('colsample_bytree', 0.5, 1.0),\n",
    "        'subsample' :trial.suggest_float('subsample', 0.5, 1.0),\n",
    "        'reg_alpha' : trial.suggest_float('reg_alpha', 0.0, 5.0),\n",
    "        'reg_lambda' : trial.suggest_float('reg_lambda', 0.0, 5.0),\n",
    "        'n_jobs' : -1,\n",
    "    }\n",
    "    model = LGBMRegressor(**param)\n",
    "    model.fit(train_x, train_y, eval_set=[(valid_x, valid_y)], verbose=0)\n",
    "\n",
    "    y_valid_pred = model.predict(valid_x)\n",
    "    return MAE(valid_y, y_valid_pred)\n",
    "\n",
    "sampler = TPESampler(seed=42)\n",
    "\n",
    "kfold = KFold(n_splits=5, shuffle=True, random_state=42)\n",
    "n_iter=0\n",
    "for train_index, test_index in tqdm(kfold.split(Gangseo_x, Gangseo_y)):\n",
    "    n_iter += 1\n",
    "    print(n_iter)\n",
    "    train_x= Gangseo_x.iloc[train_index]\n",
    "    valid_x= Gangseo_x.iloc[test_index]\n",
    "    train_y= Gangseo_y.iloc[train_index]\n",
    "    valid_y= Gangseo_y.iloc[test_index]\n",
    "\n",
    "    study = optuna.create_study(direction='maximize', sampler=sampler)\n",
    "    study.optimize(objective, n_trials=10)\n",
    "\n",
    "    print('Best trial : score {}, \\nparams {}'.format(study.best_trial.value, study.best_trial.params))\n",
    "#for Gangseo\n",
    "#Best trial : score 223.26410978169906, \n",
    "#params {'learning_rate': 0.0311567631481637, 'n_estimators': 19, 'colsample_bytree': 0.8421165132560784, 'subsample': 0.7200762468698007, 'reg_alpha': 0.6101911742238941, 'reg_lambda': 2.475884550556351}"
   ]
  },
  {
   "cell_type": "code",
   "execution_count": 18,
   "id": "e6e00b31",
   "metadata": {},
   "outputs": [
    {
     "name": "stdout",
     "output_type": "stream",
     "text": [
      "{'max_depth': -1, 'n_estimators': 100}\n",
      "LGBMRegressor()\n"
     ]
    }
   ],
   "source": [
    "lgbm = LGBMRegressor()\n",
    "\n",
    "param_grid = [\n",
    "    {'n_estimators': [100, 200, 300, 400, 500, 600, 700, 800, 900, 1000], \n",
    "     'max_depth': [-1, 15, 30, 45, 60]}\n",
    "]\n",
    "\n",
    "grid_search = GridSearchCV(lgbm, param_grid, cv=3, scoring='neg_mean_squared_error', \n",
    "                           return_train_score=True, n_jobs=-1)\n",
    "grid_search.fit(Guro_x, Guro_y)\n",
    "\n",
    "print(grid_search.best_params_)\n",
    "print(grid_search.best_estimator_)"
   ]
  },
  {
   "cell_type": "code",
   "execution_count": 19,
   "id": "bdc1b282",
   "metadata": {},
   "outputs": [
    {
     "name": "stderr",
     "output_type": "stream",
     "text": [
      "0it [00:00, ?it/s]\u001b[32m[I 2022-12-07 05:45:21,379]\u001b[0m A new study created in memory with name: no-name-1ef71479-0669-4251-90e2-6235f371490e\u001b[0m\n",
      "\u001b[32m[I 2022-12-07 05:45:21,538]\u001b[0m Trial 0 finished with value: 156.45614007379226 and parameters: {'learning_rate': 0.03807947176588889, 'n_estimators': 191, 'colsample_bytree': 0.8659969709057025, 'subsample': 0.7993292420985183, 'reg_alpha': 0.7800932022121826, 'reg_lambda': 0.7799726016810132}. Best is trial 0 with value: 156.45614007379226.\u001b[0m\n"
     ]
    },
    {
     "name": "stdout",
     "output_type": "stream",
     "text": [
      "1\n"
     ]
    },
    {
     "name": "stderr",
     "output_type": "stream",
     "text": [
      "\u001b[32m[I 2022-12-07 05:45:21,662]\u001b[0m Trial 1 finished with value: 194.55522080705944 and parameters: {'learning_rate': 0.006750277604651747, 'n_estimators': 174, 'colsample_bytree': 0.8005575058716043, 'subsample': 0.8540362888980227, 'reg_alpha': 0.10292247147901223, 'reg_lambda': 4.8495492608099715}. Best is trial 1 with value: 194.55522080705944.\u001b[0m\n",
      "\u001b[32m[I 2022-12-07 05:45:21,699]\u001b[0m Trial 2 finished with value: 166.48968053847983 and parameters: {'learning_rate': 0.08341182143924175, 'n_estimators': 42, 'colsample_bytree': 0.5909124836035503, 'subsample': 0.5917022549267169, 'reg_alpha': 1.5212112147976886, 'reg_lambda': 2.6237821581611893}. Best is trial 1 with value: 194.55522080705944.\u001b[0m\n",
      "\u001b[32m[I 2022-12-07 05:45:21,747]\u001b[0m Trial 3 finished with value: 169.24748524959412 and parameters: {'learning_rate': 0.04376255684556946, 'n_estimators': 58, 'colsample_bytree': 0.8059264473611898, 'subsample': 0.569746930326021, 'reg_alpha': 1.4607232426760908, 'reg_lambda': 1.8318092164684585}. Best is trial 1 with value: 194.55522080705944.\u001b[0m\n",
      "\u001b[32m[I 2022-12-07 05:45:21,871]\u001b[0m Trial 4 finished with value: 161.24566600869233 and parameters: {'learning_rate': 0.04615092843748656, 'n_estimators': 157, 'colsample_bytree': 0.5998368910791798, 'subsample': 0.7571172192068059, 'reg_alpha': 2.9620728443102124, 'reg_lambda': 0.23225206359998862}. Best is trial 1 with value: 194.55522080705944.\u001b[0m\n",
      "\u001b[32m[I 2022-12-07 05:45:21,899]\u001b[0m Trial 5 finished with value: 186.40576912808348 and parameters: {'learning_rate': 0.0611469403382424, 'n_estimators': 34, 'colsample_bytree': 0.5325257964926398, 'subsample': 0.9744427686266666, 'reg_alpha': 4.828160165372797, 'reg_lambda': 4.041986740582305}. Best is trial 1 with value: 194.55522080705944.\u001b[0m\n",
      "\u001b[32m[I 2022-12-07 05:45:21,919]\u001b[0m Trial 6 finished with value: 212.13899571800306 and parameters: {'learning_rate': 0.0311567631481637, 'n_estimators': 19, 'colsample_bytree': 0.8421165132560784, 'subsample': 0.7200762468698007, 'reg_alpha': 0.6101911742238941, 'reg_lambda': 2.475884550556351}. Best is trial 6 with value: 212.13899571800306.\u001b[0m\n",
      "\u001b[32m[I 2022-12-07 05:45:22,045]\u001b[0m Trial 7 finished with value: 205.79409298061668 and parameters: {'learning_rate': 0.004404463590406622, 'n_estimators': 182, 'colsample_bytree': 0.6293899908000085, 'subsample': 0.831261142176991, 'reg_alpha': 1.5585553804470549, 'reg_lambda': 2.600340105889054}. Best is trial 6 with value: 212.13899571800306.\u001b[0m\n",
      "\u001b[32m[I 2022-12-07 05:45:22,080]\u001b[0m Trial 8 finished with value: 171.00153572657825 and parameters: {'learning_rate': 0.05512431765498469, 'n_estimators': 37, 'colsample_bytree': 0.9847923138822793, 'subsample': 0.8875664116805573, 'reg_alpha': 4.697494707820946, 'reg_lambda': 4.474136752138244}. Best is trial 6 with value: 212.13899571800306.\u001b[0m\n",
      "\u001b[32m[I 2022-12-07 05:45:22,216]\u001b[0m Trial 9 finished with value: 170.16588928302772 and parameters: {'learning_rate': 0.06019209790229743, 'n_estimators': 185, 'colsample_bytree': 0.5442462510259598, 'subsample': 0.5979914312095727, 'reg_alpha': 0.22613644455269033, 'reg_lambda': 1.6266516538163218}. Best is trial 6 with value: 212.13899571800306.\u001b[0m\n",
      "1it [00:00,  1.19it/s]\u001b[32m[I 2022-12-07 05:45:22,219]\u001b[0m A new study created in memory with name: no-name-1deab161-39be-49b7-ab37-093a50466c2b\u001b[0m\n",
      "\u001b[32m[I 2022-12-07 05:45:22,266]\u001b[0m Trial 0 finished with value: 169.79964088290774 and parameters: {'learning_rate': 0.03947905167925872, 'n_estimators': 54, 'colsample_bytree': 0.9143687545759647, 'subsample': 0.6783766633467947, 'reg_alpha': 1.4046725484369038, 'reg_lambda': 2.7134804157912424}. Best is trial 0 with value: 169.79964088290774.\u001b[0m\n",
      "\u001b[32m[I 2022-12-07 05:45:22,385]\u001b[0m Trial 1 finished with value: 168.636650521813 and parameters: {'learning_rate': 0.014951498272501501, 'n_estimators': 161, 'colsample_bytree': 0.5372753218398854, 'subsample': 0.9934434683002586, 'reg_alpha': 3.861223846483287, 'reg_lambda': 0.993578407670862}. Best is trial 0 with value: 169.79964088290774.\u001b[0m\n"
     ]
    },
    {
     "name": "stdout",
     "output_type": "stream",
     "text": [
      "Best trial : score 212.13899571800306, \n",
      "params {'learning_rate': 0.0311567631481637, 'n_estimators': 19, 'colsample_bytree': 0.8421165132560784, 'subsample': 0.7200762468698007, 'reg_alpha': 0.6101911742238941, 'reg_lambda': 2.475884550556351}\n",
      "2\n"
     ]
    },
    {
     "name": "stderr",
     "output_type": "stream",
     "text": [
      "\u001b[32m[I 2022-12-07 05:45:22,525]\u001b[0m Trial 2 finished with value: 218.99933999372172 and parameters: {'learning_rate': 0.0015466895952366377, 'n_estimators': 163, 'colsample_bytree': 0.8534286719238086, 'subsample': 0.8645035840204937, 'reg_alpha': 3.8563517334297286, 'reg_lambda': 0.3702232586704518}. Best is trial 2 with value: 218.99933999372172.\u001b[0m\n",
      "\u001b[32m[I 2022-12-07 05:45:22,550]\u001b[0m Trial 3 finished with value: 189.81844471025528 and parameters: {'learning_rate': 0.03648810712588299, 'n_estimators': 23, 'colsample_bytree': 0.9315517129377968, 'subsample': 0.811649063413779, 'reg_alpha': 1.654490124263246, 'reg_lambda': 0.3177917514301182}. Best is trial 2 with value: 218.99933999372172.\u001b[0m\n",
      "\u001b[32m[I 2022-12-07 05:45:22,606]\u001b[0m Trial 4 finished with value: 169.50457384345307 and parameters: {'learning_rate': 0.03178724984985056, 'n_estimators': 65, 'colsample_bytree': 0.864803089169032, 'subsample': 0.8187787356776066, 'reg_alpha': 4.436063712881633, 'reg_lambda': 2.3610746258097466}. Best is trial 2 with value: 218.99933999372172.\u001b[0m\n",
      "\u001b[32m[I 2022-12-07 05:45:22,721]\u001b[0m Trial 5 finished with value: 170.41556827097887 and parameters: {'learning_rate': 0.012839830347891868, 'n_estimators': 143, 'colsample_bytree': 0.8803925243084487, 'subsample': 0.7806385987847482, 'reg_alpha': 3.854835899772805, 'reg_lambda': 2.4689779818219537}. Best is trial 2 with value: 218.99933999372172.\u001b[0m\n",
      "\u001b[32m[I 2022-12-07 05:45:22,788]\u001b[0m Trial 6 finished with value: 165.85716430672272 and parameters: {'learning_rate': 0.052750550108817414, 'n_estimators': 85, 'colsample_bytree': 0.5127095633720475, 'subsample': 0.5539457134966522, 'reg_alpha': 0.15714592843367126, 'reg_lambda': 3.182052056318902}. Best is trial 2 with value: 218.99933999372172.\u001b[0m\n",
      "\u001b[32m[I 2022-12-07 05:45:22,877]\u001b[0m Trial 7 finished with value: 166.56727721419233 and parameters: {'learning_rate': 0.03212124212655634, 'n_estimators': 102, 'colsample_bytree': 0.9537832369630466, 'subsample': 0.6246461145744375, 'reg_alpha': 2.0519146151781484, 'reg_lambda': 3.7777556927152434}. Best is trial 2 with value: 218.99933999372172.\u001b[0m\n",
      "\u001b[32m[I 2022-12-07 05:45:22,894]\u001b[0m Trial 8 finished with value: 215.72024305841612 and parameters: {'learning_rate': 0.023651018383670626, 'n_estimators': 15, 'colsample_bytree': 0.6448757264568841, 'subsample': 0.5806106436270022, 'reg_alpha': 4.648488261712865, 'reg_lambda': 4.040601897822085}. Best is trial 2 with value: 218.99933999372172.\u001b[0m\n",
      "\u001b[32m[I 2022-12-07 05:45:23,038]\u001b[0m Trial 9 finished with value: 171.63640361993947 and parameters: {'learning_rate': 0.06370697189453192, 'n_estimators': 175, 'colsample_bytree': 0.9018360384495572, 'subsample': 0.5932850294430179, 'reg_alpha': 4.462794992449889, 'reg_lambda': 2.6967112095782535}. Best is trial 2 with value: 218.99933999372172.\u001b[0m\n",
      "2it [00:01,  1.21it/s]\u001b[32m[I 2022-12-07 05:45:23,040]\u001b[0m A new study created in memory with name: no-name-8e16e9cf-9672-415a-808d-095e98bf3db1\u001b[0m\n",
      "\u001b[32m[I 2022-12-07 05:45:23,185]\u001b[0m Trial 0 finished with value: 180.92181044945664 and parameters: {'learning_rate': 0.0809365753612422, 'n_estimators': 180, 'colsample_bytree': 0.6590017374859319, 'subsample': 0.5550259622638384, 'reg_alpha': 1.1396758127097084, 'reg_lambda': 2.1355389431312815}. Best is trial 0 with value: 180.92181044945664.\u001b[0m\n"
     ]
    },
    {
     "name": "stdout",
     "output_type": "stream",
     "text": [
      "Best trial : score 218.99933999372172, \n",
      "params {'learning_rate': 0.0015466895952366377, 'n_estimators': 163, 'colsample_bytree': 0.8534286719238086, 'subsample': 0.8645035840204937, 'reg_alpha': 3.8563517334297286, 'reg_lambda': 0.3702232586704518}\n",
      "3\n"
     ]
    },
    {
     "name": "stderr",
     "output_type": "stream",
     "text": [
      "\u001b[32m[I 2022-12-07 05:45:23,319]\u001b[0m Trial 1 finished with value: 179.7825871492782 and parameters: {'learning_rate': 0.08198346182632682, 'n_estimators': 173, 'colsample_bytree': 0.5034760652655954, 'subsample': 0.7553736512887829, 'reg_alpha': 2.087055015743895, 'reg_lambda': 1.1105390523536514}. Best is trial 0 with value: 180.92181044945664.\u001b[0m\n",
      "\u001b[32m[I 2022-12-07 05:45:23,375]\u001b[0m Trial 2 finished with value: 221.86399225498891 and parameters: {'learning_rate': 0.012866671366034598, 'n_estimators': 67, 'colsample_bytree': 0.9714548519562596, 'subsample': 0.6616014660103776, 'reg_alpha': 2.5939531087168306, 'reg_lambda': 3.515094794475889}. Best is trial 2 with value: 221.86399225498891.\u001b[0m\n",
      "\u001b[32m[I 2022-12-07 05:45:23,534]\u001b[0m Trial 3 finished with value: 183.24814347486466 and parameters: {'learning_rate': 0.03699933063555011, 'n_estimators': 195, 'colsample_bytree': 0.9812236474710556, 'subsample': 0.6258911479126821, 'reg_alpha': 2.4862425294619275, 'reg_lambda': 1.5043915490838482}. Best is trial 2 with value: 221.86399225498891.\u001b[0m\n",
      "\u001b[32m[I 2022-12-07 05:45:23,546]\u001b[0m Trial 4 finished with value: 260.6065021486076 and parameters: {'learning_rate': 0.029199208943369297, 'n_estimators': 7, 'colsample_bytree': 0.8047821669899484, 'subsample': 0.7513395116144308, 'reg_alpha': 0.25739375624994676, 'reg_lambda': 1.3932323211830573}. Best is trial 4 with value: 260.6065021486076.\u001b[0m\n",
      "\u001b[32m[I 2022-12-07 05:45:23,589]\u001b[0m Trial 5 finished with value: 186.9532654883147 and parameters: {'learning_rate': 0.09091832271069872, 'n_estimators': 48, 'colsample_bytree': 0.5724474360456115, 'subsample': 0.7447263801387816, 'reg_alpha': 4.928252270553004, 'reg_lambda': 1.2102763575575022}. Best is trial 4 with value: 260.6065021486076.\u001b[0m\n",
      "\u001b[32m[I 2022-12-07 05:45:23,706]\u001b[0m Trial 6 finished with value: 183.5660475136145 and parameters: {'learning_rate': 0.06754141919318198, 'n_estimators': 153, 'colsample_bytree': 0.6188187719961998, 'subsample': 0.8641081743059298, 'reg_alpha': 1.838915663596266, 'reg_lambda': 3.1615291529678973}. Best is trial 4 with value: 260.6065021486076.\u001b[0m\n",
      "\u001b[32m[I 2022-12-07 05:45:23,790]\u001b[0m Trial 7 finished with value: 188.78856080493978 and parameters: {'learning_rate': 0.06371944136532857, 'n_estimators': 107, 'colsample_bytree': 0.5451448850272042, 'subsample': 0.917651247794619, 'reg_alpha': 1.6039003248586792, 'reg_lambda': 0.9325925519992712}. Best is trial 4 with value: 260.6065021486076.\u001b[0m\n",
      "\u001b[32m[I 2022-12-07 05:45:23,883]\u001b[0m Trial 8 finished with value: 233.5737282215436 and parameters: {'learning_rate': 0.005036739013921628, 'n_estimators': 118, 'colsample_bytree': 0.8387821809211412, 'subsample': 0.508293914463928, 'reg_alpha': 2.560465291496405, 'reg_lambda': 1.1324788759896898}. Best is trial 4 with value: 260.6065021486076.\u001b[0m\n",
      "\u001b[32m[I 2022-12-07 05:45:23,916]\u001b[0m Trial 9 finished with value: 197.18826529986796 and parameters: {'learning_rate': 0.06487210625053554, 'n_estimators': 35, 'colsample_bytree': 0.845468869051233, 'subsample': 0.6933676731502687, 'reg_alpha': 4.6836499436836725, 'reg_lambda': 0.6876047207299663}. Best is trial 4 with value: 260.6065021486076.\u001b[0m\n",
      "3it [00:02,  1.17it/s]\u001b[32m[I 2022-12-07 05:45:23,918]\u001b[0m A new study created in memory with name: no-name-6ad77493-a7c7-43bb-8a80-76b289d960b3\u001b[0m\n",
      "\u001b[32m[I 2022-12-07 05:45:23,942]\u001b[0m Trial 0 finished with value: 191.83440802387878 and parameters: {'learning_rate': 0.034765568753975594, 'n_estimators': 22, 'colsample_bytree': 0.9623468091392814, 'subsample': 0.9386696766904905, 'reg_alpha': 1.289708138575778, 'reg_lambda': 3.299920230170895}. Best is trial 0 with value: 191.83440802387878.\u001b[0m\n",
      "\u001b[32m[I 2022-12-07 05:45:24,031]\u001b[0m Trial 1 finished with value: 161.14278431246447 and parameters: {'learning_rate': 0.08190499781992037, 'n_estimators': 111, 'colsample_bytree': 0.7648252891780032, 'subsample': 0.6209261454502258, 'reg_alpha': 0.46551383902949606, 'reg_lambda': 4.486078789766633}. Best is trial 0 with value: 191.83440802387878.\u001b[0m\n"
     ]
    },
    {
     "name": "stdout",
     "output_type": "stream",
     "text": [
      "Best trial : score 260.6065021486076, \n",
      "params {'learning_rate': 0.029199208943369297, 'n_estimators': 7, 'colsample_bytree': 0.8047821669899484, 'subsample': 0.7513395116144308, 'reg_alpha': 0.25739375624994676, 'reg_lambda': 1.3932323211830573}\n",
      "4\n"
     ]
    },
    {
     "name": "stderr",
     "output_type": "stream",
     "text": [
      "\u001b[32m[I 2022-12-07 05:45:24,132]\u001b[0m Trial 2 finished with value: 160.75376944645515 and parameters: {'learning_rate': 0.09014138765916972, 'n_estimators': 127, 'colsample_bytree': 0.6695148955243504, 'subsample': 0.6746047873063304, 'reg_alpha': 3.629778394351197, 'reg_lambda': 4.485551299762886}. Best is trial 0 with value: 191.83440802387878.\u001b[0m\n",
      "\u001b[32m[I 2022-12-07 05:45:24,254]\u001b[0m Trial 3 finished with value: 157.22922828597464 and parameters: {'learning_rate': 0.08882155600224662, 'n_estimators': 156, 'colsample_bytree': 0.8210158230771438, 'subsample': 0.5420699824975244, 'reg_alpha': 0.8081435704730688, 'reg_lambda': 4.492770942635397}. Best is trial 0 with value: 191.83440802387878.\u001b[0m\n",
      "\u001b[32m[I 2022-12-07 05:45:24,261]\u001b[0m Trial 4 finished with value: 234.21355612010936 and parameters: {'learning_rate': 0.06103647690629941, 'n_estimators': 1, 'colsample_bytree': 0.5507357714330161, 'subsample': 0.8317508845540279, 'reg_alpha': 0.025307919231093434, 'reg_lambda': 0.8040402570874933}. Best is trial 4 with value: 234.21355612010936.\u001b[0m\n",
      "\u001b[32m[I 2022-12-07 05:45:24,373]\u001b[0m Trial 5 finished with value: 157.45611784104187 and parameters: {'learning_rate': 0.05532464514729203, 'n_estimators': 139, 'colsample_bytree': 0.8259806297513003, 'subsample': 0.61213465473028, 'reg_alpha': 3.560896106737679, 'reg_lambda': 1.1862454374840004}. Best is trial 4 with value: 234.21355612010936.\u001b[0m\n",
      "\u001b[32m[I 2022-12-07 05:45:24,512]\u001b[0m Trial 6 finished with value: 159.14251639321967 and parameters: {'learning_rate': 0.03321457011776751, 'n_estimators': 150, 'colsample_bytree': 0.8248164495236073, 'subsample': 0.924611705247089, 'reg_alpha': 3.2880644615017167, 'reg_lambda': 2.841543016677358}. Best is trial 4 with value: 234.21355612010936.\u001b[0m\n",
      "\u001b[32m[I 2022-12-07 05:45:24,573]\u001b[0m Trial 7 finished with value: 198.0933212288444 and parameters: {'learning_rate': 0.010273802014981157, 'n_estimators': 73, 'colsample_bytree': 0.6326011838408627, 'subsample': 0.6219948216895418, 'reg_alpha': 4.865052773762228, 'reg_lambda': 1.965488623333802}. Best is trial 4 with value: 234.21355612010936.\u001b[0m\n",
      "\u001b[32m[I 2022-12-07 05:45:24,678]\u001b[0m Trial 8 finished with value: 158.32003172085544 and parameters: {'learning_rate': 0.08931260896253422, 'n_estimators': 126, 'colsample_bytree': 0.8974056517708242, 'subsample': 0.751318546552596, 'reg_alpha': 2.8845194231317954, 'reg_lambda': 2.4625884690943196}. Best is trial 4 with value: 234.21355612010936.\u001b[0m\n",
      "\u001b[32m[I 2022-12-07 05:45:24,789]\u001b[0m Trial 9 finished with value: 167.57584401145007 and parameters: {'learning_rate': 0.020329055792006407, 'n_estimators': 145, 'colsample_bytree': 0.6403861812204279, 'subsample': 0.5121579832157269, 'reg_alpha': 3.227361479535839, 'reg_lambda': 0.8855533970352447}. Best is trial 4 with value: 234.21355612010936.\u001b[0m\n",
      "4it [00:03,  1.16it/s]\u001b[32m[I 2022-12-07 05:45:24,791]\u001b[0m A new study created in memory with name: no-name-4b267fbe-ef71-47f4-8560-fab1564c765c\u001b[0m\n",
      "\u001b[32m[I 2022-12-07 05:45:24,945]\u001b[0m Trial 0 finished with value: 136.27577843631107 and parameters: {'learning_rate': 0.09410539985093852, 'n_estimators': 191, 'colsample_bytree': 0.9574321951102243, 'subsample': 0.6850793501277221, 'reg_alpha': 0.07728308264433714, 'reg_lambda': 4.641592812938627}. Best is trial 0 with value: 136.27577843631107.\u001b[0m\n"
     ]
    },
    {
     "name": "stdout",
     "output_type": "stream",
     "text": [
      "Best trial : score 234.21355612010936, \n",
      "params {'learning_rate': 0.06103647690629941, 'n_estimators': 1, 'colsample_bytree': 0.5507357714330161, 'subsample': 0.8317508845540279, 'reg_alpha': 0.025307919231093434, 'reg_lambda': 0.8040402570874933}\n",
      "5\n"
     ]
    },
    {
     "name": "stderr",
     "output_type": "stream",
     "text": [
      "\u001b[32m[I 2022-12-07 05:45:25,104]\u001b[0m Trial 1 finished with value: 133.4115399307371 and parameters: {'learning_rate': 0.04339023068341412, 'n_estimators': 194, 'colsample_bytree': 0.9818099885446264, 'subsample': 0.92650472773368, 'reg_alpha': 1.4722444603479286, 'reg_lambda': 1.9254886430096263}. Best is trial 0 with value: 136.27577843631107.\u001b[0m\n",
      "\u001b[32m[I 2022-12-07 05:45:25,159]\u001b[0m Trial 2 finished with value: 137.47111736641824 and parameters: {'learning_rate': 0.08526253048016884, 'n_estimators': 63, 'colsample_bytree': 0.5847463733430462, 'subsample': 0.7784006312291751, 'reg_alpha': 4.680773870803905, 'reg_lambda': 3.480148983374865}. Best is trial 2 with value: 137.47111736641824.\u001b[0m\n",
      "\u001b[32m[I 2022-12-07 05:45:25,179]\u001b[0m Trial 3 finished with value: 166.38265269570513 and parameters: {'learning_rate': 0.05743605583884714, 'n_estimators': 19, 'colsample_bytree': 0.8075036133495849, 'subsample': 0.9950269250521316, 'reg_alpha': 0.7004200761826201, 'reg_lambda': 2.591648261818684}. Best is trial 3 with value: 166.38265269570513.\u001b[0m\n",
      "\u001b[32m[I 2022-12-07 05:45:25,302]\u001b[0m Trial 4 finished with value: 136.4517211311594 and parameters: {'learning_rate': 0.0878599341208676, 'n_estimators': 148, 'colsample_bytree': 0.848507870497634, 'subsample': 0.8512420419935547, 'reg_alpha': 1.7974557560987758, 'reg_lambda': 1.4679592213224668}. Best is trial 3 with value: 166.38265269570513.\u001b[0m\n",
      "\u001b[32m[I 2022-12-07 05:45:25,433]\u001b[0m Trial 5 finished with value: 133.01525719839177 and parameters: {'learning_rate': 0.08112675439237285, 'n_estimators': 162, 'colsample_bytree': 0.9335361592900518, 'subsample': 0.9566202762782356, 'reg_alpha': 2.556711994304689, 'reg_lambda': 2.507581473435998}. Best is trial 3 with value: 166.38265269570513.\u001b[0m\n",
      "\u001b[32m[I 2022-12-07 05:45:25,540]\u001b[0m Trial 6 finished with value: 134.09429935468827 and parameters: {'learning_rate': 0.08003122271771075, 'n_estimators': 130, 'colsample_bytree': 0.8509834386288517, 'subsample': 0.8978963347180505, 'reg_alpha': 4.450026709087831, 'reg_lambda': 1.689975784257679}. Best is trial 3 with value: 166.38265269570513.\u001b[0m\n",
      "\u001b[32m[I 2022-12-07 05:45:25,559]\u001b[0m Trial 7 finished with value: 186.12235007940922 and parameters: {'learning_rate': 0.03818271231135446, 'n_estimators': 18, 'colsample_bytree': 0.789140070498087, 'subsample': 0.517971136898371, 'reg_alpha': 2.3279900906623006, 'reg_lambda': 2.713223173537883}. Best is trial 7 with value: 186.12235007940922.\u001b[0m\n",
      "\u001b[32m[I 2022-12-07 05:45:25,649]\u001b[0m Trial 8 finished with value: 140.7922015419722 and parameters: {'learning_rate': 0.029367583960700158, 'n_estimators': 118, 'colsample_bytree': 0.5152501249695247, 'subsample': 0.5186740943746072, 'reg_alpha': 4.113002803298292, 'reg_lambda': 1.8009532070563146}. Best is trial 7 with value: 186.12235007940922.\u001b[0m\n",
      "\u001b[32m[I 2022-12-07 05:45:25,732]\u001b[0m Trial 9 finished with value: 153.02481501707464 and parameters: {'learning_rate': 0.013578990752536595, 'n_estimators': 104, 'colsample_bytree': 0.8849967765493054, 'subsample': 0.6079105137484215, 'reg_alpha': 3.114452379095001, 'reg_lambda': 0.42673732496884}. Best is trial 7 with value: 186.12235007940922.\u001b[0m\n",
      "5it [00:04,  1.15it/s]"
     ]
    },
    {
     "name": "stdout",
     "output_type": "stream",
     "text": [
      "Best trial : score 186.12235007940922, \n",
      "params {'learning_rate': 0.03818271231135446, 'n_estimators': 18, 'colsample_bytree': 0.789140070498087, 'subsample': 0.517971136898371, 'reg_alpha': 2.3279900906623006, 'reg_lambda': 2.713223173537883}\n"
     ]
    },
    {
     "name": "stderr",
     "output_type": "stream",
     "text": [
      "\n"
     ]
    }
   ],
   "source": [
    "def objective(trial):\n",
    "    param = {\n",
    "        'learning_rate': trial.suggest_float('learning_rate', 1e-3, 0.1),\n",
    "        'n_estimators': trial.suggest_int('n_estimators', 0, 200),\n",
    "        'colsample_bytree' : trial.suggest_float('colsample_bytree', 0.5, 1.0),\n",
    "        'subsample' :trial.suggest_float('subsample', 0.5, 1.0),\n",
    "        'reg_alpha' : trial.suggest_float('reg_alpha', 0.0, 5.0),\n",
    "        'reg_lambda' : trial.suggest_float('reg_lambda', 0.0, 5.0),\n",
    "        'n_jobs' : -1,\n",
    "    }\n",
    "    model = LGBMRegressor(**param)\n",
    "    model.fit(train_x, train_y, eval_set=[(valid_x, valid_y)], verbose=0)\n",
    "\n",
    "    y_valid_pred = model.predict(valid_x)\n",
    "    return MAE(valid_y, y_valid_pred)\n",
    "\n",
    "sampler = TPESampler(seed=42)\n",
    "\n",
    "kfold = KFold(n_splits=5, shuffle=True, random_state=42)\n",
    "n_iter=0\n",
    "for train_index, test_index in tqdm(kfold.split(Guro_x, Guro_y)):\n",
    "    n_iter += 1\n",
    "    print(n_iter)\n",
    "    train_x= Guro_x.iloc[train_index]\n",
    "    valid_x= Guro_x.iloc[test_index]\n",
    "    train_y= Guro_y.iloc[train_index]\n",
    "    valid_y= Guro_y.iloc[test_index]\n",
    "\n",
    "    study = optuna.create_study(direction='maximize', sampler=sampler)\n",
    "    study.optimize(objective, n_trials=10)\n",
    "\n",
    "    print('Best trial : score {}, \\nparams {}'.format(study.best_trial.value, study.best_trial.params))\n",
    "#for Guro\n",
    "#Best trial : score 186.12235007940922, \n",
    "#params {'learning_rate': 0.03818271231135446, 'n_estimators': 18, 'colsample_bytree': 0.789140070498087, 'subsample': 0.517971136898371, 'reg_alpha': 2.3279900906623006, 'reg_lambda': 2.713223173537883}"
   ]
  },
  {
   "cell_type": "code",
   "execution_count": 20,
   "id": "1ca380bd",
   "metadata": {},
   "outputs": [
    {
     "name": "stdout",
     "output_type": "stream",
     "text": [
      "{'max_depth': -1, 'n_estimators': 100}\n",
      "LGBMRegressor()\n"
     ]
    }
   ],
   "source": [
    "lgbm = LGBMRegressor()\n",
    "\n",
    "param_grid = [\n",
    "    {'n_estimators': [100, 200, 300, 400, 500, 600, 700, 800, 900, 1000], \n",
    "     'max_depth': [-1, 15, 30, 45, 60]}\n",
    "]\n",
    "\n",
    "grid_search = GridSearchCV(lgbm, param_grid, cv=3, scoring='neg_mean_squared_error', \n",
    "                           return_train_score=True, n_jobs=-1)\n",
    "grid_search.fit(Geumcheon_x, Geumcheon_y)\n",
    "\n",
    "print(grid_search.best_params_)\n",
    "print(grid_search.best_estimator_)"
   ]
  },
  {
   "cell_type": "code",
   "execution_count": 21,
   "id": "298a963c",
   "metadata": {},
   "outputs": [
    {
     "name": "stderr",
     "output_type": "stream",
     "text": [
      "0it [00:00, ?it/s]\u001b[32m[I 2022-12-07 05:47:23,164]\u001b[0m A new study created in memory with name: no-name-6c6cb61e-3020-4ae7-ba0c-070027cd762f\u001b[0m\n",
      "\u001b[32m[I 2022-12-07 05:47:23,245]\u001b[0m Trial 0 finished with value: 122.48428624065785 and parameters: {'learning_rate': 0.03807947176588889, 'n_estimators': 191, 'colsample_bytree': 0.8659969709057025, 'subsample': 0.7993292420985183, 'reg_alpha': 0.7800932022121826, 'reg_lambda': 0.7799726016810132}. Best is trial 0 with value: 122.48428624065785.\u001b[0m\n",
      "\u001b[32m[I 2022-12-07 05:47:23,321]\u001b[0m Trial 1 finished with value: 154.5541792229096 and parameters: {'learning_rate': 0.006750277604651747, 'n_estimators': 174, 'colsample_bytree': 0.8005575058716043, 'subsample': 0.8540362888980227, 'reg_alpha': 0.10292247147901223, 'reg_lambda': 4.8495492608099715}. Best is trial 1 with value: 154.5541792229096.\u001b[0m\n"
     ]
    },
    {
     "name": "stdout",
     "output_type": "stream",
     "text": [
      "1\n"
     ]
    },
    {
     "name": "stderr",
     "output_type": "stream",
     "text": [
      "\u001b[32m[I 2022-12-07 05:47:23,344]\u001b[0m Trial 2 finished with value: 133.45779639716923 and parameters: {'learning_rate': 0.08341182143924175, 'n_estimators': 42, 'colsample_bytree': 0.5909124836035503, 'subsample': 0.5917022549267169, 'reg_alpha': 1.5212112147976886, 'reg_lambda': 2.6237821581611893}. Best is trial 1 with value: 154.5541792229096.\u001b[0m\n",
      "\u001b[32m[I 2022-12-07 05:47:23,378]\u001b[0m Trial 3 finished with value: 138.48946954210146 and parameters: {'learning_rate': 0.04376255684556946, 'n_estimators': 58, 'colsample_bytree': 0.8059264473611898, 'subsample': 0.569746930326021, 'reg_alpha': 1.4607232426760908, 'reg_lambda': 1.8318092164684585}. Best is trial 1 with value: 154.5541792229096.\u001b[0m\n",
      "\u001b[32m[I 2022-12-07 05:47:23,445]\u001b[0m Trial 4 finished with value: 125.50144780803464 and parameters: {'learning_rate': 0.04615092843748656, 'n_estimators': 157, 'colsample_bytree': 0.5998368910791798, 'subsample': 0.7571172192068059, 'reg_alpha': 2.9620728443102124, 'reg_lambda': 0.23225206359998862}. Best is trial 1 with value: 154.5541792229096.\u001b[0m\n",
      "\u001b[32m[I 2022-12-07 05:47:23,464]\u001b[0m Trial 5 finished with value: 146.0594702200956 and parameters: {'learning_rate': 0.0611469403382424, 'n_estimators': 34, 'colsample_bytree': 0.5325257964926398, 'subsample': 0.9744427686266666, 'reg_alpha': 4.828160165372797, 'reg_lambda': 4.041986740582305}. Best is trial 1 with value: 154.5541792229096.\u001b[0m\n",
      "\u001b[32m[I 2022-12-07 05:47:23,477]\u001b[0m Trial 6 finished with value: 159.3535254682672 and parameters: {'learning_rate': 0.0311567631481637, 'n_estimators': 19, 'colsample_bytree': 0.8421165132560784, 'subsample': 0.7200762468698007, 'reg_alpha': 0.6101911742238941, 'reg_lambda': 2.475884550556351}. Best is trial 6 with value: 159.3535254682672.\u001b[0m\n",
      "\u001b[32m[I 2022-12-07 05:47:23,553]\u001b[0m Trial 7 finished with value: 156.4094131903809 and parameters: {'learning_rate': 0.004404463590406622, 'n_estimators': 182, 'colsample_bytree': 0.6293899908000085, 'subsample': 0.831261142176991, 'reg_alpha': 1.5585553804470549, 'reg_lambda': 2.600340105889054}. Best is trial 6 with value: 159.3535254682672.\u001b[0m\n",
      "\u001b[32m[I 2022-12-07 05:47:23,574]\u001b[0m Trial 8 finished with value: 143.18886316271323 and parameters: {'learning_rate': 0.05512431765498469, 'n_estimators': 37, 'colsample_bytree': 0.9847923138822793, 'subsample': 0.8875664116805573, 'reg_alpha': 4.697494707820946, 'reg_lambda': 4.474136752138244}. Best is trial 6 with value: 159.3535254682672.\u001b[0m\n",
      "\u001b[32m[I 2022-12-07 05:47:23,652]\u001b[0m Trial 9 finished with value: 128.61163508992158 and parameters: {'learning_rate': 0.06019209790229743, 'n_estimators': 185, 'colsample_bytree': 0.5442462510259598, 'subsample': 0.5979914312095727, 'reg_alpha': 0.22613644455269033, 'reg_lambda': 1.6266516538163218}. Best is trial 6 with value: 159.3535254682672.\u001b[0m\n",
      "1it [00:00,  2.04it/s]\u001b[32m[I 2022-12-07 05:47:23,654]\u001b[0m A new study created in memory with name: no-name-a77394ba-2a01-460a-9cd7-607be910452f\u001b[0m\n",
      "\u001b[32m[I 2022-12-07 05:47:23,681]\u001b[0m Trial 0 finished with value: 157.23874757589692 and parameters: {'learning_rate': 0.03947905167925872, 'n_estimators': 54, 'colsample_bytree': 0.9143687545759647, 'subsample': 0.6783766633467947, 'reg_alpha': 1.4046725484369038, 'reg_lambda': 2.7134804157912424}. Best is trial 0 with value: 157.23874757589692.\u001b[0m\n",
      "\u001b[32m[I 2022-12-07 05:47:23,751]\u001b[0m Trial 1 finished with value: 156.41849785369445 and parameters: {'learning_rate': 0.014951498272501501, 'n_estimators': 161, 'colsample_bytree': 0.5372753218398854, 'subsample': 0.9934434683002586, 'reg_alpha': 3.861223846483287, 'reg_lambda': 0.993578407670862}. Best is trial 0 with value: 157.23874757589692.\u001b[0m\n",
      "\u001b[32m[I 2022-12-07 05:47:23,820]\u001b[0m Trial 2 finished with value: 196.54020407449002 and parameters: {'learning_rate': 0.0015466895952366377, 'n_estimators': 163, 'colsample_bytree': 0.8534286719238086, 'subsample': 0.8645035840204937, 'reg_alpha': 3.8563517334297286, 'reg_lambda': 0.3702232586704518}. Best is trial 2 with value: 196.54020407449002.\u001b[0m\n",
      "\u001b[32m[I 2022-12-07 05:47:23,834]\u001b[0m Trial 3 finished with value: 175.9580144212481 and parameters: {'learning_rate': 0.03648810712588299, 'n_estimators': 23, 'colsample_bytree': 0.9315517129377968, 'subsample': 0.811649063413779, 'reg_alpha': 1.654490124263246, 'reg_lambda': 0.3177917514301182}. Best is trial 2 with value: 196.54020407449002.\u001b[0m\n",
      "\u001b[32m[I 2022-12-07 05:47:23,865]\u001b[0m Trial 4 finished with value: 157.0607040786767 and parameters: {'learning_rate': 0.03178724984985056, 'n_estimators': 65, 'colsample_bytree': 0.864803089169032, 'subsample': 0.8187787356776066, 'reg_alpha': 4.436063712881633, 'reg_lambda': 2.3610746258097466}. Best is trial 2 with value: 196.54020407449002.\u001b[0m\n"
     ]
    },
    {
     "name": "stdout",
     "output_type": "stream",
     "text": [
      "Best trial : score 159.3535254682672, \n",
      "params {'learning_rate': 0.0311567631481637, 'n_estimators': 19, 'colsample_bytree': 0.8421165132560784, 'subsample': 0.7200762468698007, 'reg_alpha': 0.6101911742238941, 'reg_lambda': 2.475884550556351}\n",
      "2\n"
     ]
    },
    {
     "name": "stderr",
     "output_type": "stream",
     "text": [
      "\u001b[32m[I 2022-12-07 05:47:23,926]\u001b[0m Trial 5 finished with value: 160.3043514071157 and parameters: {'learning_rate': 0.012839830347891868, 'n_estimators': 143, 'colsample_bytree': 0.8803925243084487, 'subsample': 0.7806385987847482, 'reg_alpha': 3.854835899772805, 'reg_lambda': 2.4689779818219537}. Best is trial 2 with value: 196.54020407449002.\u001b[0m\n",
      "\u001b[32m[I 2022-12-07 05:47:23,964]\u001b[0m Trial 6 finished with value: 145.9403462621334 and parameters: {'learning_rate': 0.052750550108817414, 'n_estimators': 85, 'colsample_bytree': 0.5127095633720475, 'subsample': 0.5539457134966522, 'reg_alpha': 0.15714592843367126, 'reg_lambda': 3.182052056318902}. Best is trial 2 with value: 196.54020407449002.\u001b[0m\n",
      "\u001b[32m[I 2022-12-07 05:47:24,011]\u001b[0m Trial 7 finished with value: 148.14591170956453 and parameters: {'learning_rate': 0.03212124212655634, 'n_estimators': 102, 'colsample_bytree': 0.9537832369630466, 'subsample': 0.6246461145744375, 'reg_alpha': 2.0519146151781484, 'reg_lambda': 3.7777556927152434}. Best is trial 2 with value: 196.54020407449002.\u001b[0m\n",
      "\u001b[32m[I 2022-12-07 05:47:24,022]\u001b[0m Trial 8 finished with value: 191.48323866555154 and parameters: {'learning_rate': 0.023651018383670626, 'n_estimators': 15, 'colsample_bytree': 0.6448757264568841, 'subsample': 0.5806106436270022, 'reg_alpha': 4.648488261712865, 'reg_lambda': 4.040601897822085}. Best is trial 2 with value: 196.54020407449002.\u001b[0m\n",
      "\u001b[32m[I 2022-12-07 05:47:24,096]\u001b[0m Trial 9 finished with value: 144.19005119609653 and parameters: {'learning_rate': 0.06370697189453192, 'n_estimators': 175, 'colsample_bytree': 0.9018360384495572, 'subsample': 0.5932850294430179, 'reg_alpha': 4.462794992449889, 'reg_lambda': 2.6967112095782535}. Best is trial 2 with value: 196.54020407449002.\u001b[0m\n",
      "2it [00:00,  2.16it/s]\u001b[32m[I 2022-12-07 05:47:24,098]\u001b[0m A new study created in memory with name: no-name-650880c9-9f48-4259-bf7b-db4b3c282895\u001b[0m\n",
      "\u001b[32m[I 2022-12-07 05:47:24,176]\u001b[0m Trial 0 finished with value: 165.49939920768517 and parameters: {'learning_rate': 0.0809365753612422, 'n_estimators': 180, 'colsample_bytree': 0.6590017374859319, 'subsample': 0.5550259622638384, 'reg_alpha': 1.1396758127097084, 'reg_lambda': 2.1355389431312815}. Best is trial 0 with value: 165.49939920768517.\u001b[0m\n",
      "\u001b[32m[I 2022-12-07 05:47:24,252]\u001b[0m Trial 1 finished with value: 165.15430625560137 and parameters: {'learning_rate': 0.08198346182632682, 'n_estimators': 173, 'colsample_bytree': 0.5034760652655954, 'subsample': 0.7553736512887829, 'reg_alpha': 2.087055015743895, 'reg_lambda': 1.1105390523536514}. Best is trial 0 with value: 165.49939920768517.\u001b[0m\n",
      "\u001b[32m[I 2022-12-07 05:47:24,285]\u001b[0m Trial 2 finished with value: 188.03999285355076 and parameters: {'learning_rate': 0.012866671366034598, 'n_estimators': 67, 'colsample_bytree': 0.9714548519562596, 'subsample': 0.6616014660103776, 'reg_alpha': 2.5939531087168306, 'reg_lambda': 3.515094794475889}. Best is trial 2 with value: 188.03999285355076.\u001b[0m\n"
     ]
    },
    {
     "name": "stdout",
     "output_type": "stream",
     "text": [
      "Best trial : score 196.54020407449002, \n",
      "params {'learning_rate': 0.0015466895952366377, 'n_estimators': 163, 'colsample_bytree': 0.8534286719238086, 'subsample': 0.8645035840204937, 'reg_alpha': 3.8563517334297286, 'reg_lambda': 0.3702232586704518}\n",
      "3\n"
     ]
    },
    {
     "name": "stderr",
     "output_type": "stream",
     "text": [
      "\u001b[32m[I 2022-12-07 05:47:24,371]\u001b[0m Trial 3 finished with value: 165.53746956114207 and parameters: {'learning_rate': 0.03699933063555011, 'n_estimators': 195, 'colsample_bytree': 0.9812236474710556, 'subsample': 0.6258911479126821, 'reg_alpha': 2.4862425294619275, 'reg_lambda': 1.5043915490838482}. Best is trial 2 with value: 188.03999285355076.\u001b[0m\n",
      "\u001b[32m[I 2022-12-07 05:47:24,380]\u001b[0m Trial 4 finished with value: 211.98071488402795 and parameters: {'learning_rate': 0.029199208943369297, 'n_estimators': 7, 'colsample_bytree': 0.8047821669899484, 'subsample': 0.7513395116144308, 'reg_alpha': 0.25739375624994676, 'reg_lambda': 1.3932323211830573}. Best is trial 4 with value: 211.98071488402795.\u001b[0m\n",
      "\u001b[32m[I 2022-12-07 05:47:24,406]\u001b[0m Trial 5 finished with value: 167.4233868941167 and parameters: {'learning_rate': 0.09091832271069872, 'n_estimators': 48, 'colsample_bytree': 0.5724474360456115, 'subsample': 0.7447263801387816, 'reg_alpha': 4.928252270553004, 'reg_lambda': 1.2102763575575022}. Best is trial 4 with value: 211.98071488402795.\u001b[0m\n",
      "\u001b[32m[I 2022-12-07 05:47:24,469]\u001b[0m Trial 6 finished with value: 166.0456466830576 and parameters: {'learning_rate': 0.06754141919318198, 'n_estimators': 153, 'colsample_bytree': 0.6188187719961998, 'subsample': 0.8641081743059298, 'reg_alpha': 1.838915663596266, 'reg_lambda': 3.1615291529678973}. Best is trial 4 with value: 211.98071488402795.\u001b[0m\n",
      "\u001b[32m[I 2022-12-07 05:47:24,518]\u001b[0m Trial 7 finished with value: 164.30026389857332 and parameters: {'learning_rate': 0.06371944136532857, 'n_estimators': 107, 'colsample_bytree': 0.5451448850272042, 'subsample': 0.917651247794619, 'reg_alpha': 1.6039003248586792, 'reg_lambda': 0.9325925519992712}. Best is trial 4 with value: 211.98071488402795.\u001b[0m\n",
      "\u001b[32m[I 2022-12-07 05:47:24,569]\u001b[0m Trial 8 finished with value: 194.47911289246193 and parameters: {'learning_rate': 0.005036739013921628, 'n_estimators': 118, 'colsample_bytree': 0.8387821809211412, 'subsample': 0.508293914463928, 'reg_alpha': 2.560465291496405, 'reg_lambda': 1.1324788759896898}. Best is trial 4 with value: 211.98071488402795.\u001b[0m\n",
      "\u001b[32m[I 2022-12-07 05:47:24,590]\u001b[0m Trial 9 finished with value: 170.42153347989483 and parameters: {'learning_rate': 0.06487210625053554, 'n_estimators': 35, 'colsample_bytree': 0.845468869051233, 'subsample': 0.6933676731502687, 'reg_alpha': 4.6836499436836725, 'reg_lambda': 0.6876047207299663}. Best is trial 4 with value: 211.98071488402795.\u001b[0m\n",
      "3it [00:01,  2.10it/s]\u001b[32m[I 2022-12-07 05:47:24,592]\u001b[0m A new study created in memory with name: no-name-8635478a-2678-4478-9bd2-aee594c9d38e\u001b[0m\n",
      "\u001b[32m[I 2022-12-07 05:47:24,608]\u001b[0m Trial 0 finished with value: 182.79314350336247 and parameters: {'learning_rate': 0.034765568753975594, 'n_estimators': 22, 'colsample_bytree': 0.9623468091392814, 'subsample': 0.9386696766904905, 'reg_alpha': 1.289708138575778, 'reg_lambda': 3.299920230170895}. Best is trial 0 with value: 182.79314350336247.\u001b[0m\n",
      "\u001b[32m[I 2022-12-07 05:47:24,660]\u001b[0m Trial 1 finished with value: 156.60293120530858 and parameters: {'learning_rate': 0.08190499781992037, 'n_estimators': 111, 'colsample_bytree': 0.7648252891780032, 'subsample': 0.6209261454502258, 'reg_alpha': 0.46551383902949606, 'reg_lambda': 4.486078789766633}. Best is trial 0 with value: 182.79314350336247.\u001b[0m\n",
      "\u001b[32m[I 2022-12-07 05:47:24,715]\u001b[0m Trial 2 finished with value: 158.49079419417683 and parameters: {'learning_rate': 0.09014138765916972, 'n_estimators': 127, 'colsample_bytree': 0.6695148955243504, 'subsample': 0.6746047873063304, 'reg_alpha': 3.629778394351197, 'reg_lambda': 4.485551299762886}. Best is trial 0 with value: 182.79314350336247.\u001b[0m\n",
      "\u001b[32m[I 2022-12-07 05:47:24,783]\u001b[0m Trial 3 finished with value: 150.82580229006078 and parameters: {'learning_rate': 0.08882155600224662, 'n_estimators': 156, 'colsample_bytree': 0.8210158230771438, 'subsample': 0.5420699824975244, 'reg_alpha': 0.8081435704730688, 'reg_lambda': 4.492770942635397}. Best is trial 0 with value: 182.79314350336247.\u001b[0m\n"
     ]
    },
    {
     "name": "stdout",
     "output_type": "stream",
     "text": [
      "Best trial : score 211.98071488402795, \n",
      "params {'learning_rate': 0.029199208943369297, 'n_estimators': 7, 'colsample_bytree': 0.8047821669899484, 'subsample': 0.7513395116144308, 'reg_alpha': 0.25739375624994676, 'reg_lambda': 1.3932323211830573}\n",
      "4\n"
     ]
    },
    {
     "name": "stderr",
     "output_type": "stream",
     "text": [
      "\u001b[32m[I 2022-12-07 05:47:24,789]\u001b[0m Trial 4 finished with value: 208.71430281591518 and parameters: {'learning_rate': 0.06103647690629941, 'n_estimators': 1, 'colsample_bytree': 0.5507357714330161, 'subsample': 0.8317508845540279, 'reg_alpha': 0.025307919231093434, 'reg_lambda': 0.8040402570874933}. Best is trial 4 with value: 208.71430281591518.\u001b[0m\n",
      "\u001b[32m[I 2022-12-07 05:47:24,848]\u001b[0m Trial 5 finished with value: 158.3650727704304 and parameters: {'learning_rate': 0.05532464514729203, 'n_estimators': 139, 'colsample_bytree': 0.8259806297513003, 'subsample': 0.61213465473028, 'reg_alpha': 3.560896106737679, 'reg_lambda': 1.1862454374840004}. Best is trial 4 with value: 208.71430281591518.\u001b[0m\n",
      "\u001b[32m[I 2022-12-07 05:47:24,912]\u001b[0m Trial 6 finished with value: 161.16834439608294 and parameters: {'learning_rate': 0.03321457011776751, 'n_estimators': 150, 'colsample_bytree': 0.8248164495236073, 'subsample': 0.924611705247089, 'reg_alpha': 3.2880644615017167, 'reg_lambda': 2.841543016677358}. Best is trial 4 with value: 208.71430281591518.\u001b[0m\n",
      "\u001b[32m[I 2022-12-07 05:47:24,944]\u001b[0m Trial 7 finished with value: 183.45753797434529 and parameters: {'learning_rate': 0.010273802014981157, 'n_estimators': 73, 'colsample_bytree': 0.6326011838408627, 'subsample': 0.6219948216895418, 'reg_alpha': 4.865052773762228, 'reg_lambda': 1.965488623333802}. Best is trial 4 with value: 208.71430281591518.\u001b[0m\n",
      "\u001b[32m[I 2022-12-07 05:47:25,000]\u001b[0m Trial 8 finished with value: 154.59714916989353 and parameters: {'learning_rate': 0.08931260896253422, 'n_estimators': 126, 'colsample_bytree': 0.8974056517708242, 'subsample': 0.751318546552596, 'reg_alpha': 2.8845194231317954, 'reg_lambda': 2.4625884690943196}. Best is trial 4 with value: 208.71430281591518.\u001b[0m\n",
      "\u001b[32m[I 2022-12-07 05:47:25,060]\u001b[0m Trial 9 finished with value: 166.63137914061622 and parameters: {'learning_rate': 0.020329055792006407, 'n_estimators': 145, 'colsample_bytree': 0.6403861812204279, 'subsample': 0.5121579832157269, 'reg_alpha': 3.227361479535839, 'reg_lambda': 0.8855533970352447}. Best is trial 4 with value: 208.71430281591518.\u001b[0m\n",
      "4it [00:01,  2.11it/s]\u001b[32m[I 2022-12-07 05:47:25,062]\u001b[0m A new study created in memory with name: no-name-0c0a61df-fc87-4115-8eaa-941dd12a38b6\u001b[0m\n",
      "\u001b[32m[I 2022-12-07 05:47:25,140]\u001b[0m Trial 0 finished with value: 151.78481568773128 and parameters: {'learning_rate': 0.09410539985093852, 'n_estimators': 191, 'colsample_bytree': 0.9574321951102243, 'subsample': 0.6850793501277221, 'reg_alpha': 0.07728308264433714, 'reg_lambda': 4.641592812938627}. Best is trial 0 with value: 151.78481568773128.\u001b[0m\n",
      "\u001b[32m[I 2022-12-07 05:47:25,219]\u001b[0m Trial 1 finished with value: 151.43487666927388 and parameters: {'learning_rate': 0.04339023068341412, 'n_estimators': 194, 'colsample_bytree': 0.9818099885446264, 'subsample': 0.92650472773368, 'reg_alpha': 1.4722444603479286, 'reg_lambda': 1.9254886430096263}. Best is trial 0 with value: 151.78481568773128.\u001b[0m\n",
      "\u001b[32m[I 2022-12-07 05:47:25,250]\u001b[0m Trial 2 finished with value: 142.4348698237378 and parameters: {'learning_rate': 0.08526253048016884, 'n_estimators': 63, 'colsample_bytree': 0.5847463733430462, 'subsample': 0.7784006312291751, 'reg_alpha': 4.680773870803905, 'reg_lambda': 3.480148983374865}. Best is trial 0 with value: 151.78481568773128.\u001b[0m\n"
     ]
    },
    {
     "name": "stdout",
     "output_type": "stream",
     "text": [
      "Best trial : score 208.71430281591518, \n",
      "params {'learning_rate': 0.06103647690629941, 'n_estimators': 1, 'colsample_bytree': 0.5507357714330161, 'subsample': 0.8317508845540279, 'reg_alpha': 0.025307919231093434, 'reg_lambda': 0.8040402570874933}\n",
      "5\n"
     ]
    },
    {
     "name": "stderr",
     "output_type": "stream",
     "text": [
      "\u001b[32m[I 2022-12-07 05:47:25,263]\u001b[0m Trial 3 finished with value: 152.0736411888087 and parameters: {'learning_rate': 0.05743605583884714, 'n_estimators': 19, 'colsample_bytree': 0.8075036133495849, 'subsample': 0.9950269250521316, 'reg_alpha': 0.7004200761826201, 'reg_lambda': 2.591648261818684}. Best is trial 3 with value: 152.0736411888087.\u001b[0m\n",
      "\u001b[32m[I 2022-12-07 05:47:25,327]\u001b[0m Trial 4 finished with value: 147.04679497879786 and parameters: {'learning_rate': 0.0878599341208676, 'n_estimators': 148, 'colsample_bytree': 0.848507870497634, 'subsample': 0.8512420419935547, 'reg_alpha': 1.7974557560987758, 'reg_lambda': 1.4679592213224668}. Best is trial 3 with value: 152.0736411888087.\u001b[0m\n",
      "\u001b[32m[I 2022-12-07 05:47:25,395]\u001b[0m Trial 5 finished with value: 151.5455268671733 and parameters: {'learning_rate': 0.08112675439237285, 'n_estimators': 162, 'colsample_bytree': 0.9335361592900518, 'subsample': 0.9566202762782356, 'reg_alpha': 2.556711994304689, 'reg_lambda': 2.507581473435998}. Best is trial 3 with value: 152.0736411888087.\u001b[0m\n",
      "\u001b[32m[I 2022-12-07 05:47:25,452]\u001b[0m Trial 6 finished with value: 148.75254487771844 and parameters: {'learning_rate': 0.08003122271771075, 'n_estimators': 130, 'colsample_bytree': 0.8509834386288517, 'subsample': 0.8978963347180505, 'reg_alpha': 4.450026709087831, 'reg_lambda': 1.689975784257679}. Best is trial 3 with value: 152.0736411888087.\u001b[0m\n",
      "\u001b[32m[I 2022-12-07 05:47:25,465]\u001b[0m Trial 7 finished with value: 160.0428916302594 and parameters: {'learning_rate': 0.03818271231135446, 'n_estimators': 18, 'colsample_bytree': 0.789140070498087, 'subsample': 0.517971136898371, 'reg_alpha': 2.3279900906623006, 'reg_lambda': 2.713223173537883}. Best is trial 7 with value: 160.0428916302594.\u001b[0m\n",
      "\u001b[32m[I 2022-12-07 05:47:25,514]\u001b[0m Trial 8 finished with value: 138.77606338484213 and parameters: {'learning_rate': 0.029367583960700158, 'n_estimators': 118, 'colsample_bytree': 0.5152501249695247, 'subsample': 0.5186740943746072, 'reg_alpha': 4.113002803298292, 'reg_lambda': 1.8009532070563146}. Best is trial 7 with value: 160.0428916302594.\u001b[0m\n",
      "\u001b[32m[I 2022-12-07 05:47:25,560]\u001b[0m Trial 9 finished with value: 144.54166244678186 and parameters: {'learning_rate': 0.013578990752536595, 'n_estimators': 104, 'colsample_bytree': 0.8849967765493054, 'subsample': 0.6079105137484215, 'reg_alpha': 3.114452379095001, 'reg_lambda': 0.42673732496884}. Best is trial 7 with value: 160.0428916302594.\u001b[0m\n",
      "5it [00:02,  2.08it/s]"
     ]
    },
    {
     "name": "stdout",
     "output_type": "stream",
     "text": [
      "Best trial : score 160.0428916302594, \n",
      "params {'learning_rate': 0.03818271231135446, 'n_estimators': 18, 'colsample_bytree': 0.789140070498087, 'subsample': 0.517971136898371, 'reg_alpha': 2.3279900906623006, 'reg_lambda': 2.713223173537883}\n"
     ]
    },
    {
     "name": "stderr",
     "output_type": "stream",
     "text": [
      "\n"
     ]
    }
   ],
   "source": [
    "def objective(trial):\n",
    "    param = {\n",
    "        'learning_rate': trial.suggest_float('learning_rate', 1e-3, 0.1),\n",
    "        'n_estimators': trial.suggest_int('n_estimators', 0, 200),\n",
    "        'colsample_bytree' : trial.suggest_float('colsample_bytree', 0.5, 1.0),\n",
    "        'subsample' :trial.suggest_float('subsample', 0.5, 1.0),\n",
    "        'reg_alpha' : trial.suggest_float('reg_alpha', 0.0, 5.0),\n",
    "        'reg_lambda' : trial.suggest_float('reg_lambda', 0.0, 5.0),\n",
    "        'n_jobs' : -1,\n",
    "    }\n",
    "    model = LGBMRegressor(**param)\n",
    "    model.fit(train_x, train_y, eval_set=[(valid_x, valid_y)], verbose=0)\n",
    "\n",
    "    y_valid_pred = model.predict(valid_x)\n",
    "    return MAE(valid_y, y_valid_pred)\n",
    "\n",
    "sampler = TPESampler(seed=42)\n",
    "\n",
    "kfold = KFold(n_splits=5, shuffle=True, random_state=42)\n",
    "n_iter=0\n",
    "for train_index, test_index in tqdm(kfold.split(Geumcheon_x, Geumcheon_y)):\n",
    "    n_iter += 1\n",
    "    print(n_iter)\n",
    "    train_x= Geumcheon_x.iloc[train_index]\n",
    "    valid_x= Geumcheon_x.iloc[test_index]\n",
    "    train_y= Geumcheon_y.iloc[train_index]\n",
    "    valid_y= Geumcheon_y.iloc[test_index]\n",
    "\n",
    "    study = optuna.create_study(direction='maximize', sampler=sampler)\n",
    "    study.optimize(objective, n_trials=10)\n",
    "\n",
    "    print('Best trial : score {}, \\nparams {}'.format(study.best_trial.value, study.best_trial.params))\n",
    "#for Geumcheon\n",
    "#Best trial : score 159.3535254682672, \n",
    "#params {'learning_rate': 0.0311567631481637, 'n_estimators': 19, 'colsample_bytree': 0.8421165132560784, 'subsample': 0.7200762468698007, 'reg_alpha': 0.6101911742238941, 'reg_lambda': 2.475884550556351}"
   ]
  },
  {
   "cell_type": "code",
   "execution_count": 22,
   "id": "10ceedbc",
   "metadata": {},
   "outputs": [
    {
     "name": "stdout",
     "output_type": "stream",
     "text": [
      "{'max_depth': -1, 'n_estimators': 100}\n",
      "LGBMRegressor()\n"
     ]
    }
   ],
   "source": [
    "lgbm = LGBMRegressor()\n",
    "\n",
    "param_grid = [\n",
    "    {'n_estimators': [100, 200, 300, 400, 500, 600, 700, 800, 900, 1000], \n",
    "     'max_depth': [-1, 15, 30, 45, 60]}\n",
    "]\n",
    "\n",
    "grid_search = GridSearchCV(lgbm, param_grid, cv=3, scoring='neg_mean_squared_error', \n",
    "                           return_train_score=True, n_jobs=-1)\n",
    "grid_search.fit(Yeongdeungpo_x, Yeongdeungpo_y)\n",
    "\n",
    "print(grid_search.best_params_)\n",
    "print(grid_search.best_estimator_)"
   ]
  },
  {
   "cell_type": "code",
   "execution_count": 23,
   "id": "d4c80149",
   "metadata": {},
   "outputs": [
    {
     "name": "stderr",
     "output_type": "stream",
     "text": [
      "0it [00:00, ?it/s]\u001b[32m[I 2022-12-07 05:51:50,577]\u001b[0m A new study created in memory with name: no-name-f91592c5-c37e-4861-bb36-cd1b4fe8a662\u001b[0m\n",
      "\u001b[32m[I 2022-12-07 05:51:50,695]\u001b[0m Trial 0 finished with value: 220.93190202026847 and parameters: {'learning_rate': 0.03807947176588889, 'n_estimators': 191, 'colsample_bytree': 0.8659969709057025, 'subsample': 0.7993292420985183, 'reg_alpha': 0.7800932022121826, 'reg_lambda': 0.7799726016810132}. Best is trial 0 with value: 220.93190202026847.\u001b[0m\n",
      "\u001b[32m[I 2022-12-07 05:51:50,788]\u001b[0m Trial 1 finished with value: 290.6625229379885 and parameters: {'learning_rate': 0.006750277604651747, 'n_estimators': 174, 'colsample_bytree': 0.8005575058716043, 'subsample': 0.8540362888980227, 'reg_alpha': 0.10292247147901223, 'reg_lambda': 4.8495492608099715}. Best is trial 1 with value: 290.6625229379885.\u001b[0m\n"
     ]
    },
    {
     "name": "stdout",
     "output_type": "stream",
     "text": [
      "1\n"
     ]
    },
    {
     "name": "stderr",
     "output_type": "stream",
     "text": [
      "\u001b[32m[I 2022-12-07 05:51:50,817]\u001b[0m Trial 2 finished with value: 216.6779494927681 and parameters: {'learning_rate': 0.08341182143924175, 'n_estimators': 42, 'colsample_bytree': 0.5909124836035503, 'subsample': 0.5917022549267169, 'reg_alpha': 1.5212112147976886, 'reg_lambda': 2.6237821581611893}. Best is trial 1 with value: 290.6625229379885.\u001b[0m\n",
      "\u001b[32m[I 2022-12-07 05:51:50,852]\u001b[0m Trial 3 finished with value: 230.04761498585668 and parameters: {'learning_rate': 0.04376255684556946, 'n_estimators': 58, 'colsample_bytree': 0.8059264473611898, 'subsample': 0.569746930326021, 'reg_alpha': 1.4607232426760908, 'reg_lambda': 1.8318092164684585}. Best is trial 1 with value: 290.6625229379885.\u001b[0m\n",
      "\u001b[32m[I 2022-12-07 05:51:50,938]\u001b[0m Trial 4 finished with value: 216.82357577676464 and parameters: {'learning_rate': 0.04615092843748656, 'n_estimators': 157, 'colsample_bytree': 0.5998368910791798, 'subsample': 0.7571172192068059, 'reg_alpha': 2.9620728443102124, 'reg_lambda': 0.23225206359998862}. Best is trial 1 with value: 290.6625229379885.\u001b[0m\n",
      "\u001b[32m[I 2022-12-07 05:51:50,962]\u001b[0m Trial 5 finished with value: 237.34934884672904 and parameters: {'learning_rate': 0.0611469403382424, 'n_estimators': 34, 'colsample_bytree': 0.5325257964926398, 'subsample': 0.9744427686266666, 'reg_alpha': 4.828160165372797, 'reg_lambda': 4.041986740582305}. Best is trial 1 with value: 290.6625229379885.\u001b[0m\n",
      "\u001b[32m[I 2022-12-07 05:51:50,978]\u001b[0m Trial 6 finished with value: 347.00998221168214 and parameters: {'learning_rate': 0.0311567631481637, 'n_estimators': 19, 'colsample_bytree': 0.8421165132560784, 'subsample': 0.7200762468698007, 'reg_alpha': 0.6101911742238941, 'reg_lambda': 2.475884550556351}. Best is trial 6 with value: 347.00998221168214.\u001b[0m\n",
      "\u001b[32m[I 2022-12-07 05:51:51,072]\u001b[0m Trial 7 finished with value: 324.30414667576594 and parameters: {'learning_rate': 0.004404463590406622, 'n_estimators': 182, 'colsample_bytree': 0.6293899908000085, 'subsample': 0.831261142176991, 'reg_alpha': 1.5585553804470549, 'reg_lambda': 2.600340105889054}. Best is trial 6 with value: 347.00998221168214.\u001b[0m\n",
      "\u001b[32m[I 2022-12-07 05:51:51,098]\u001b[0m Trial 8 finished with value: 249.30989392627777 and parameters: {'learning_rate': 0.05512431765498469, 'n_estimators': 37, 'colsample_bytree': 0.9847923138822793, 'subsample': 0.8875664116805573, 'reg_alpha': 4.697494707820946, 'reg_lambda': 4.474136752138244}. Best is trial 6 with value: 347.00998221168214.\u001b[0m\n",
      "\u001b[32m[I 2022-12-07 05:51:51,197]\u001b[0m Trial 9 finished with value: 210.2988999784069 and parameters: {'learning_rate': 0.06019209790229743, 'n_estimators': 185, 'colsample_bytree': 0.5442462510259598, 'subsample': 0.5979914312095727, 'reg_alpha': 0.22613644455269033, 'reg_lambda': 1.6266516538163218}. Best is trial 6 with value: 347.00998221168214.\u001b[0m\n",
      "1it [00:00,  1.61it/s]\u001b[32m[I 2022-12-07 05:51:51,199]\u001b[0m A new study created in memory with name: no-name-10aa9554-096b-488b-8211-5579feb76b89\u001b[0m\n",
      "\u001b[32m[I 2022-12-07 05:51:51,234]\u001b[0m Trial 0 finished with value: 233.4618338073131 and parameters: {'learning_rate': 0.03947905167925872, 'n_estimators': 54, 'colsample_bytree': 0.9143687545759647, 'subsample': 0.6783766633467947, 'reg_alpha': 1.4046725484369038, 'reg_lambda': 2.7134804157912424}. Best is trial 0 with value: 233.4618338073131.\u001b[0m\n",
      "\u001b[32m[I 2022-12-07 05:51:51,320]\u001b[0m Trial 1 finished with value: 228.8919788674478 and parameters: {'learning_rate': 0.014951498272501501, 'n_estimators': 161, 'colsample_bytree': 0.5372753218398854, 'subsample': 0.9934434683002586, 'reg_alpha': 3.861223846483287, 'reg_lambda': 0.993578407670862}. Best is trial 0 with value: 233.4618338073131.\u001b[0m\n"
     ]
    },
    {
     "name": "stdout",
     "output_type": "stream",
     "text": [
      "Best trial : score 347.00998221168214, \n",
      "params {'learning_rate': 0.0311567631481637, 'n_estimators': 19, 'colsample_bytree': 0.8421165132560784, 'subsample': 0.7200762468698007, 'reg_alpha': 0.6101911742238941, 'reg_lambda': 2.475884550556351}\n",
      "2\n"
     ]
    },
    {
     "name": "stderr",
     "output_type": "stream",
     "text": [
      "\u001b[32m[I 2022-12-07 05:51:51,413]\u001b[0m Trial 2 finished with value: 439.5667560692789 and parameters: {'learning_rate': 0.0015466895952366377, 'n_estimators': 163, 'colsample_bytree': 0.8534286719238086, 'subsample': 0.8645035840204937, 'reg_alpha': 3.8563517334297286, 'reg_lambda': 0.3702232586704518}. Best is trial 2 with value: 439.5667560692789.\u001b[0m\n",
      "\u001b[32m[I 2022-12-07 05:51:51,433]\u001b[0m Trial 3 finished with value: 318.99521391017015 and parameters: {'learning_rate': 0.03648810712588299, 'n_estimators': 23, 'colsample_bytree': 0.9315517129377968, 'subsample': 0.811649063413779, 'reg_alpha': 1.654490124263246, 'reg_lambda': 0.3177917514301182}. Best is trial 2 with value: 439.5667560692789.\u001b[0m\n",
      "\u001b[32m[I 2022-12-07 05:51:51,477]\u001b[0m Trial 4 finished with value: 235.6894098676964 and parameters: {'learning_rate': 0.03178724984985056, 'n_estimators': 65, 'colsample_bytree': 0.864803089169032, 'subsample': 0.8187787356776066, 'reg_alpha': 4.436063712881633, 'reg_lambda': 2.3610746258097466}. Best is trial 2 with value: 439.5667560692789.\u001b[0m\n",
      "\u001b[32m[I 2022-12-07 05:51:51,564]\u001b[0m Trial 5 finished with value: 245.64240051795522 and parameters: {'learning_rate': 0.012839830347891868, 'n_estimators': 143, 'colsample_bytree': 0.8803925243084487, 'subsample': 0.7806385987847482, 'reg_alpha': 3.854835899772805, 'reg_lambda': 2.4689779818219537}. Best is trial 2 with value: 439.5667560692789.\u001b[0m\n",
      "\u001b[32m[I 2022-12-07 05:51:51,616]\u001b[0m Trial 6 finished with value: 200.30849892255912 and parameters: {'learning_rate': 0.052750550108817414, 'n_estimators': 85, 'colsample_bytree': 0.5127095633720475, 'subsample': 0.5539457134966522, 'reg_alpha': 0.15714592843367126, 'reg_lambda': 3.182052056318902}. Best is trial 2 with value: 439.5667560692789.\u001b[0m\n",
      "\u001b[32m[I 2022-12-07 05:51:51,678]\u001b[0m Trial 7 finished with value: 208.4301265597118 and parameters: {'learning_rate': 0.03212124212655634, 'n_estimators': 102, 'colsample_bytree': 0.9537832369630466, 'subsample': 0.6246461145744375, 'reg_alpha': 2.0519146151781484, 'reg_lambda': 3.7777556927152434}. Best is trial 2 with value: 439.5667560692789.\u001b[0m\n",
      "\u001b[32m[I 2022-12-07 05:51:51,691]\u001b[0m Trial 8 finished with value: 424.066701198318 and parameters: {'learning_rate': 0.023651018383670626, 'n_estimators': 15, 'colsample_bytree': 0.6448757264568841, 'subsample': 0.5806106436270022, 'reg_alpha': 4.648488261712865, 'reg_lambda': 4.040601897822085}. Best is trial 2 with value: 439.5667560692789.\u001b[0m\n",
      "\u001b[32m[I 2022-12-07 05:51:51,808]\u001b[0m Trial 9 finished with value: 192.49125517274703 and parameters: {'learning_rate': 0.06370697189453192, 'n_estimators': 175, 'colsample_bytree': 0.9018360384495572, 'subsample': 0.5932850294430179, 'reg_alpha': 4.462794992449889, 'reg_lambda': 2.6967112095782535}. Best is trial 2 with value: 439.5667560692789.\u001b[0m\n",
      "2it [00:01,  1.62it/s]\u001b[32m[I 2022-12-07 05:51:51,810]\u001b[0m A new study created in memory with name: no-name-359fe532-0766-4856-8152-e00f7fa50961\u001b[0m\n",
      "\u001b[32m[I 2022-12-07 05:51:51,922]\u001b[0m Trial 0 finished with value: 168.7525716740757 and parameters: {'learning_rate': 0.0809365753612422, 'n_estimators': 180, 'colsample_bytree': 0.6590017374859319, 'subsample': 0.5550259622638384, 'reg_alpha': 1.1396758127097084, 'reg_lambda': 2.1355389431312815}. Best is trial 0 with value: 168.7525716740757.\u001b[0m\n",
      "\u001b[32m[I 2022-12-07 05:51:52,024]\u001b[0m Trial 1 finished with value: 175.7558130468193 and parameters: {'learning_rate': 0.08198346182632682, 'n_estimators': 173, 'colsample_bytree': 0.5034760652655954, 'subsample': 0.7553736512887829, 'reg_alpha': 2.087055015743895, 'reg_lambda': 1.1105390523536514}. Best is trial 1 with value: 175.7558130468193.\u001b[0m\n"
     ]
    },
    {
     "name": "stdout",
     "output_type": "stream",
     "text": [
      "Best trial : score 439.5667560692789, \n",
      "params {'learning_rate': 0.0015466895952366377, 'n_estimators': 163, 'colsample_bytree': 0.8534286719238086, 'subsample': 0.8645035840204937, 'reg_alpha': 3.8563517334297286, 'reg_lambda': 0.3702232586704518}\n",
      "3\n"
     ]
    },
    {
     "name": "stderr",
     "output_type": "stream",
     "text": [
      "\u001b[32m[I 2022-12-07 05:51:52,075]\u001b[0m Trial 2 finished with value: 266.0661641907508 and parameters: {'learning_rate': 0.012866671366034598, 'n_estimators': 67, 'colsample_bytree': 0.9714548519562596, 'subsample': 0.6616014660103776, 'reg_alpha': 2.5939531087168306, 'reg_lambda': 3.515094794475889}. Best is trial 2 with value: 266.0661641907508.\u001b[0m\n",
      "\u001b[32m[I 2022-12-07 05:51:52,234]\u001b[0m Trial 3 finished with value: 169.38960060624322 and parameters: {'learning_rate': 0.03699933063555011, 'n_estimators': 195, 'colsample_bytree': 0.9812236474710556, 'subsample': 0.6258911479126821, 'reg_alpha': 2.4862425294619275, 'reg_lambda': 1.5043915490838482}. Best is trial 2 with value: 266.0661641907508.\u001b[0m\n",
      "\u001b[32m[I 2022-12-07 05:51:52,245]\u001b[0m Trial 4 finished with value: 385.8498990072506 and parameters: {'learning_rate': 0.029199208943369297, 'n_estimators': 7, 'colsample_bytree': 0.8047821669899484, 'subsample': 0.7513395116144308, 'reg_alpha': 0.25739375624994676, 'reg_lambda': 1.3932323211830573}. Best is trial 4 with value: 385.8498990072506.\u001b[0m\n",
      "\u001b[32m[I 2022-12-07 05:51:52,291]\u001b[0m Trial 5 finished with value: 167.08805763507357 and parameters: {'learning_rate': 0.09091832271069872, 'n_estimators': 48, 'colsample_bytree': 0.5724474360456115, 'subsample': 0.7447263801387816, 'reg_alpha': 4.928252270553004, 'reg_lambda': 1.2102763575575022}. Best is trial 4 with value: 385.8498990072506.\u001b[0m\n",
      "\u001b[32m[I 2022-12-07 05:51:52,383]\u001b[0m Trial 6 finished with value: 168.43775196605026 and parameters: {'learning_rate': 0.06754141919318198, 'n_estimators': 153, 'colsample_bytree': 0.6188187719961998, 'subsample': 0.8641081743059298, 'reg_alpha': 1.838915663596266, 'reg_lambda': 3.1615291529678973}. Best is trial 4 with value: 385.8498990072506.\u001b[0m\n",
      "\u001b[32m[I 2022-12-07 05:51:52,447]\u001b[0m Trial 7 finished with value: 172.67626264129393 and parameters: {'learning_rate': 0.06371944136532857, 'n_estimators': 107, 'colsample_bytree': 0.5451448850272042, 'subsample': 0.917651247794619, 'reg_alpha': 1.6039003248586792, 'reg_lambda': 0.9325925519992712}. Best is trial 4 with value: 385.8498990072506.\u001b[0m\n",
      "\u001b[32m[I 2022-12-07 05:51:52,528]\u001b[0m Trial 8 finished with value: 299.85303233138507 and parameters: {'learning_rate': 0.005036739013921628, 'n_estimators': 118, 'colsample_bytree': 0.8387821809211412, 'subsample': 0.508293914463928, 'reg_alpha': 2.560465291496405, 'reg_lambda': 1.1324788759896898}. Best is trial 4 with value: 385.8498990072506.\u001b[0m\n",
      "\u001b[32m[I 2022-12-07 05:51:52,559]\u001b[0m Trial 9 finished with value: 183.97094534420924 and parameters: {'learning_rate': 0.06487210625053554, 'n_estimators': 35, 'colsample_bytree': 0.845468869051233, 'subsample': 0.6933676731502687, 'reg_alpha': 4.6836499436836725, 'reg_lambda': 0.6876047207299663}. Best is trial 4 with value: 385.8498990072506.\u001b[0m\n",
      "3it [00:01,  1.48it/s]\u001b[32m[I 2022-12-07 05:51:52,561]\u001b[0m A new study created in memory with name: no-name-6998ae11-e920-4553-aecb-87dc1efa69d6\u001b[0m\n",
      "\u001b[32m[I 2022-12-07 05:51:52,582]\u001b[0m Trial 0 finished with value: 276.80622651026533 and parameters: {'learning_rate': 0.034765568753975594, 'n_estimators': 22, 'colsample_bytree': 0.9623468091392814, 'subsample': 0.9386696766904905, 'reg_alpha': 1.289708138575778, 'reg_lambda': 3.299920230170895}. Best is trial 0 with value: 276.80622651026533.\u001b[0m\n",
      "\u001b[32m[I 2022-12-07 05:51:52,650]\u001b[0m Trial 1 finished with value: 168.57867726589117 and parameters: {'learning_rate': 0.08190499781992037, 'n_estimators': 111, 'colsample_bytree': 0.7648252891780032, 'subsample': 0.6209261454502258, 'reg_alpha': 0.46551383902949606, 'reg_lambda': 4.486078789766633}. Best is trial 0 with value: 276.80622651026533.\u001b[0m\n",
      "\u001b[32m[I 2022-12-07 05:51:52,741]\u001b[0m Trial 2 finished with value: 170.40723404739185 and parameters: {'learning_rate': 0.09014138765916972, 'n_estimators': 127, 'colsample_bytree': 0.6695148955243504, 'subsample': 0.6746047873063304, 'reg_alpha': 3.629778394351197, 'reg_lambda': 4.485551299762886}. Best is trial 0 with value: 276.80622651026533.\u001b[0m\n"
     ]
    },
    {
     "name": "stdout",
     "output_type": "stream",
     "text": [
      "Best trial : score 385.8498990072506, \n",
      "params {'learning_rate': 0.029199208943369297, 'n_estimators': 7, 'colsample_bytree': 0.8047821669899484, 'subsample': 0.7513395116144308, 'reg_alpha': 0.25739375624994676, 'reg_lambda': 1.3932323211830573}\n",
      "4\n"
     ]
    },
    {
     "name": "stderr",
     "output_type": "stream",
     "text": [
      "\u001b[32m[I 2022-12-07 05:51:52,837]\u001b[0m Trial 3 finished with value: 175.37843295135224 and parameters: {'learning_rate': 0.08882155600224662, 'n_estimators': 156, 'colsample_bytree': 0.8210158230771438, 'subsample': 0.5420699824975244, 'reg_alpha': 0.8081435704730688, 'reg_lambda': 4.492770942635397}. Best is trial 0 with value: 276.80622651026533.\u001b[0m\n",
      "\u001b[32m[I 2022-12-07 05:51:52,843]\u001b[0m Trial 4 finished with value: 433.05942052907346 and parameters: {'learning_rate': 0.06103647690629941, 'n_estimators': 1, 'colsample_bytree': 0.5507357714330161, 'subsample': 0.8317508845540279, 'reg_alpha': 0.025307919231093434, 'reg_lambda': 0.8040402570874933}. Best is trial 4 with value: 433.05942052907346.\u001b[0m\n",
      "\u001b[32m[I 2022-12-07 05:51:52,942]\u001b[0m Trial 5 finished with value: 170.79155859507983 and parameters: {'learning_rate': 0.05532464514729203, 'n_estimators': 139, 'colsample_bytree': 0.8259806297513003, 'subsample': 0.61213465473028, 'reg_alpha': 3.560896106737679, 'reg_lambda': 1.1862454374840004}. Best is trial 4 with value: 433.05942052907346.\u001b[0m\n",
      "\u001b[32m[I 2022-12-07 05:51:53,028]\u001b[0m Trial 6 finished with value: 167.42319916212014 and parameters: {'learning_rate': 0.03321457011776751, 'n_estimators': 150, 'colsample_bytree': 0.8248164495236073, 'subsample': 0.924611705247089, 'reg_alpha': 3.2880644615017167, 'reg_lambda': 2.841543016677358}. Best is trial 4 with value: 433.05942052907346.\u001b[0m\n",
      "\u001b[32m[I 2022-12-07 05:51:53,070]\u001b[0m Trial 7 finished with value: 287.26419122125037 and parameters: {'learning_rate': 0.010273802014981157, 'n_estimators': 73, 'colsample_bytree': 0.6326011838408627, 'subsample': 0.6219948216895418, 'reg_alpha': 4.865052773762228, 'reg_lambda': 1.965488623333802}. Best is trial 4 with value: 433.05942052907346.\u001b[0m\n",
      "\u001b[32m[I 2022-12-07 05:51:53,150]\u001b[0m Trial 8 finished with value: 175.25113851947935 and parameters: {'learning_rate': 0.08931260896253422, 'n_estimators': 126, 'colsample_bytree': 0.8974056517708242, 'subsample': 0.751318546552596, 'reg_alpha': 2.8845194231317954, 'reg_lambda': 2.4625884690943196}. Best is trial 4 with value: 433.05942052907346.\u001b[0m\n",
      "\u001b[32m[I 2022-12-07 05:51:53,235]\u001b[0m Trial 9 finished with value: 179.08065992665996 and parameters: {'learning_rate': 0.020329055792006407, 'n_estimators': 145, 'colsample_bytree': 0.6403861812204279, 'subsample': 0.5121579832157269, 'reg_alpha': 3.227361479535839, 'reg_lambda': 0.8855533970352447}. Best is trial 4 with value: 433.05942052907346.\u001b[0m\n",
      "4it [00:02,  1.48it/s]\u001b[32m[I 2022-12-07 05:51:53,238]\u001b[0m A new study created in memory with name: no-name-59fe24d0-7df7-45b3-9adf-1f778d59fd46\u001b[0m\n",
      "\u001b[32m[I 2022-12-07 05:51:53,372]\u001b[0m Trial 0 finished with value: 187.44193081691017 and parameters: {'learning_rate': 0.09410539985093852, 'n_estimators': 191, 'colsample_bytree': 0.9574321951102243, 'subsample': 0.6850793501277221, 'reg_alpha': 0.07728308264433714, 'reg_lambda': 4.641592812938627}. Best is trial 0 with value: 187.44193081691017.\u001b[0m\n"
     ]
    },
    {
     "name": "stdout",
     "output_type": "stream",
     "text": [
      "Best trial : score 433.05942052907346, \n",
      "params {'learning_rate': 0.06103647690629941, 'n_estimators': 1, 'colsample_bytree': 0.5507357714330161, 'subsample': 0.8317508845540279, 'reg_alpha': 0.025307919231093434, 'reg_lambda': 0.8040402570874933}\n",
      "5\n"
     ]
    },
    {
     "name": "stderr",
     "output_type": "stream",
     "text": [
      "\u001b[32m[I 2022-12-07 05:51:53,487]\u001b[0m Trial 1 finished with value: 192.7409873860779 and parameters: {'learning_rate': 0.04339023068341412, 'n_estimators': 194, 'colsample_bytree': 0.9818099885446264, 'subsample': 0.92650472773368, 'reg_alpha': 1.4722444603479286, 'reg_lambda': 1.9254886430096263}. Best is trial 1 with value: 192.7409873860779.\u001b[0m\n",
      "\u001b[32m[I 2022-12-07 05:51:53,526]\u001b[0m Trial 2 finished with value: 190.23321188008427 and parameters: {'learning_rate': 0.08526253048016884, 'n_estimators': 63, 'colsample_bytree': 0.5847463733430462, 'subsample': 0.7784006312291751, 'reg_alpha': 4.680773870803905, 'reg_lambda': 3.480148983374865}. Best is trial 1 with value: 192.7409873860779.\u001b[0m\n",
      "\u001b[32m[I 2022-12-07 05:51:53,543]\u001b[0m Trial 3 finished with value: 246.88150744374929 and parameters: {'learning_rate': 0.05743605583884714, 'n_estimators': 19, 'colsample_bytree': 0.8075036133495849, 'subsample': 0.9950269250521316, 'reg_alpha': 0.7004200761826201, 'reg_lambda': 2.591648261818684}. Best is trial 3 with value: 246.88150744374929.\u001b[0m\n",
      "\u001b[32m[I 2022-12-07 05:51:53,631]\u001b[0m Trial 4 finished with value: 185.2498321525263 and parameters: {'learning_rate': 0.0878599341208676, 'n_estimators': 148, 'colsample_bytree': 0.848507870497634, 'subsample': 0.8512420419935547, 'reg_alpha': 1.7974557560987758, 'reg_lambda': 1.4679592213224668}. Best is trial 3 with value: 246.88150744374929.\u001b[0m\n",
      "\u001b[32m[I 2022-12-07 05:51:53,726]\u001b[0m Trial 5 finished with value: 181.81594244258454 and parameters: {'learning_rate': 0.08112675439237285, 'n_estimators': 162, 'colsample_bytree': 0.9335361592900518, 'subsample': 0.9566202762782356, 'reg_alpha': 2.556711994304689, 'reg_lambda': 2.507581473435998}. Best is trial 3 with value: 246.88150744374929.\u001b[0m\n",
      "\u001b[32m[I 2022-12-07 05:51:53,805]\u001b[0m Trial 6 finished with value: 191.5233073573842 and parameters: {'learning_rate': 0.08003122271771075, 'n_estimators': 130, 'colsample_bytree': 0.8509834386288517, 'subsample': 0.8978963347180505, 'reg_alpha': 4.450026709087831, 'reg_lambda': 1.689975784257679}. Best is trial 3 with value: 246.88150744374929.\u001b[0m\n",
      "\u001b[32m[I 2022-12-07 05:51:53,822]\u001b[0m Trial 7 finished with value: 282.1275828372063 and parameters: {'learning_rate': 0.03818271231135446, 'n_estimators': 18, 'colsample_bytree': 0.789140070498087, 'subsample': 0.517971136898371, 'reg_alpha': 2.3279900906623006, 'reg_lambda': 2.713223173537883}. Best is trial 7 with value: 282.1275828372063.\u001b[0m\n",
      "\u001b[32m[I 2022-12-07 05:51:53,889]\u001b[0m Trial 8 finished with value: 190.04015782436267 and parameters: {'learning_rate': 0.029367583960700158, 'n_estimators': 118, 'colsample_bytree': 0.5152501249695247, 'subsample': 0.5186740943746072, 'reg_alpha': 4.113002803298292, 'reg_lambda': 1.8009532070563146}. Best is trial 7 with value: 282.1275828372063.\u001b[0m\n",
      "\u001b[32m[I 2022-12-07 05:51:53,954]\u001b[0m Trial 9 finished with value: 229.7798714626344 and parameters: {'learning_rate': 0.013578990752536595, 'n_estimators': 104, 'colsample_bytree': 0.8849967765493054, 'subsample': 0.6079105137484215, 'reg_alpha': 3.114452379095001, 'reg_lambda': 0.42673732496884}. Best is trial 7 with value: 282.1275828372063.\u001b[0m\n",
      "5it [00:03,  1.48it/s]"
     ]
    },
    {
     "name": "stdout",
     "output_type": "stream",
     "text": [
      "Best trial : score 282.1275828372063, \n",
      "params {'learning_rate': 0.03818271231135446, 'n_estimators': 18, 'colsample_bytree': 0.789140070498087, 'subsample': 0.517971136898371, 'reg_alpha': 2.3279900906623006, 'reg_lambda': 2.713223173537883}\n"
     ]
    },
    {
     "name": "stderr",
     "output_type": "stream",
     "text": [
      "\n"
     ]
    }
   ],
   "source": [
    "def objective(trial):\n",
    "    param = {\n",
    "        'learning_rate': trial.suggest_float('learning_rate', 1e-3, 0.1),\n",
    "        'n_estimators': trial.suggest_int('n_estimators', 0, 200),\n",
    "        'colsample_bytree' : trial.suggest_float('colsample_bytree', 0.5, 1.0),\n",
    "        'subsample' :trial.suggest_float('subsample', 0.5, 1.0),\n",
    "        'reg_alpha' : trial.suggest_float('reg_alpha', 0.0, 5.0),\n",
    "        'reg_lambda' : trial.suggest_float('reg_lambda', 0.0, 5.0),\n",
    "        'n_jobs' : -1,\n",
    "    }\n",
    "    model = LGBMRegressor(**param)\n",
    "    model.fit(train_x, train_y, eval_set=[(valid_x, valid_y)], verbose=0)\n",
    "\n",
    "    y_valid_pred = model.predict(valid_x)\n",
    "    return MAE(valid_y, y_valid_pred)\n",
    "\n",
    "sampler = TPESampler(seed=42)\n",
    "\n",
    "kfold = KFold(n_splits=5, shuffle=True, random_state=42)\n",
    "n_iter=0\n",
    "for train_index, test_index in tqdm(kfold.split(Yeongdeungpo_x, Yeongdeungpo_y)):\n",
    "    n_iter += 1\n",
    "    print(n_iter)\n",
    "    train_x= Yeongdeungpo_x.iloc[train_index]\n",
    "    valid_x= Yeongdeungpo_x.iloc[test_index]\n",
    "    train_y= Yeongdeungpo_y.iloc[train_index]\n",
    "    valid_y= Yeongdeungpo_y.iloc[test_index]\n",
    "\n",
    "    study = optuna.create_study(direction='maximize', sampler=sampler)\n",
    "    study.optimize(objective, n_trials=10)\n",
    "\n",
    "    print('Best trial : score {}, \\nparams {}'.format(study.best_trial.value, study.best_trial.params))\n",
    "#for Yeongdeungpo\n",
    "#Best trial : score 282.1275828372063, \n",
    "#params {'learning_rate': 0.03818271231135446, 'n_estimators': 18, 'colsample_bytree': 0.789140070498087, 'subsample': 0.517971136898371, 'reg_alpha': 2.3279900906623006, 'reg_lambda': 2.713223173537883}"
   ]
  },
  {
   "cell_type": "code",
   "execution_count": 36,
   "id": "af772ce0",
   "metadata": {},
   "outputs": [
    {
     "name": "stdout",
     "output_type": "stream",
     "text": [
      "{'max_depth': -1, 'n_estimators': 100}\n",
      "LGBMRegressor()\n"
     ]
    }
   ],
   "source": [
    "lgbm = LGBMRegressor()\n",
    "\n",
    "param_grid = [\n",
    "    {'n_estimators': [100, 200, 300, 400, 500, 600, 700, 800, 900, 1000], \n",
    "     'max_depth': [-1, 15, 30, 45, 60]}\n",
    "]\n",
    "\n",
    "grid_search = GridSearchCV(lgbm, param_grid, cv=3, scoring='neg_mean_squared_error', \n",
    "                           return_train_score=True, n_jobs=-1)\n",
    "grid_search.fit(Dongjak_x, Dongjak_y)\n",
    "\n",
    "print(grid_search.best_params_)\n",
    "print(grid_search.best_estimator_)"
   ]
  },
  {
   "cell_type": "code",
   "execution_count": 37,
   "id": "72e79536",
   "metadata": {},
   "outputs": [
    {
     "name": "stderr",
     "output_type": "stream",
     "text": [
      "0it [00:00, ?it/s]\u001b[32m[I 2022-12-07 09:36:45,103]\u001b[0m A new study created in memory with name: no-name-015e218e-2934-4087-bc60-772292d77095\u001b[0m\n",
      "\u001b[32m[I 2022-12-07 09:36:45,163]\u001b[0m Trial 0 finished with value: 215.50152206298978 and parameters: {'learning_rate': 0.03807947176588889, 'n_estimators': 191, 'colsample_bytree': 0.8659969709057025, 'subsample': 0.7993292420985183, 'reg_alpha': 0.7800932022121826, 'reg_lambda': 0.7799726016810132}. Best is trial 0 with value: 215.50152206298978.\u001b[0m\n",
      "\u001b[32m[I 2022-12-07 09:36:45,200]\u001b[0m Trial 1 finished with value: 260.34801818926593 and parameters: {'learning_rate': 0.006750277604651747, 'n_estimators': 174, 'colsample_bytree': 0.8005575058716043, 'subsample': 0.8540362888980227, 'reg_alpha': 0.10292247147901223, 'reg_lambda': 4.8495492608099715}. Best is trial 1 with value: 260.34801818926593.\u001b[0m\n",
      "\u001b[32m[I 2022-12-07 09:36:45,212]\u001b[0m Trial 2 finished with value: 232.80565598313444 and parameters: {'learning_rate': 0.08341182143924175, 'n_estimators': 42, 'colsample_bytree': 0.5909124836035503, 'subsample': 0.5917022549267169, 'reg_alpha': 1.5212112147976886, 'reg_lambda': 2.6237821581611893}. Best is trial 1 with value: 260.34801818926593.\u001b[0m\n",
      "\u001b[32m[I 2022-12-07 09:36:45,229]\u001b[0m Trial 3 finished with value: 236.1576068876417 and parameters: {'learning_rate': 0.04376255684556946, 'n_estimators': 58, 'colsample_bytree': 0.8059264473611898, 'subsample': 0.569746930326021, 'reg_alpha': 1.4607232426760908, 'reg_lambda': 1.8318092164684585}. Best is trial 1 with value: 260.34801818926593.\u001b[0m\n",
      "\u001b[32m[I 2022-12-07 09:36:45,263]\u001b[0m Trial 4 finished with value: 213.68407473707876 and parameters: {'learning_rate': 0.04615092843748656, 'n_estimators': 157, 'colsample_bytree': 0.5998368910791798, 'subsample': 0.7571172192068059, 'reg_alpha': 2.9620728443102124, 'reg_lambda': 0.23225206359998862}. Best is trial 1 with value: 260.34801818926593.\u001b[0m\n"
     ]
    },
    {
     "name": "stdout",
     "output_type": "stream",
     "text": [
      "1\n"
     ]
    },
    {
     "name": "stderr",
     "output_type": "stream",
     "text": [
      "\u001b[32m[I 2022-12-07 09:36:45,275]\u001b[0m Trial 5 finished with value: 243.03217883919592 and parameters: {'learning_rate': 0.0611469403382424, 'n_estimators': 34, 'colsample_bytree': 0.5325257964926398, 'subsample': 0.9744427686266666, 'reg_alpha': 4.828160165372797, 'reg_lambda': 4.041986740582305}. Best is trial 1 with value: 260.34801818926593.\u001b[0m\n",
      "\u001b[32m[I 2022-12-07 09:36:45,285]\u001b[0m Trial 6 finished with value: 284.62603122487457 and parameters: {'learning_rate': 0.0311567631481637, 'n_estimators': 19, 'colsample_bytree': 0.8421165132560784, 'subsample': 0.7200762468698007, 'reg_alpha': 0.6101911742238941, 'reg_lambda': 2.475884550556351}. Best is trial 6 with value: 284.62603122487457.\u001b[0m\n",
      "\u001b[32m[I 2022-12-07 09:36:45,323]\u001b[0m Trial 7 finished with value: 276.0024028669983 and parameters: {'learning_rate': 0.004404463590406622, 'n_estimators': 182, 'colsample_bytree': 0.6293899908000085, 'subsample': 0.831261142176991, 'reg_alpha': 1.5585553804470549, 'reg_lambda': 2.600340105889054}. Best is trial 6 with value: 284.62603122487457.\u001b[0m\n",
      "\u001b[32m[I 2022-12-07 09:36:45,335]\u001b[0m Trial 8 finished with value: 242.8395853924126 and parameters: {'learning_rate': 0.05512431765498469, 'n_estimators': 37, 'colsample_bytree': 0.9847923138822793, 'subsample': 0.8875664116805573, 'reg_alpha': 4.697494707820946, 'reg_lambda': 4.474136752138244}. Best is trial 6 with value: 284.62603122487457.\u001b[0m\n",
      "\u001b[32m[I 2022-12-07 09:36:45,373]\u001b[0m Trial 9 finished with value: 212.0642604193806 and parameters: {'learning_rate': 0.06019209790229743, 'n_estimators': 185, 'colsample_bytree': 0.5442462510259598, 'subsample': 0.5979914312095727, 'reg_alpha': 0.22613644455269033, 'reg_lambda': 1.6266516538163218}. Best is trial 6 with value: 284.62603122487457.\u001b[0m\n",
      "1it [00:00,  3.68it/s]\u001b[32m[I 2022-12-07 09:36:45,375]\u001b[0m A new study created in memory with name: no-name-71ad6608-35a5-4486-b871-239550c1760b\u001b[0m\n",
      "\u001b[32m[I 2022-12-07 09:36:45,397]\u001b[0m Trial 0 finished with value: 190.66453744083387 and parameters: {'learning_rate': 0.03947905167925872, 'n_estimators': 54, 'colsample_bytree': 0.9143687545759647, 'subsample': 0.6783766633467947, 'reg_alpha': 1.4046725484369038, 'reg_lambda': 2.7134804157912424}. Best is trial 0 with value: 190.66453744083387.\u001b[0m\n",
      "\u001b[32m[I 2022-12-07 09:36:45,441]\u001b[0m Trial 1 finished with value: 190.58328703502517 and parameters: {'learning_rate': 0.014951498272501501, 'n_estimators': 161, 'colsample_bytree': 0.5372753218398854, 'subsample': 0.9934434683002586, 'reg_alpha': 3.861223846483287, 'reg_lambda': 0.993578407670862}. Best is trial 0 with value: 190.66453744083387.\u001b[0m\n",
      "\u001b[32m[I 2022-12-07 09:36:45,476]\u001b[0m Trial 2 finished with value: 268.26609166019773 and parameters: {'learning_rate': 0.0015466895952366377, 'n_estimators': 163, 'colsample_bytree': 0.8534286719238086, 'subsample': 0.8645035840204937, 'reg_alpha': 3.8563517334297286, 'reg_lambda': 0.3702232586704518}. Best is trial 2 with value: 268.26609166019773.\u001b[0m\n",
      "\u001b[32m[I 2022-12-07 09:36:45,486]\u001b[0m Trial 3 finished with value: 224.5225853887349 and parameters: {'learning_rate': 0.03648810712588299, 'n_estimators': 23, 'colsample_bytree': 0.9315517129377968, 'subsample': 0.811649063413779, 'reg_alpha': 1.654490124263246, 'reg_lambda': 0.3177917514301182}. Best is trial 2 with value: 268.26609166019773.\u001b[0m\n",
      "\u001b[32m[I 2022-12-07 09:36:45,502]\u001b[0m Trial 4 finished with value: 191.8898668431604 and parameters: {'learning_rate': 0.03178724984985056, 'n_estimators': 65, 'colsample_bytree': 0.864803089169032, 'subsample': 0.8187787356776066, 'reg_alpha': 4.436063712881633, 'reg_lambda': 2.3610746258097466}. Best is trial 2 with value: 268.26609166019773.\u001b[0m\n",
      "\u001b[32m[I 2022-12-07 09:36:45,535]\u001b[0m Trial 5 finished with value: 194.41179416575145 and parameters: {'learning_rate': 0.012839830347891868, 'n_estimators': 143, 'colsample_bytree': 0.8803925243084487, 'subsample': 0.7806385987847482, 'reg_alpha': 3.854835899772805, 'reg_lambda': 2.4689779818219537}. Best is trial 2 with value: 268.26609166019773.\u001b[0m\n",
      "\u001b[32m[I 2022-12-07 09:36:45,551]\u001b[0m Trial 6 finished with value: 180.7806762637472 and parameters: {'learning_rate': 0.052750550108817414, 'n_estimators': 85, 'colsample_bytree': 0.5127095633720475, 'subsample': 0.5539457134966522, 'reg_alpha': 0.15714592843367126, 'reg_lambda': 3.182052056318902}. Best is trial 2 with value: 268.26609166019773.\u001b[0m\n",
      "\u001b[32m[I 2022-12-07 09:36:45,575]\u001b[0m Trial 7 finished with value: 185.5557189251995 and parameters: {'learning_rate': 0.03212124212655634, 'n_estimators': 102, 'colsample_bytree': 0.9537832369630466, 'subsample': 0.6246461145744375, 'reg_alpha': 2.0519146151781484, 'reg_lambda': 3.7777556927152434}. Best is trial 2 with value: 268.26609166019773.\u001b[0m\n"
     ]
    },
    {
     "name": "stdout",
     "output_type": "stream",
     "text": [
      "Best trial : score 284.62603122487457, \n",
      "params {'learning_rate': 0.0311567631481637, 'n_estimators': 19, 'colsample_bytree': 0.8421165132560784, 'subsample': 0.7200762468698007, 'reg_alpha': 0.6101911742238941, 'reg_lambda': 2.475884550556351}\n",
      "2\n"
     ]
    },
    {
     "name": "stderr",
     "output_type": "stream",
     "text": [
      "\u001b[32m[I 2022-12-07 09:36:45,583]\u001b[0m Trial 8 finished with value: 261.3368212850395 and parameters: {'learning_rate': 0.023651018383670626, 'n_estimators': 15, 'colsample_bytree': 0.6448757264568841, 'subsample': 0.5806106436270022, 'reg_alpha': 4.648488261712865, 'reg_lambda': 4.040601897822085}. Best is trial 2 with value: 268.26609166019773.\u001b[0m\n",
      "\u001b[32m[I 2022-12-07 09:36:45,617]\u001b[0m Trial 9 finished with value: 187.10358929764774 and parameters: {'learning_rate': 0.06370697189453192, 'n_estimators': 175, 'colsample_bytree': 0.9018360384495572, 'subsample': 0.5932850294430179, 'reg_alpha': 4.462794992449889, 'reg_lambda': 2.6967112095782535}. Best is trial 2 with value: 268.26609166019773.\u001b[0m\n",
      "2it [00:00,  3.92it/s]\u001b[32m[I 2022-12-07 09:36:45,619]\u001b[0m A new study created in memory with name: no-name-9784ce89-6b10-442d-bce0-6ba7f0151624\u001b[0m\n",
      "\u001b[32m[I 2022-12-07 09:36:45,654]\u001b[0m Trial 0 finished with value: 173.26660904065406 and parameters: {'learning_rate': 0.0809365753612422, 'n_estimators': 180, 'colsample_bytree': 0.6590017374859319, 'subsample': 0.5550259622638384, 'reg_alpha': 1.1396758127097084, 'reg_lambda': 2.1355389431312815}. Best is trial 0 with value: 173.26660904065406.\u001b[0m\n",
      "\u001b[32m[I 2022-12-07 09:36:45,703]\u001b[0m Trial 1 finished with value: 184.07171835035032 and parameters: {'learning_rate': 0.08198346182632682, 'n_estimators': 173, 'colsample_bytree': 0.5034760652655954, 'subsample': 0.7553736512887829, 'reg_alpha': 2.087055015743895, 'reg_lambda': 1.1105390523536514}. Best is trial 1 with value: 184.07171835035032.\u001b[0m\n",
      "\u001b[32m[I 2022-12-07 09:36:45,719]\u001b[0m Trial 2 finished with value: 236.98675072848596 and parameters: {'learning_rate': 0.012866671366034598, 'n_estimators': 67, 'colsample_bytree': 0.9714548519562596, 'subsample': 0.6616014660103776, 'reg_alpha': 2.5939531087168306, 'reg_lambda': 3.515094794475889}. Best is trial 2 with value: 236.98675072848596.\u001b[0m\n",
      "\u001b[32m[I 2022-12-07 09:36:45,762]\u001b[0m Trial 3 finished with value: 173.75410268580256 and parameters: {'learning_rate': 0.03699933063555011, 'n_estimators': 195, 'colsample_bytree': 0.9812236474710556, 'subsample': 0.6258911479126821, 'reg_alpha': 2.4862425294619275, 'reg_lambda': 1.5043915490838482}. Best is trial 2 with value: 236.98675072848596.\u001b[0m\n",
      "\u001b[32m[I 2022-12-07 09:36:45,768]\u001b[0m Trial 4 finished with value: 284.0250304243942 and parameters: {'learning_rate': 0.029199208943369297, 'n_estimators': 7, 'colsample_bytree': 0.8047821669899484, 'subsample': 0.7513395116144308, 'reg_alpha': 0.25739375624994676, 'reg_lambda': 1.3932323211830573}. Best is trial 4 with value: 284.0250304243942.\u001b[0m\n",
      "\u001b[32m[I 2022-12-07 09:36:45,783]\u001b[0m Trial 5 finished with value: 192.66486413347857 and parameters: {'learning_rate': 0.09091832271069872, 'n_estimators': 48, 'colsample_bytree': 0.5724474360456115, 'subsample': 0.7447263801387816, 'reg_alpha': 4.928252270553004, 'reg_lambda': 1.2102763575575022}. Best is trial 4 with value: 284.0250304243942.\u001b[0m\n"
     ]
    },
    {
     "name": "stdout",
     "output_type": "stream",
     "text": [
      "Best trial : score 268.26609166019773, \n",
      "params {'learning_rate': 0.0015466895952366377, 'n_estimators': 163, 'colsample_bytree': 0.8534286719238086, 'subsample': 0.8645035840204937, 'reg_alpha': 3.8563517334297286, 'reg_lambda': 0.3702232586704518}\n",
      "3\n"
     ]
    },
    {
     "name": "stderr",
     "output_type": "stream",
     "text": [
      "\u001b[32m[I 2022-12-07 09:36:45,819]\u001b[0m Trial 6 finished with value: 180.59936971449605 and parameters: {'learning_rate': 0.06754141919318198, 'n_estimators': 153, 'colsample_bytree': 0.6188187719961998, 'subsample': 0.8641081743059298, 'reg_alpha': 1.838915663596266, 'reg_lambda': 3.1615291529678973}. Best is trial 4 with value: 284.0250304243942.\u001b[0m\n",
      "\u001b[32m[I 2022-12-07 09:36:45,844]\u001b[0m Trial 7 finished with value: 189.95017904231904 and parameters: {'learning_rate': 0.06371944136532857, 'n_estimators': 107, 'colsample_bytree': 0.5451448850272042, 'subsample': 0.917651247794619, 'reg_alpha': 1.6039003248586792, 'reg_lambda': 0.9325925519992712}. Best is trial 4 with value: 284.0250304243942.\u001b[0m\n",
      "\u001b[32m[I 2022-12-07 09:36:45,874]\u001b[0m Trial 8 finished with value: 255.91129352323298 and parameters: {'learning_rate': 0.005036739013921628, 'n_estimators': 118, 'colsample_bytree': 0.8387821809211412, 'subsample': 0.508293914463928, 'reg_alpha': 2.560465291496405, 'reg_lambda': 1.1324788759896898}. Best is trial 4 with value: 284.0250304243942.\u001b[0m\n",
      "\u001b[32m[I 2022-12-07 09:36:45,885]\u001b[0m Trial 9 finished with value: 207.4423935663073 and parameters: {'learning_rate': 0.06487210625053554, 'n_estimators': 35, 'colsample_bytree': 0.845468869051233, 'subsample': 0.6933676731502687, 'reg_alpha': 4.6836499436836725, 'reg_lambda': 0.6876047207299663}. Best is trial 4 with value: 284.0250304243942.\u001b[0m\n",
      "3it [00:00,  3.83it/s]\u001b[32m[I 2022-12-07 09:36:45,887]\u001b[0m A new study created in memory with name: no-name-01227f5b-d655-48b7-b995-ada4dc0e22c9\u001b[0m\n",
      "\u001b[32m[I 2022-12-07 09:36:45,897]\u001b[0m Trial 0 finished with value: 203.98336608103673 and parameters: {'learning_rate': 0.034765568753975594, 'n_estimators': 22, 'colsample_bytree': 0.9623468091392814, 'subsample': 0.9386696766904905, 'reg_alpha': 1.289708138575778, 'reg_lambda': 3.299920230170895}. Best is trial 0 with value: 203.98336608103673.\u001b[0m\n",
      "\u001b[32m[I 2022-12-07 09:36:45,922]\u001b[0m Trial 1 finished with value: 159.52267396712924 and parameters: {'learning_rate': 0.08190499781992037, 'n_estimators': 111, 'colsample_bytree': 0.7648252891780032, 'subsample': 0.6209261454502258, 'reg_alpha': 0.46551383902949606, 'reg_lambda': 4.486078789766633}. Best is trial 0 with value: 203.98336608103673.\u001b[0m\n",
      "\u001b[32m[I 2022-12-07 09:36:45,949]\u001b[0m Trial 2 finished with value: 155.6066484444082 and parameters: {'learning_rate': 0.09014138765916972, 'n_estimators': 127, 'colsample_bytree': 0.6695148955243504, 'subsample': 0.6746047873063304, 'reg_alpha': 3.629778394351197, 'reg_lambda': 4.485551299762886}. Best is trial 0 with value: 203.98336608103673.\u001b[0m\n",
      "\u001b[32m[I 2022-12-07 09:36:45,981]\u001b[0m Trial 3 finished with value: 151.82286920313143 and parameters: {'learning_rate': 0.08882155600224662, 'n_estimators': 156, 'colsample_bytree': 0.8210158230771438, 'subsample': 0.5420699824975244, 'reg_alpha': 0.8081435704730688, 'reg_lambda': 4.492770942635397}. Best is trial 0 with value: 203.98336608103673.\u001b[0m\n",
      "\u001b[32m[I 2022-12-07 09:36:45,985]\u001b[0m Trial 4 finished with value: 251.45434216757556 and parameters: {'learning_rate': 0.06103647690629941, 'n_estimators': 1, 'colsample_bytree': 0.5507357714330161, 'subsample': 0.8317508845540279, 'reg_alpha': 0.025307919231093434, 'reg_lambda': 0.8040402570874933}. Best is trial 4 with value: 251.45434216757556.\u001b[0m\n",
      "\u001b[32m[I 2022-12-07 09:36:46,015]\u001b[0m Trial 5 finished with value: 156.96657645004498 and parameters: {'learning_rate': 0.05532464514729203, 'n_estimators': 139, 'colsample_bytree': 0.8259806297513003, 'subsample': 0.61213465473028, 'reg_alpha': 3.560896106737679, 'reg_lambda': 1.1862454374840004}. Best is trial 4 with value: 251.45434216757556.\u001b[0m\n",
      "\u001b[32m[I 2022-12-07 09:36:46,044]\u001b[0m Trial 6 finished with value: 164.0702214610944 and parameters: {'learning_rate': 0.03321457011776751, 'n_estimators': 150, 'colsample_bytree': 0.8248164495236073, 'subsample': 0.924611705247089, 'reg_alpha': 3.2880644615017167, 'reg_lambda': 2.841543016677358}. Best is trial 4 with value: 251.45434216757556.\u001b[0m\n",
      "\u001b[32m[I 2022-12-07 09:36:46,062]\u001b[0m Trial 7 finished with value: 210.36887375406687 and parameters: {'learning_rate': 0.010273802014981157, 'n_estimators': 73, 'colsample_bytree': 0.6326011838408627, 'subsample': 0.6219948216895418, 'reg_alpha': 4.865052773762228, 'reg_lambda': 1.965488623333802}. Best is trial 4 with value: 251.45434216757556.\u001b[0m\n"
     ]
    },
    {
     "name": "stdout",
     "output_type": "stream",
     "text": [
      "Best trial : score 284.0250304243942, \n",
      "params {'learning_rate': 0.029199208943369297, 'n_estimators': 7, 'colsample_bytree': 0.8047821669899484, 'subsample': 0.7513395116144308, 'reg_alpha': 0.25739375624994676, 'reg_lambda': 1.3932323211830573}\n",
      "4\n"
     ]
    },
    {
     "name": "stderr",
     "output_type": "stream",
     "text": [
      "\u001b[32m[I 2022-12-07 09:36:46,091]\u001b[0m Trial 8 finished with value: 151.48241290269857 and parameters: {'learning_rate': 0.08931260896253422, 'n_estimators': 126, 'colsample_bytree': 0.8974056517708242, 'subsample': 0.751318546552596, 'reg_alpha': 2.8845194231317954, 'reg_lambda': 2.4625884690943196}. Best is trial 4 with value: 251.45434216757556.\u001b[0m\n",
      "\u001b[32m[I 2022-12-07 09:36:46,122]\u001b[0m Trial 9 finished with value: 174.02928008534715 and parameters: {'learning_rate': 0.020329055792006407, 'n_estimators': 145, 'colsample_bytree': 0.6403861812204279, 'subsample': 0.5121579832157269, 'reg_alpha': 3.227361479535839, 'reg_lambda': 0.8855533970352447}. Best is trial 4 with value: 251.45434216757556.\u001b[0m\n",
      "4it [00:01,  3.97it/s]\u001b[32m[I 2022-12-07 09:36:46,124]\u001b[0m A new study created in memory with name: no-name-cce98d00-8556-4d57-bebd-5c4c92728daf\u001b[0m\n",
      "\u001b[32m[I 2022-12-07 09:36:46,163]\u001b[0m Trial 0 finished with value: 210.3873689300642 and parameters: {'learning_rate': 0.09410539985093852, 'n_estimators': 191, 'colsample_bytree': 0.9574321951102243, 'subsample': 0.6850793501277221, 'reg_alpha': 0.07728308264433714, 'reg_lambda': 4.641592812938627}. Best is trial 0 with value: 210.3873689300642.\u001b[0m\n",
      "\u001b[32m[I 2022-12-07 09:36:46,200]\u001b[0m Trial 1 finished with value: 204.73082053231315 and parameters: {'learning_rate': 0.04339023068341412, 'n_estimators': 194, 'colsample_bytree': 0.9818099885446264, 'subsample': 0.92650472773368, 'reg_alpha': 1.4722444603479286, 'reg_lambda': 1.9254886430096263}. Best is trial 0 with value: 210.3873689300642.\u001b[0m\n",
      "\u001b[32m[I 2022-12-07 09:36:46,217]\u001b[0m Trial 2 finished with value: 207.24242062936403 and parameters: {'learning_rate': 0.08526253048016884, 'n_estimators': 63, 'colsample_bytree': 0.5847463733430462, 'subsample': 0.7784006312291751, 'reg_alpha': 4.680773870803905, 'reg_lambda': 3.480148983374865}. Best is trial 0 with value: 210.3873689300642.\u001b[0m\n",
      "\u001b[32m[I 2022-12-07 09:36:46,226]\u001b[0m Trial 3 finished with value: 231.1020301469328 and parameters: {'learning_rate': 0.05743605583884714, 'n_estimators': 19, 'colsample_bytree': 0.8075036133495849, 'subsample': 0.9950269250521316, 'reg_alpha': 0.7004200761826201, 'reg_lambda': 2.591648261818684}. Best is trial 3 with value: 231.1020301469328.\u001b[0m\n",
      "\u001b[32m[I 2022-12-07 09:36:46,254]\u001b[0m Trial 4 finished with value: 208.7213942792207 and parameters: {'learning_rate': 0.0878599341208676, 'n_estimators': 148, 'colsample_bytree': 0.848507870497634, 'subsample': 0.8512420419935547, 'reg_alpha': 1.7974557560987758, 'reg_lambda': 1.4679592213224668}. Best is trial 3 with value: 231.1020301469328.\u001b[0m\n",
      "\u001b[32m[I 2022-12-07 09:36:46,287]\u001b[0m Trial 5 finished with value: 209.23494512314656 and parameters: {'learning_rate': 0.08112675439237285, 'n_estimators': 162, 'colsample_bytree': 0.9335361592900518, 'subsample': 0.9566202762782356, 'reg_alpha': 2.556711994304689, 'reg_lambda': 2.507581473435998}. Best is trial 3 with value: 231.1020301469328.\u001b[0m\n",
      "\u001b[32m[I 2022-12-07 09:36:46,315]\u001b[0m Trial 6 finished with value: 211.55005498127124 and parameters: {'learning_rate': 0.08003122271771075, 'n_estimators': 130, 'colsample_bytree': 0.8509834386288517, 'subsample': 0.8978963347180505, 'reg_alpha': 4.450026709087831, 'reg_lambda': 1.689975784257679}. Best is trial 3 with value: 231.1020301469328.\u001b[0m\n"
     ]
    },
    {
     "name": "stdout",
     "output_type": "stream",
     "text": [
      "Best trial : score 251.45434216757556, \n",
      "params {'learning_rate': 0.06103647690629941, 'n_estimators': 1, 'colsample_bytree': 0.5507357714330161, 'subsample': 0.8317508845540279, 'reg_alpha': 0.025307919231093434, 'reg_lambda': 0.8040402570874933}\n",
      "5\n"
     ]
    },
    {
     "name": "stderr",
     "output_type": "stream",
     "text": [
      "\u001b[32m[I 2022-12-07 09:36:46,324]\u001b[0m Trial 7 finished with value: 242.54260711039302 and parameters: {'learning_rate': 0.03818271231135446, 'n_estimators': 18, 'colsample_bytree': 0.789140070498087, 'subsample': 0.517971136898371, 'reg_alpha': 2.3279900906623006, 'reg_lambda': 2.713223173537883}. Best is trial 7 with value: 242.54260711039302.\u001b[0m\n",
      "\u001b[32m[I 2022-12-07 09:36:46,349]\u001b[0m Trial 8 finished with value: 216.6652730043417 and parameters: {'learning_rate': 0.029367583960700158, 'n_estimators': 118, 'colsample_bytree': 0.5152501249695247, 'subsample': 0.5186740943746072, 'reg_alpha': 4.113002803298292, 'reg_lambda': 1.8009532070563146}. Best is trial 7 with value: 242.54260711039302.\u001b[0m\n",
      "\u001b[32m[I 2022-12-07 09:36:46,370]\u001b[0m Trial 9 finished with value: 224.65844285715548 and parameters: {'learning_rate': 0.013578990752536595, 'n_estimators': 104, 'colsample_bytree': 0.8849967765493054, 'subsample': 0.6079105137484215, 'reg_alpha': 3.114452379095001, 'reg_lambda': 0.42673732496884}. Best is trial 7 with value: 242.54260711039302.\u001b[0m\n",
      "5it [00:01,  3.94it/s]"
     ]
    },
    {
     "name": "stdout",
     "output_type": "stream",
     "text": [
      "Best trial : score 242.54260711039302, \n",
      "params {'learning_rate': 0.03818271231135446, 'n_estimators': 18, 'colsample_bytree': 0.789140070498087, 'subsample': 0.517971136898371, 'reg_alpha': 2.3279900906623006, 'reg_lambda': 2.713223173537883}\n"
     ]
    },
    {
     "name": "stderr",
     "output_type": "stream",
     "text": [
      "\n"
     ]
    }
   ],
   "source": [
    "def objective(trial):\n",
    "    param = {\n",
    "        'learning_rate': trial.suggest_float('learning_rate', 1e-3, 0.1),\n",
    "        'n_estimators': trial.suggest_int('n_estimators', 0, 200),\n",
    "        'colsample_bytree' : trial.suggest_float('colsample_bytree', 0.5, 1.0),\n",
    "        'subsample' :trial.suggest_float('subsample', 0.5, 1.0),\n",
    "        'reg_alpha' : trial.suggest_float('reg_alpha', 0.0, 5.0),\n",
    "        'reg_lambda' : trial.suggest_float('reg_lambda', 0.0, 5.0),\n",
    "        'n_jobs' : -1,\n",
    "    }\n",
    "    model = LGBMRegressor(**param)\n",
    "    model.fit(train_x, train_y, eval_set=[(valid_x, valid_y)], verbose=0)\n",
    "\n",
    "    y_valid_pred = model.predict(valid_x)\n",
    "    return MAE(valid_y, y_valid_pred)\n",
    "\n",
    "sampler = TPESampler(seed=42)\n",
    "\n",
    "kfold = KFold(n_splits=5, shuffle=True, random_state=42)\n",
    "n_iter=0\n",
    "for train_index, test_index in tqdm(kfold.split(Dongjak_x, Dongjak_y)):\n",
    "    n_iter += 1\n",
    "    print(n_iter)\n",
    "    train_x= Dongjak_x.iloc[train_index]\n",
    "    valid_x= Dongjak_x.iloc[test_index]\n",
    "    train_y= Dongjak_y.iloc[train_index]\n",
    "    valid_y= Dongjak_y.iloc[test_index]\n",
    "\n",
    "    study = optuna.create_study(direction='maximize', sampler=sampler)\n",
    "    study.optimize(objective, n_trials=10)\n",
    "\n",
    "    print('Best trial : score {}, \\nparams {}'.format(study.best_trial.value, study.best_trial.params))\n",
    "#for Dongjak\n",
    "#Best trial : score 242.54260711039302, \n",
    "#params {'learning_rate': 0.03818271231135446, 'n_estimators': 18, 'colsample_bytree': 0.789140070498087, 'subsample': 0.517971136898371, 'reg_alpha': 2.3279900906623006, 'reg_lambda': 2.713223173537883}"
   ]
  },
  {
   "cell_type": "code",
   "execution_count": 26,
   "id": "4c6cdbaa",
   "metadata": {},
   "outputs": [
    {
     "name": "stdout",
     "output_type": "stream",
     "text": [
      "{'max_depth': -1, 'n_estimators': 100}\n",
      "LGBMRegressor()\n"
     ]
    }
   ],
   "source": [
    "lgbm = LGBMRegressor()\n",
    "\n",
    "param_grid = [\n",
    "    {'n_estimators': [100, 200, 300, 400, 500, 600, 700, 800, 900, 1000], \n",
    "     'max_depth': [-1, 15, 30, 45, 60]}\n",
    "]\n",
    "\n",
    "grid_search = GridSearchCV(lgbm, param_grid, cv=3, scoring='neg_mean_squared_error', \n",
    "                           return_train_score=True, n_jobs=-1)\n",
    "grid_search.fit(Gwanak_x, Gwanak_y)\n",
    "\n",
    "print(grid_search.best_params_)\n",
    "print(grid_search.best_estimator_)"
   ]
  },
  {
   "cell_type": "code",
   "execution_count": 27,
   "id": "e08af2d6",
   "metadata": {},
   "outputs": [
    {
     "name": "stderr",
     "output_type": "stream",
     "text": [
      "0it [00:00, ?it/s]\u001b[32m[I 2022-12-07 06:17:22,287]\u001b[0m A new study created in memory with name: no-name-5d7ea327-0e3f-43e0-9611-175de27b07ed\u001b[0m\n",
      "\u001b[32m[I 2022-12-07 06:17:22,440]\u001b[0m Trial 0 finished with value: 148.9962777738184 and parameters: {'learning_rate': 0.03807947176588889, 'n_estimators': 191, 'colsample_bytree': 0.8659969709057025, 'subsample': 0.7993292420985183, 'reg_alpha': 0.7800932022121826, 'reg_lambda': 0.7799726016810132}. Best is trial 0 with value: 148.9962777738184.\u001b[0m\n"
     ]
    },
    {
     "name": "stdout",
     "output_type": "stream",
     "text": [
      "1\n"
     ]
    },
    {
     "name": "stderr",
     "output_type": "stream",
     "text": [
      "\u001b[32m[I 2022-12-07 06:17:22,544]\u001b[0m Trial 1 finished with value: 170.5801362385629 and parameters: {'learning_rate': 0.006750277604651747, 'n_estimators': 174, 'colsample_bytree': 0.8005575058716043, 'subsample': 0.8540362888980227, 'reg_alpha': 0.10292247147901223, 'reg_lambda': 4.8495492608099715}. Best is trial 1 with value: 170.5801362385629.\u001b[0m\n",
      "\u001b[32m[I 2022-12-07 06:17:22,574]\u001b[0m Trial 2 finished with value: 155.93740872641675 and parameters: {'learning_rate': 0.08341182143924175, 'n_estimators': 42, 'colsample_bytree': 0.5909124836035503, 'subsample': 0.5917022549267169, 'reg_alpha': 1.5212112147976886, 'reg_lambda': 2.6237821581611893}. Best is trial 1 with value: 170.5801362385629.\u001b[0m\n",
      "\u001b[32m[I 2022-12-07 06:17:22,614]\u001b[0m Trial 3 finished with value: 157.65997705581975 and parameters: {'learning_rate': 0.04376255684556946, 'n_estimators': 58, 'colsample_bytree': 0.8059264473611898, 'subsample': 0.569746930326021, 'reg_alpha': 1.4607232426760908, 'reg_lambda': 1.8318092164684585}. Best is trial 1 with value: 170.5801362385629.\u001b[0m\n",
      "\u001b[32m[I 2022-12-07 06:17:22,709]\u001b[0m Trial 4 finished with value: 151.34756835031183 and parameters: {'learning_rate': 0.04615092843748656, 'n_estimators': 157, 'colsample_bytree': 0.5998368910791798, 'subsample': 0.7571172192068059, 'reg_alpha': 2.9620728443102124, 'reg_lambda': 0.23225206359998862}. Best is trial 1 with value: 170.5801362385629.\u001b[0m\n",
      "\u001b[32m[I 2022-12-07 06:17:22,734]\u001b[0m Trial 5 finished with value: 166.09951730271874 and parameters: {'learning_rate': 0.0611469403382424, 'n_estimators': 34, 'colsample_bytree': 0.5325257964926398, 'subsample': 0.9744427686266666, 'reg_alpha': 4.828160165372797, 'reg_lambda': 4.041986740582305}. Best is trial 1 with value: 170.5801362385629.\u001b[0m\n",
      "\u001b[32m[I 2022-12-07 06:17:22,753]\u001b[0m Trial 6 finished with value: 178.8669714807891 and parameters: {'learning_rate': 0.0311567631481637, 'n_estimators': 19, 'colsample_bytree': 0.8421165132560784, 'subsample': 0.7200762468698007, 'reg_alpha': 0.6101911742238941, 'reg_lambda': 2.475884550556351}. Best is trial 6 with value: 178.8669714807891.\u001b[0m\n",
      "\u001b[32m[I 2022-12-07 06:17:22,857]\u001b[0m Trial 7 finished with value: 175.70586655840594 and parameters: {'learning_rate': 0.004404463590406622, 'n_estimators': 182, 'colsample_bytree': 0.6293899908000085, 'subsample': 0.831261142176991, 'reg_alpha': 1.5585553804470549, 'reg_lambda': 2.600340105889054}. Best is trial 6 with value: 178.8669714807891.\u001b[0m\n",
      "\u001b[32m[I 2022-12-07 06:17:22,886]\u001b[0m Trial 8 finished with value: 161.69367538834624 and parameters: {'learning_rate': 0.05512431765498469, 'n_estimators': 37, 'colsample_bytree': 0.9847923138822793, 'subsample': 0.8875664116805573, 'reg_alpha': 4.697494707820946, 'reg_lambda': 4.474136752138244}. Best is trial 6 with value: 178.8669714807891.\u001b[0m\n",
      "\u001b[32m[I 2022-12-07 06:17:22,996]\u001b[0m Trial 9 finished with value: 153.20388266155666 and parameters: {'learning_rate': 0.06019209790229743, 'n_estimators': 185, 'colsample_bytree': 0.5442462510259598, 'subsample': 0.5979914312095727, 'reg_alpha': 0.22613644455269033, 'reg_lambda': 1.6266516538163218}. Best is trial 6 with value: 178.8669714807891.\u001b[0m\n",
      "1it [00:00,  1.41it/s]\u001b[32m[I 2022-12-07 06:17:22,999]\u001b[0m A new study created in memory with name: no-name-e1fe81ae-7c74-49aa-82ff-e084e65098b1\u001b[0m\n",
      "\u001b[32m[I 2022-12-07 06:17:23,039]\u001b[0m Trial 0 finished with value: 170.8310250039875 and parameters: {'learning_rate': 0.03947905167925872, 'n_estimators': 54, 'colsample_bytree': 0.9143687545759647, 'subsample': 0.6783766633467947, 'reg_alpha': 1.4046725484369038, 'reg_lambda': 2.7134804157912424}. Best is trial 0 with value: 170.8310250039875.\u001b[0m\n",
      "\u001b[32m[I 2022-12-07 06:17:23,134]\u001b[0m Trial 1 finished with value: 163.5185261245544 and parameters: {'learning_rate': 0.014951498272501501, 'n_estimators': 161, 'colsample_bytree': 0.5372753218398854, 'subsample': 0.9934434683002586, 'reg_alpha': 3.861223846483287, 'reg_lambda': 0.993578407670862}. Best is trial 0 with value: 170.8310250039875.\u001b[0m\n"
     ]
    },
    {
     "name": "stdout",
     "output_type": "stream",
     "text": [
      "Best trial : score 178.8669714807891, \n",
      "params {'learning_rate': 0.0311567631481637, 'n_estimators': 19, 'colsample_bytree': 0.8421165132560784, 'subsample': 0.7200762468698007, 'reg_alpha': 0.6101911742238941, 'reg_lambda': 2.475884550556351}\n",
      "2\n"
     ]
    },
    {
     "name": "stderr",
     "output_type": "stream",
     "text": [
      "\u001b[32m[I 2022-12-07 06:17:23,236]\u001b[0m Trial 2 finished with value: 175.34466334903678 and parameters: {'learning_rate': 0.0015466895952366377, 'n_estimators': 163, 'colsample_bytree': 0.8534286719238086, 'subsample': 0.8645035840204937, 'reg_alpha': 3.8563517334297286, 'reg_lambda': 0.3702232586704518}. Best is trial 2 with value: 175.34466334903678.\u001b[0m\n",
      "\u001b[32m[I 2022-12-07 06:17:23,257]\u001b[0m Trial 3 finished with value: 168.62924829669817 and parameters: {'learning_rate': 0.03648810712588299, 'n_estimators': 23, 'colsample_bytree': 0.9315517129377968, 'subsample': 0.811649063413779, 'reg_alpha': 1.654490124263246, 'reg_lambda': 0.3177917514301182}. Best is trial 2 with value: 175.34466334903678.\u001b[0m\n",
      "\u001b[32m[I 2022-12-07 06:17:23,302]\u001b[0m Trial 4 finished with value: 170.5209478978584 and parameters: {'learning_rate': 0.03178724984985056, 'n_estimators': 65, 'colsample_bytree': 0.864803089169032, 'subsample': 0.8187787356776066, 'reg_alpha': 4.436063712881633, 'reg_lambda': 2.3610746258097466}. Best is trial 2 with value: 175.34466334903678.\u001b[0m\n",
      "\u001b[32m[I 2022-12-07 06:17:23,393]\u001b[0m Trial 5 finished with value: 169.6581771583073 and parameters: {'learning_rate': 0.012839830347891868, 'n_estimators': 143, 'colsample_bytree': 0.8803925243084487, 'subsample': 0.7806385987847482, 'reg_alpha': 3.854835899772805, 'reg_lambda': 2.4689779818219537}. Best is trial 2 with value: 175.34466334903678.\u001b[0m\n",
      "\u001b[32m[I 2022-12-07 06:17:23,446]\u001b[0m Trial 6 finished with value: 166.40040614681305 and parameters: {'learning_rate': 0.052750550108817414, 'n_estimators': 85, 'colsample_bytree': 0.5127095633720475, 'subsample': 0.5539457134966522, 'reg_alpha': 0.15714592843367126, 'reg_lambda': 3.182052056318902}. Best is trial 2 with value: 175.34466334903678.\u001b[0m\n",
      "\u001b[32m[I 2022-12-07 06:17:23,513]\u001b[0m Trial 7 finished with value: 169.68598341695605 and parameters: {'learning_rate': 0.03212124212655634, 'n_estimators': 102, 'colsample_bytree': 0.9537832369630466, 'subsample': 0.6246461145744375, 'reg_alpha': 2.0519146151781484, 'reg_lambda': 3.7777556927152434}. Best is trial 2 with value: 175.34466334903678.\u001b[0m\n",
      "\u001b[32m[I 2022-12-07 06:17:23,527]\u001b[0m Trial 8 finished with value: 173.60180583220583 and parameters: {'learning_rate': 0.023651018383670626, 'n_estimators': 15, 'colsample_bytree': 0.6448757264568841, 'subsample': 0.5806106436270022, 'reg_alpha': 4.648488261712865, 'reg_lambda': 4.040601897822085}. Best is trial 2 with value: 175.34466334903678.\u001b[0m\n",
      "\u001b[32m[I 2022-12-07 06:17:23,645]\u001b[0m Trial 9 finished with value: 174.1251186582119 and parameters: {'learning_rate': 0.06370697189453192, 'n_estimators': 175, 'colsample_bytree': 0.9018360384495572, 'subsample': 0.5932850294430179, 'reg_alpha': 4.462794992449889, 'reg_lambda': 2.6967112095782535}. Best is trial 2 with value: 175.34466334903678.\u001b[0m\n",
      "2it [00:01,  1.48it/s]\u001b[32m[I 2022-12-07 06:17:23,649]\u001b[0m A new study created in memory with name: no-name-3d789578-976a-45a7-b0ed-a5560ac0fa57\u001b[0m\n",
      "\u001b[32m[I 2022-12-07 06:17:23,759]\u001b[0m Trial 0 finished with value: 158.8458075705893 and parameters: {'learning_rate': 0.0809365753612422, 'n_estimators': 180, 'colsample_bytree': 0.6590017374859319, 'subsample': 0.5550259622638384, 'reg_alpha': 1.1396758127097084, 'reg_lambda': 2.1355389431312815}. Best is trial 0 with value: 158.8458075705893.\u001b[0m\n"
     ]
    },
    {
     "name": "stdout",
     "output_type": "stream",
     "text": [
      "Best trial : score 175.34466334903678, \n",
      "params {'learning_rate': 0.0015466895952366377, 'n_estimators': 163, 'colsample_bytree': 0.8534286719238086, 'subsample': 0.8645035840204937, 'reg_alpha': 3.8563517334297286, 'reg_lambda': 0.3702232586704518}\n",
      "3\n"
     ]
    },
    {
     "name": "stderr",
     "output_type": "stream",
     "text": [
      "\u001b[32m[I 2022-12-07 06:17:23,866]\u001b[0m Trial 1 finished with value: 163.99894053750432 and parameters: {'learning_rate': 0.08198346182632682, 'n_estimators': 173, 'colsample_bytree': 0.5034760652655954, 'subsample': 0.7553736512887829, 'reg_alpha': 2.087055015743895, 'reg_lambda': 1.1105390523536514}. Best is trial 1 with value: 163.99894053750432.\u001b[0m\n",
      "\u001b[32m[I 2022-12-07 06:17:23,915]\u001b[0m Trial 2 finished with value: 171.2692183661111 and parameters: {'learning_rate': 0.012866671366034598, 'n_estimators': 67, 'colsample_bytree': 0.9714548519562596, 'subsample': 0.6616014660103776, 'reg_alpha': 2.5939531087168306, 'reg_lambda': 3.515094794475889}. Best is trial 2 with value: 171.2692183661111.\u001b[0m\n",
      "\u001b[32m[I 2022-12-07 06:17:24,050]\u001b[0m Trial 3 finished with value: 158.86072370809168 and parameters: {'learning_rate': 0.03699933063555011, 'n_estimators': 195, 'colsample_bytree': 0.9812236474710556, 'subsample': 0.6258911479126821, 'reg_alpha': 2.4862425294619275, 'reg_lambda': 1.5043915490838482}. Best is trial 2 with value: 171.2692183661111.\u001b[0m\n",
      "\u001b[32m[I 2022-12-07 06:17:24,060]\u001b[0m Trial 4 finished with value: 178.2635695196503 and parameters: {'learning_rate': 0.029199208943369297, 'n_estimators': 7, 'colsample_bytree': 0.8047821669899484, 'subsample': 0.7513395116144308, 'reg_alpha': 0.25739375624994676, 'reg_lambda': 1.3932323211830573}. Best is trial 4 with value: 178.2635695196503.\u001b[0m\n",
      "\u001b[32m[I 2022-12-07 06:17:24,098]\u001b[0m Trial 5 finished with value: 162.36408474254821 and parameters: {'learning_rate': 0.09091832271069872, 'n_estimators': 48, 'colsample_bytree': 0.5724474360456115, 'subsample': 0.7447263801387816, 'reg_alpha': 4.928252270553004, 'reg_lambda': 1.2102763575575022}. Best is trial 4 with value: 178.2635695196503.\u001b[0m\n",
      "\u001b[32m[I 2022-12-07 06:17:24,193]\u001b[0m Trial 6 finished with value: 161.3617553944137 and parameters: {'learning_rate': 0.06754141919318198, 'n_estimators': 153, 'colsample_bytree': 0.6188187719961998, 'subsample': 0.8641081743059298, 'reg_alpha': 1.838915663596266, 'reg_lambda': 3.1615291529678973}. Best is trial 4 with value: 178.2635695196503.\u001b[0m\n",
      "\u001b[32m[I 2022-12-07 06:17:24,263]\u001b[0m Trial 7 finished with value: 160.00312351198997 and parameters: {'learning_rate': 0.06371944136532857, 'n_estimators': 107, 'colsample_bytree': 0.5451448850272042, 'subsample': 0.917651247794619, 'reg_alpha': 1.6039003248586792, 'reg_lambda': 0.9325925519992712}. Best is trial 4 with value: 178.2635695196503.\u001b[0m\n",
      "\u001b[32m[I 2022-12-07 06:17:24,342]\u001b[0m Trial 8 finished with value: 173.03369477306072 and parameters: {'learning_rate': 0.005036739013921628, 'n_estimators': 118, 'colsample_bytree': 0.8387821809211412, 'subsample': 0.508293914463928, 'reg_alpha': 2.560465291496405, 'reg_lambda': 1.1324788759896898}. Best is trial 4 with value: 178.2635695196503.\u001b[0m\n",
      "\u001b[32m[I 2022-12-07 06:17:24,376]\u001b[0m Trial 9 finished with value: 162.58442763158902 and parameters: {'learning_rate': 0.06487210625053554, 'n_estimators': 35, 'colsample_bytree': 0.845468869051233, 'subsample': 0.6933676731502687, 'reg_alpha': 4.6836499436836725, 'reg_lambda': 0.6876047207299663}. Best is trial 4 with value: 178.2635695196503.\u001b[0m\n",
      "3it [00:02,  1.43it/s]\u001b[32m[I 2022-12-07 06:17:24,378]\u001b[0m A new study created in memory with name: no-name-4035c742-eb18-4c7e-b221-f8ab6c3a61a5\u001b[0m\n",
      "\u001b[32m[I 2022-12-07 06:17:24,400]\u001b[0m Trial 0 finished with value: 189.8245975600518 and parameters: {'learning_rate': 0.034765568753975594, 'n_estimators': 22, 'colsample_bytree': 0.9623468091392814, 'subsample': 0.9386696766904905, 'reg_alpha': 1.289708138575778, 'reg_lambda': 3.299920230170895}. Best is trial 0 with value: 189.8245975600518.\u001b[0m\n",
      "\u001b[32m[I 2022-12-07 06:17:24,473]\u001b[0m Trial 1 finished with value: 170.13274299227146 and parameters: {'learning_rate': 0.08190499781992037, 'n_estimators': 111, 'colsample_bytree': 0.7648252891780032, 'subsample': 0.6209261454502258, 'reg_alpha': 0.46551383902949606, 'reg_lambda': 4.486078789766633}. Best is trial 0 with value: 189.8245975600518.\u001b[0m\n",
      "\u001b[32m[I 2022-12-07 06:17:24,553]\u001b[0m Trial 2 finished with value: 169.09539662730714 and parameters: {'learning_rate': 0.09014138765916972, 'n_estimators': 127, 'colsample_bytree': 0.6695148955243504, 'subsample': 0.6746047873063304, 'reg_alpha': 3.629778394351197, 'reg_lambda': 4.485551299762886}. Best is trial 0 with value: 189.8245975600518.\u001b[0m\n"
     ]
    },
    {
     "name": "stdout",
     "output_type": "stream",
     "text": [
      "Best trial : score 178.2635695196503, \n",
      "params {'learning_rate': 0.029199208943369297, 'n_estimators': 7, 'colsample_bytree': 0.8047821669899484, 'subsample': 0.7513395116144308, 'reg_alpha': 0.25739375624994676, 'reg_lambda': 1.3932323211830573}\n",
      "4\n"
     ]
    },
    {
     "name": "stderr",
     "output_type": "stream",
     "text": [
      "\u001b[32m[I 2022-12-07 06:17:24,649]\u001b[0m Trial 3 finished with value: 168.6110013103023 and parameters: {'learning_rate': 0.08882155600224662, 'n_estimators': 156, 'colsample_bytree': 0.8210158230771438, 'subsample': 0.5420699824975244, 'reg_alpha': 0.8081435704730688, 'reg_lambda': 4.492770942635397}. Best is trial 0 with value: 189.8245975600518.\u001b[0m\n",
      "\u001b[32m[I 2022-12-07 06:17:24,655]\u001b[0m Trial 4 finished with value: 204.05910854585218 and parameters: {'learning_rate': 0.06103647690629941, 'n_estimators': 1, 'colsample_bytree': 0.5507357714330161, 'subsample': 0.8317508845540279, 'reg_alpha': 0.025307919231093434, 'reg_lambda': 0.8040402570874933}. Best is trial 4 with value: 204.05910854585218.\u001b[0m\n",
      "\u001b[32m[I 2022-12-07 06:17:24,743]\u001b[0m Trial 5 finished with value: 164.94846140645325 and parameters: {'learning_rate': 0.05532464514729203, 'n_estimators': 139, 'colsample_bytree': 0.8259806297513003, 'subsample': 0.61213465473028, 'reg_alpha': 3.560896106737679, 'reg_lambda': 1.1862454374840004}. Best is trial 4 with value: 204.05910854585218.\u001b[0m\n",
      "\u001b[32m[I 2022-12-07 06:17:24,839]\u001b[0m Trial 6 finished with value: 169.60754783928226 and parameters: {'learning_rate': 0.03321457011776751, 'n_estimators': 150, 'colsample_bytree': 0.8248164495236073, 'subsample': 0.924611705247089, 'reg_alpha': 3.2880644615017167, 'reg_lambda': 2.841543016677358}. Best is trial 4 with value: 204.05910854585218.\u001b[0m\n",
      "\u001b[32m[I 2022-12-07 06:17:24,888]\u001b[0m Trial 7 finished with value: 190.45818732678367 and parameters: {'learning_rate': 0.010273802014981157, 'n_estimators': 73, 'colsample_bytree': 0.6326011838408627, 'subsample': 0.6219948216895418, 'reg_alpha': 4.865052773762228, 'reg_lambda': 1.965488623333802}. Best is trial 4 with value: 204.05910854585218.\u001b[0m\n",
      "\u001b[32m[I 2022-12-07 06:17:24,974]\u001b[0m Trial 8 finished with value: 166.05388633586887 and parameters: {'learning_rate': 0.08931260896253422, 'n_estimators': 126, 'colsample_bytree': 0.8974056517708242, 'subsample': 0.751318546552596, 'reg_alpha': 2.8845194231317954, 'reg_lambda': 2.4625884690943196}. Best is trial 4 with value: 204.05910854585218.\u001b[0m\n",
      "\u001b[32m[I 2022-12-07 06:17:25,064]\u001b[0m Trial 9 finished with value: 172.85031582768818 and parameters: {'learning_rate': 0.020329055792006407, 'n_estimators': 145, 'colsample_bytree': 0.6403861812204279, 'subsample': 0.5121579832157269, 'reg_alpha': 3.227361479535839, 'reg_lambda': 0.8855533970352447}. Best is trial 4 with value: 204.05910854585218.\u001b[0m\n",
      "4it [00:02,  1.44it/s]\u001b[32m[I 2022-12-07 06:17:25,066]\u001b[0m A new study created in memory with name: no-name-982d6481-af91-4549-a621-f10d8d2ead46\u001b[0m\n",
      "\u001b[32m[I 2022-12-07 06:17:25,211]\u001b[0m Trial 0 finished with value: 154.23498107584422 and parameters: {'learning_rate': 0.09410539985093852, 'n_estimators': 191, 'colsample_bytree': 0.9574321951102243, 'subsample': 0.6850793501277221, 'reg_alpha': 0.07728308264433714, 'reg_lambda': 4.641592812938627}. Best is trial 0 with value: 154.23498107584422.\u001b[0m\n"
     ]
    },
    {
     "name": "stdout",
     "output_type": "stream",
     "text": [
      "Best trial : score 204.05910854585218, \n",
      "params {'learning_rate': 0.06103647690629941, 'n_estimators': 1, 'colsample_bytree': 0.5507357714330161, 'subsample': 0.8317508845540279, 'reg_alpha': 0.025307919231093434, 'reg_lambda': 0.8040402570874933}\n",
      "5\n"
     ]
    },
    {
     "name": "stderr",
     "output_type": "stream",
     "text": [
      "\u001b[32m[I 2022-12-07 06:17:25,339]\u001b[0m Trial 1 finished with value: 150.14729864874442 and parameters: {'learning_rate': 0.04339023068341412, 'n_estimators': 194, 'colsample_bytree': 0.9818099885446264, 'subsample': 0.92650472773368, 'reg_alpha': 1.4722444603479286, 'reg_lambda': 1.9254886430096263}. Best is trial 0 with value: 154.23498107584422.\u001b[0m\n",
      "\u001b[32m[I 2022-12-07 06:17:25,379]\u001b[0m Trial 2 finished with value: 141.23955141684192 and parameters: {'learning_rate': 0.08526253048016884, 'n_estimators': 63, 'colsample_bytree': 0.5847463733430462, 'subsample': 0.7784006312291751, 'reg_alpha': 4.680773870803905, 'reg_lambda': 3.480148983374865}. Best is trial 0 with value: 154.23498107584422.\u001b[0m\n",
      "\u001b[32m[I 2022-12-07 06:17:25,397]\u001b[0m Trial 3 finished with value: 155.06193608920356 and parameters: {'learning_rate': 0.05743605583884714, 'n_estimators': 19, 'colsample_bytree': 0.8075036133495849, 'subsample': 0.9950269250521316, 'reg_alpha': 0.7004200761826201, 'reg_lambda': 2.591648261818684}. Best is trial 3 with value: 155.06193608920356.\u001b[0m\n",
      "\u001b[32m[I 2022-12-07 06:17:25,488]\u001b[0m Trial 4 finished with value: 151.59168038813542 and parameters: {'learning_rate': 0.0878599341208676, 'n_estimators': 148, 'colsample_bytree': 0.848507870497634, 'subsample': 0.8512420419935547, 'reg_alpha': 1.7974557560987758, 'reg_lambda': 1.4679592213224668}. Best is trial 3 with value: 155.06193608920356.\u001b[0m\n",
      "\u001b[32m[I 2022-12-07 06:17:25,593]\u001b[0m Trial 5 finished with value: 152.0929105634024 and parameters: {'learning_rate': 0.08112675439237285, 'n_estimators': 162, 'colsample_bytree': 0.9335361592900518, 'subsample': 0.9566202762782356, 'reg_alpha': 2.556711994304689, 'reg_lambda': 2.507581473435998}. Best is trial 3 with value: 155.06193608920356.\u001b[0m\n",
      "\u001b[32m[I 2022-12-07 06:17:25,676]\u001b[0m Trial 6 finished with value: 149.36784860240667 and parameters: {'learning_rate': 0.08003122271771075, 'n_estimators': 130, 'colsample_bytree': 0.8509834386288517, 'subsample': 0.8978963347180505, 'reg_alpha': 4.450026709087831, 'reg_lambda': 1.689975784257679}. Best is trial 3 with value: 155.06193608920356.\u001b[0m\n",
      "\u001b[32m[I 2022-12-07 06:17:25,693]\u001b[0m Trial 7 finished with value: 161.62117226207127 and parameters: {'learning_rate': 0.03818271231135446, 'n_estimators': 18, 'colsample_bytree': 0.789140070498087, 'subsample': 0.517971136898371, 'reg_alpha': 2.3279900906623006, 'reg_lambda': 2.713223173537883}. Best is trial 7 with value: 161.62117226207127.\u001b[0m\n",
      "\u001b[32m[I 2022-12-07 06:17:25,764]\u001b[0m Trial 8 finished with value: 137.93478048630328 and parameters: {'learning_rate': 0.029367583960700158, 'n_estimators': 118, 'colsample_bytree': 0.5152501249695247, 'subsample': 0.5186740943746072, 'reg_alpha': 4.113002803298292, 'reg_lambda': 1.8009532070563146}. Best is trial 7 with value: 161.62117226207127.\u001b[0m\n",
      "\u001b[32m[I 2022-12-07 06:17:25,828]\u001b[0m Trial 9 finished with value: 151.46931213899705 and parameters: {'learning_rate': 0.013578990752536595, 'n_estimators': 104, 'colsample_bytree': 0.8849967765493054, 'subsample': 0.6079105137484215, 'reg_alpha': 3.114452379095001, 'reg_lambda': 0.42673732496884}. Best is trial 7 with value: 161.62117226207127.\u001b[0m\n",
      "5it [00:03,  1.41it/s]"
     ]
    },
    {
     "name": "stdout",
     "output_type": "stream",
     "text": [
      "Best trial : score 161.62117226207127, \n",
      "params {'learning_rate': 0.03818271231135446, 'n_estimators': 18, 'colsample_bytree': 0.789140070498087, 'subsample': 0.517971136898371, 'reg_alpha': 2.3279900906623006, 'reg_lambda': 2.713223173537883}\n"
     ]
    },
    {
     "name": "stderr",
     "output_type": "stream",
     "text": [
      "\n"
     ]
    }
   ],
   "source": [
    "def objective(trial):\n",
    "    param = {\n",
    "        'learning_rate': trial.suggest_float('learning_rate', 1e-3, 0.1),\n",
    "        'n_estimators': trial.suggest_int('n_estimators', 0, 200),\n",
    "        'colsample_bytree' : trial.suggest_float('colsample_bytree', 0.5, 1.0),\n",
    "        'subsample' :trial.suggest_float('subsample', 0.5, 1.0),\n",
    "        'reg_alpha' : trial.suggest_float('reg_alpha', 0.0, 5.0),\n",
    "        'reg_lambda' : trial.suggest_float('reg_lambda', 0.0, 5.0),\n",
    "        'n_jobs' : -1,\n",
    "    }\n",
    "    model = LGBMRegressor(**param)\n",
    "    model.fit(train_x, train_y, eval_set=[(valid_x, valid_y)], verbose=0)\n",
    "\n",
    "    y_valid_pred = model.predict(valid_x)\n",
    "    return MAE(valid_y, y_valid_pred)\n",
    "\n",
    "sampler = TPESampler(seed=42)\n",
    "\n",
    "kfold = KFold(n_splits=5, shuffle=True, random_state=42)\n",
    "n_iter=0\n",
    "for train_index, test_index in tqdm(kfold.split(Gwanak_x, Gwanak_y)):\n",
    "    n_iter += 1\n",
    "    print(n_iter)\n",
    "    train_x= Gwanak_x.iloc[train_index]\n",
    "    valid_x= Gwanak_x.iloc[test_index]\n",
    "    train_y= Gwanak_y.iloc[train_index]\n",
    "    valid_y= Gwanak_y.iloc[test_index]\n",
    "\n",
    "    study = optuna.create_study(direction='maximize', sampler=sampler)\n",
    "    study.optimize(objective, n_trials=10)\n",
    "\n",
    "    print('Best trial : score {}, \\nparams {}'.format(study.best_trial.value, study.best_trial.params))\n",
    "#for Gwanak\n",
    "#Best trial : score 161.62117226207127, \n",
    "#params {'learning_rate': 0.03818271231135446, 'n_estimators': 18, 'colsample_bytree': 0.789140070498087, 'subsample': 0.517971136898371, 'reg_alpha': 2.3279900906623006, 'reg_lambda': 2.713223173537883}"
   ]
  },
  {
   "cell_type": "code",
   "execution_count": 28,
   "id": "55496ebc",
   "metadata": {},
   "outputs": [
    {
     "name": "stdout",
     "output_type": "stream",
     "text": [
      "{'max_depth': -1, 'n_estimators': 100}\n",
      "LGBMRegressor()\n"
     ]
    }
   ],
   "source": [
    "lgbm = LGBMRegressor()\n",
    "\n",
    "param_grid = [\n",
    "    {'n_estimators': [100, 200, 300, 400, 500, 600, 700, 800, 900, 1000], \n",
    "     'max_depth': [-1, 15, 30, 45, 60]}\n",
    "]\n",
    "\n",
    "grid_search = GridSearchCV(lgbm, param_grid, cv=3, scoring='neg_mean_squared_error', \n",
    "                           return_train_score=True, n_jobs=-1)\n",
    "grid_search.fit(Seocho_x, Seocho_y)\n",
    "\n",
    "print(grid_search.best_params_)\n",
    "print(grid_search.best_estimator_)"
   ]
  },
  {
   "cell_type": "code",
   "execution_count": 29,
   "id": "74289759",
   "metadata": {},
   "outputs": [
    {
     "name": "stderr",
     "output_type": "stream",
     "text": [
      "0it [00:00, ?it/s]\u001b[32m[I 2022-12-07 06:23:14,302]\u001b[0m A new study created in memory with name: no-name-d4a8164a-3346-47f0-a1a7-45bafba77c05\u001b[0m\n",
      "\u001b[32m[I 2022-12-07 06:23:14,480]\u001b[0m Trial 0 finished with value: 337.93264151173946 and parameters: {'learning_rate': 0.03807947176588889, 'n_estimators': 191, 'colsample_bytree': 0.8659969709057025, 'subsample': 0.7993292420985183, 'reg_alpha': 0.7800932022121826, 'reg_lambda': 0.7799726016810132}. Best is trial 0 with value: 337.93264151173946.\u001b[0m\n"
     ]
    },
    {
     "name": "stdout",
     "output_type": "stream",
     "text": [
      "1\n"
     ]
    },
    {
     "name": "stderr",
     "output_type": "stream",
     "text": [
      "\u001b[32m[I 2022-12-07 06:23:14,591]\u001b[0m Trial 1 finished with value: 493.9047388586777 and parameters: {'learning_rate': 0.006750277604651747, 'n_estimators': 174, 'colsample_bytree': 0.8005575058716043, 'subsample': 0.8540362888980227, 'reg_alpha': 0.10292247147901223, 'reg_lambda': 4.8495492608099715}. Best is trial 1 with value: 493.9047388586777.\u001b[0m\n",
      "\u001b[32m[I 2022-12-07 06:23:14,628]\u001b[0m Trial 2 finished with value: 354.1500488081629 and parameters: {'learning_rate': 0.08341182143924175, 'n_estimators': 42, 'colsample_bytree': 0.5909124836035503, 'subsample': 0.5917022549267169, 'reg_alpha': 1.5212112147976886, 'reg_lambda': 2.6237821581611893}. Best is trial 1 with value: 493.9047388586777.\u001b[0m\n",
      "\u001b[32m[I 2022-12-07 06:23:14,678]\u001b[0m Trial 3 finished with value: 364.152341204707 and parameters: {'learning_rate': 0.04376255684556946, 'n_estimators': 58, 'colsample_bytree': 0.8059264473611898, 'subsample': 0.569746930326021, 'reg_alpha': 1.4607232426760908, 'reg_lambda': 1.8318092164684585}. Best is trial 1 with value: 493.9047388586777.\u001b[0m\n",
      "\u001b[32m[I 2022-12-07 06:23:14,811]\u001b[0m Trial 4 finished with value: 339.30744032064115 and parameters: {'learning_rate': 0.04615092843748656, 'n_estimators': 157, 'colsample_bytree': 0.5998368910791798, 'subsample': 0.7571172192068059, 'reg_alpha': 2.9620728443102124, 'reg_lambda': 0.23225206359998862}. Best is trial 1 with value: 493.9047388586777.\u001b[0m\n",
      "\u001b[32m[I 2022-12-07 06:23:14,839]\u001b[0m Trial 5 finished with value: 412.4521780736053 and parameters: {'learning_rate': 0.0611469403382424, 'n_estimators': 34, 'colsample_bytree': 0.5325257964926398, 'subsample': 0.9744427686266666, 'reg_alpha': 4.828160165372797, 'reg_lambda': 4.041986740582305}. Best is trial 1 with value: 493.9047388586777.\u001b[0m\n",
      "\u001b[32m[I 2022-12-07 06:23:14,858]\u001b[0m Trial 6 finished with value: 676.45612671652 and parameters: {'learning_rate': 0.0311567631481637, 'n_estimators': 19, 'colsample_bytree': 0.8421165132560784, 'subsample': 0.7200762468698007, 'reg_alpha': 0.6101911742238941, 'reg_lambda': 2.475884550556351}. Best is trial 6 with value: 676.45612671652.\u001b[0m\n",
      "\u001b[32m[I 2022-12-07 06:23:14,973]\u001b[0m Trial 7 finished with value: 612.7973857765519 and parameters: {'learning_rate': 0.004404463590406622, 'n_estimators': 182, 'colsample_bytree': 0.6293899908000085, 'subsample': 0.831261142176991, 'reg_alpha': 1.5585553804470549, 'reg_lambda': 2.600340105889054}. Best is trial 6 with value: 676.45612671652.\u001b[0m\n",
      "\u001b[32m[I 2022-12-07 06:23:15,012]\u001b[0m Trial 8 finished with value: 377.56595878957614 and parameters: {'learning_rate': 0.05512431765498469, 'n_estimators': 37, 'colsample_bytree': 0.9847923138822793, 'subsample': 0.8875664116805573, 'reg_alpha': 4.697494707820946, 'reg_lambda': 4.474136752138244}. Best is trial 6 with value: 676.45612671652.\u001b[0m\n",
      "\u001b[32m[I 2022-12-07 06:23:15,167]\u001b[0m Trial 9 finished with value: 345.1387984119579 and parameters: {'learning_rate': 0.06019209790229743, 'n_estimators': 185, 'colsample_bytree': 0.5442462510259598, 'subsample': 0.5979914312095727, 'reg_alpha': 0.22613644455269033, 'reg_lambda': 1.6266516538163218}. Best is trial 6 with value: 676.45612671652.\u001b[0m\n",
      "1it [00:00,  1.15it/s]\u001b[32m[I 2022-12-07 06:23:15,169]\u001b[0m A new study created in memory with name: no-name-ac1d1022-a161-46e2-8be4-cac9c5f11c14\u001b[0m\n",
      "\u001b[32m[I 2022-12-07 06:23:15,213]\u001b[0m Trial 0 finished with value: 452.5209953119834 and parameters: {'learning_rate': 0.03947905167925872, 'n_estimators': 54, 'colsample_bytree': 0.9143687545759647, 'subsample': 0.6783766633467947, 'reg_alpha': 1.4046725484369038, 'reg_lambda': 2.7134804157912424}. Best is trial 0 with value: 452.5209953119834.\u001b[0m\n",
      "\u001b[32m[I 2022-12-07 06:23:15,345]\u001b[0m Trial 1 finished with value: 439.58126428748943 and parameters: {'learning_rate': 0.014951498272501501, 'n_estimators': 161, 'colsample_bytree': 0.5372753218398854, 'subsample': 0.9934434683002586, 'reg_alpha': 3.861223846483287, 'reg_lambda': 0.993578407670862}. Best is trial 0 with value: 452.5209953119834.\u001b[0m\n"
     ]
    },
    {
     "name": "stdout",
     "output_type": "stream",
     "text": [
      "Best trial : score 676.45612671652, \n",
      "params {'learning_rate': 0.0311567631481637, 'n_estimators': 19, 'colsample_bytree': 0.8421165132560784, 'subsample': 0.7200762468698007, 'reg_alpha': 0.6101911742238941, 'reg_lambda': 2.475884550556351}\n",
      "2\n"
     ]
    },
    {
     "name": "stderr",
     "output_type": "stream",
     "text": [
      "\u001b[32m[I 2022-12-07 06:23:15,484]\u001b[0m Trial 2 finished with value: 887.6946820239494 and parameters: {'learning_rate': 0.0015466895952366377, 'n_estimators': 163, 'colsample_bytree': 0.8534286719238086, 'subsample': 0.8645035840204937, 'reg_alpha': 3.8563517334297286, 'reg_lambda': 0.3702232586704518}. Best is trial 2 with value: 887.6946820239494.\u001b[0m\n",
      "\u001b[32m[I 2022-12-07 06:23:15,510]\u001b[0m Trial 3 finished with value: 634.4745718790207 and parameters: {'learning_rate': 0.03648810712588299, 'n_estimators': 23, 'colsample_bytree': 0.9315517129377968, 'subsample': 0.811649063413779, 'reg_alpha': 1.654490124263246, 'reg_lambda': 0.3177917514301182}. Best is trial 2 with value: 887.6946820239494.\u001b[0m\n",
      "\u001b[32m[I 2022-12-07 06:23:15,562]\u001b[0m Trial 4 finished with value: 454.9738990740446 and parameters: {'learning_rate': 0.03178724984985056, 'n_estimators': 65, 'colsample_bytree': 0.864803089169032, 'subsample': 0.8187787356776066, 'reg_alpha': 4.436063712881633, 'reg_lambda': 2.3610746258097466}. Best is trial 2 with value: 887.6946820239494.\u001b[0m\n",
      "\u001b[32m[I 2022-12-07 06:23:15,668]\u001b[0m Trial 5 finished with value: 475.3084147687356 and parameters: {'learning_rate': 0.012839830347891868, 'n_estimators': 143, 'colsample_bytree': 0.8803925243084487, 'subsample': 0.7806385987847482, 'reg_alpha': 3.854835899772805, 'reg_lambda': 2.4689779818219537}. Best is trial 2 with value: 887.6946820239494.\u001b[0m\n",
      "\u001b[32m[I 2022-12-07 06:23:15,735]\u001b[0m Trial 6 finished with value: 398.3965473876124 and parameters: {'learning_rate': 0.052750550108817414, 'n_estimators': 85, 'colsample_bytree': 0.5127095633720475, 'subsample': 0.5539457134966522, 'reg_alpha': 0.15714592843367126, 'reg_lambda': 3.182052056318902}. Best is trial 2 with value: 887.6946820239494.\u001b[0m\n",
      "\u001b[32m[I 2022-12-07 06:23:15,821]\u001b[0m Trial 7 finished with value: 425.2606305233925 and parameters: {'learning_rate': 0.03212124212655634, 'n_estimators': 102, 'colsample_bytree': 0.9537832369630466, 'subsample': 0.6246461145744375, 'reg_alpha': 2.0519146151781484, 'reg_lambda': 3.7777556927152434}. Best is trial 2 with value: 887.6946820239494.\u001b[0m\n",
      "\u001b[32m[I 2022-12-07 06:23:15,837]\u001b[0m Trial 8 finished with value: 847.9918741750723 and parameters: {'learning_rate': 0.023651018383670626, 'n_estimators': 15, 'colsample_bytree': 0.6448757264568841, 'subsample': 0.5806106436270022, 'reg_alpha': 4.648488261712865, 'reg_lambda': 4.040601897822085}. Best is trial 2 with value: 887.6946820239494.\u001b[0m\n",
      "\u001b[32m[I 2022-12-07 06:23:15,994]\u001b[0m Trial 9 finished with value: 423.29161154846355 and parameters: {'learning_rate': 0.06370697189453192, 'n_estimators': 175, 'colsample_bytree': 0.9018360384495572, 'subsample': 0.5932850294430179, 'reg_alpha': 4.462794992449889, 'reg_lambda': 2.6967112095782535}. Best is trial 2 with value: 887.6946820239494.\u001b[0m\n",
      "2it [00:01,  1.19it/s]\u001b[32m[I 2022-12-07 06:23:15,997]\u001b[0m A new study created in memory with name: no-name-a5ee63fa-f6a4-48c1-bafd-7509768c7e66\u001b[0m\n",
      "\u001b[32m[I 2022-12-07 06:23:16,156]\u001b[0m Trial 0 finished with value: 412.63034811724964 and parameters: {'learning_rate': 0.0809365753612422, 'n_estimators': 180, 'colsample_bytree': 0.6590017374859319, 'subsample': 0.5550259622638384, 'reg_alpha': 1.1396758127097084, 'reg_lambda': 2.1355389431312815}. Best is trial 0 with value: 412.63034811724964.\u001b[0m\n"
     ]
    },
    {
     "name": "stdout",
     "output_type": "stream",
     "text": [
      "Best trial : score 887.6946820239494, \n",
      "params {'learning_rate': 0.0015466895952366377, 'n_estimators': 163, 'colsample_bytree': 0.8534286719238086, 'subsample': 0.8645035840204937, 'reg_alpha': 3.8563517334297286, 'reg_lambda': 0.3702232586704518}\n",
      "3\n"
     ]
    },
    {
     "name": "stderr",
     "output_type": "stream",
     "text": [
      "\u001b[32m[I 2022-12-07 06:23:16,302]\u001b[0m Trial 1 finished with value: 410.09410616726944 and parameters: {'learning_rate': 0.08198346182632682, 'n_estimators': 173, 'colsample_bytree': 0.5034760652655954, 'subsample': 0.7553736512887829, 'reg_alpha': 2.087055015743895, 'reg_lambda': 1.1105390523536514}. Best is trial 0 with value: 412.63034811724964.\u001b[0m\n",
      "\u001b[32m[I 2022-12-07 06:23:16,355]\u001b[0m Trial 2 finished with value: 636.2742020116721 and parameters: {'learning_rate': 0.012866671366034598, 'n_estimators': 67, 'colsample_bytree': 0.9714548519562596, 'subsample': 0.6616014660103776, 'reg_alpha': 2.5939531087168306, 'reg_lambda': 3.515094794475889}. Best is trial 2 with value: 636.2742020116721.\u001b[0m\n",
      "\u001b[32m[I 2022-12-07 06:23:16,522]\u001b[0m Trial 3 finished with value: 417.10183326195784 and parameters: {'learning_rate': 0.03699933063555011, 'n_estimators': 195, 'colsample_bytree': 0.9812236474710556, 'subsample': 0.6258911479126821, 'reg_alpha': 2.4862425294619275, 'reg_lambda': 1.5043915490838482}. Best is trial 2 with value: 636.2742020116721.\u001b[0m\n",
      "\u001b[32m[I 2022-12-07 06:23:16,533]\u001b[0m Trial 4 finished with value: 956.8936955978263 and parameters: {'learning_rate': 0.029199208943369297, 'n_estimators': 7, 'colsample_bytree': 0.8047821669899484, 'subsample': 0.7513395116144308, 'reg_alpha': 0.25739375624994676, 'reg_lambda': 1.3932323211830573}. Best is trial 4 with value: 956.8936955978263.\u001b[0m\n",
      "\u001b[32m[I 2022-12-07 06:23:16,575]\u001b[0m Trial 5 finished with value: 426.01568808709374 and parameters: {'learning_rate': 0.09091832271069872, 'n_estimators': 48, 'colsample_bytree': 0.5724474360456115, 'subsample': 0.7447263801387816, 'reg_alpha': 4.928252270553004, 'reg_lambda': 1.2102763575575022}. Best is trial 4 with value: 956.8936955978263.\u001b[0m\n",
      "\u001b[32m[I 2022-12-07 06:23:16,700]\u001b[0m Trial 6 finished with value: 418.89218007622696 and parameters: {'learning_rate': 0.06754141919318198, 'n_estimators': 153, 'colsample_bytree': 0.6188187719961998, 'subsample': 0.8641081743059298, 'reg_alpha': 1.838915663596266, 'reg_lambda': 3.1615291529678973}. Best is trial 4 with value: 956.8936955978263.\u001b[0m\n",
      "\u001b[32m[I 2022-12-07 06:23:16,788]\u001b[0m Trial 7 finished with value: 423.76519357949337 and parameters: {'learning_rate': 0.06371944136532857, 'n_estimators': 107, 'colsample_bytree': 0.5451448850272042, 'subsample': 0.917651247794619, 'reg_alpha': 1.6039003248586792, 'reg_lambda': 0.9325925519992712}. Best is trial 4 with value: 956.8936955978263.\u001b[0m\n",
      "\u001b[32m[I 2022-12-07 06:23:16,880]\u001b[0m Trial 8 finished with value: 734.9516665257803 and parameters: {'learning_rate': 0.005036739013921628, 'n_estimators': 118, 'colsample_bytree': 0.8387821809211412, 'subsample': 0.508293914463928, 'reg_alpha': 2.560465291496405, 'reg_lambda': 1.1324788759896898}. Best is trial 4 with value: 956.8936955978263.\u001b[0m\n",
      "\u001b[32m[I 2022-12-07 06:23:16,917]\u001b[0m Trial 9 finished with value: 466.27681434808693 and parameters: {'learning_rate': 0.06487210625053554, 'n_estimators': 35, 'colsample_bytree': 0.845468869051233, 'subsample': 0.6933676731502687, 'reg_alpha': 4.6836499436836725, 'reg_lambda': 0.6876047207299663}. Best is trial 4 with value: 956.8936955978263.\u001b[0m\n",
      "3it [00:02,  1.14it/s]\u001b[32m[I 2022-12-07 06:23:16,919]\u001b[0m A new study created in memory with name: no-name-9a71b4f6-0275-475b-b2d2-0455ad8116b7\u001b[0m\n",
      "\u001b[32m[I 2022-12-07 06:23:16,940]\u001b[0m Trial 0 finished with value: 674.7459705892467 and parameters: {'learning_rate': 0.034765568753975594, 'n_estimators': 22, 'colsample_bytree': 0.9623468091392814, 'subsample': 0.9386696766904905, 'reg_alpha': 1.289708138575778, 'reg_lambda': 3.299920230170895}. Best is trial 0 with value: 674.7459705892467.\u001b[0m\n",
      "\u001b[32m[I 2022-12-07 06:23:17,036]\u001b[0m Trial 1 finished with value: 365.88181539517365 and parameters: {'learning_rate': 0.08190499781992037, 'n_estimators': 111, 'colsample_bytree': 0.7648252891780032, 'subsample': 0.6209261454502258, 'reg_alpha': 0.46551383902949606, 'reg_lambda': 4.486078789766633}. Best is trial 0 with value: 674.7459705892467.\u001b[0m\n"
     ]
    },
    {
     "name": "stdout",
     "output_type": "stream",
     "text": [
      "Best trial : score 956.8936955978263, \n",
      "params {'learning_rate': 0.029199208943369297, 'n_estimators': 7, 'colsample_bytree': 0.8047821669899484, 'subsample': 0.7513395116144308, 'reg_alpha': 0.25739375624994676, 'reg_lambda': 1.3932323211830573}\n",
      "4\n"
     ]
    },
    {
     "name": "stderr",
     "output_type": "stream",
     "text": [
      "\u001b[32m[I 2022-12-07 06:23:17,143]\u001b[0m Trial 2 finished with value: 370.6738523579949 and parameters: {'learning_rate': 0.09014138765916972, 'n_estimators': 127, 'colsample_bytree': 0.6695148955243504, 'subsample': 0.6746047873063304, 'reg_alpha': 3.629778394351197, 'reg_lambda': 4.485551299762886}. Best is trial 0 with value: 674.7459705892467.\u001b[0m\n",
      "\u001b[32m[I 2022-12-07 06:23:17,273]\u001b[0m Trial 3 finished with value: 375.13364272839317 and parameters: {'learning_rate': 0.08882155600224662, 'n_estimators': 156, 'colsample_bytree': 0.8210158230771438, 'subsample': 0.5420699824975244, 'reg_alpha': 0.8081435704730688, 'reg_lambda': 4.492770942635397}. Best is trial 0 with value: 674.7459705892467.\u001b[0m\n",
      "\u001b[32m[I 2022-12-07 06:23:17,281]\u001b[0m Trial 4 finished with value: 1068.6764150942076 and parameters: {'learning_rate': 0.06103647690629941, 'n_estimators': 1, 'colsample_bytree': 0.5507357714330161, 'subsample': 0.8317508845540279, 'reg_alpha': 0.025307919231093434, 'reg_lambda': 0.8040402570874933}. Best is trial 4 with value: 1068.6764150942076.\u001b[0m\n",
      "\u001b[32m[I 2022-12-07 06:23:17,399]\u001b[0m Trial 5 finished with value: 371.84819979482126 and parameters: {'learning_rate': 0.05532464514729203, 'n_estimators': 139, 'colsample_bytree': 0.8259806297513003, 'subsample': 0.61213465473028, 'reg_alpha': 3.560896106737679, 'reg_lambda': 1.1862454374840004}. Best is trial 4 with value: 1068.6764150942076.\u001b[0m\n",
      "\u001b[32m[I 2022-12-07 06:23:17,519]\u001b[0m Trial 6 finished with value: 373.48069981073934 and parameters: {'learning_rate': 0.03321457011776751, 'n_estimators': 150, 'colsample_bytree': 0.8248164495236073, 'subsample': 0.924611705247089, 'reg_alpha': 3.2880644615017167, 'reg_lambda': 2.841543016677358}. Best is trial 4 with value: 1068.6764150942076.\u001b[0m\n",
      "\u001b[32m[I 2022-12-07 06:23:17,570]\u001b[0m Trial 7 finished with value: 693.7373302353552 and parameters: {'learning_rate': 0.010273802014981157, 'n_estimators': 73, 'colsample_bytree': 0.6326011838408627, 'subsample': 0.6219948216895418, 'reg_alpha': 4.865052773762228, 'reg_lambda': 1.965488623333802}. Best is trial 4 with value: 1068.6764150942076.\u001b[0m\n",
      "\u001b[32m[I 2022-12-07 06:23:17,687]\u001b[0m Trial 8 finished with value: 377.35412035724966 and parameters: {'learning_rate': 0.08931260896253422, 'n_estimators': 126, 'colsample_bytree': 0.8974056517708242, 'subsample': 0.751318546552596, 'reg_alpha': 2.8845194231317954, 'reg_lambda': 2.4625884690943196}. Best is trial 4 with value: 1068.6764150942076.\u001b[0m\n",
      "\u001b[32m[I 2022-12-07 06:23:17,806]\u001b[0m Trial 9 finished with value: 402.59829717624626 and parameters: {'learning_rate': 0.020329055792006407, 'n_estimators': 145, 'colsample_bytree': 0.6403861812204279, 'subsample': 0.5121579832157269, 'reg_alpha': 3.227361479535839, 'reg_lambda': 0.8855533970352447}. Best is trial 4 with value: 1068.6764150942076.\u001b[0m\n",
      "4it [00:03,  1.13it/s]\u001b[32m[I 2022-12-07 06:23:17,808]\u001b[0m A new study created in memory with name: no-name-49cd6fc6-f665-4d69-8ba3-160a7fcaaeff\u001b[0m\n",
      "\u001b[32m[I 2022-12-07 06:23:17,972]\u001b[0m Trial 0 finished with value: 423.39379599527206 and parameters: {'learning_rate': 0.09410539985093852, 'n_estimators': 191, 'colsample_bytree': 0.9574321951102243, 'subsample': 0.6850793501277221, 'reg_alpha': 0.07728308264433714, 'reg_lambda': 4.641592812938627}. Best is trial 0 with value: 423.39379599527206.\u001b[0m\n"
     ]
    },
    {
     "name": "stdout",
     "output_type": "stream",
     "text": [
      "Best trial : score 1068.6764150942076, \n",
      "params {'learning_rate': 0.06103647690629941, 'n_estimators': 1, 'colsample_bytree': 0.5507357714330161, 'subsample': 0.8317508845540279, 'reg_alpha': 0.025307919231093434, 'reg_lambda': 0.8040402570874933}\n",
      "5\n"
     ]
    },
    {
     "name": "stderr",
     "output_type": "stream",
     "text": [
      "\u001b[32m[I 2022-12-07 06:23:18,146]\u001b[0m Trial 1 finished with value: 429.95168537353163 and parameters: {'learning_rate': 0.04339023068341412, 'n_estimators': 194, 'colsample_bytree': 0.9818099885446264, 'subsample': 0.92650472773368, 'reg_alpha': 1.4722444603479286, 'reg_lambda': 1.9254886430096263}. Best is trial 1 with value: 429.95168537353163.\u001b[0m\n",
      "\u001b[32m[I 2022-12-07 06:23:18,199]\u001b[0m Trial 2 finished with value: 447.68064729009274 and parameters: {'learning_rate': 0.08526253048016884, 'n_estimators': 63, 'colsample_bytree': 0.5847463733430462, 'subsample': 0.7784006312291751, 'reg_alpha': 4.680773870803905, 'reg_lambda': 3.480148983374865}. Best is trial 2 with value: 447.68064729009274.\u001b[0m\n",
      "\u001b[32m[I 2022-12-07 06:23:18,218]\u001b[0m Trial 3 finished with value: 612.7282639495464 and parameters: {'learning_rate': 0.05743605583884714, 'n_estimators': 19, 'colsample_bytree': 0.8075036133495849, 'subsample': 0.9950269250521316, 'reg_alpha': 0.7004200761826201, 'reg_lambda': 2.591648261818684}. Best is trial 3 with value: 612.7282639495464.\u001b[0m\n",
      "\u001b[32m[I 2022-12-07 06:23:18,344]\u001b[0m Trial 4 finished with value: 425.30935568726545 and parameters: {'learning_rate': 0.0878599341208676, 'n_estimators': 148, 'colsample_bytree': 0.848507870497634, 'subsample': 0.8512420419935547, 'reg_alpha': 1.7974557560987758, 'reg_lambda': 1.4679592213224668}. Best is trial 3 with value: 612.7282639495464.\u001b[0m\n",
      "\u001b[32m[I 2022-12-07 06:23:18,481]\u001b[0m Trial 5 finished with value: 429.8936404594575 and parameters: {'learning_rate': 0.08112675439237285, 'n_estimators': 162, 'colsample_bytree': 0.9335361592900518, 'subsample': 0.9566202762782356, 'reg_alpha': 2.556711994304689, 'reg_lambda': 2.507581473435998}. Best is trial 3 with value: 612.7282639495464.\u001b[0m\n",
      "\u001b[32m[I 2022-12-07 06:23:18,591]\u001b[0m Trial 6 finished with value: 426.9821439091768 and parameters: {'learning_rate': 0.08003122271771075, 'n_estimators': 130, 'colsample_bytree': 0.8509834386288517, 'subsample': 0.8978963347180505, 'reg_alpha': 4.450026709087831, 'reg_lambda': 1.689975784257679}. Best is trial 3 with value: 612.7282639495464.\u001b[0m\n",
      "\u001b[32m[I 2022-12-07 06:23:18,608]\u001b[0m Trial 7 finished with value: 715.4211737485048 and parameters: {'learning_rate': 0.03818271231135446, 'n_estimators': 18, 'colsample_bytree': 0.789140070498087, 'subsample': 0.517971136898371, 'reg_alpha': 2.3279900906623006, 'reg_lambda': 2.713223173537883}. Best is trial 7 with value: 715.4211737485048.\u001b[0m\n",
      "\u001b[32m[I 2022-12-07 06:23:18,698]\u001b[0m Trial 8 finished with value: 507.726583798918 and parameters: {'learning_rate': 0.029367583960700158, 'n_estimators': 118, 'colsample_bytree': 0.5152501249695247, 'subsample': 0.5186740943746072, 'reg_alpha': 4.113002803298292, 'reg_lambda': 1.8009532070563146}. Best is trial 7 with value: 715.4211737485048.\u001b[0m\n",
      "\u001b[32m[I 2022-12-07 06:23:18,784]\u001b[0m Trial 9 finished with value: 550.9719901172443 and parameters: {'learning_rate': 0.013578990752536595, 'n_estimators': 104, 'colsample_bytree': 0.8849967765493054, 'subsample': 0.6079105137484215, 'reg_alpha': 3.114452379095001, 'reg_lambda': 0.42673732496884}. Best is trial 7 with value: 715.4211737485048.\u001b[0m\n",
      "5it [00:04,  1.11it/s]"
     ]
    },
    {
     "name": "stdout",
     "output_type": "stream",
     "text": [
      "Best trial : score 715.4211737485048, \n",
      "params {'learning_rate': 0.03818271231135446, 'n_estimators': 18, 'colsample_bytree': 0.789140070498087, 'subsample': 0.517971136898371, 'reg_alpha': 2.3279900906623006, 'reg_lambda': 2.713223173537883}\n"
     ]
    },
    {
     "name": "stderr",
     "output_type": "stream",
     "text": [
      "\n"
     ]
    }
   ],
   "source": [
    "def objective(trial):\n",
    "    param = {\n",
    "        'learning_rate': trial.suggest_float('learning_rate', 1e-3, 0.1),\n",
    "        'n_estimators': trial.suggest_int('n_estimators', 0, 200),\n",
    "        'colsample_bytree' : trial.suggest_float('colsample_bytree', 0.5, 1.0),\n",
    "        'subsample' :trial.suggest_float('subsample', 0.5, 1.0),\n",
    "        'reg_alpha' : trial.suggest_float('reg_alpha', 0.0, 5.0),\n",
    "        'reg_lambda' : trial.suggest_float('reg_lambda', 0.0, 5.0),\n",
    "        'n_jobs' : -1,\n",
    "    }\n",
    "    model = LGBMRegressor(**param)\n",
    "    model.fit(train_x, train_y, eval_set=[(valid_x, valid_y)], verbose=0)\n",
    "\n",
    "    y_valid_pred = model.predict(valid_x)\n",
    "    return MAE(valid_y, y_valid_pred)\n",
    "\n",
    "sampler = TPESampler(seed=42)\n",
    "\n",
    "kfold = KFold(n_splits=5, shuffle=True, random_state=42)\n",
    "n_iter=0\n",
    "for train_index, test_index in tqdm(kfold.split(Seocho_x, Seocho_y)):\n",
    "    n_iter += 1\n",
    "    print(n_iter)\n",
    "    train_x= Seocho_x.iloc[train_index]\n",
    "    valid_x= Seocho_x.iloc[test_index]\n",
    "    train_y= Seocho_y.iloc[train_index]\n",
    "    valid_y= Seocho_y.iloc[test_index]\n",
    "\n",
    "    study = optuna.create_study(direction='maximize', sampler=sampler)\n",
    "    study.optimize(objective, n_trials=10)\n",
    "\n",
    "    print('Best trial : score {}, \\nparams {}'.format(study.best_trial.value, study.best_trial.params))\n",
    "#for Seocho\n",
    "#Best trial : score 676.45612671652, \n",
    "#params {'learning_rate': 0.0311567631481637, 'n_estimators': 19, 'colsample_bytree': 0.8421165132560784, 'subsample': 0.7200762468698007, 'reg_alpha': 0.6101911742238941, 'reg_lambda': 2.475884550556351}"
   ]
  },
  {
   "cell_type": "code",
   "execution_count": 30,
   "id": "a8303a95",
   "metadata": {},
   "outputs": [
    {
     "name": "stdout",
     "output_type": "stream",
     "text": [
      "{'max_depth': -1, 'n_estimators': 100}\n",
      "LGBMRegressor()\n"
     ]
    }
   ],
   "source": [
    "lgbm = LGBMRegressor()\n",
    "\n",
    "param_grid = [\n",
    "    {'n_estimators': [100, 200, 300, 400, 500, 600, 700, 800, 900, 1000], \n",
    "     'max_depth': [-1, 15, 30, 45, 60]}\n",
    "]\n",
    "\n",
    "grid_search = GridSearchCV(lgbm, param_grid, cv=3, scoring='neg_mean_squared_error', \n",
    "                           return_train_score=True, n_jobs=-1)\n",
    "grid_search.fit(Gangnam_x, Gangnam_y)\n",
    "\n",
    "print(grid_search.best_params_)\n",
    "print(grid_search.best_estimator_)"
   ]
  },
  {
   "cell_type": "code",
   "execution_count": 31,
   "id": "9472ba98",
   "metadata": {},
   "outputs": [
    {
     "name": "stderr",
     "output_type": "stream",
     "text": [
      "0it [00:00, ?it/s]\u001b[32m[I 2022-12-07 07:15:55,120]\u001b[0m A new study created in memory with name: no-name-67b941ad-75ab-42c6-b4cc-850489f101ba\u001b[0m\n",
      "\u001b[32m[I 2022-12-07 07:15:55,314]\u001b[0m Trial 0 finished with value: 415.5835736256985 and parameters: {'learning_rate': 0.03807947176588889, 'n_estimators': 191, 'colsample_bytree': 0.8659969709057025, 'subsample': 0.7993292420985183, 'reg_alpha': 0.7800932022121826, 'reg_lambda': 0.7799726016810132}. Best is trial 0 with value: 415.5835736256985.\u001b[0m\n"
     ]
    },
    {
     "name": "stdout",
     "output_type": "stream",
     "text": [
      "1\n"
     ]
    },
    {
     "name": "stderr",
     "output_type": "stream",
     "text": [
      "\u001b[32m[I 2022-12-07 07:15:55,470]\u001b[0m Trial 1 finished with value: 592.0468197177721 and parameters: {'learning_rate': 0.006750277604651747, 'n_estimators': 174, 'colsample_bytree': 0.8005575058716043, 'subsample': 0.8540362888980227, 'reg_alpha': 0.10292247147901223, 'reg_lambda': 4.8495492608099715}. Best is trial 1 with value: 592.0468197177721.\u001b[0m\n",
      "\u001b[32m[I 2022-12-07 07:15:55,515]\u001b[0m Trial 2 finished with value: 455.6130805858029 and parameters: {'learning_rate': 0.08341182143924175, 'n_estimators': 42, 'colsample_bytree': 0.5909124836035503, 'subsample': 0.5917022549267169, 'reg_alpha': 1.5212112147976886, 'reg_lambda': 2.6237821581611893}. Best is trial 1 with value: 592.0468197177721.\u001b[0m\n",
      "\u001b[32m[I 2022-12-07 07:15:55,576]\u001b[0m Trial 3 finished with value: 459.8326034874169 and parameters: {'learning_rate': 0.04376255684556946, 'n_estimators': 58, 'colsample_bytree': 0.8059264473611898, 'subsample': 0.569746930326021, 'reg_alpha': 1.4607232426760908, 'reg_lambda': 1.8318092164684585}. Best is trial 1 with value: 592.0468197177721.\u001b[0m\n",
      "\u001b[32m[I 2022-12-07 07:15:55,728]\u001b[0m Trial 4 finished with value: 424.62734430057463 and parameters: {'learning_rate': 0.04615092843748656, 'n_estimators': 157, 'colsample_bytree': 0.5998368910791798, 'subsample': 0.7571172192068059, 'reg_alpha': 2.9620728443102124, 'reg_lambda': 0.23225206359998862}. Best is trial 1 with value: 592.0468197177721.\u001b[0m\n",
      "\u001b[32m[I 2022-12-07 07:15:55,763]\u001b[0m Trial 5 finished with value: 545.6313210723348 and parameters: {'learning_rate': 0.0611469403382424, 'n_estimators': 34, 'colsample_bytree': 0.5325257964926398, 'subsample': 0.9744427686266666, 'reg_alpha': 4.828160165372797, 'reg_lambda': 4.041986740582305}. Best is trial 1 with value: 592.0468197177721.\u001b[0m\n",
      "\u001b[32m[I 2022-12-07 07:15:55,788]\u001b[0m Trial 6 finished with value: 695.8644038692942 and parameters: {'learning_rate': 0.0311567631481637, 'n_estimators': 19, 'colsample_bytree': 0.8421165132560784, 'subsample': 0.7200762468698007, 'reg_alpha': 0.6101911742238941, 'reg_lambda': 2.475884550556351}. Best is trial 6 with value: 695.8644038692942.\u001b[0m\n",
      "\u001b[32m[I 2022-12-07 07:15:55,954]\u001b[0m Trial 7 finished with value: 668.4667679496049 and parameters: {'learning_rate': 0.004404463590406622, 'n_estimators': 182, 'colsample_bytree': 0.6293899908000085, 'subsample': 0.831261142176991, 'reg_alpha': 1.5585553804470549, 'reg_lambda': 2.600340105889054}. Best is trial 6 with value: 695.8644038692942.\u001b[0m\n",
      "\u001b[32m[I 2022-12-07 07:15:55,995]\u001b[0m Trial 8 finished with value: 486.73468862178044 and parameters: {'learning_rate': 0.05512431765498469, 'n_estimators': 37, 'colsample_bytree': 0.9847923138822793, 'subsample': 0.8875664116805573, 'reg_alpha': 4.697494707820946, 'reg_lambda': 4.474136752138244}. Best is trial 6 with value: 695.8644038692942.\u001b[0m\n",
      "\u001b[32m[I 2022-12-07 07:15:56,181]\u001b[0m Trial 9 finished with value: 436.7332382676288 and parameters: {'learning_rate': 0.06019209790229743, 'n_estimators': 185, 'colsample_bytree': 0.5442462510259598, 'subsample': 0.5979914312095727, 'reg_alpha': 0.22613644455269033, 'reg_lambda': 1.6266516538163218}. Best is trial 6 with value: 695.8644038692942.\u001b[0m\n",
      "1it [00:01,  1.06s/it]\u001b[32m[I 2022-12-07 07:15:56,183]\u001b[0m A new study created in memory with name: no-name-40f0f0c0-bbdd-477c-92e7-de05623c7f05\u001b[0m\n",
      "\u001b[32m[I 2022-12-07 07:15:56,240]\u001b[0m Trial 0 finished with value: 503.39201425858937 and parameters: {'learning_rate': 0.03947905167925872, 'n_estimators': 54, 'colsample_bytree': 0.9143687545759647, 'subsample': 0.6783766633467947, 'reg_alpha': 1.4046725484369038, 'reg_lambda': 2.7134804157912424}. Best is trial 0 with value: 503.39201425858937.\u001b[0m\n"
     ]
    },
    {
     "name": "stdout",
     "output_type": "stream",
     "text": [
      "Best trial : score 695.8644038692942, \n",
      "params {'learning_rate': 0.0311567631481637, 'n_estimators': 19, 'colsample_bytree': 0.8421165132560784, 'subsample': 0.7200762468698007, 'reg_alpha': 0.6101911742238941, 'reg_lambda': 2.475884550556351}\n",
      "2\n"
     ]
    },
    {
     "name": "stderr",
     "output_type": "stream",
     "text": [
      "\u001b[32m[I 2022-12-07 07:15:56,403]\u001b[0m Trial 1 finished with value: 547.2370200952929 and parameters: {'learning_rate': 0.014951498272501501, 'n_estimators': 161, 'colsample_bytree': 0.5372753218398854, 'subsample': 0.9934434683002586, 'reg_alpha': 3.861223846483287, 'reg_lambda': 0.993578407670862}. Best is trial 1 with value: 547.2370200952929.\u001b[0m\n",
      "\u001b[32m[I 2022-12-07 07:15:56,578]\u001b[0m Trial 2 finished with value: 768.9529116762878 and parameters: {'learning_rate': 0.0015466895952366377, 'n_estimators': 163, 'colsample_bytree': 0.8534286719238086, 'subsample': 0.8645035840204937, 'reg_alpha': 3.8563517334297286, 'reg_lambda': 0.3702232586704518}. Best is trial 2 with value: 768.9529116762878.\u001b[0m\n",
      "\u001b[32m[I 2022-12-07 07:15:56,606]\u001b[0m Trial 3 finished with value: 613.281676522394 and parameters: {'learning_rate': 0.03648810712588299, 'n_estimators': 23, 'colsample_bytree': 0.9315517129377968, 'subsample': 0.811649063413779, 'reg_alpha': 1.654490124263246, 'reg_lambda': 0.3177917514301182}. Best is trial 2 with value: 768.9529116762878.\u001b[0m\n",
      "\u001b[32m[I 2022-12-07 07:15:56,673]\u001b[0m Trial 4 finished with value: 515.5094008356111 and parameters: {'learning_rate': 0.03178724984985056, 'n_estimators': 65, 'colsample_bytree': 0.864803089169032, 'subsample': 0.8187787356776066, 'reg_alpha': 4.436063712881633, 'reg_lambda': 2.3610746258097466}. Best is trial 2 with value: 768.9529116762878.\u001b[0m\n",
      "\u001b[32m[I 2022-12-07 07:15:56,812]\u001b[0m Trial 5 finished with value: 520.1066650118485 and parameters: {'learning_rate': 0.012839830347891868, 'n_estimators': 143, 'colsample_bytree': 0.8803925243084487, 'subsample': 0.7806385987847482, 'reg_alpha': 3.854835899772805, 'reg_lambda': 2.4689779818219537}. Best is trial 2 with value: 768.9529116762878.\u001b[0m\n",
      "\u001b[32m[I 2022-12-07 07:15:56,897]\u001b[0m Trial 6 finished with value: 499.6460216492788 and parameters: {'learning_rate': 0.052750550108817414, 'n_estimators': 85, 'colsample_bytree': 0.5127095633720475, 'subsample': 0.5539457134966522, 'reg_alpha': 0.15714592843367126, 'reg_lambda': 3.182052056318902}. Best is trial 2 with value: 768.9529116762878.\u001b[0m\n",
      "\u001b[32m[I 2022-12-07 07:15:56,999]\u001b[0m Trial 7 finished with value: 483.32872852705367 and parameters: {'learning_rate': 0.03212124212655634, 'n_estimators': 102, 'colsample_bytree': 0.9537832369630466, 'subsample': 0.6246461145744375, 'reg_alpha': 2.0519146151781484, 'reg_lambda': 3.7777556927152434}. Best is trial 2 with value: 768.9529116762878.\u001b[0m\n",
      "\u001b[32m[I 2022-12-07 07:15:57,018]\u001b[0m Trial 8 finished with value: 754.6424617554195 and parameters: {'learning_rate': 0.023651018383670626, 'n_estimators': 15, 'colsample_bytree': 0.6448757264568841, 'subsample': 0.5806106436270022, 'reg_alpha': 4.648488261712865, 'reg_lambda': 4.040601897822085}. Best is trial 2 with value: 768.9529116762878.\u001b[0m\n",
      "\u001b[32m[I 2022-12-07 07:15:57,200]\u001b[0m Trial 9 finished with value: 454.0419718547463 and parameters: {'learning_rate': 0.06370697189453192, 'n_estimators': 175, 'colsample_bytree': 0.9018360384495572, 'subsample': 0.5932850294430179, 'reg_alpha': 4.462794992449889, 'reg_lambda': 2.6967112095782535}. Best is trial 2 with value: 768.9529116762878.\u001b[0m\n",
      "2it [00:02,  1.04s/it]\u001b[32m[I 2022-12-07 07:15:57,203]\u001b[0m A new study created in memory with name: no-name-82edf9fc-5ed9-421b-ac80-1f1cb5649035\u001b[0m\n",
      "\u001b[32m[I 2022-12-07 07:15:57,395]\u001b[0m Trial 0 finished with value: 464.23668435008324 and parameters: {'learning_rate': 0.0809365753612422, 'n_estimators': 180, 'colsample_bytree': 0.6590017374859319, 'subsample': 0.5550259622638384, 'reg_alpha': 1.1396758127097084, 'reg_lambda': 2.1355389431312815}. Best is trial 0 with value: 464.23668435008324.\u001b[0m\n"
     ]
    },
    {
     "name": "stdout",
     "output_type": "stream",
     "text": [
      "Best trial : score 768.9529116762878, \n",
      "params {'learning_rate': 0.0015466895952366377, 'n_estimators': 163, 'colsample_bytree': 0.8534286719238086, 'subsample': 0.8645035840204937, 'reg_alpha': 3.8563517334297286, 'reg_lambda': 0.3702232586704518}\n",
      "3\n"
     ]
    },
    {
     "name": "stderr",
     "output_type": "stream",
     "text": [
      "\u001b[32m[I 2022-12-07 07:15:57,572]\u001b[0m Trial 1 finished with value: 460.0436482443868 and parameters: {'learning_rate': 0.08198346182632682, 'n_estimators': 173, 'colsample_bytree': 0.5034760652655954, 'subsample': 0.7553736512887829, 'reg_alpha': 2.087055015743895, 'reg_lambda': 1.1105390523536514}. Best is trial 0 with value: 464.23668435008324.\u001b[0m\n",
      "\u001b[32m[I 2022-12-07 07:15:57,642]\u001b[0m Trial 2 finished with value: 586.4012715219715 and parameters: {'learning_rate': 0.012866671366034598, 'n_estimators': 67, 'colsample_bytree': 0.9714548519562596, 'subsample': 0.6616014660103776, 'reg_alpha': 2.5939531087168306, 'reg_lambda': 3.515094794475889}. Best is trial 2 with value: 586.4012715219715.\u001b[0m\n",
      "\u001b[32m[I 2022-12-07 07:15:57,841]\u001b[0m Trial 3 finished with value: 450.09919112850247 and parameters: {'learning_rate': 0.03699933063555011, 'n_estimators': 195, 'colsample_bytree': 0.9812236474710556, 'subsample': 0.6258911479126821, 'reg_alpha': 2.4862425294619275, 'reg_lambda': 1.5043915490838482}. Best is trial 2 with value: 586.4012715219715.\u001b[0m\n",
      "\u001b[32m[I 2022-12-07 07:15:57,854]\u001b[0m Trial 4 finished with value: 746.4433438318213 and parameters: {'learning_rate': 0.029199208943369297, 'n_estimators': 7, 'colsample_bytree': 0.8047821669899484, 'subsample': 0.7513395116144308, 'reg_alpha': 0.25739375624994676, 'reg_lambda': 1.3932323211830573}. Best is trial 4 with value: 746.4433438318213.\u001b[0m\n",
      "\u001b[32m[I 2022-12-07 07:15:57,912]\u001b[0m Trial 5 finished with value: 459.9036186328338 and parameters: {'learning_rate': 0.09091832271069872, 'n_estimators': 48, 'colsample_bytree': 0.5724474360456115, 'subsample': 0.7447263801387816, 'reg_alpha': 4.928252270553004, 'reg_lambda': 1.2102763575575022}. Best is trial 4 with value: 746.4433438318213.\u001b[0m\n",
      "\u001b[32m[I 2022-12-07 07:15:58,069]\u001b[0m Trial 6 finished with value: 445.7213307434907 and parameters: {'learning_rate': 0.06754141919318198, 'n_estimators': 153, 'colsample_bytree': 0.6188187719961998, 'subsample': 0.8641081743059298, 'reg_alpha': 1.838915663596266, 'reg_lambda': 3.1615291529678973}. Best is trial 4 with value: 746.4433438318213.\u001b[0m\n",
      "\u001b[32m[I 2022-12-07 07:15:58,176]\u001b[0m Trial 7 finished with value: 459.3710011274762 and parameters: {'learning_rate': 0.06371944136532857, 'n_estimators': 107, 'colsample_bytree': 0.5451448850272042, 'subsample': 0.917651247794619, 'reg_alpha': 1.6039003248586792, 'reg_lambda': 0.9325925519992712}. Best is trial 4 with value: 746.4433438318213.\u001b[0m\n",
      "\u001b[32m[I 2022-12-07 07:15:58,301]\u001b[0m Trial 8 finished with value: 643.6670358043327 and parameters: {'learning_rate': 0.005036739013921628, 'n_estimators': 118, 'colsample_bytree': 0.8387821809211412, 'subsample': 0.508293914463928, 'reg_alpha': 2.560465291496405, 'reg_lambda': 1.1324788759896898}. Best is trial 4 with value: 746.4433438318213.\u001b[0m\n",
      "\u001b[32m[I 2022-12-07 07:15:58,344]\u001b[0m Trial 9 finished with value: 477.56120998122293 and parameters: {'learning_rate': 0.06487210625053554, 'n_estimators': 35, 'colsample_bytree': 0.845468869051233, 'subsample': 0.6933676731502687, 'reg_alpha': 4.6836499436836725, 'reg_lambda': 0.6876047207299663}. Best is trial 4 with value: 746.4433438318213.\u001b[0m\n",
      "3it [00:03,  1.09s/it]\u001b[32m[I 2022-12-07 07:15:58,346]\u001b[0m A new study created in memory with name: no-name-c06afd11-7d1d-49a7-a41d-e1bd53b5bd83\u001b[0m\n",
      "\u001b[32m[I 2022-12-07 07:15:58,375]\u001b[0m Trial 0 finished with value: 566.4390828479673 and parameters: {'learning_rate': 0.034765568753975594, 'n_estimators': 22, 'colsample_bytree': 0.9623468091392814, 'subsample': 0.9386696766904905, 'reg_alpha': 1.289708138575778, 'reg_lambda': 3.299920230170895}. Best is trial 0 with value: 566.4390828479673.\u001b[0m\n",
      "\u001b[32m[I 2022-12-07 07:15:58,488]\u001b[0m Trial 1 finished with value: 438.87668901910183 and parameters: {'learning_rate': 0.08190499781992037, 'n_estimators': 111, 'colsample_bytree': 0.7648252891780032, 'subsample': 0.6209261454502258, 'reg_alpha': 0.46551383902949606, 'reg_lambda': 4.486078789766633}. Best is trial 0 with value: 566.4390828479673.\u001b[0m\n"
     ]
    },
    {
     "name": "stdout",
     "output_type": "stream",
     "text": [
      "Best trial : score 746.4433438318213, \n",
      "params {'learning_rate': 0.029199208943369297, 'n_estimators': 7, 'colsample_bytree': 0.8047821669899484, 'subsample': 0.7513395116144308, 'reg_alpha': 0.25739375624994676, 'reg_lambda': 1.3932323211830573}\n",
      "4\n"
     ]
    },
    {
     "name": "stderr",
     "output_type": "stream",
     "text": [
      "\u001b[32m[I 2022-12-07 07:15:58,616]\u001b[0m Trial 2 finished with value: 441.4754394172108 and parameters: {'learning_rate': 0.09014138765916972, 'n_estimators': 127, 'colsample_bytree': 0.6695148955243504, 'subsample': 0.6746047873063304, 'reg_alpha': 3.629778394351197, 'reg_lambda': 4.485551299762886}. Best is trial 0 with value: 566.4390828479673.\u001b[0m\n",
      "\u001b[32m[I 2022-12-07 07:15:58,776]\u001b[0m Trial 3 finished with value: 437.5796993420167 and parameters: {'learning_rate': 0.08882155600224662, 'n_estimators': 156, 'colsample_bytree': 0.8210158230771438, 'subsample': 0.5420699824975244, 'reg_alpha': 0.8081435704730688, 'reg_lambda': 4.492770942635397}. Best is trial 0 with value: 566.4390828479673.\u001b[0m\n",
      "\u001b[32m[I 2022-12-07 07:15:58,784]\u001b[0m Trial 4 finished with value: 730.1775264194416 and parameters: {'learning_rate': 0.06103647690629941, 'n_estimators': 1, 'colsample_bytree': 0.5507357714330161, 'subsample': 0.8317508845540279, 'reg_alpha': 0.025307919231093434, 'reg_lambda': 0.8040402570874933}. Best is trial 4 with value: 730.1775264194416.\u001b[0m\n",
      "\u001b[32m[I 2022-12-07 07:15:58,923]\u001b[0m Trial 5 finished with value: 440.5525097310648 and parameters: {'learning_rate': 0.05532464514729203, 'n_estimators': 139, 'colsample_bytree': 0.8259806297513003, 'subsample': 0.61213465473028, 'reg_alpha': 3.560896106737679, 'reg_lambda': 1.1862454374840004}. Best is trial 4 with value: 730.1775264194416.\u001b[0m\n",
      "\u001b[32m[I 2022-12-07 07:15:59,077]\u001b[0m Trial 6 finished with value: 443.88821607384745 and parameters: {'learning_rate': 0.03321457011776751, 'n_estimators': 150, 'colsample_bytree': 0.8248164495236073, 'subsample': 0.924611705247089, 'reg_alpha': 3.2880644615017167, 'reg_lambda': 2.841543016677358}. Best is trial 4 with value: 730.1775264194416.\u001b[0m\n",
      "\u001b[32m[I 2022-12-07 07:15:59,155]\u001b[0m Trial 7 finished with value: 578.8100936689902 and parameters: {'learning_rate': 0.010273802014981157, 'n_estimators': 73, 'colsample_bytree': 0.6326011838408627, 'subsample': 0.6219948216895418, 'reg_alpha': 4.865052773762228, 'reg_lambda': 1.965488623333802}. Best is trial 4 with value: 730.1775264194416.\u001b[0m\n",
      "\u001b[32m[I 2022-12-07 07:15:59,286]\u001b[0m Trial 8 finished with value: 444.6879134459595 and parameters: {'learning_rate': 0.08931260896253422, 'n_estimators': 126, 'colsample_bytree': 0.8974056517708242, 'subsample': 0.751318546552596, 'reg_alpha': 2.8845194231317954, 'reg_lambda': 2.4625884690943196}. Best is trial 4 with value: 730.1775264194416.\u001b[0m\n",
      "\u001b[32m[I 2022-12-07 07:15:59,433]\u001b[0m Trial 9 finished with value: 450.83925890867556 and parameters: {'learning_rate': 0.020329055792006407, 'n_estimators': 145, 'colsample_bytree': 0.6403861812204279, 'subsample': 0.5121579832157269, 'reg_alpha': 3.227361479535839, 'reg_lambda': 0.8855533970352447}. Best is trial 4 with value: 730.1775264194416.\u001b[0m\n",
      "4it [00:04,  1.09s/it]\u001b[32m[I 2022-12-07 07:15:59,435]\u001b[0m A new study created in memory with name: no-name-3c07f1c6-d2ea-4b67-9555-640bdefd9b17\u001b[0m\n"
     ]
    },
    {
     "name": "stdout",
     "output_type": "stream",
     "text": [
      "Best trial : score 730.1775264194416, \n",
      "params {'learning_rate': 0.06103647690629941, 'n_estimators': 1, 'colsample_bytree': 0.5507357714330161, 'subsample': 0.8317508845540279, 'reg_alpha': 0.025307919231093434, 'reg_lambda': 0.8040402570874933}\n",
      "5\n"
     ]
    },
    {
     "name": "stderr",
     "output_type": "stream",
     "text": [
      "\u001b[32m[I 2022-12-07 07:15:59,653]\u001b[0m Trial 0 finished with value: 437.04271003928505 and parameters: {'learning_rate': 0.09410539985093852, 'n_estimators': 191, 'colsample_bytree': 0.9574321951102243, 'subsample': 0.6850793501277221, 'reg_alpha': 0.07728308264433714, 'reg_lambda': 4.641592812938627}. Best is trial 0 with value: 437.04271003928505.\u001b[0m\n",
      "\u001b[32m[I 2022-12-07 07:15:59,842]\u001b[0m Trial 1 finished with value: 442.36653963648484 and parameters: {'learning_rate': 0.04339023068341412, 'n_estimators': 194, 'colsample_bytree': 0.9818099885446264, 'subsample': 0.92650472773368, 'reg_alpha': 1.4722444603479286, 'reg_lambda': 1.9254886430096263}. Best is trial 1 with value: 442.36653963648484.\u001b[0m\n",
      "\u001b[32m[I 2022-12-07 07:15:59,905]\u001b[0m Trial 2 finished with value: 455.3570483509912 and parameters: {'learning_rate': 0.08526253048016884, 'n_estimators': 63, 'colsample_bytree': 0.5847463733430462, 'subsample': 0.7784006312291751, 'reg_alpha': 4.680773870803905, 'reg_lambda': 3.480148983374865}. Best is trial 2 with value: 455.3570483509912.\u001b[0m\n",
      "\u001b[32m[I 2022-12-07 07:15:59,930]\u001b[0m Trial 3 finished with value: 560.9838106858226 and parameters: {'learning_rate': 0.05743605583884714, 'n_estimators': 19, 'colsample_bytree': 0.8075036133495849, 'subsample': 0.9950269250521316, 'reg_alpha': 0.7004200761826201, 'reg_lambda': 2.591648261818684}. Best is trial 3 with value: 560.9838106858226.\u001b[0m\n",
      "\u001b[32m[I 2022-12-07 07:16:00,078]\u001b[0m Trial 4 finished with value: 433.6951352870865 and parameters: {'learning_rate': 0.0878599341208676, 'n_estimators': 148, 'colsample_bytree': 0.848507870497634, 'subsample': 0.8512420419935547, 'reg_alpha': 1.7974557560987758, 'reg_lambda': 1.4679592213224668}. Best is trial 3 with value: 560.9838106858226.\u001b[0m\n",
      "\u001b[32m[I 2022-12-07 07:16:00,237]\u001b[0m Trial 5 finished with value: 439.1302485989584 and parameters: {'learning_rate': 0.08112675439237285, 'n_estimators': 162, 'colsample_bytree': 0.9335361592900518, 'subsample': 0.9566202762782356, 'reg_alpha': 2.556711994304689, 'reg_lambda': 2.507581473435998}. Best is trial 3 with value: 560.9838106858226.\u001b[0m\n",
      "\u001b[32m[I 2022-12-07 07:16:00,368]\u001b[0m Trial 6 finished with value: 436.10102247723546 and parameters: {'learning_rate': 0.08003122271771075, 'n_estimators': 130, 'colsample_bytree': 0.8509834386288517, 'subsample': 0.8978963347180505, 'reg_alpha': 4.450026709087831, 'reg_lambda': 1.689975784257679}. Best is trial 3 with value: 560.9838106858226.\u001b[0m\n",
      "\u001b[32m[I 2022-12-07 07:16:00,392]\u001b[0m Trial 7 finished with value: 635.4383335938923 and parameters: {'learning_rate': 0.03818271231135446, 'n_estimators': 18, 'colsample_bytree': 0.789140070498087, 'subsample': 0.517971136898371, 'reg_alpha': 2.3279900906623006, 'reg_lambda': 2.713223173537883}. Best is trial 7 with value: 635.4383335938923.\u001b[0m\n",
      "\u001b[32m[I 2022-12-07 07:16:00,504]\u001b[0m Trial 8 finished with value: 488.7217373543295 and parameters: {'learning_rate': 0.029367583960700158, 'n_estimators': 118, 'colsample_bytree': 0.5152501249695247, 'subsample': 0.5186740943746072, 'reg_alpha': 4.113002803298292, 'reg_lambda': 1.8009532070563146}. Best is trial 7 with value: 635.4383335938923.\u001b[0m\n",
      "\u001b[32m[I 2022-12-07 07:16:00,609]\u001b[0m Trial 9 finished with value: 532.7282910996543 and parameters: {'learning_rate': 0.013578990752536595, 'n_estimators': 104, 'colsample_bytree': 0.8849967765493054, 'subsample': 0.6079105137484215, 'reg_alpha': 3.114452379095001, 'reg_lambda': 0.42673732496884}. Best is trial 7 with value: 635.4383335938923.\u001b[0m\n",
      "5it [00:05,  1.10s/it]"
     ]
    },
    {
     "name": "stdout",
     "output_type": "stream",
     "text": [
      "Best trial : score 635.4383335938923, \n",
      "params {'learning_rate': 0.03818271231135446, 'n_estimators': 18, 'colsample_bytree': 0.789140070498087, 'subsample': 0.517971136898371, 'reg_alpha': 2.3279900906623006, 'reg_lambda': 2.713223173537883}\n"
     ]
    },
    {
     "name": "stderr",
     "output_type": "stream",
     "text": [
      "\n"
     ]
    }
   ],
   "source": [
    "def objective(trial):\n",
    "    param = {\n",
    "        'learning_rate': trial.suggest_float('learning_rate', 1e-3, 0.1),\n",
    "        'n_estimators': trial.suggest_int('n_estimators', 0, 200),\n",
    "        'colsample_bytree' : trial.suggest_float('colsample_bytree', 0.5, 1.0),\n",
    "        'subsample' :trial.suggest_float('subsample', 0.5, 1.0),\n",
    "        'reg_alpha' : trial.suggest_float('reg_alpha', 0.0, 5.0),\n",
    "        'reg_lambda' : trial.suggest_float('reg_lambda', 0.0, 5.0),\n",
    "        'n_jobs' : -1,\n",
    "    }\n",
    "    model = LGBMRegressor(**param)\n",
    "    model.fit(train_x, train_y, eval_set=[(valid_x, valid_y)], verbose=0)\n",
    "\n",
    "    y_valid_pred = model.predict(valid_x)\n",
    "    return MAE(valid_y, y_valid_pred)\n",
    "\n",
    "sampler = TPESampler(seed=42)\n",
    "\n",
    "kfold = KFold(n_splits=5, shuffle=True, random_state=42)\n",
    "n_iter=0\n",
    "for train_index, test_index in tqdm(kfold.split(Gangnam_x, Gangnam_y)):\n",
    "    n_iter += 1\n",
    "    print(n_iter)\n",
    "    train_x= Gangnam_x.iloc[train_index]\n",
    "    valid_x= Gangnam_x.iloc[test_index]\n",
    "    train_y= Gangnam_y.iloc[train_index]\n",
    "    valid_y= Gangnam_y.iloc[test_index]\n",
    "\n",
    "    study = optuna.create_study(direction='maximize', sampler=sampler)\n",
    "    study.optimize(objective, n_trials=10)\n",
    "\n",
    "    print('Best trial : score {}, \\nparams {}'.format(study.best_trial.value, study.best_trial.params))\n",
    "#for Gangnam\n",
    "#Best trial : score 635.4383335938923, \n",
    "#params {'learning_rate': 0.03818271231135446, 'n_estimators': 18, 'colsample_bytree': 0.789140070498087, 'subsample': 0.517971136898371, 'reg_alpha': 2.3279900906623006, 'reg_lambda': 2.713223173537883}"
   ]
  },
  {
   "cell_type": "code",
   "execution_count": 32,
   "id": "9f4db747",
   "metadata": {},
   "outputs": [
    {
     "name": "stdout",
     "output_type": "stream",
     "text": [
      "{'max_depth': -1, 'n_estimators': 200}\n",
      "LGBMRegressor(n_estimators=200)\n"
     ]
    }
   ],
   "source": [
    "lgbm = LGBMRegressor()\n",
    "\n",
    "param_grid = [\n",
    "    {'n_estimators': [100, 200, 300, 400, 500, 600, 700, 800, 900, 1000], \n",
    "     'max_depth': [-1, 15, 30, 45, 60]}\n",
    "]\n",
    "\n",
    "grid_search = GridSearchCV(lgbm, param_grid, cv=3, scoring='neg_mean_squared_error', \n",
    "                           return_train_score=True, n_jobs=-1)\n",
    "grid_search.fit(Songpa_x, Songpa_y)\n",
    "\n",
    "print(grid_search.best_params_)\n",
    "print(grid_search.best_estimator_)"
   ]
  },
  {
   "cell_type": "code",
   "execution_count": 33,
   "id": "378da6d7",
   "metadata": {},
   "outputs": [
    {
     "name": "stderr",
     "output_type": "stream",
     "text": [
      "0it [00:00, ?it/s]\u001b[32m[I 2022-12-07 07:37:32,103]\u001b[0m A new study created in memory with name: no-name-aae09c80-5cd7-4e0d-9bf2-9d6cc5272161\u001b[0m\n"
     ]
    },
    {
     "name": "stdout",
     "output_type": "stream",
     "text": [
      "1\n"
     ]
    },
    {
     "name": "stderr",
     "output_type": "stream",
     "text": [
      "\u001b[32m[I 2022-12-07 07:37:32,338]\u001b[0m Trial 0 finished with value: 260.67301222740065 and parameters: {'learning_rate': 0.03807947176588889, 'n_estimators': 291, 'colsample_bytree': 0.8659969709057025, 'subsample': 0.7993292420985183, 'reg_alpha': 0.7800932022121826, 'reg_lambda': 0.7799726016810132}. Best is trial 0 with value: 260.67301222740065.\u001b[0m\n",
      "\u001b[32m[I 2022-12-07 07:37:32,520]\u001b[0m Trial 1 finished with value: 338.6269578836511 and parameters: {'learning_rate': 0.006750277604651747, 'n_estimators': 274, 'colsample_bytree': 0.8005575058716043, 'subsample': 0.8540362888980227, 'reg_alpha': 0.10292247147901223, 'reg_lambda': 4.8495492608099715}. Best is trial 1 with value: 338.6269578836511.\u001b[0m\n",
      "\u001b[32m[I 2022-12-07 07:37:32,625]\u001b[0m Trial 2 finished with value: 259.3770583803262 and parameters: {'learning_rate': 0.08341182143924175, 'n_estimators': 142, 'colsample_bytree': 0.5909124836035503, 'subsample': 0.5917022549267169, 'reg_alpha': 1.5212112147976886, 'reg_lambda': 2.6237821581611893}. Best is trial 1 with value: 338.6269578836511.\u001b[0m\n",
      "\u001b[32m[I 2022-12-07 07:37:32,745]\u001b[0m Trial 3 finished with value: 266.5572033479529 and parameters: {'learning_rate': 0.04376255684556946, 'n_estimators': 158, 'colsample_bytree': 0.8059264473611898, 'subsample': 0.569746930326021, 'reg_alpha': 1.4607232426760908, 'reg_lambda': 1.8318092164684585}. Best is trial 1 with value: 338.6269578836511.\u001b[0m\n",
      "\u001b[32m[I 2022-12-07 07:37:32,937]\u001b[0m Trial 4 finished with value: 260.19367838062215 and parameters: {'learning_rate': 0.04615092843748656, 'n_estimators': 257, 'colsample_bytree': 0.5998368910791798, 'subsample': 0.7571172192068059, 'reg_alpha': 2.9620728443102124, 'reg_lambda': 0.23225206359998862}. Best is trial 1 with value: 338.6269578836511.\u001b[0m\n",
      "\u001b[32m[I 2022-12-07 07:37:33,036]\u001b[0m Trial 5 finished with value: 267.75675294247634 and parameters: {'learning_rate': 0.0611469403382424, 'n_estimators': 134, 'colsample_bytree': 0.5325257964926398, 'subsample': 0.9744427686266666, 'reg_alpha': 4.828160165372797, 'reg_lambda': 4.041986740582305}. Best is trial 1 with value: 338.6269578836511.\u001b[0m\n",
      "\u001b[32m[I 2022-12-07 07:37:33,124]\u001b[0m Trial 6 finished with value: 289.7180658148286 and parameters: {'learning_rate': 0.0311567631481637, 'n_estimators': 119, 'colsample_bytree': 0.8421165132560784, 'subsample': 0.7200762468698007, 'reg_alpha': 0.6101911742238941, 'reg_lambda': 2.475884550556351}. Best is trial 1 with value: 338.6269578836511.\u001b[0m\n",
      "\u001b[32m[I 2022-12-07 07:37:33,315]\u001b[0m Trial 7 finished with value: 381.89004048610065 and parameters: {'learning_rate': 0.004404463590406622, 'n_estimators': 282, 'colsample_bytree': 0.6293899908000085, 'subsample': 0.831261142176991, 'reg_alpha': 1.5585553804470549, 'reg_lambda': 2.600340105889054}. Best is trial 7 with value: 381.89004048610065.\u001b[0m\n",
      "\u001b[32m[I 2022-12-07 07:37:33,420]\u001b[0m Trial 8 finished with value: 275.1713811544662 and parameters: {'learning_rate': 0.05512431765498469, 'n_estimators': 137, 'colsample_bytree': 0.9847923138822793, 'subsample': 0.8875664116805573, 'reg_alpha': 4.697494707820946, 'reg_lambda': 4.474136752138244}. Best is trial 7 with value: 381.89004048610065.\u001b[0m\n",
      "\u001b[32m[I 2022-12-07 07:37:33,625]\u001b[0m Trial 9 finished with value: 251.52092475931335 and parameters: {'learning_rate': 0.06019209790229743, 'n_estimators': 285, 'colsample_bytree': 0.5442462510259598, 'subsample': 0.5979914312095727, 'reg_alpha': 0.22613644455269033, 'reg_lambda': 1.6266516538163218}. Best is trial 7 with value: 381.89004048610065.\u001b[0m\n",
      "1it [00:01,  1.52s/it]\u001b[32m[I 2022-12-07 07:37:33,628]\u001b[0m A new study created in memory with name: no-name-f623b62d-67c3-4864-b2b0-8d845895a77e\u001b[0m\n",
      "\u001b[32m[I 2022-12-07 07:37:33,747]\u001b[0m Trial 0 finished with value: 273.9040387754913 and parameters: {'learning_rate': 0.03947905167925872, 'n_estimators': 154, 'colsample_bytree': 0.9143687545759647, 'subsample': 0.6783766633467947, 'reg_alpha': 1.4046725484369038, 'reg_lambda': 2.7134804157912424}. Best is trial 0 with value: 273.9040387754913.\u001b[0m\n"
     ]
    },
    {
     "name": "stdout",
     "output_type": "stream",
     "text": [
      "Best trial : score 381.89004048610065, \n",
      "params {'learning_rate': 0.004404463590406622, 'n_estimators': 282, 'colsample_bytree': 0.6293899908000085, 'subsample': 0.831261142176991, 'reg_alpha': 1.5585553804470549, 'reg_lambda': 2.600340105889054}\n",
      "2\n"
     ]
    },
    {
     "name": "stderr",
     "output_type": "stream",
     "text": [
      "\u001b[32m[I 2022-12-07 07:37:33,935]\u001b[0m Trial 1 finished with value: 288.42212369413517 and parameters: {'learning_rate': 0.014951498272501501, 'n_estimators': 261, 'colsample_bytree': 0.5372753218398854, 'subsample': 0.9934434683002586, 'reg_alpha': 3.861223846483287, 'reg_lambda': 0.993578407670862}. Best is trial 1 with value: 288.42212369413517.\u001b[0m\n",
      "\u001b[32m[I 2022-12-07 07:37:34,135]\u001b[0m Trial 2 finished with value: 504.20632788239004 and parameters: {'learning_rate': 0.0015466895952366377, 'n_estimators': 263, 'colsample_bytree': 0.8534286719238086, 'subsample': 0.8645035840204937, 'reg_alpha': 3.8563517334297286, 'reg_lambda': 0.3702232586704518}. Best is trial 2 with value: 504.20632788239004.\u001b[0m\n",
      "\u001b[32m[I 2022-12-07 07:37:34,245]\u001b[0m Trial 3 finished with value: 272.2011651976811 and parameters: {'learning_rate': 0.03648810712588299, 'n_estimators': 123, 'colsample_bytree': 0.9315517129377968, 'subsample': 0.811649063413779, 'reg_alpha': 1.654490124263246, 'reg_lambda': 0.3177917514301182}. Best is trial 2 with value: 504.20632788239004.\u001b[0m\n",
      "\u001b[32m[I 2022-12-07 07:37:34,379]\u001b[0m Trial 4 finished with value: 273.5029606636274 and parameters: {'learning_rate': 0.03178724984985056, 'n_estimators': 165, 'colsample_bytree': 0.864803089169032, 'subsample': 0.8187787356776066, 'reg_alpha': 4.436063712881633, 'reg_lambda': 2.3610746258097466}. Best is trial 2 with value: 504.20632788239004.\u001b[0m\n",
      "\u001b[32m[I 2022-12-07 07:37:34,557]\u001b[0m Trial 5 finished with value: 278.5851093348406 and parameters: {'learning_rate': 0.012839830347891868, 'n_estimators': 243, 'colsample_bytree': 0.8803925243084487, 'subsample': 0.7806385987847482, 'reg_alpha': 3.854835899772805, 'reg_lambda': 2.4689779818219537}. Best is trial 2 with value: 504.20632788239004.\u001b[0m\n",
      "\u001b[32m[I 2022-12-07 07:37:34,696]\u001b[0m Trial 6 finished with value: 284.13397994055276 and parameters: {'learning_rate': 0.052750550108817414, 'n_estimators': 185, 'colsample_bytree': 0.5127095633720475, 'subsample': 0.5539457134966522, 'reg_alpha': 0.15714592843367126, 'reg_lambda': 3.182052056318902}. Best is trial 2 with value: 504.20632788239004.\u001b[0m\n",
      "\u001b[32m[I 2022-12-07 07:37:34,850]\u001b[0m Trial 7 finished with value: 274.77713635723006 and parameters: {'learning_rate': 0.03212124212655634, 'n_estimators': 202, 'colsample_bytree': 0.9537832369630466, 'subsample': 0.6246461145744375, 'reg_alpha': 2.0519146151781484, 'reg_lambda': 3.7777556927152434}. Best is trial 2 with value: 504.20632788239004.\u001b[0m\n",
      "\u001b[32m[I 2022-12-07 07:37:34,931]\u001b[0m Trial 8 finished with value: 298.28550939477407 and parameters: {'learning_rate': 0.023651018383670626, 'n_estimators': 115, 'colsample_bytree': 0.6448757264568841, 'subsample': 0.5806106436270022, 'reg_alpha': 4.648488261712865, 'reg_lambda': 4.040601897822085}. Best is trial 2 with value: 504.20632788239004.\u001b[0m\n",
      "\u001b[32m[I 2022-12-07 07:37:35,143]\u001b[0m Trial 9 finished with value: 292.9399013559416 and parameters: {'learning_rate': 0.06370697189453192, 'n_estimators': 275, 'colsample_bytree': 0.9018360384495572, 'subsample': 0.5932850294430179, 'reg_alpha': 4.462794992449889, 'reg_lambda': 2.6967112095782535}. Best is trial 2 with value: 504.20632788239004.\u001b[0m\n",
      "2it [00:03,  1.52s/it]\u001b[32m[I 2022-12-07 07:37:35,145]\u001b[0m A new study created in memory with name: no-name-03881cdb-bfcb-47df-82c0-4d5da0f8dbf9\u001b[0m\n"
     ]
    },
    {
     "name": "stdout",
     "output_type": "stream",
     "text": [
      "Best trial : score 504.20632788239004, \n",
      "params {'learning_rate': 0.0015466895952366377, 'n_estimators': 263, 'colsample_bytree': 0.8534286719238086, 'subsample': 0.8645035840204937, 'reg_alpha': 3.8563517334297286, 'reg_lambda': 0.3702232586704518}\n",
      "3\n"
     ]
    },
    {
     "name": "stderr",
     "output_type": "stream",
     "text": [
      "\u001b[32m[I 2022-12-07 07:37:35,368]\u001b[0m Trial 0 finished with value: 288.16113852173885 and parameters: {'learning_rate': 0.0809365753612422, 'n_estimators': 280, 'colsample_bytree': 0.6590017374859319, 'subsample': 0.5550259622638384, 'reg_alpha': 1.1396758127097084, 'reg_lambda': 2.1355389431312815}. Best is trial 0 with value: 288.16113852173885.\u001b[0m\n",
      "\u001b[32m[I 2022-12-07 07:37:35,573]\u001b[0m Trial 1 finished with value: 291.22487081646966 and parameters: {'learning_rate': 0.08198346182632682, 'n_estimators': 273, 'colsample_bytree': 0.5034760652655954, 'subsample': 0.7553736512887829, 'reg_alpha': 2.087055015743895, 'reg_lambda': 1.1105390523536514}. Best is trial 1 with value: 291.22487081646966.\u001b[0m\n",
      "\u001b[32m[I 2022-12-07 07:37:35,698]\u001b[0m Trial 2 finished with value: 324.3301769367817 and parameters: {'learning_rate': 0.012866671366034598, 'n_estimators': 167, 'colsample_bytree': 0.9714548519562596, 'subsample': 0.6616014660103776, 'reg_alpha': 2.5939531087168306, 'reg_lambda': 3.515094794475889}. Best is trial 2 with value: 324.3301769367817.\u001b[0m\n",
      "\u001b[32m[I 2022-12-07 07:37:35,930]\u001b[0m Trial 3 finished with value: 287.52046736510846 and parameters: {'learning_rate': 0.03699933063555011, 'n_estimators': 295, 'colsample_bytree': 0.9812236474710556, 'subsample': 0.6258911479126821, 'reg_alpha': 2.4862425294619275, 'reg_lambda': 1.5043915490838482}. Best is trial 2 with value: 324.3301769367817.\u001b[0m\n",
      "\u001b[32m[I 2022-12-07 07:37:36,012]\u001b[0m Trial 4 finished with value: 304.94893024734546 and parameters: {'learning_rate': 0.029199208943369297, 'n_estimators': 107, 'colsample_bytree': 0.8047821669899484, 'subsample': 0.7513395116144308, 'reg_alpha': 0.25739375624994676, 'reg_lambda': 1.3932323211830573}. Best is trial 2 with value: 324.3301769367817.\u001b[0m\n",
      "\u001b[32m[I 2022-12-07 07:37:36,126]\u001b[0m Trial 5 finished with value: 289.6613666711357 and parameters: {'learning_rate': 0.09091832271069872, 'n_estimators': 148, 'colsample_bytree': 0.5724474360456115, 'subsample': 0.7447263801387816, 'reg_alpha': 4.928252270553004, 'reg_lambda': 1.2102763575575022}. Best is trial 2 with value: 324.3301769367817.\u001b[0m\n",
      "\u001b[32m[I 2022-12-07 07:37:36,315]\u001b[0m Trial 6 finished with value: 282.55072757238764 and parameters: {'learning_rate': 0.06754141919318198, 'n_estimators': 253, 'colsample_bytree': 0.6188187719961998, 'subsample': 0.8641081743059298, 'reg_alpha': 1.838915663596266, 'reg_lambda': 3.1615291529678973}. Best is trial 2 with value: 324.3301769367817.\u001b[0m\n",
      "\u001b[32m[I 2022-12-07 07:37:36,476]\u001b[0m Trial 7 finished with value: 293.31392635391086 and parameters: {'learning_rate': 0.06371944136532857, 'n_estimators': 207, 'colsample_bytree': 0.5451448850272042, 'subsample': 0.917651247794619, 'reg_alpha': 1.6039003248586792, 'reg_lambda': 0.9325925519992712}. Best is trial 2 with value: 324.3301769367817.\u001b[0m\n",
      "\u001b[32m[I 2022-12-07 07:37:36,631]\u001b[0m Trial 8 finished with value: 376.8982241060941 and parameters: {'learning_rate': 0.005036739013921628, 'n_estimators': 218, 'colsample_bytree': 0.8387821809211412, 'subsample': 0.508293914463928, 'reg_alpha': 2.560465291496405, 'reg_lambda': 1.1324788759896898}. Best is trial 8 with value: 376.8982241060941.\u001b[0m\n",
      "\u001b[32m[I 2022-12-07 07:37:36,737]\u001b[0m Trial 9 finished with value: 289.87714293473726 and parameters: {'learning_rate': 0.06487210625053554, 'n_estimators': 135, 'colsample_bytree': 0.845468869051233, 'subsample': 0.6933676731502687, 'reg_alpha': 4.6836499436836725, 'reg_lambda': 0.6876047207299663}. Best is trial 8 with value: 376.8982241060941.\u001b[0m\n",
      "3it [00:04,  1.55s/it]\u001b[32m[I 2022-12-07 07:37:36,739]\u001b[0m A new study created in memory with name: no-name-0b77be3a-a7f6-4d66-971e-c82cd49adc2a\u001b[0m\n",
      "\u001b[32m[I 2022-12-07 07:37:36,838]\u001b[0m Trial 0 finished with value: 299.93308547332566 and parameters: {'learning_rate': 0.034765568753975594, 'n_estimators': 122, 'colsample_bytree': 0.9623468091392814, 'subsample': 0.9386696766904905, 'reg_alpha': 1.289708138575778, 'reg_lambda': 3.299920230170895}. Best is trial 0 with value: 299.93308547332566.\u001b[0m\n"
     ]
    },
    {
     "name": "stdout",
     "output_type": "stream",
     "text": [
      "Best trial : score 376.8982241060941, \n",
      "params {'learning_rate': 0.005036739013921628, 'n_estimators': 218, 'colsample_bytree': 0.8387821809211412, 'subsample': 0.508293914463928, 'reg_alpha': 2.560465291496405, 'reg_lambda': 1.1324788759896898}\n",
      "4\n"
     ]
    },
    {
     "name": "stderr",
     "output_type": "stream",
     "text": [
      "\u001b[32m[I 2022-12-07 07:37:37,025]\u001b[0m Trial 1 finished with value: 311.8110071163151 and parameters: {'learning_rate': 0.08190499781992037, 'n_estimators': 211, 'colsample_bytree': 0.7648252891780032, 'subsample': 0.6209261454502258, 'reg_alpha': 0.46551383902949606, 'reg_lambda': 4.486078789766633}. Best is trial 1 with value: 311.8110071163151.\u001b[0m\n",
      "\u001b[32m[I 2022-12-07 07:37:37,199]\u001b[0m Trial 2 finished with value: 317.50611540175964 and parameters: {'learning_rate': 0.09014138765916972, 'n_estimators': 227, 'colsample_bytree': 0.6695148955243504, 'subsample': 0.6746047873063304, 'reg_alpha': 3.629778394351197, 'reg_lambda': 4.485551299762886}. Best is trial 2 with value: 317.50611540175964.\u001b[0m\n",
      "\u001b[32m[I 2022-12-07 07:37:37,393]\u001b[0m Trial 3 finished with value: 325.0188708412149 and parameters: {'learning_rate': 0.08882155600224662, 'n_estimators': 256, 'colsample_bytree': 0.8210158230771438, 'subsample': 0.5420699824975244, 'reg_alpha': 0.8081435704730688, 'reg_lambda': 4.492770942635397}. Best is trial 3 with value: 325.0188708412149.\u001b[0m\n",
      "\u001b[32m[I 2022-12-07 07:37:37,476]\u001b[0m Trial 4 finished with value: 303.51558610174914 and parameters: {'learning_rate': 0.06103647690629941, 'n_estimators': 101, 'colsample_bytree': 0.5507357714330161, 'subsample': 0.8317508845540279, 'reg_alpha': 0.025307919231093434, 'reg_lambda': 0.8040402570874933}. Best is trial 3 with value: 325.0188708412149.\u001b[0m\n",
      "\u001b[32m[I 2022-12-07 07:37:37,663]\u001b[0m Trial 5 finished with value: 312.8522662075026 and parameters: {'learning_rate': 0.05532464514729203, 'n_estimators': 239, 'colsample_bytree': 0.8259806297513003, 'subsample': 0.61213465473028, 'reg_alpha': 3.560896106737679, 'reg_lambda': 1.1862454374840004}. Best is trial 3 with value: 325.0188708412149.\u001b[0m\n",
      "\u001b[32m[I 2022-12-07 07:37:37,855]\u001b[0m Trial 6 finished with value: 306.5975358236302 and parameters: {'learning_rate': 0.03321457011776751, 'n_estimators': 250, 'colsample_bytree': 0.8248164495236073, 'subsample': 0.924611705247089, 'reg_alpha': 3.2880644615017167, 'reg_lambda': 2.841543016677358}. Best is trial 3 with value: 325.0188708412149.\u001b[0m\n",
      "\u001b[32m[I 2022-12-07 07:37:38,017]\u001b[0m Trial 7 finished with value: 342.21598960955856 and parameters: {'learning_rate': 0.010273802014981157, 'n_estimators': 173, 'colsample_bytree': 0.6326011838408627, 'subsample': 0.6219948216895418, 'reg_alpha': 4.865052773762228, 'reg_lambda': 1.965488623333802}. Best is trial 7 with value: 342.21598960955856.\u001b[0m\n",
      "\u001b[32m[I 2022-12-07 07:37:38,194]\u001b[0m Trial 8 finished with value: 313.8245050841285 and parameters: {'learning_rate': 0.08931260896253422, 'n_estimators': 226, 'colsample_bytree': 0.8974056517708242, 'subsample': 0.751318546552596, 'reg_alpha': 2.8845194231317954, 'reg_lambda': 2.4625884690943196}. Best is trial 7 with value: 342.21598960955856.\u001b[0m\n",
      "\u001b[32m[I 2022-12-07 07:37:38,380]\u001b[0m Trial 9 finished with value: 306.78482113600313 and parameters: {'learning_rate': 0.020329055792006407, 'n_estimators': 245, 'colsample_bytree': 0.6403861812204279, 'subsample': 0.5121579832157269, 'reg_alpha': 3.227361479535839, 'reg_lambda': 0.8855533970352447}. Best is trial 7 with value: 342.21598960955856.\u001b[0m\n",
      "4it [00:06,  1.59s/it]\u001b[32m[I 2022-12-07 07:37:38,382]\u001b[0m A new study created in memory with name: no-name-1fcc4511-d2a0-4697-b5a3-00b7bbdd6def\u001b[0m\n"
     ]
    },
    {
     "name": "stdout",
     "output_type": "stream",
     "text": [
      "Best trial : score 342.21598960955856, \n",
      "params {'learning_rate': 0.010273802014981157, 'n_estimators': 173, 'colsample_bytree': 0.6326011838408627, 'subsample': 0.6219948216895418, 'reg_alpha': 4.865052773762228, 'reg_lambda': 1.965488623333802}\n",
      "5\n"
     ]
    },
    {
     "name": "stderr",
     "output_type": "stream",
     "text": [
      "\u001b[32m[I 2022-12-07 07:37:38,612]\u001b[0m Trial 0 finished with value: 282.95683994472785 and parameters: {'learning_rate': 0.09410539985093852, 'n_estimators': 291, 'colsample_bytree': 0.9574321951102243, 'subsample': 0.6850793501277221, 'reg_alpha': 0.07728308264433714, 'reg_lambda': 4.641592812938627}. Best is trial 0 with value: 282.95683994472785.\u001b[0m\n",
      "\u001b[32m[I 2022-12-07 07:37:38,844]\u001b[0m Trial 1 finished with value: 278.83576129948074 and parameters: {'learning_rate': 0.04339023068341412, 'n_estimators': 294, 'colsample_bytree': 0.9818099885446264, 'subsample': 0.92650472773368, 'reg_alpha': 1.4722444603479286, 'reg_lambda': 1.9254886430096263}. Best is trial 0 with value: 282.95683994472785.\u001b[0m\n",
      "\u001b[32m[I 2022-12-07 07:37:38,967]\u001b[0m Trial 2 finished with value: 283.22863888682303 and parameters: {'learning_rate': 0.08526253048016884, 'n_estimators': 163, 'colsample_bytree': 0.5847463733430462, 'subsample': 0.7784006312291751, 'reg_alpha': 4.680773870803905, 'reg_lambda': 3.480148983374865}. Best is trial 2 with value: 283.22863888682303.\u001b[0m\n",
      "\u001b[32m[I 2022-12-07 07:37:39,059]\u001b[0m Trial 3 finished with value: 268.7836097325318 and parameters: {'learning_rate': 0.05743605583884714, 'n_estimators': 119, 'colsample_bytree': 0.8075036133495849, 'subsample': 0.9950269250521316, 'reg_alpha': 0.7004200761826201, 'reg_lambda': 2.591648261818684}. Best is trial 2 with value: 283.22863888682303.\u001b[0m\n",
      "\u001b[32m[I 2022-12-07 07:37:39,252]\u001b[0m Trial 4 finished with value: 284.5757976709995 and parameters: {'learning_rate': 0.0878599341208676, 'n_estimators': 248, 'colsample_bytree': 0.848507870497634, 'subsample': 0.8512420419935547, 'reg_alpha': 1.7974557560987758, 'reg_lambda': 1.4679592213224668}. Best is trial 4 with value: 284.5757976709995.\u001b[0m\n",
      "\u001b[32m[I 2022-12-07 07:37:39,455]\u001b[0m Trial 5 finished with value: 274.05020441478797 and parameters: {'learning_rate': 0.08112675439237285, 'n_estimators': 262, 'colsample_bytree': 0.9335361592900518, 'subsample': 0.9566202762782356, 'reg_alpha': 2.556711994304689, 'reg_lambda': 2.507581473435998}. Best is trial 4 with value: 284.5757976709995.\u001b[0m\n",
      "\u001b[32m[I 2022-12-07 07:37:39,654]\u001b[0m Trial 6 finished with value: 278.9839013928862 and parameters: {'learning_rate': 0.08003122271771075, 'n_estimators': 230, 'colsample_bytree': 0.8509834386288517, 'subsample': 0.8978963347180505, 'reg_alpha': 4.450026709087831, 'reg_lambda': 1.689975784257679}. Best is trial 4 with value: 284.5757976709995.\u001b[0m\n",
      "\u001b[32m[I 2022-12-07 07:37:39,745]\u001b[0m Trial 7 finished with value: 265.8424818651263 and parameters: {'learning_rate': 0.03818271231135446, 'n_estimators': 118, 'colsample_bytree': 0.789140070498087, 'subsample': 0.517971136898371, 'reg_alpha': 2.3279900906623006, 'reg_lambda': 2.713223173537883}. Best is trial 4 with value: 284.5757976709995.\u001b[0m\n",
      "\u001b[32m[I 2022-12-07 07:37:39,901]\u001b[0m Trial 8 finished with value: 281.52897774453396 and parameters: {'learning_rate': 0.029367583960700158, 'n_estimators': 218, 'colsample_bytree': 0.5152501249695247, 'subsample': 0.5186740943746072, 'reg_alpha': 4.113002803298292, 'reg_lambda': 1.8009532070563146}. Best is trial 4 with value: 284.5757976709995.\u001b[0m\n",
      "\u001b[32m[I 2022-12-07 07:37:40,069]\u001b[0m Trial 9 finished with value: 267.57705773266787 and parameters: {'learning_rate': 0.013578990752536595, 'n_estimators': 204, 'colsample_bytree': 0.8849967765493054, 'subsample': 0.6079105137484215, 'reg_alpha': 3.114452379095001, 'reg_lambda': 0.42673732496884}. Best is trial 4 with value: 284.5757976709995.\u001b[0m\n",
      "5it [00:07,  1.59s/it]"
     ]
    },
    {
     "name": "stdout",
     "output_type": "stream",
     "text": [
      "Best trial : score 284.5757976709995, \n",
      "params {'learning_rate': 0.0878599341208676, 'n_estimators': 248, 'colsample_bytree': 0.848507870497634, 'subsample': 0.8512420419935547, 'reg_alpha': 1.7974557560987758, 'reg_lambda': 1.4679592213224668}\n"
     ]
    },
    {
     "name": "stderr",
     "output_type": "stream",
     "text": [
      "\n"
     ]
    }
   ],
   "source": [
    "def objective(trial):\n",
    "    param = {\n",
    "        'learning_rate': trial.suggest_float('learning_rate', 1e-3, 0.1),\n",
    "        'n_estimators': trial.suggest_int('n_estimators', 100, 300),\n",
    "        'colsample_bytree' : trial.suggest_float('colsample_bytree', 0.5, 1.0),\n",
    "        'subsample' :trial.suggest_float('subsample', 0.5, 1.0),\n",
    "        'reg_alpha' : trial.suggest_float('reg_alpha', 0.0, 5.0),\n",
    "        'reg_lambda' : trial.suggest_float('reg_lambda', 0.0, 5.0),\n",
    "        'n_jobs' : -1,\n",
    "    }\n",
    "    model = LGBMRegressor(**param)\n",
    "    model.fit(train_x, train_y, eval_set=[(valid_x, valid_y)], verbose=0)\n",
    "\n",
    "    y_valid_pred = model.predict(valid_x)\n",
    "    return MAE(valid_y, y_valid_pred)\n",
    "\n",
    "sampler = TPESampler(seed=42)\n",
    "\n",
    "kfold = KFold(n_splits=5, shuffle=True, random_state=42)\n",
    "n_iter=0\n",
    "for train_index, test_index in tqdm(kfold.split(Songpa_x, Songpa_y)):\n",
    "    n_iter += 1\n",
    "    print(n_iter)\n",
    "    train_x= Songpa_x.iloc[train_index]\n",
    "    valid_x= Songpa_x.iloc[test_index]\n",
    "    train_y= Songpa_y.iloc[train_index]\n",
    "    valid_y= Songpa_y.iloc[test_index]\n",
    "\n",
    "    study = optuna.create_study(direction='maximize', sampler=sampler)\n",
    "    study.optimize(objective, n_trials=10)\n",
    "\n",
    "    print('Best trial : score {}, \\nparams {}'.format(study.best_trial.value, study.best_trial.params))\n",
    "#for Songpa\n",
    "#Best trial : score 284.5757976709995, \n",
    "#params {'learning_rate': 0.0878599341208676, 'n_estimators': 248, 'colsample_bytree': 0.848507870497634, 'subsample': 0.8512420419935547, 'reg_alpha': 1.7974557560987758, 'reg_lambda': 1.4679592213224668}"
   ]
  },
  {
   "cell_type": "code",
   "execution_count": 34,
   "id": "3dbd8a9e",
   "metadata": {},
   "outputs": [
    {
     "name": "stdout",
     "output_type": "stream",
     "text": [
      "{'max_depth': -1, 'n_estimators': 100}\n",
      "LGBMRegressor()\n"
     ]
    }
   ],
   "source": [
    "lgbm = LGBMRegressor()\n",
    "\n",
    "param_grid = [\n",
    "    {'n_estimators': [100, 200, 300, 400, 500, 600, 700, 800, 900, 1000], \n",
    "     'max_depth': [-1, 15, 30, 45, 60]}\n",
    "]\n",
    "\n",
    "grid_search = GridSearchCV(lgbm, param_grid, cv=3, scoring='neg_mean_squared_error', \n",
    "                           return_train_score=True, n_jobs=-1)\n",
    "grid_search.fit(Gangdong_x, Gangdong_y)\n",
    "\n",
    "print(grid_search.best_params_)\n",
    "print(grid_search.best_estimator_)"
   ]
  },
  {
   "cell_type": "code",
   "execution_count": 35,
   "id": "e23fbeb5",
   "metadata": {},
   "outputs": [
    {
     "name": "stderr",
     "output_type": "stream",
     "text": [
      "0it [00:00, ?it/s]\u001b[32m[I 2022-12-07 08:12:02,428]\u001b[0m A new study created in memory with name: no-name-8d5bd79a-bf55-4a4f-9839-ba7665a66fe2\u001b[0m\n",
      "\u001b[32m[I 2022-12-07 08:12:02,527]\u001b[0m Trial 0 finished with value: 184.23943870176683 and parameters: {'learning_rate': 0.03807947176588889, 'n_estimators': 191, 'colsample_bytree': 0.8659969709057025, 'subsample': 0.7993292420985183, 'reg_alpha': 0.7800932022121826, 'reg_lambda': 0.7799726016810132}. Best is trial 0 with value: 184.23943870176683.\u001b[0m\n",
      "\u001b[32m[I 2022-12-07 08:12:02,566]\u001b[0m Trial 1 finished with value: 252.87827321882136 and parameters: {'learning_rate': 0.006750277604651747, 'n_estimators': 174, 'colsample_bytree': 0.8005575058716043, 'subsample': 0.8540362888980227, 'reg_alpha': 0.10292247147901223, 'reg_lambda': 4.8495492608099715}. Best is trial 1 with value: 252.87827321882136.\u001b[0m\n",
      "\u001b[32m[I 2022-12-07 08:12:02,580]\u001b[0m Trial 2 finished with value: 198.8810666452218 and parameters: {'learning_rate': 0.08341182143924175, 'n_estimators': 42, 'colsample_bytree': 0.5909124836035503, 'subsample': 0.5917022549267169, 'reg_alpha': 1.5212112147976886, 'reg_lambda': 2.6237821581611893}. Best is trial 1 with value: 252.87827321882136.\u001b[0m\n",
      "\u001b[32m[I 2022-12-07 08:12:02,597]\u001b[0m Trial 3 finished with value: 204.92232474546034 and parameters: {'learning_rate': 0.04376255684556946, 'n_estimators': 58, 'colsample_bytree': 0.8059264473611898, 'subsample': 0.569746930326021, 'reg_alpha': 1.4607232426760908, 'reg_lambda': 1.8318092164684585}. Best is trial 1 with value: 252.87827321882136.\u001b[0m\n",
      "\u001b[32m[I 2022-12-07 08:12:02,628]\u001b[0m Trial 4 finished with value: 184.65620911771256 and parameters: {'learning_rate': 0.04615092843748656, 'n_estimators': 157, 'colsample_bytree': 0.5998368910791798, 'subsample': 0.7571172192068059, 'reg_alpha': 2.9620728443102124, 'reg_lambda': 0.23225206359998862}. Best is trial 1 with value: 252.87827321882136.\u001b[0m\n"
     ]
    },
    {
     "name": "stdout",
     "output_type": "stream",
     "text": [
      "1\n"
     ]
    },
    {
     "name": "stderr",
     "output_type": "stream",
     "text": [
      "\u001b[32m[I 2022-12-07 08:12:02,638]\u001b[0m Trial 5 finished with value: 228.1205050641768 and parameters: {'learning_rate': 0.0611469403382424, 'n_estimators': 34, 'colsample_bytree': 0.5325257964926398, 'subsample': 0.9744427686266666, 'reg_alpha': 4.828160165372797, 'reg_lambda': 4.041986740582305}. Best is trial 1 with value: 252.87827321882136.\u001b[0m\n",
      "\u001b[32m[I 2022-12-07 08:12:02,646]\u001b[0m Trial 6 finished with value: 301.99865045304745 and parameters: {'learning_rate': 0.0311567631481637, 'n_estimators': 19, 'colsample_bytree': 0.8421165132560784, 'subsample': 0.7200762468698007, 'reg_alpha': 0.6101911742238941, 'reg_lambda': 2.475884550556351}. Best is trial 6 with value: 301.99865045304745.\u001b[0m\n",
      "\u001b[32m[I 2022-12-07 08:12:02,677]\u001b[0m Trial 7 finished with value: 285.2542042530461 and parameters: {'learning_rate': 0.004404463590406622, 'n_estimators': 182, 'colsample_bytree': 0.6293899908000085, 'subsample': 0.831261142176991, 'reg_alpha': 1.5585553804470549, 'reg_lambda': 2.600340105889054}. Best is trial 6 with value: 301.99865045304745.\u001b[0m\n",
      "\u001b[32m[I 2022-12-07 08:12:02,689]\u001b[0m Trial 8 finished with value: 217.7164659416535 and parameters: {'learning_rate': 0.05512431765498469, 'n_estimators': 37, 'colsample_bytree': 0.9847923138822793, 'subsample': 0.8875664116805573, 'reg_alpha': 4.697494707820946, 'reg_lambda': 4.474136752138244}. Best is trial 6 with value: 301.99865045304745.\u001b[0m\n",
      "\u001b[32m[I 2022-12-07 08:12:02,719]\u001b[0m Trial 9 finished with value: 186.29172580919476 and parameters: {'learning_rate': 0.06019209790229743, 'n_estimators': 185, 'colsample_bytree': 0.5442462510259598, 'subsample': 0.5979914312095727, 'reg_alpha': 0.22613644455269033, 'reg_lambda': 1.6266516538163218}. Best is trial 6 with value: 301.99865045304745.\u001b[0m\n",
      "1it [00:00,  3.41it/s]\u001b[32m[I 2022-12-07 08:12:02,721]\u001b[0m A new study created in memory with name: no-name-79ed07ba-fdc9-40dc-a5da-19e9b85be57a\u001b[0m\n",
      "\u001b[32m[I 2022-12-07 08:12:02,734]\u001b[0m Trial 0 finished with value: 183.8452974853571 and parameters: {'learning_rate': 0.03947905167925872, 'n_estimators': 54, 'colsample_bytree': 0.9143687545759647, 'subsample': 0.6783766633467947, 'reg_alpha': 1.4046725484369038, 'reg_lambda': 2.7134804157912424}. Best is trial 0 with value: 183.8452974853571.\u001b[0m\n",
      "\u001b[32m[I 2022-12-07 08:12:02,767]\u001b[0m Trial 1 finished with value: 192.88422981569457 and parameters: {'learning_rate': 0.014951498272501501, 'n_estimators': 161, 'colsample_bytree': 0.5372753218398854, 'subsample': 0.9934434683002586, 'reg_alpha': 3.861223846483287, 'reg_lambda': 0.993578407670862}. Best is trial 1 with value: 192.88422981569457.\u001b[0m\n",
      "\u001b[32m[I 2022-12-07 08:12:02,797]\u001b[0m Trial 2 finished with value: 321.98610505720694 and parameters: {'learning_rate': 0.0015466895952366377, 'n_estimators': 163, 'colsample_bytree': 0.8534286719238086, 'subsample': 0.8645035840204937, 'reg_alpha': 3.8563517334297286, 'reg_lambda': 0.3702232586704518}. Best is trial 2 with value: 321.98610505720694.\u001b[0m\n",
      "\u001b[32m[I 2022-12-07 08:12:02,807]\u001b[0m Trial 3 finished with value: 232.2230474951818 and parameters: {'learning_rate': 0.03648810712588299, 'n_estimators': 23, 'colsample_bytree': 0.9315517129377968, 'subsample': 0.811649063413779, 'reg_alpha': 1.654490124263246, 'reg_lambda': 0.3177917514301182}. Best is trial 2 with value: 321.98610505720694.\u001b[0m\n",
      "\u001b[32m[I 2022-12-07 08:12:02,820]\u001b[0m Trial 4 finished with value: 184.51503340243605 and parameters: {'learning_rate': 0.03178724984985056, 'n_estimators': 65, 'colsample_bytree': 0.864803089169032, 'subsample': 0.8187787356776066, 'reg_alpha': 4.436063712881633, 'reg_lambda': 2.3610746258097466}. Best is trial 2 with value: 321.98610505720694.\u001b[0m\n",
      "\u001b[32m[I 2022-12-07 08:12:02,852]\u001b[0m Trial 5 finished with value: 183.54591889331564 and parameters: {'learning_rate': 0.012839830347891868, 'n_estimators': 143, 'colsample_bytree': 0.8803925243084487, 'subsample': 0.7806385987847482, 'reg_alpha': 3.854835899772805, 'reg_lambda': 2.4689779818219537}. Best is trial 2 with value: 321.98610505720694.\u001b[0m\n",
      "\u001b[32m[I 2022-12-07 08:12:02,871]\u001b[0m Trial 6 finished with value: 189.90988806404857 and parameters: {'learning_rate': 0.052750550108817414, 'n_estimators': 85, 'colsample_bytree': 0.5127095633720475, 'subsample': 0.5539457134966522, 'reg_alpha': 0.15714592843367126, 'reg_lambda': 3.182052056318902}. Best is trial 2 with value: 321.98610505720694.\u001b[0m\n",
      "\u001b[32m[I 2022-12-07 08:12:02,893]\u001b[0m Trial 7 finished with value: 178.87440938719288 and parameters: {'learning_rate': 0.03212124212655634, 'n_estimators': 102, 'colsample_bytree': 0.9537832369630466, 'subsample': 0.6246461145744375, 'reg_alpha': 2.0519146151781484, 'reg_lambda': 3.7777556927152434}. Best is trial 2 with value: 321.98610505720694.\u001b[0m\n",
      "\u001b[32m[I 2022-12-07 08:12:02,901]\u001b[0m Trial 8 finished with value: 307.0686060850947 and parameters: {'learning_rate': 0.023651018383670626, 'n_estimators': 15, 'colsample_bytree': 0.6448757264568841, 'subsample': 0.5806106436270022, 'reg_alpha': 4.648488261712865, 'reg_lambda': 4.040601897822085}. Best is trial 2 with value: 321.98610505720694.\u001b[0m\n"
     ]
    },
    {
     "name": "stdout",
     "output_type": "stream",
     "text": [
      "Best trial : score 301.99865045304745, \n",
      "params {'learning_rate': 0.0311567631481637, 'n_estimators': 19, 'colsample_bytree': 0.8421165132560784, 'subsample': 0.7200762468698007, 'reg_alpha': 0.6101911742238941, 'reg_lambda': 2.475884550556351}\n",
      "2\n"
     ]
    },
    {
     "name": "stderr",
     "output_type": "stream",
     "text": [
      "\u001b[32m[I 2022-12-07 08:12:02,935]\u001b[0m Trial 9 finished with value: 198.9612188418358 and parameters: {'learning_rate': 0.06370697189453192, 'n_estimators': 175, 'colsample_bytree': 0.9018360384495572, 'subsample': 0.5932850294430179, 'reg_alpha': 4.462794992449889, 'reg_lambda': 2.6967112095782535}. Best is trial 2 with value: 321.98610505720694.\u001b[0m\n",
      "2it [00:00,  4.05it/s]\u001b[32m[I 2022-12-07 08:12:02,936]\u001b[0m A new study created in memory with name: no-name-4ce8c012-ad52-445c-827e-408fae166159\u001b[0m\n",
      "\u001b[32m[I 2022-12-07 08:12:02,974]\u001b[0m Trial 0 finished with value: 193.5197146186864 and parameters: {'learning_rate': 0.0809365753612422, 'n_estimators': 180, 'colsample_bytree': 0.6590017374859319, 'subsample': 0.5550259622638384, 'reg_alpha': 1.1396758127097084, 'reg_lambda': 2.1355389431312815}. Best is trial 0 with value: 193.5197146186864.\u001b[0m\n",
      "\u001b[32m[I 2022-12-07 08:12:03,006]\u001b[0m Trial 1 finished with value: 195.12346946478357 and parameters: {'learning_rate': 0.08198346182632682, 'n_estimators': 173, 'colsample_bytree': 0.5034760652655954, 'subsample': 0.7553736512887829, 'reg_alpha': 2.087055015743895, 'reg_lambda': 1.1105390523536514}. Best is trial 1 with value: 195.12346946478357.\u001b[0m\n",
      "\u001b[32m[I 2022-12-07 08:12:03,023]\u001b[0m Trial 2 finished with value: 293.67020954780634 and parameters: {'learning_rate': 0.012866671366034598, 'n_estimators': 67, 'colsample_bytree': 0.9714548519562596, 'subsample': 0.6616014660103776, 'reg_alpha': 2.5939531087168306, 'reg_lambda': 3.515094794475889}. Best is trial 2 with value: 293.67020954780634.\u001b[0m\n",
      "\u001b[32m[I 2022-12-07 08:12:03,059]\u001b[0m Trial 3 finished with value: 191.3597542197258 and parameters: {'learning_rate': 0.03699933063555011, 'n_estimators': 195, 'colsample_bytree': 0.9812236474710556, 'subsample': 0.6258911479126821, 'reg_alpha': 2.4862425294619275, 'reg_lambda': 1.5043915490838482}. Best is trial 2 with value: 293.67020954780634.\u001b[0m\n",
      "\u001b[32m[I 2022-12-07 08:12:03,065]\u001b[0m Trial 4 finished with value: 379.69212623278963 and parameters: {'learning_rate': 0.029199208943369297, 'n_estimators': 7, 'colsample_bytree': 0.8047821669899484, 'subsample': 0.7513395116144308, 'reg_alpha': 0.25739375624994676, 'reg_lambda': 1.3932323211830573}. Best is trial 4 with value: 379.69212623278963.\u001b[0m\n",
      "\u001b[32m[I 2022-12-07 08:12:03,078]\u001b[0m Trial 5 finished with value: 202.4029382298203 and parameters: {'learning_rate': 0.09091832271069872, 'n_estimators': 48, 'colsample_bytree': 0.5724474360456115, 'subsample': 0.7447263801387816, 'reg_alpha': 4.928252270553004, 'reg_lambda': 1.2102763575575022}. Best is trial 4 with value: 379.69212623278963.\u001b[0m\n",
      "\u001b[32m[I 2022-12-07 08:12:03,112]\u001b[0m Trial 6 finished with value: 195.21275058140483 and parameters: {'learning_rate': 0.06754141919318198, 'n_estimators': 153, 'colsample_bytree': 0.6188187719961998, 'subsample': 0.8641081743059298, 'reg_alpha': 1.838915663596266, 'reg_lambda': 3.1615291529678973}. Best is trial 4 with value: 379.69212623278963.\u001b[0m\n",
      "\u001b[32m[I 2022-12-07 08:12:03,139]\u001b[0m Trial 7 finished with value: 193.21826260297445 and parameters: {'learning_rate': 0.06371944136532857, 'n_estimators': 107, 'colsample_bytree': 0.5451448850272042, 'subsample': 0.917651247794619, 'reg_alpha': 1.6039003248586792, 'reg_lambda': 0.9325925519992712}. Best is trial 4 with value: 379.69212623278963.\u001b[0m\n"
     ]
    },
    {
     "name": "stdout",
     "output_type": "stream",
     "text": [
      "Best trial : score 321.98610505720694, \n",
      "params {'learning_rate': 0.0015466895952366377, 'n_estimators': 163, 'colsample_bytree': 0.8534286719238086, 'subsample': 0.8645035840204937, 'reg_alpha': 3.8563517334297286, 'reg_lambda': 0.3702232586704518}\n",
      "3\n"
     ]
    },
    {
     "name": "stderr",
     "output_type": "stream",
     "text": [
      "\u001b[32m[I 2022-12-07 08:12:03,163]\u001b[0m Trial 8 finished with value: 319.2906768297494 and parameters: {'learning_rate': 0.005036739013921628, 'n_estimators': 118, 'colsample_bytree': 0.8387821809211412, 'subsample': 0.508293914463928, 'reg_alpha': 2.560465291496405, 'reg_lambda': 1.1324788759896898}. Best is trial 4 with value: 379.69212623278963.\u001b[0m\n",
      "\u001b[32m[I 2022-12-07 08:12:03,176]\u001b[0m Trial 9 finished with value: 213.9889951735367 and parameters: {'learning_rate': 0.06487210625053554, 'n_estimators': 35, 'colsample_bytree': 0.845468869051233, 'subsample': 0.6933676731502687, 'reg_alpha': 4.6836499436836725, 'reg_lambda': 0.6876047207299663}. Best is trial 4 with value: 379.69212623278963.\u001b[0m\n",
      "3it [00:00,  4.09it/s]\u001b[32m[I 2022-12-07 08:12:03,177]\u001b[0m A new study created in memory with name: no-name-e8e84c0f-0b64-4beb-be7b-da1cc2604498\u001b[0m\n",
      "\u001b[32m[I 2022-12-07 08:12:03,185]\u001b[0m Trial 0 finished with value: 317.6894631591411 and parameters: {'learning_rate': 0.034765568753975594, 'n_estimators': 22, 'colsample_bytree': 0.9623468091392814, 'subsample': 0.9386696766904905, 'reg_alpha': 1.289708138575778, 'reg_lambda': 3.299920230170895}. Best is trial 0 with value: 317.6894631591411.\u001b[0m\n",
      "\u001b[32m[I 2022-12-07 08:12:03,207]\u001b[0m Trial 1 finished with value: 203.95093132501643 and parameters: {'learning_rate': 0.08190499781992037, 'n_estimators': 111, 'colsample_bytree': 0.7648252891780032, 'subsample': 0.6209261454502258, 'reg_alpha': 0.46551383902949606, 'reg_lambda': 4.486078789766633}. Best is trial 0 with value: 317.6894631591411.\u001b[0m\n",
      "\u001b[32m[I 2022-12-07 08:12:03,233]\u001b[0m Trial 2 finished with value: 201.19245308919577 and parameters: {'learning_rate': 0.09014138765916972, 'n_estimators': 127, 'colsample_bytree': 0.6695148955243504, 'subsample': 0.6746047873063304, 'reg_alpha': 3.629778394351197, 'reg_lambda': 4.485551299762886}. Best is trial 0 with value: 317.6894631591411.\u001b[0m\n",
      "\u001b[32m[I 2022-12-07 08:12:03,263]\u001b[0m Trial 3 finished with value: 200.5375190641038 and parameters: {'learning_rate': 0.08882155600224662, 'n_estimators': 156, 'colsample_bytree': 0.8210158230771438, 'subsample': 0.5420699824975244, 'reg_alpha': 0.8081435704730688, 'reg_lambda': 4.492770942635397}. Best is trial 0 with value: 317.6894631591411.\u001b[0m\n",
      "\u001b[32m[I 2022-12-07 08:12:03,268]\u001b[0m Trial 4 finished with value: 450.496585381211 and parameters: {'learning_rate': 0.06103647690629941, 'n_estimators': 1, 'colsample_bytree': 0.5507357714330161, 'subsample': 0.8317508845540279, 'reg_alpha': 0.025307919231093434, 'reg_lambda': 0.8040402570874933}. Best is trial 4 with value: 450.496585381211.\u001b[0m\n",
      "\u001b[32m[I 2022-12-07 08:12:03,297]\u001b[0m Trial 5 finished with value: 205.38514059904045 and parameters: {'learning_rate': 0.05532464514729203, 'n_estimators': 139, 'colsample_bytree': 0.8259806297513003, 'subsample': 0.61213465473028, 'reg_alpha': 3.560896106737679, 'reg_lambda': 1.1862454374840004}. Best is trial 4 with value: 450.496585381211.\u001b[0m\n",
      "\u001b[32m[I 2022-12-07 08:12:03,324]\u001b[0m Trial 6 finished with value: 204.7874952487825 and parameters: {'learning_rate': 0.03321457011776751, 'n_estimators': 150, 'colsample_bytree': 0.8248164495236073, 'subsample': 0.924611705247089, 'reg_alpha': 3.2880644615017167, 'reg_lambda': 2.841543016677358}. Best is trial 4 with value: 450.496585381211.\u001b[0m\n",
      "\u001b[32m[I 2022-12-07 08:12:03,337]\u001b[0m Trial 7 finished with value: 325.39236573997243 and parameters: {'learning_rate': 0.010273802014981157, 'n_estimators': 73, 'colsample_bytree': 0.6326011838408627, 'subsample': 0.6219948216895418, 'reg_alpha': 4.865052773762228, 'reg_lambda': 1.965488623333802}. Best is trial 4 with value: 450.496585381211.\u001b[0m\n",
      "\u001b[32m[I 2022-12-07 08:12:03,361]\u001b[0m Trial 8 finished with value: 205.06807590810124 and parameters: {'learning_rate': 0.08931260896253422, 'n_estimators': 126, 'colsample_bytree': 0.8974056517708242, 'subsample': 0.751318546552596, 'reg_alpha': 2.8845194231317954, 'reg_lambda': 2.4625884690943196}. Best is trial 4 with value: 450.496585381211.\u001b[0m\n"
     ]
    },
    {
     "name": "stdout",
     "output_type": "stream",
     "text": [
      "Best trial : score 379.69212623278963, \n",
      "params {'learning_rate': 0.029199208943369297, 'n_estimators': 7, 'colsample_bytree': 0.8047821669899484, 'subsample': 0.7513395116144308, 'reg_alpha': 0.25739375624994676, 'reg_lambda': 1.3932323211830573}\n",
      "4\n"
     ]
    },
    {
     "name": "stderr",
     "output_type": "stream",
     "text": [
      "\u001b[32m[I 2022-12-07 08:12:03,389]\u001b[0m Trial 9 finished with value: 221.9527544341359 and parameters: {'learning_rate': 0.020329055792006407, 'n_estimators': 145, 'colsample_bytree': 0.6403861812204279, 'subsample': 0.5121579832157269, 'reg_alpha': 3.227361479535839, 'reg_lambda': 0.8855533970352447}. Best is trial 4 with value: 450.496585381211.\u001b[0m\n",
      "4it [00:00,  4.30it/s]\u001b[32m[I 2022-12-07 08:12:03,391]\u001b[0m A new study created in memory with name: no-name-2cb5cd32-b6ff-4063-acc2-43a93e438aa6\u001b[0m\n",
      "\u001b[32m[I 2022-12-07 08:12:03,426]\u001b[0m Trial 0 finished with value: 202.612962833655 and parameters: {'learning_rate': 0.09410539985093852, 'n_estimators': 191, 'colsample_bytree': 0.9574321951102243, 'subsample': 0.6850793501277221, 'reg_alpha': 0.07728308264433714, 'reg_lambda': 4.641592812938627}. Best is trial 0 with value: 202.612962833655.\u001b[0m\n",
      "\u001b[32m[I 2022-12-07 08:12:03,470]\u001b[0m Trial 1 finished with value: 202.1646349114291 and parameters: {'learning_rate': 0.04339023068341412, 'n_estimators': 194, 'colsample_bytree': 0.9818099885446264, 'subsample': 0.92650472773368, 'reg_alpha': 1.4722444603479286, 'reg_lambda': 1.9254886430096263}. Best is trial 0 with value: 202.612962833655.\u001b[0m\n",
      "\u001b[32m[I 2022-12-07 08:12:03,490]\u001b[0m Trial 2 finished with value: 197.94028141517703 and parameters: {'learning_rate': 0.08526253048016884, 'n_estimators': 63, 'colsample_bytree': 0.5847463733430462, 'subsample': 0.7784006312291751, 'reg_alpha': 4.680773870803905, 'reg_lambda': 3.480148983374865}. Best is trial 0 with value: 202.612962833655.\u001b[0m\n",
      "\u001b[32m[I 2022-12-07 08:12:03,499]\u001b[0m Trial 3 finished with value: 236.04715599089155 and parameters: {'learning_rate': 0.05743605583884714, 'n_estimators': 19, 'colsample_bytree': 0.8075036133495849, 'subsample': 0.9950269250521316, 'reg_alpha': 0.7004200761826201, 'reg_lambda': 2.591648261818684}. Best is trial 3 with value: 236.04715599089155.\u001b[0m\n",
      "\u001b[32m[I 2022-12-07 08:12:03,529]\u001b[0m Trial 4 finished with value: 198.5398420459059 and parameters: {'learning_rate': 0.0878599341208676, 'n_estimators': 148, 'colsample_bytree': 0.848507870497634, 'subsample': 0.8512420419935547, 'reg_alpha': 1.7974557560987758, 'reg_lambda': 1.4679592213224668}. Best is trial 3 with value: 236.04715599089155.\u001b[0m\n",
      "\u001b[32m[I 2022-12-07 08:12:03,562]\u001b[0m Trial 5 finished with value: 201.63821634366838 and parameters: {'learning_rate': 0.08112675439237285, 'n_estimators': 162, 'colsample_bytree': 0.9335361592900518, 'subsample': 0.9566202762782356, 'reg_alpha': 2.556711994304689, 'reg_lambda': 2.507581473435998}. Best is trial 3 with value: 236.04715599089155.\u001b[0m\n",
      "\u001b[32m[I 2022-12-07 08:12:03,587]\u001b[0m Trial 6 finished with value: 198.78922765994372 and parameters: {'learning_rate': 0.08003122271771075, 'n_estimators': 130, 'colsample_bytree': 0.8509834386288517, 'subsample': 0.8978963347180505, 'reg_alpha': 4.450026709087831, 'reg_lambda': 1.689975784257679}. Best is trial 3 with value: 236.04715599089155.\u001b[0m\n"
     ]
    },
    {
     "name": "stdout",
     "output_type": "stream",
     "text": [
      "Best trial : score 450.496585381211, \n",
      "params {'learning_rate': 0.06103647690629941, 'n_estimators': 1, 'colsample_bytree': 0.5507357714330161, 'subsample': 0.8317508845540279, 'reg_alpha': 0.025307919231093434, 'reg_lambda': 0.8040402570874933}\n",
      "5\n"
     ]
    },
    {
     "name": "stderr",
     "output_type": "stream",
     "text": [
      "\u001b[32m[I 2022-12-07 08:12:03,595]\u001b[0m Trial 7 finished with value: 281.24732501004917 and parameters: {'learning_rate': 0.03818271231135446, 'n_estimators': 18, 'colsample_bytree': 0.789140070498087, 'subsample': 0.517971136898371, 'reg_alpha': 2.3279900906623006, 'reg_lambda': 2.713223173537883}. Best is trial 7 with value: 281.24732501004917.\u001b[0m\n",
      "\u001b[32m[I 2022-12-07 08:12:03,617]\u001b[0m Trial 8 finished with value: 198.5401649647906 and parameters: {'learning_rate': 0.029367583960700158, 'n_estimators': 118, 'colsample_bytree': 0.5152501249695247, 'subsample': 0.5186740943746072, 'reg_alpha': 4.113002803298292, 'reg_lambda': 1.8009532070563146}. Best is trial 7 with value: 281.24732501004917.\u001b[0m\n",
      "\u001b[32m[I 2022-12-07 08:12:03,638]\u001b[0m Trial 9 finished with value: 213.92179592188188 and parameters: {'learning_rate': 0.013578990752536595, 'n_estimators': 104, 'colsample_bytree': 0.8849967765493054, 'subsample': 0.6079105137484215, 'reg_alpha': 3.114452379095001, 'reg_lambda': 0.42673732496884}. Best is trial 7 with value: 281.24732501004917.\u001b[0m\n",
      "5it [00:01,  4.12it/s]"
     ]
    },
    {
     "name": "stdout",
     "output_type": "stream",
     "text": [
      "Best trial : score 281.24732501004917, \n",
      "params {'learning_rate': 0.03818271231135446, 'n_estimators': 18, 'colsample_bytree': 0.789140070498087, 'subsample': 0.517971136898371, 'reg_alpha': 2.3279900906623006, 'reg_lambda': 2.713223173537883}\n"
     ]
    },
    {
     "name": "stderr",
     "output_type": "stream",
     "text": [
      "\n"
     ]
    }
   ],
   "source": [
    "def objective(trial):\n",
    "    param = {\n",
    "        'learning_rate': trial.suggest_float('learning_rate', 1e-3, 0.1),\n",
    "        'n_estimators': trial.suggest_int('n_estimators', 0, 200),\n",
    "        'colsample_bytree' : trial.suggest_float('colsample_bytree', 0.5, 1.0),\n",
    "        'subsample' :trial.suggest_float('subsample', 0.5, 1.0),\n",
    "        'reg_alpha' : trial.suggest_float('reg_alpha', 0.0, 5.0),\n",
    "        'reg_lambda' : trial.suggest_float('reg_lambda', 0.0, 5.0),\n",
    "        'n_jobs' : -1,\n",
    "    }\n",
    "    model = LGBMRegressor(**param)\n",
    "    model.fit(train_x, train_y, eval_set=[(valid_x, valid_y)], verbose=0)\n",
    "\n",
    "    y_valid_pred = model.predict(valid_x)\n",
    "    return MAE(valid_y, y_valid_pred)\n",
    "\n",
    "sampler = TPESampler(seed=42)\n",
    "\n",
    "kfold = KFold(n_splits=5, shuffle=True, random_state=42)\n",
    "n_iter=0\n",
    "for train_index, test_index in tqdm(kfold.split(Gangdong_x, Gangdong_y)):\n",
    "    n_iter += 1\n",
    "    print(n_iter)\n",
    "    train_x= Gangdong_x.iloc[train_index]\n",
    "    valid_x= Gangdong_x.iloc[test_index]\n",
    "    train_y= Gangdong_y.iloc[train_index]\n",
    "    valid_y= Gangdong_y.iloc[test_index]\n",
    "\n",
    "    study = optuna.create_study(direction='maximize', sampler=sampler)\n",
    "    study.optimize(objective, n_trials=10)\n",
    "\n",
    "    print('Best trial : score {}, \\nparams {}'.format(study.best_trial.value, study.best_trial.params))\n",
    "#for Gangdong\n",
    "#Best trial : score 281.24732501004917, \n",
    "#params {'learning_rate': 0.03818271231135446, 'n_estimators': 18, 'colsample_bytree': 0.789140070498087, 'subsample': 0.517971136898371, 'reg_alpha': 2.3279900906623006, 'reg_lambda': 2.713223173537883}"
   ]
  }
 ],
 "metadata": {
  "colab": {
   "provenance": []
  },
  "gpuClass": "standard",
  "kernelspec": {
   "display_name": "Python 3 (ipykernel)",
   "language": "python",
   "name": "python3"
  },
  "language_info": {
   "codemirror_mode": {
    "name": "ipython",
    "version": 3
   },
   "file_extension": ".py",
   "mimetype": "text/x-python",
   "name": "python",
   "nbconvert_exporter": "python",
   "pygments_lexer": "ipython3",
   "version": "3.9.13"
  }
 },
 "nbformat": 4,
 "nbformat_minor": 5
}
