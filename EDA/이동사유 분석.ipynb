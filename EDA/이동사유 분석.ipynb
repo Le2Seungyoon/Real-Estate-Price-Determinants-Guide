{
 "cells": [
  {
   "cell_type": "code",
   "execution_count": 1,
   "metadata": {},
   "outputs": [
    {
     "name": "stderr",
     "output_type": "stream",
     "text": [
      "C:\\Users\\chanw\\anaconda3\\lib\\site-packages\\pandas\\core\\computation\\expressions.py:20: UserWarning: Pandas requires version '2.7.3' or newer of 'numexpr' (version '2.7.1' currently installed).\n",
      "  from pandas.core.computation.check import NUMEXPR_INSTALLED\n"
     ]
    }
   ],
   "source": [
    "import pandas as pd\n",
    "import matplotlib.pyplot as plt\n",
    "import seaborn as sns\n",
    "import folium\n",
    "import numpy as np"
   ]
  },
  {
   "cell_type": "code",
   "execution_count": 2,
   "metadata": {},
   "outputs": [],
   "source": [
    "plt.rc('font', family='Malgun Gothic')"
   ]
  },
  {
   "cell_type": "code",
   "execution_count": 31,
   "metadata": {},
   "outputs": [],
   "source": [
    "plt.rcParams['axes.unicode_minus'] = False"
   ]
  },
  {
   "cell_type": "markdown",
   "metadata": {},
   "source": [
    "## 데이터셋 구축"
   ]
  },
  {
   "cell_type": "code",
   "execution_count": 3,
   "metadata": {},
   "outputs": [],
   "source": [
    "#순이동\n",
    "df = pd.read_csv(\"./데이터/인구 데이터/시군구별 이동자수.csv\", encoding='cp949')"
   ]
  },
  {
   "cell_type": "code",
   "execution_count": 4,
   "metadata": {},
   "outputs": [],
   "source": [
    "df = df.drop(\"단위\", axis=1)\n",
    "df = df[df[\"항목\"] == \"순이동[명]\"]\n",
    "df = df.drop(\"항목\", axis =1)"
   ]
  },
  {
   "cell_type": "code",
   "execution_count": 5,
   "metadata": {},
   "outputs": [],
   "source": [
    "move_df = df"
   ]
  },
  {
   "cell_type": "code",
   "execution_count": 10,
   "metadata": {},
   "outputs": [],
   "source": [
    "a = move_df[[\"행정구역(시군구)별\", \"2021.01 월\",\"2021.02 월\",\"2021.03 월\",\"2021.04 월\",\"2021.05 월\",\"2021.06 월\",\"2021.07 월\",\"2021.08 월\",\"2021.09 월\",\"2021.10 월\",\"2021.11 월\",\"2021.12 월\"]]"
   ]
  },
  {
   "cell_type": "code",
   "execution_count": 11,
   "metadata": {},
   "outputs": [
    {
     "name": "stderr",
     "output_type": "stream",
     "text": [
      "<ipython-input-11-b0e0e161bf40>:1: SettingWithCopyWarning: \n",
      "A value is trying to be set on a copy of a slice from a DataFrame.\n",
      "Try using .loc[row_indexer,col_indexer] = value instead\n",
      "\n",
      "See the caveats in the documentation: https://pandas.pydata.org/pandas-docs/stable/user_guide/indexing.html#returning-a-view-versus-a-copy\n",
      "  a[\"순이동 총합\"] = a.iloc[:, 1:13].sum(axis=1)\n"
     ]
    }
   ],
   "source": [
    "a[\"순이동 총합\"] = a.iloc[:, 1:13].sum(axis=1)"
   ]
  },
  {
   "cell_type": "code",
   "execution_count": 12,
   "metadata": {},
   "outputs": [
    {
     "data": {
      "text/html": [
       "<div>\n",
       "<style scoped>\n",
       "    .dataframe tbody tr th:only-of-type {\n",
       "        vertical-align: middle;\n",
       "    }\n",
       "\n",
       "    .dataframe tbody tr th {\n",
       "        vertical-align: top;\n",
       "    }\n",
       "\n",
       "    .dataframe thead th {\n",
       "        text-align: right;\n",
       "    }\n",
       "</style>\n",
       "<table border=\"1\" class=\"dataframe\">\n",
       "  <thead>\n",
       "    <tr style=\"text-align: right;\">\n",
       "      <th></th>\n",
       "      <th>행정구역(시군구)별</th>\n",
       "      <th>순이동 총합</th>\n",
       "    </tr>\n",
       "  </thead>\n",
       "  <tbody>\n",
       "    <tr>\n",
       "      <th>2</th>\n",
       "      <td>종로구</td>\n",
       "      <td>-2224</td>\n",
       "    </tr>\n",
       "    <tr>\n",
       "      <th>10</th>\n",
       "      <td>중구</td>\n",
       "      <td>-1209</td>\n",
       "    </tr>\n",
       "    <tr>\n",
       "      <th>18</th>\n",
       "      <td>용산구</td>\n",
       "      <td>-3561</td>\n",
       "    </tr>\n",
       "    <tr>\n",
       "      <th>26</th>\n",
       "      <td>성동구</td>\n",
       "      <td>-6244</td>\n",
       "    </tr>\n",
       "    <tr>\n",
       "      <th>34</th>\n",
       "      <td>광진구</td>\n",
       "      <td>-5228</td>\n",
       "    </tr>\n",
       "    <tr>\n",
       "      <th>42</th>\n",
       "      <td>동대문구</td>\n",
       "      <td>-2076</td>\n",
       "    </tr>\n",
       "    <tr>\n",
       "      <th>50</th>\n",
       "      <td>중랑구</td>\n",
       "      <td>-5090</td>\n",
       "    </tr>\n",
       "    <tr>\n",
       "      <th>58</th>\n",
       "      <td>성북구</td>\n",
       "      <td>-3340</td>\n",
       "    </tr>\n",
       "    <tr>\n",
       "      <th>66</th>\n",
       "      <td>강북구</td>\n",
       "      <td>-5904</td>\n",
       "    </tr>\n",
       "    <tr>\n",
       "      <th>74</th>\n",
       "      <td>도봉구</td>\n",
       "      <td>-5787</td>\n",
       "    </tr>\n",
       "    <tr>\n",
       "      <th>82</th>\n",
       "      <td>노원구</td>\n",
       "      <td>-9737</td>\n",
       "    </tr>\n",
       "    <tr>\n",
       "      <th>90</th>\n",
       "      <td>은평구</td>\n",
       "      <td>-3682</td>\n",
       "    </tr>\n",
       "    <tr>\n",
       "      <th>98</th>\n",
       "      <td>서대문구</td>\n",
       "      <td>-4577</td>\n",
       "    </tr>\n",
       "    <tr>\n",
       "      <th>106</th>\n",
       "      <td>마포구</td>\n",
       "      <td>-581</td>\n",
       "    </tr>\n",
       "    <tr>\n",
       "      <th>114</th>\n",
       "      <td>양천구</td>\n",
       "      <td>-5490</td>\n",
       "    </tr>\n",
       "    <tr>\n",
       "      <th>122</th>\n",
       "      <td>강서구</td>\n",
       "      <td>-4099</td>\n",
       "    </tr>\n",
       "    <tr>\n",
       "      <th>130</th>\n",
       "      <td>구로구</td>\n",
       "      <td>-6710</td>\n",
       "    </tr>\n",
       "    <tr>\n",
       "      <th>138</th>\n",
       "      <td>금천구</td>\n",
       "      <td>616</td>\n",
       "    </tr>\n",
       "    <tr>\n",
       "      <th>146</th>\n",
       "      <td>영등포구</td>\n",
       "      <td>-543</td>\n",
       "    </tr>\n",
       "    <tr>\n",
       "      <th>154</th>\n",
       "      <td>동작구</td>\n",
       "      <td>-4054</td>\n",
       "    </tr>\n",
       "    <tr>\n",
       "      <th>162</th>\n",
       "      <td>관악구</td>\n",
       "      <td>-5955</td>\n",
       "    </tr>\n",
       "    <tr>\n",
       "      <th>170</th>\n",
       "      <td>서초구</td>\n",
       "      <td>-11713</td>\n",
       "    </tr>\n",
       "    <tr>\n",
       "      <th>178</th>\n",
       "      <td>강남구</td>\n",
       "      <td>-4024</td>\n",
       "    </tr>\n",
       "    <tr>\n",
       "      <th>186</th>\n",
       "      <td>송파구</td>\n",
       "      <td>-8470</td>\n",
       "    </tr>\n",
       "    <tr>\n",
       "      <th>194</th>\n",
       "      <td>강동구</td>\n",
       "      <td>3439</td>\n",
       "    </tr>\n",
       "  </tbody>\n",
       "</table>\n",
       "</div>"
      ],
      "text/plain": [
       "    행정구역(시군구)별  순이동 총합\n",
       "2          종로구   -2224\n",
       "10          중구   -1209\n",
       "18         용산구   -3561\n",
       "26         성동구   -6244\n",
       "34         광진구   -5228\n",
       "42        동대문구   -2076\n",
       "50         중랑구   -5090\n",
       "58         성북구   -3340\n",
       "66         강북구   -5904\n",
       "74         도봉구   -5787\n",
       "82         노원구   -9737\n",
       "90         은평구   -3682\n",
       "98        서대문구   -4577\n",
       "106        마포구    -581\n",
       "114        양천구   -5490\n",
       "122        강서구   -4099\n",
       "130        구로구   -6710\n",
       "138        금천구     616\n",
       "146       영등포구    -543\n",
       "154        동작구   -4054\n",
       "162        관악구   -5955\n",
       "170        서초구  -11713\n",
       "178        강남구   -4024\n",
       "186        송파구   -8470\n",
       "194        강동구    3439"
      ]
     },
     "execution_count": 12,
     "metadata": {},
     "output_type": "execute_result"
    }
   ],
   "source": [
    "a = a[[\"행정구역(시군구)별\", \"순이동 총합\"]]\n",
    "a"
   ]
  },
  {
   "cell_type": "code",
   "execution_count": 34,
   "metadata": {},
   "outputs": [
    {
     "data": {
      "image/png": "[encoded data removed]",
      "text/plain": [
       "<Figure size 1440x720 with 1 Axes>"
      ]
     },
     "metadata": {
      "needs_background": "light"
     },
     "output_type": "display_data"
    }
   ],
   "source": [
    "#시계열 고려해서 해야함\n",
    "\n",
    "fig = plt.figure(figsize=(20,10))\n",
    "X = a\n",
    "\n",
    "plt.plot(  X.iloc[:,0]\n",
    "         , X.iloc[:,1]\n",
    "         , 'o'\n",
    "         , markersize=3\n",
    "         , color='black'\n",
    "         , alpha=0.5\n",
    "         , label='순이동'\n",
    "        )\n",
    "\n",
    "plt.xlabel('구')\n",
    "plt.ylabel('순이동 총합')\n",
    "plt.xlabel('구', fontsize=10)\n",
    "fig.autofmt_xdate(rotation=90)\n",
    "\n",
    "plt.hlines(0,0,25, color='blue', linestyle='solid', linewidth=1)\n",
    "\n",
    "plt.legend()\n",
    "plt.show()"
   ]
  },
  {
   "cell_type": "code",
   "execution_count": 13,
   "metadata": {},
   "outputs": [],
   "source": [
    "#사유\n",
    "df = pd.read_csv(\"./데이터/인구 데이터/전입지_이동사유별_인구이동.csv\")"
   ]
  },
  {
   "cell_type": "code",
   "execution_count": 14,
   "metadata": {},
   "outputs": [],
   "source": [
    "reason = df"
   ]
  },
  {
   "cell_type": "code",
   "execution_count": 19,
   "metadata": {},
   "outputs": [],
   "source": [
    "reason = reason[reason[\"시점\"] == 2021]"
   ]
  },
  {
   "cell_type": "code",
   "execution_count": 47,
   "metadata": {},
   "outputs": [],
   "source": [
    "reason = reason[(reason[\"구간별\"] == '총이동')]"
   ]
  },
  {
   "cell_type": "code",
   "execution_count": 48,
   "metadata": {},
   "outputs": [],
   "source": [
    "a1 = reason[(reason[\"자치구별\"] == '노원구')]"
   ]
  },
  {
   "cell_type": "code",
   "execution_count": 49,
   "metadata": {},
   "outputs": [
    {
     "data": {
      "text/html": [
       "<div>\n",
       "<style scoped>\n",
       "    .dataframe tbody tr th:only-of-type {\n",
       "        vertical-align: middle;\n",
       "    }\n",
       "\n",
       "    .dataframe tbody tr th {\n",
       "        vertical-align: top;\n",
       "    }\n",
       "\n",
       "    .dataframe thead th {\n",
       "        text-align: right;\n",
       "    }\n",
       "</style>\n",
       "<table border=\"1\" class=\"dataframe\">\n",
       "  <thead>\n",
       "    <tr style=\"text-align: right;\">\n",
       "      <th></th>\n",
       "      <th>시점</th>\n",
       "      <th>자치구별(1)</th>\n",
       "      <th>자치구별</th>\n",
       "      <th>구간별</th>\n",
       "      <th>소계</th>\n",
       "      <th>직업</th>\n",
       "      <th>가족</th>\n",
       "      <th>주택</th>\n",
       "      <th>교육</th>\n",
       "      <th>주거환경</th>\n",
       "      <th>자연환경</th>\n",
       "      <th>기타</th>\n",
       "    </tr>\n",
       "  </thead>\n",
       "  <tbody>\n",
       "    <tr>\n",
       "      <th>657</th>\n",
       "      <td>2021</td>\n",
       "      <td>서울시</td>\n",
       "      <td>노원구</td>\n",
       "      <td>총이동</td>\n",
       "      <td>58736</td>\n",
       "      <td>6626</td>\n",
       "      <td>13572</td>\n",
       "      <td>25074</td>\n",
       "      <td>4244</td>\n",
       "      <td>2064</td>\n",
       "      <td>191</td>\n",
       "      <td>6965</td>\n",
       "    </tr>\n",
       "  </tbody>\n",
       "</table>\n",
       "</div>"
      ],
      "text/plain": [
       "       시점 자치구별(1) 자치구별  구간별     소계    직업     가족     주택    교육  주거환경  자연환경    기타\n",
       "657  2021     서울시  노원구  총이동  58736  6626  13572  25074  4244  2064   191  6965"
      ]
     },
     "execution_count": 49,
     "metadata": {},
     "output_type": "execute_result"
    }
   ],
   "source": [
    "a1"
   ]
  },
  {
   "cell_type": "code",
   "execution_count": 50,
   "metadata": {},
   "outputs": [
    {
     "data": {
      "image/png": "[encoded data removed]",
      "text/plain": [
       "<Figure size 432x288 with 1 Axes>"
      ]
     },
     "metadata": {},
     "output_type": "display_data"
    }
   ],
   "source": [
    "#노원구 파이차트\n",
    "ratio = [6626, 13572, 25074, 4244, 2064, 191, 6965]\n",
    "labels = ['직업', '가족', '주택', '교육', '주거환경', '자연환경', '기타']\n",
    "\n",
    "plt.pie(ratio, labels=labels, autopct='%.1f%%')\n",
    "plt.show()"
   ]
  },
  {
   "cell_type": "code",
   "execution_count": 53,
   "metadata": {},
   "outputs": [],
   "source": [
    "a2 = reason[(reason[\"자치구별\"] == '서초구')]"
   ]
  },
  {
   "cell_type": "code",
   "execution_count": 54,
   "metadata": {},
   "outputs": [
    {
     "data": {
      "text/html": [
       "<div>\n",
       "<style scoped>\n",
       "    .dataframe tbody tr th:only-of-type {\n",
       "        vertical-align: middle;\n",
       "    }\n",
       "\n",
       "    .dataframe tbody tr th {\n",
       "        vertical-align: top;\n",
       "    }\n",
       "\n",
       "    .dataframe thead th {\n",
       "        text-align: right;\n",
       "    }\n",
       "</style>\n",
       "<table border=\"1\" class=\"dataframe\">\n",
       "  <thead>\n",
       "    <tr style=\"text-align: right;\">\n",
       "      <th></th>\n",
       "      <th>시점</th>\n",
       "      <th>자치구별(1)</th>\n",
       "      <th>자치구별</th>\n",
       "      <th>구간별</th>\n",
       "      <th>소계</th>\n",
       "      <th>직업</th>\n",
       "      <th>가족</th>\n",
       "      <th>주택</th>\n",
       "      <th>교육</th>\n",
       "      <th>주거환경</th>\n",
       "      <th>자연환경</th>\n",
       "      <th>기타</th>\n",
       "    </tr>\n",
       "  </thead>\n",
       "  <tbody>\n",
       "    <tr>\n",
       "      <th>690</th>\n",
       "      <td>2021</td>\n",
       "      <td>서울시</td>\n",
       "      <td>서초구</td>\n",
       "      <td>총이동</td>\n",
       "      <td>70064</td>\n",
       "      <td>12618</td>\n",
       "      <td>15642</td>\n",
       "      <td>30599</td>\n",
       "      <td>3217</td>\n",
       "      <td>3541</td>\n",
       "      <td>254</td>\n",
       "      <td>4193</td>\n",
       "    </tr>\n",
       "  </tbody>\n",
       "</table>\n",
       "</div>"
      ],
      "text/plain": [
       "       시점 자치구별(1) 자치구별  구간별     소계     직업     가족     주택    교육  주거환경  자연환경  \\\n",
       "690  2021     서울시  서초구  총이동  70064  12618  15642  30599  3217  3541   254   \n",
       "\n",
       "       기타  \n",
       "690  4193  "
      ]
     },
     "execution_count": 54,
     "metadata": {},
     "output_type": "execute_result"
    }
   ],
   "source": [
    "a2"
   ]
  },
  {
   "cell_type": "code",
   "execution_count": 55,
   "metadata": {},
   "outputs": [
    {
     "data": {
      "image/png": "[encoded data removed]",
      "text/plain": [
       "<Figure size 432x288 with 1 Axes>"
      ]
     },
     "metadata": {},
     "output_type": "display_data"
    }
   ],
   "source": [
    "#서초구 파이차트\n",
    "ratio = [12618, 15642, 30599, 3217, 3541, 254, 4193]\n",
    "labels = ['직업', '가족', '주택', '교육', '주거환경', '자연환경', '기타']\n",
    "\n",
    "plt.pie(ratio, labels=labels, autopct='%.1f%%')\n",
    "plt.show()"
   ]
  },
  {
   "cell_type": "code",
   "execution_count": 56,
   "metadata": {},
   "outputs": [],
   "source": [
    "a3 = reason[(reason[\"자치구별\"] == '강동구')]"
   ]
  },
  {
   "cell_type": "code",
   "execution_count": 57,
   "metadata": {},
   "outputs": [
    {
     "data": {
      "text/html": [
       "<div>\n",
       "<style scoped>\n",
       "    .dataframe tbody tr th:only-of-type {\n",
       "        vertical-align: middle;\n",
       "    }\n",
       "\n",
       "    .dataframe tbody tr th {\n",
       "        vertical-align: top;\n",
       "    }\n",
       "\n",
       "    .dataframe thead th {\n",
       "        text-align: right;\n",
       "    }\n",
       "</style>\n",
       "<table border=\"1\" class=\"dataframe\">\n",
       "  <thead>\n",
       "    <tr style=\"text-align: right;\">\n",
       "      <th></th>\n",
       "      <th>시점</th>\n",
       "      <th>자치구별(1)</th>\n",
       "      <th>자치구별</th>\n",
       "      <th>구간별</th>\n",
       "      <th>소계</th>\n",
       "      <th>직업</th>\n",
       "      <th>가족</th>\n",
       "      <th>주택</th>\n",
       "      <th>교육</th>\n",
       "      <th>주거환경</th>\n",
       "      <th>자연환경</th>\n",
       "      <th>기타</th>\n",
       "    </tr>\n",
       "  </thead>\n",
       "  <tbody>\n",
       "    <tr>\n",
       "      <th>699</th>\n",
       "      <td>2021</td>\n",
       "      <td>서울시</td>\n",
       "      <td>강동구</td>\n",
       "      <td>총이동</td>\n",
       "      <td>77883</td>\n",
       "      <td>11717</td>\n",
       "      <td>17041</td>\n",
       "      <td>39724</td>\n",
       "      <td>2126</td>\n",
       "      <td>3090</td>\n",
       "      <td>189</td>\n",
       "      <td>3996</td>\n",
       "    </tr>\n",
       "  </tbody>\n",
       "</table>\n",
       "</div>"
      ],
      "text/plain": [
       "       시점 자치구별(1) 자치구별  구간별     소계     직업     가족     주택    교육  주거환경  자연환경  \\\n",
       "699  2021     서울시  강동구  총이동  77883  11717  17041  39724  2126  3090   189   \n",
       "\n",
       "       기타  \n",
       "699  3996  "
      ]
     },
     "execution_count": 57,
     "metadata": {},
     "output_type": "execute_result"
    }
   ],
   "source": [
    "a3"
   ]
  },
  {
   "cell_type": "code",
   "execution_count": 58,
   "metadata": {},
   "outputs": [
    {
     "data": {
      "image/png": "[encoded data removed]",
      "text/plain": [
       "<Figure size 432x288 with 1 Axes>"
      ]
     },
     "metadata": {},
     "output_type": "display_data"
    }
   ],
   "source": [
    "#강동구 파이차트\n",
    "ratio = [11717, 17041, 39724, 2126, 3090, 189, 3996]\n",
    "labels = ['직업', '가족', '주택', '교육', '주거환경', '자연환경', '기타']\n",
    "\n",
    "plt.pie(ratio, labels=labels, autopct='%.1f%%')\n",
    "plt.show()"
   ]
  },
  {
   "cell_type": "code",
   "execution_count": null,
   "metadata": {},
   "outputs": [],
   "source": []
  }
 ],
 "metadata": {
  "kernelspec": {
   "display_name": "Python 3 (ipykernel)",
   "language": "python",
   "name": "python3"
  },
  "language_info": {
   "codemirror_mode": {
    "name": "ipython",
    "version": 3
   },
   "file_extension": ".py",
   "mimetype": "text/x-python",
   "name": "python",
   "nbconvert_exporter": "python",
   "pygments_lexer": "ipython3",
   "version": "3.9.13"
  }
 },
 "nbformat": 4,
 "nbformat_minor": 4
}
